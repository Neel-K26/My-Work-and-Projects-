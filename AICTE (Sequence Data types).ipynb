{
 "cells": [
  {
   "cell_type": "code",
   "execution_count": 2,
   "id": "a38d36a7",
   "metadata": {},
   "outputs": [
    {
     "name": "stdout",
     "output_type": "stream",
     "text": [
      "NK\n"
     ]
    }
   ],
   "source": [
    "strSample='NK'\n",
    "print(strSample)"
   ]
  },
  {
   "cell_type": "code",
   "execution_count": 3,
   "id": "efc4c4e0",
   "metadata": {},
   "outputs": [
    {
     "name": "stdout",
     "output_type": "stream",
     "text": [
      "[1, 2, 3, 4, 5, 6, 7]\n"
     ]
    }
   ],
   "source": [
    "lstNumber=[1,2,3,4,5,6,7]   #  Sample List\n",
    "print(lstNumber)"
   ]
  },
  {
   "cell_type": "code",
   "execution_count": 4,
   "id": "c55626ce",
   "metadata": {},
   "outputs": [
    {
     "name": "stdout",
     "output_type": "stream",
     "text": [
      "[1, 2, 'a', 'nk', 19]\n"
     ]
    }
   ],
   "source": [
    "lstSample=[1,2,'a','nk',19]  # list with different data types\n",
    "print(lstSample)"
   ]
  },
  {
   "cell_type": "code",
   "execution_count": 6,
   "id": "628c1e28",
   "metadata": {},
   "outputs": [
    {
     "name": "stdout",
     "output_type": "stream",
     "text": [
      "array('i', [1, 2, 3, 4])\n",
      "1\n",
      "2\n",
      "3\n",
      "4\n"
     ]
    }
   ],
   "source": [
    "# array\n",
    "from array import *         # importing array module\n",
    "arrSample= array('i',[1,2,3,4])   # array\n",
    "print(arrSample)\n",
    "for x in arrSample : print(x)    # Priniting array"
   ]
  },
  {
   "cell_type": "code",
   "execution_count": 7,
   "id": "ece43914",
   "metadata": {},
   "outputs": [
    {
     "data": {
      "text/plain": [
       "(1, 2, 3, 4, 'py')"
      ]
     },
     "execution_count": 7,
     "metadata": {},
     "output_type": "execute_result"
    }
   ],
   "source": [
    "#tuple\n",
    "dSample=(1,2,3,4,'py')\n",
    "dSample"
   ]
  },
  {
   "cell_type": "code",
   "execution_count": 9,
   "id": "45dd3658",
   "metadata": {},
   "outputs": [
    {
     "data": {
      "text/plain": [
       "(1, 2, 'sypder')"
      ]
     },
     "execution_count": 9,
     "metadata": {},
     "output_type": "execute_result"
    }
   ],
   "source": [
    "tupSample= 1,2,'sypder'    # tuple packing\n",
    "tupSample"
   ]
  },
  {
   "cell_type": "code",
   "execution_count": 10,
   "id": "aeb337e7",
   "metadata": {},
   "outputs": [
    {
     "data": {
      "text/plain": [
       "{1: 'first', 'Second': 2, 3: 3, 'four': '4'}"
      ]
     },
     "execution_count": 10,
     "metadata": {},
     "output_type": "execute_result"
    }
   ],
   "source": [
    "# dictionary\n",
    "dictSample={1:'first','Second':2, 3:3,\"four\":'4'}\n",
    "dictSample\n"
   ]
  },
  {
   "cell_type": "code",
   "execution_count": 11,
   "id": "9d7a9fa2",
   "metadata": {},
   "outputs": [
    {
     "data": {
      "text/plain": [
       "{'a', 'e', 'l', 'm', 'p', 'x'}"
      ]
     },
     "execution_count": 11,
     "metadata": {},
     "output_type": "execute_result"
    }
   ],
   "source": [
    "#set\n",
    "setSample= {'example',23,87,5,'data',24,'data'}\n",
    "setSample\n",
    "set('example')"
   ]
  },
  {
   "cell_type": "code",
   "execution_count": 12,
   "id": "9a82bcd8",
   "metadata": {},
   "outputs": [
    {
     "name": "stdout",
     "output_type": "stream",
     "text": [
      "range(1, 12, 2)\n",
      "1\n",
      "3\n",
      "5\n",
      "7\n",
      "9\n",
      "11\n"
     ]
    }
   ],
   "source": [
    "# Range\n",
    "\n",
    "Sample1= range(1,12,2)\n",
    "print(Sample1)\n",
    "for x in (Sample1): print(x)"
   ]
  },
  {
   "cell_type": "code",
   "execution_count": 1,
   "id": "e3fd1230",
   "metadata": {},
   "outputs": [
    {
     "data": {
      "text/plain": [
       "0"
      ]
     },
     "execution_count": 1,
     "metadata": {},
     "output_type": "execute_result"
    }
   ],
   "source": [
    "# Indexing Strings\n",
    "\n",
    "str1='learning'    # string\n",
    "str1.index('l')   # will give position of mentioned letter"
   ]
  },
  {
   "cell_type": "code",
   "execution_count": 2,
   "id": "217ca5c6",
   "metadata": {},
   "outputs": [
    {
     "data": {
      "text/plain": [
       "4"
      ]
     },
     "execution_count": 2,
     "metadata": {},
     "output_type": "execute_result"
    }
   ],
   "source": [
    "str1.index('ning')  # will give index of first letter of string (ning) from \n",
    "# learning which is index of n"
   ]
  },
  {
   "cell_type": "code",
   "execution_count": 4,
   "id": "ce921945",
   "metadata": {},
   "outputs": [
    {
     "data": {
      "text/plain": [
       "'g'"
      ]
     },
     "execution_count": 4,
     "metadata": {},
     "output_type": "execute_result"
    }
   ],
   "source": [
    "str1[7]    # index of 7th position letter (0) inculded"
   ]
  },
  {
   "cell_type": "code",
   "execution_count": 5,
   "id": "e2a908b3",
   "metadata": {},
   "outputs": [
    {
     "data": {
      "text/plain": [
       "'n'"
      ]
     },
     "execution_count": 5,
     "metadata": {},
     "output_type": "execute_result"
    }
   ],
   "source": [
    "str1[-2]   # index of position starting from end learning🔚 --> n"
   ]
  },
  {
   "cell_type": "code",
   "execution_count": 6,
   "id": "f022f553",
   "metadata": {},
   "outputs": [
    {
     "data": {
      "text/plain": [
       "[1, 2, 'a', 'nk', 2]"
      ]
     },
     "execution_count": 6,
     "metadata": {},
     "output_type": "execute_result"
    }
   ],
   "source": [
    "# indexing Lists\n",
    "lst1=[1,2,'a','nk',2]\n",
    "lst1"
   ]
  },
  {
   "cell_type": "code",
   "execution_count": 7,
   "id": "cdc6eac9",
   "metadata": {},
   "outputs": [
    {
     "data": {
      "text/plain": [
       "3"
      ]
     },
     "execution_count": 7,
     "metadata": {},
     "output_type": "execute_result"
    }
   ],
   "source": [
    "lst1.index('nk')"
   ]
  },
  {
   "cell_type": "code",
   "execution_count": 8,
   "id": "762b078b",
   "metadata": {},
   "outputs": [
    {
     "data": {
      "text/plain": [
       "'a'"
      ]
     },
     "execution_count": 8,
     "metadata": {},
     "output_type": "execute_result"
    }
   ],
   "source": [
    "lst1[2]   # element corresponding position 2"
   ]
  },
  {
   "cell_type": "code",
   "execution_count": 9,
   "id": "c2f4580f",
   "metadata": {},
   "outputs": [
    {
     "data": {
      "text/plain": [
       "2"
      ]
     },
     "execution_count": 9,
     "metadata": {},
     "output_type": "execute_result"
    }
   ],
   "source": [
    "lst1[-1]    # last element in the list"
   ]
  },
  {
   "cell_type": "code",
   "execution_count": 10,
   "id": "28141946",
   "metadata": {},
   "outputs": [],
   "source": [
    "# array indexing\n",
    "from array import *\n",
    "arr1= array('i',[1,2,3,4]) # array"
   ]
  },
  {
   "cell_type": "code",
   "execution_count": 11,
   "id": "fcc465e7",
   "metadata": {},
   "outputs": [
    {
     "name": "stdout",
     "output_type": "stream",
     "text": [
      "1\n",
      "2\n",
      "3\n",
      "4\n"
     ]
    }
   ],
   "source": [
    "for x in arr1: print(x)"
   ]
  },
  {
   "cell_type": "code",
   "execution_count": 12,
   "id": "3b6c993a",
   "metadata": {},
   "outputs": [
    {
     "data": {
      "text/plain": [
       "2"
      ]
     },
     "execution_count": 12,
     "metadata": {},
     "output_type": "execute_result"
    }
   ],
   "source": [
    "arr1[-3]     # to find third-last element"
   ]
  },
  {
   "cell_type": "code",
   "execution_count": 1,
   "id": "4bd3c247",
   "metadata": {},
   "outputs": [
    {
     "data": {
      "text/plain": [
       "4"
      ]
     },
     "execution_count": 1,
     "metadata": {},
     "output_type": "execute_result"
    }
   ],
   "source": [
    "# Tuple indexing\n",
    "tup1=(1,2,3,4,'py')    # tuple\n",
    "tup1.index('py')"
   ]
  },
  {
   "cell_type": "code",
   "execution_count": 3,
   "id": "644d1744",
   "metadata": {},
   "outputs": [
    {
     "data": {
      "text/plain": [
       "3"
      ]
     },
     "execution_count": 3,
     "metadata": {},
     "output_type": "execute_result"
    }
   ],
   "source": [
    "tup1[2]"
   ]
  },
  {
   "cell_type": "code",
   "execution_count": 5,
   "id": "dcf56dbc",
   "metadata": {},
   "outputs": [
    {
     "ename": "TypeError",
     "evalue": "'set' object is not subscriptable",
     "output_type": "error",
     "traceback": [
      "\u001b[1;31m---------------------------------------------------------------------------\u001b[0m",
      "\u001b[1;31mTypeError\u001b[0m                                 Traceback (most recent call last)",
      "Input \u001b[1;32mIn [5]\u001b[0m, in \u001b[0;36m<cell line: 3>\u001b[1;34m()\u001b[0m\n\u001b[0;32m      1\u001b[0m \u001b[38;5;66;03m# SET Indexing\u001b[39;00m\n\u001b[0;32m      2\u001b[0m set1\u001b[38;5;241m=\u001b[39m{\u001b[38;5;124m'\u001b[39m\u001b[38;5;124msample\u001b[39m\u001b[38;5;124m'\u001b[39m,\u001b[38;5;241m24\u001b[39m,\u001b[38;5;241m57\u001b[39m,\u001b[38;5;241m62\u001b[39m,\u001b[38;5;124m'\u001b[39m\u001b[38;5;124mdata\u001b[39m\u001b[38;5;124m'\u001b[39m,\u001b[38;5;241m1926\u001b[39m} \u001b[38;5;66;03m# sets\u001b[39;00m\n\u001b[1;32m----> 3\u001b[0m \u001b[43mset1\u001b[49m\u001b[43m[\u001b[49m\u001b[38;5;241;43m4\u001b[39;49m\u001b[43m]\u001b[49m\n",
      "\u001b[1;31mTypeError\u001b[0m: 'set' object is not subscriptable"
     ]
    }
   ],
   "source": [
    "# SET Indexing\n",
    "set1={'sample',24,57,62,'data',1926} # sets\n",
    "set1[4]\n",
    "# Set doesn't show Indexing"
   ]
  },
  {
   "cell_type": "code",
   "execution_count": 6,
   "id": "85d247c9",
   "metadata": {},
   "outputs": [],
   "source": [
    "# Dictionary  Indexing\n",
    "dict1= {1:'dict','second':2,3:3,'four':'4'}"
   ]
  },
  {
   "cell_type": "code",
   "execution_count": 7,
   "id": "12d1de5d",
   "metadata": {},
   "outputs": [
    {
     "data": {
      "text/plain": [
       "'dict'"
      ]
     },
     "execution_count": 7,
     "metadata": {},
     "output_type": "execute_result"
    }
   ],
   "source": [
    "dict1[1]"
   ]
  },
  {
   "cell_type": "code",
   "execution_count": 12,
   "id": "80ce93b3",
   "metadata": {},
   "outputs": [
    {
     "data": {
      "text/plain": [
       "3"
      ]
     },
     "execution_count": 12,
     "metadata": {},
     "output_type": "execute_result"
    }
   ],
   "source": [
    "dict1[3]"
   ]
  },
  {
   "cell_type": "code",
   "execution_count": 13,
   "id": "9a76ae0c",
   "metadata": {},
   "outputs": [
    {
     "data": {
      "text/plain": [
       "2"
      ]
     },
     "execution_count": 13,
     "metadata": {},
     "output_type": "execute_result"
    }
   ],
   "source": [
    "dict1['second']    # position where 'second' is present (indexing by key 🗝 )"
   ]
  },
  {
   "cell_type": "code",
   "execution_count": 15,
   "id": "41e7dd89",
   "metadata": {},
   "outputs": [
    {
     "data": {
      "text/plain": [
       "3"
      ]
     },
     "execution_count": 15,
     "metadata": {},
     "output_type": "execute_result"
    }
   ],
   "source": [
    "dict1[3]    # Indexing by values invalid in dictionary \n"
   ]
  },
  {
   "cell_type": "code",
   "execution_count": 18,
   "id": "71d1bc48",
   "metadata": {},
   "outputs": [
    {
     "name": "stdout",
     "output_type": "stream",
     "text": [
      "1\n",
      "5\n",
      "9\n"
     ]
    }
   ],
   "source": [
    "# Range Indexing\n",
    "R1= range(1,12,4)\n",
    "for x in R1: print(x)"
   ]
  },
  {
   "cell_type": "code",
   "execution_count": 20,
   "id": "f6bbe7d1",
   "metadata": {},
   "outputs": [
    {
     "data": {
      "text/plain": [
       "0"
      ]
     },
     "execution_count": 20,
     "metadata": {},
     "output_type": "execute_result"
    }
   ],
   "source": [
    "R1.index(1)   # position of elemnt 1    but for 0--> it is not in range"
   ]
  },
  {
   "cell_type": "code",
   "execution_count": 21,
   "id": "a106eceb",
   "metadata": {},
   "outputs": [
    {
     "data": {
      "text/plain": [
       "2"
      ]
     },
     "execution_count": 21,
     "metadata": {},
     "output_type": "execute_result"
    }
   ],
   "source": [
    "R1.index(9)"
   ]
  },
  {
   "cell_type": "code",
   "execution_count": 22,
   "id": "8f4fa1cb",
   "metadata": {},
   "outputs": [
    {
     "data": {
      "text/plain": [
       "5"
      ]
     },
     "execution_count": 22,
     "metadata": {},
     "output_type": "execute_result"
    }
   ],
   "source": [
    "R1[1]"
   ]
  },
  {
   "cell_type": "code",
   "execution_count": null,
   "id": "b6cd07d8",
   "metadata": {},
   "outputs": [],
   "source": []
  },
  {
   "cell_type": "code",
   "execution_count": null,
   "id": "4fc226e5",
   "metadata": {},
   "outputs": [],
   "source": []
  }
 ],
 "metadata": {
  "kernelspec": {
   "display_name": "Python 3 (ipykernel)",
   "language": "python",
   "name": "python3"
  },
  "language_info": {
   "codemirror_mode": {
    "name": "ipython",
    "version": 3
   },
   "file_extension": ".py",
   "mimetype": "text/x-python",
   "name": "python",
   "nbconvert_exporter": "python",
   "pygments_lexer": "ipython3",
   "version": "3.9.12"
  }
 },
 "nbformat": 4,
 "nbformat_minor": 5
}
