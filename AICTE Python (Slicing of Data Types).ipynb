{
 "cells": [
  {
   "cell_type": "code",
   "execution_count": 1,
   "id": "ae760f9f",
   "metadata": {},
   "outputs": [
    {
     "data": {
      "text/plain": [
       "'learning'"
      ]
     },
     "execution_count": 1,
     "metadata": {},
     "output_type": "execute_result"
    }
   ],
   "source": [
    "# STR slicing\n",
    "strS1= 'learning'\n",
    "strS1"
   ]
  },
  {
   "cell_type": "code",
   "execution_count": 2,
   "id": "a0995813",
   "metadata": {},
   "outputs": [
    {
     "data": {
      "text/plain": [
       "'er'"
      ]
     },
     "execution_count": 2,
     "metadata": {},
     "output_type": "execute_result"
    }
   ],
   "source": [
    "strS1[slice(1,4,2)]     # getting 'er' "
   ]
  },
  {
   "cell_type": "code",
   "execution_count": 3,
   "id": "4f45b51c",
   "metadata": {},
   "outputs": [
    {
     "data": {
      "text/plain": [
       "'learning'"
      ]
     },
     "execution_count": 3,
     "metadata": {},
     "output_type": "execute_result"
    }
   ],
   "source": [
    "strS1[:]    # no slicing"
   ]
  },
  {
   "cell_type": "code",
   "execution_count": 4,
   "id": "a1f69573",
   "metadata": {},
   "outputs": [
    {
     "name": "stdout",
     "output_type": "stream",
     "text": [
      "[1, 2, 'a', 'nk', 7]\n"
     ]
    }
   ],
   "source": [
    "# SAMPLE 2\n",
    "strS2=[1,2,'a','nk',7]\n",
    "print(strS2)"
   ]
  },
  {
   "cell_type": "code",
   "execution_count": 5,
   "id": "68a6516c",
   "metadata": {},
   "outputs": [
    {
     "name": "stdout",
     "output_type": "stream",
     "text": [
      "[1, 2]\n"
     ]
    }
   ],
   "source": [
    "print(strS2[:2])      # slicing list till 2nd position (rest all sliced)"
   ]
  },
  {
   "cell_type": "code",
   "execution_count": 6,
   "id": "3ec05961",
   "metadata": {},
   "outputs": [
    {
     "name": "stdout",
     "output_type": "stream",
     "text": [
      "['a', 'nk', 7]\n"
     ]
    }
   ],
   "source": [
    "print(strS2[2:])     # slicing only first 2 elements"
   ]
  },
  {
   "cell_type": "code",
   "execution_count": 7,
   "id": "37fda89b",
   "metadata": {},
   "outputs": [
    {
     "data": {
      "text/plain": [
       "['a', 'nk']"
      ]
     },
     "execution_count": 7,
     "metadata": {},
     "output_type": "execute_result"
    }
   ],
   "source": [
    "strS2[2:4]"
   ]
  },
  {
   "cell_type": "code",
   "execution_count": 8,
   "id": "6f35032a",
   "metadata": {},
   "outputs": [
    {
     "ename": "SyntaxError",
     "evalue": "invalid syntax (1350119084.py, line 1)",
     "output_type": "error",
     "traceback": [
      "\u001b[1;36m  Input \u001b[1;32mIn [8]\u001b[1;36m\u001b[0m\n\u001b[1;33m    dictSample{ 1:'second' }     # cannot slice dictionary\u001b[0m\n\u001b[1;37m              ^\u001b[0m\n\u001b[1;31mSyntaxError\u001b[0m\u001b[1;31m:\u001b[0m invalid syntax\n"
     ]
    }
   ],
   "source": [
    "\n",
    "dictSample{ 1:'second' }     # cannot slice dictionary\n",
    "dictSample[1:'second']"
   ]
  },
  {
   "cell_type": "code",
   "execution_count": 11,
   "id": "2d97afce",
   "metadata": {},
   "outputs": [
    {
     "ename": "TypeError",
     "evalue": "'set' object is not subscriptable",
     "output_type": "error",
     "traceback": [
      "\u001b[1;31m---------------------------------------------------------------------------\u001b[0m",
      "\u001b[1;31mTypeError\u001b[0m                                 Traceback (most recent call last)",
      "Input \u001b[1;32mIn [11]\u001b[0m, in \u001b[0;36m<cell line: 2>\u001b[1;34m()\u001b[0m\n\u001b[0;32m      1\u001b[0m setSample\u001b[38;5;241m=\u001b[39m{\u001b[38;5;241m1\u001b[39m,\u001b[38;5;241m2\u001b[39m,\u001b[38;5;241m3\u001b[39m,\u001b[38;5;124m'\u001b[39m\u001b[38;5;124mnk\u001b[39m\u001b[38;5;124m'\u001b[39m}\n\u001b[1;32m----> 2\u001b[0m \u001b[43msetSample\u001b[49m\u001b[43m[\u001b[49m\u001b[38;5;241;43m1\u001b[39;49m\u001b[43m:\u001b[49m\u001b[38;5;241;43m2\u001b[39;49m\u001b[43m]\u001b[49m\n",
      "\u001b[1;31mTypeError\u001b[0m: 'set' object is not subscriptable"
     ]
    }
   ],
   "source": [
    "setSample={1,2,3,'nk'}    # cannot slice set\n",
    "setSample[1:2]"
   ]
  },
  {
   "cell_type": "code",
   "execution_count": 15,
   "id": "d1eba54e",
   "metadata": {},
   "outputs": [
    {
     "name": "stdout",
     "output_type": "stream",
     "text": [
      "i\n",
      "[2, 3, 4]\n"
     ]
    },
    {
     "data": {
      "text/plain": [
       "([2, 3, 4],)"
      ]
     },
     "execution_count": 15,
     "metadata": {},
     "output_type": "execute_result"
    }
   ],
   "source": [
    "# array slicing\n",
    "#arr1=('i',[2,3,4])\n",
    "for x in arr1: print(x)\n",
    "arr1[1:]"
   ]
  },
  {
   "cell_type": "code",
   "execution_count": 16,
   "id": "82a9b07e",
   "metadata": {},
   "outputs": [
    {
     "data": {
      "text/plain": [
       "()"
      ]
     },
     "execution_count": 16,
     "metadata": {},
     "output_type": "execute_result"
    }
   ],
   "source": [
    "arr1[1:-1]"
   ]
  },
  {
   "cell_type": "code",
   "execution_count": 17,
   "id": "9f087e66",
   "metadata": {},
   "outputs": [
    {
     "name": "stdout",
     "output_type": "stream",
     "text": [
      "learning python\n"
     ]
    }
   ],
   "source": [
    "# Concatenation of strings\n",
    "print(strS1+'','python') "
   ]
  },
  {
   "cell_type": "code",
   "execution_count": 20,
   "id": "55d8a18e",
   "metadata": {},
   "outputs": [
    {
     "name": "stdout",
     "output_type": "stream",
     "text": [
      "[1, 2, 'a', 'nk', 7]\n"
     ]
    },
    {
     "data": {
      "text/plain": [
       "[1, 2, 'a', 'nk', 7, 'py']"
      ]
     },
     "execution_count": 20,
     "metadata": {},
     "output_type": "execute_result"
    }
   ],
   "source": [
    "print(strS2)\n",
    "strS2+['py']         # adding element  in a string"
   ]
  },
  {
   "cell_type": "code",
   "execution_count": 22,
   "id": "72bc1d01",
   "metadata": {},
   "outputs": [
    {
     "data": {
      "text/plain": [
       "[1, 2, 'a', 'nk', 7, 'th', 'on', 'th', 'on']"
      ]
     },
     "execution_count": 22,
     "metadata": {},
     "output_type": "execute_result"
    }
   ],
   "source": [
    "strS2+=('th','on')\n",
    "strS2"
   ]
  },
  {
   "cell_type": "code",
   "execution_count": null,
   "id": "cbc6d220",
   "metadata": {},
   "outputs": [],
   "source": []
  }
 ],
 "metadata": {
  "kernelspec": {
   "display_name": "Python 3 (ipykernel)",
   "language": "python",
   "name": "python3"
  },
  "language_info": {
   "codemirror_mode": {
    "name": "ipython",
    "version": 3
   },
   "file_extension": ".py",
   "mimetype": "text/x-python",
   "name": "python",
   "nbconvert_exporter": "python",
   "pygments_lexer": "ipython3",
   "version": "3.9.12"
  }
 },
 "nbformat": 4,
 "nbformat_minor": 5
}
