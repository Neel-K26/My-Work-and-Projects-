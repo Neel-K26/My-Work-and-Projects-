{
 "cells": [
  {
   "cell_type": "code",
   "execution_count": 1,
   "id": "4c8c23f3",
   "metadata": {},
   "outputs": [],
   "source": [
    "import pandas as pd\n",
    "import numpy as np\n",
    "import matplotlib.pyplot as plt"
   ]
  },
  {
   "cell_type": "code",
   "execution_count": 2,
   "id": "1131c3ca",
   "metadata": {},
   "outputs": [
    {
     "data": {
      "text/plain": [
       "' this type has abc\\n                   bc\\n                    c as different clusters'"
      ]
     },
     "execution_count": 2,
     "metadata": {},
     "output_type": "execute_result"
    }
   ],
   "source": [
    "# hierarchy clustering (Top-bottom) & (bottom- up)\n",
    "# Agglomerative\n",
    "''' this type has abc\n",
    "                   bc\n",
    "                    c as different clusters'''"
   ]
  },
  {
   "cell_type": "code",
   "execution_count": 3,
   "id": "9f265ab4",
   "metadata": {},
   "outputs": [],
   "source": [
    "# 2nd type has (abc) and (ab  c) as one cluster"
   ]
  },
  {
   "cell_type": "code",
   "execution_count": 4,
   "id": "95179c50",
   "metadata": {},
   "outputs": [],
   "source": [
    " # Agglomerative\n",
    "from sklearn.cluster import AgglomerativeClustering"
   ]
  },
  {
   "cell_type": "code",
   "execution_count": 5,
   "id": "602cce9d",
   "metadata": {},
   "outputs": [],
   "source": [
    "X= np.array([\n",
    "    [1,2],\n",
    "    [1,4],\n",
    "    [1,0],\n",
    "    [4,2],\n",
    "    [4,4],\n",
    "    [4,0]\n",
    "])"
   ]
  },
  {
   "cell_type": "code",
   "execution_count": 6,
   "id": "a79f102c",
   "metadata": {},
   "outputs": [],
   "source": [
    "clustering= AgglomerativeClustering()"
   ]
  },
  {
   "cell_type": "code",
   "execution_count": 7,
   "id": "8db08793",
   "metadata": {},
   "outputs": [
    {
     "data": {
      "text/plain": [
       "AgglomerativeClustering()"
      ]
     },
     "execution_count": 7,
     "metadata": {},
     "output_type": "execute_result"
    }
   ],
   "source": [
    "# Model is trained\n",
    "clustering.fit(X)"
   ]
  },
  {
   "cell_type": "code",
   "execution_count": 9,
   "id": "7fe3999d",
   "metadata": {},
   "outputs": [
    {
     "data": {
      "text/plain": [
       "array([1, 1, 1, 0, 0, 0], dtype=int64)"
      ]
     },
     "execution_count": 9,
     "metadata": {},
     "output_type": "execute_result"
    }
   ],
   "source": [
    "clustering.labels_\n",
    "# The data has been clustered "
   ]
  },
  {
   "cell_type": "code",
   "execution_count": null,
   "id": "dc730ede",
   "metadata": {},
   "outputs": [],
   "source": []
  }
 ],
 "metadata": {
  "kernelspec": {
   "display_name": "Python 3 (ipykernel)",
   "language": "python",
   "name": "python3"
  },
  "language_info": {
   "codemirror_mode": {
    "name": "ipython",
    "version": 3
   },
   "file_extension": ".py",
   "mimetype": "text/x-python",
   "name": "python",
   "nbconvert_exporter": "python",
   "pygments_lexer": "ipython3",
   "version": "3.9.12"
  }
 },
 "nbformat": 4,
 "nbformat_minor": 5
}
