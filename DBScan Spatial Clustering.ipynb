{
 "cells": [
  {
   "cell_type": "code",
   "execution_count": 1,
   "id": "1004be66",
   "metadata": {},
   "outputs": [],
   "source": [
    "import pandas as pd\n",
    "import numpy as np\n",
    "import matplotlib.pyplot as plt\n"
   ]
  },
  {
   "cell_type": "code",
   "execution_count": 8,
   "id": "f9617d83",
   "metadata": {},
   "outputs": [],
   "source": [
    "from sklearn.cluster import DBSCAN\n",
    "from sklearn.preprocessing import StandardScaler\n",
    "from sklearn.preprocessing import normalize\n",
    "from sklearn.decomposition import PCA"
   ]
  },
  {
   "cell_type": "code",
   "execution_count": 9,
   "id": "642932a9",
   "metadata": {},
   "outputs": [],
   "source": [
    "data = pd.read_csv(\"C:\\\\Users\\\\Admin\\\\Downloads\\\\CC GENERAL.csv\")"
   ]
  },
  {
   "cell_type": "code",
   "execution_count": 11,
   "id": "c5ed841e",
   "metadata": {},
   "outputs": [
    {
     "name": "stdout",
     "output_type": "stream",
     "text": [
      "<class 'pandas.core.frame.DataFrame'>\n",
      "RangeIndex: 8950 entries, 0 to 8949\n",
      "Data columns (total 18 columns):\n",
      " #   Column                            Non-Null Count  Dtype  \n",
      "---  ------                            --------------  -----  \n",
      " 0   CUST_ID                           8950 non-null   object \n",
      " 1   BALANCE                           8950 non-null   float64\n",
      " 2   BALANCE_FREQUENCY                 8950 non-null   float64\n",
      " 3   PURCHASES                         8950 non-null   float64\n",
      " 4   ONEOFF_PURCHASES                  8950 non-null   float64\n",
      " 5   INSTALLMENTS_PURCHASES            8950 non-null   float64\n",
      " 6   CASH_ADVANCE                      8950 non-null   float64\n",
      " 7   PURCHASES_FREQUENCY               8950 non-null   float64\n",
      " 8   ONEOFF_PURCHASES_FREQUENCY        8950 non-null   float64\n",
      " 9   PURCHASES_INSTALLMENTS_FREQUENCY  8950 non-null   float64\n",
      " 10  CASH_ADVANCE_FREQUENCY            8950 non-null   float64\n",
      " 11  CASH_ADVANCE_TRX                  8950 non-null   int64  \n",
      " 12  PURCHASES_TRX                     8950 non-null   int64  \n",
      " 13  CREDIT_LIMIT                      8949 non-null   float64\n",
      " 14  PAYMENTS                          8950 non-null   float64\n",
      " 15  MINIMUM_PAYMENTS                  8637 non-null   float64\n",
      " 16  PRC_FULL_PAYMENT                  8950 non-null   float64\n",
      " 17  TENURE                            8950 non-null   int64  \n",
      "dtypes: float64(14), int64(3), object(1)\n",
      "memory usage: 1.2+ MB\n"
     ]
    }
   ],
   "source": [
    "data.info()"
   ]
  },
  {
   "cell_type": "code",
   "execution_count": 14,
   "id": "dc79ee7d",
   "metadata": {},
   "outputs": [],
   "source": [
    "# Dealing with missing values\n",
    "data= data.drop('CUST_ID',axis=1)\n"
   ]
  },
  {
   "cell_type": "code",
   "execution_count": 16,
   "id": "a97658a4",
   "metadata": {},
   "outputs": [],
   "source": [
    "data.fillna(method='ffill',inplace=True)"
   ]
  },
  {
   "cell_type": "code",
   "execution_count": 19,
   "id": "66204d5d",
   "metadata": {},
   "outputs": [
    {
     "data": {
      "text/plain": [
       "array([[4.09007490e+01, 8.18182000e-01, 9.54000000e+01, ...,\n",
       "        1.39509787e+02, 0.00000000e+00, 1.20000000e+01],\n",
       "       [3.20246742e+03, 9.09091000e-01, 0.00000000e+00, ...,\n",
       "        1.07234022e+03, 2.22222000e-01, 1.20000000e+01],\n",
       "       [2.49514886e+03, 1.00000000e+00, 7.73170000e+02, ...,\n",
       "        6.27284787e+02, 0.00000000e+00, 1.20000000e+01],\n",
       "       ...,\n",
       "       [2.33986730e+01, 8.33333000e-01, 1.44400000e+02, ...,\n",
       "        8.24183690e+01, 2.50000000e-01, 6.00000000e+00],\n",
       "       [1.34575640e+01, 8.33333000e-01, 0.00000000e+00, ...,\n",
       "        5.57556280e+01, 2.50000000e-01, 6.00000000e+00],\n",
       "       [3.72708075e+02, 6.66667000e-01, 1.09325000e+03, ...,\n",
       "        8.82889560e+01, 0.00000000e+00, 6.00000000e+00]])"
      ]
     },
     "execution_count": 19,
     "metadata": {},
     "output_type": "execute_result"
    }
   ],
   "source": [
    "data.values"
   ]
  },
  {
   "cell_type": "code",
   "execution_count": 20,
   "id": "dc2afdad",
   "metadata": {},
   "outputs": [],
   "source": [
    "# Preprocessing the Data\n",
    "sc= StandardScaler()\n",
    "X_scaled=sc.fit_transform(data) "
   ]
  },
  {
   "cell_type": "code",
   "execution_count": 22,
   "id": "41cb3076",
   "metadata": {},
   "outputs": [],
   "source": [
    "# Normalising the data\n",
    "X_normlaised= normalize(X_scaled)"
   ]
  },
  {
   "cell_type": "code",
   "execution_count": 23,
   "id": "f66e96c2",
   "metadata": {},
   "outputs": [],
   "source": [
    "# Converting the numpy array to Pandas Dataframe\n",
    "X_normlaised=pd.DataFrame(X_normlaised)"
   ]
  },
  {
   "cell_type": "code",
   "execution_count": 26,
   "id": "11a81300",
   "metadata": {},
   "outputs": [
    {
     "data": {
      "text/html": [
       "<div>\n",
       "<style scoped>\n",
       "    .dataframe tbody tr th:only-of-type {\n",
       "        vertical-align: middle;\n",
       "    }\n",
       "\n",
       "    .dataframe tbody tr th {\n",
       "        vertical-align: top;\n",
       "    }\n",
       "\n",
       "    .dataframe thead th {\n",
       "        text-align: right;\n",
       "    }\n",
       "</style>\n",
       "<table border=\"1\" class=\"dataframe\">\n",
       "  <thead>\n",
       "    <tr style=\"text-align: right;\">\n",
       "      <th></th>\n",
       "      <th>P1</th>\n",
       "      <th>P2</th>\n",
       "    </tr>\n",
       "  </thead>\n",
       "  <tbody>\n",
       "    <tr>\n",
       "      <th>0</th>\n",
       "      <td>-0.489949</td>\n",
       "      <td>-0.679979</td>\n",
       "    </tr>\n",
       "    <tr>\n",
       "      <th>1</th>\n",
       "      <td>-0.519097</td>\n",
       "      <td>0.544808</td>\n",
       "    </tr>\n",
       "    <tr>\n",
       "      <th>2</th>\n",
       "      <td>0.330633</td>\n",
       "      <td>0.268878</td>\n",
       "    </tr>\n",
       "    <tr>\n",
       "      <th>3</th>\n",
       "      <td>-0.481657</td>\n",
       "      <td>-0.097607</td>\n",
       "    </tr>\n",
       "    <tr>\n",
       "      <th>4</th>\n",
       "      <td>-0.563511</td>\n",
       "      <td>-0.482508</td>\n",
       "    </tr>\n",
       "  </tbody>\n",
       "</table>\n",
       "</div>"
      ],
      "text/plain": [
       "         P1        P2\n",
       "0 -0.489949 -0.679979\n",
       "1 -0.519097  0.544808\n",
       "2  0.330633  0.268878\n",
       "3 -0.481657 -0.097607\n",
       "4 -0.563511 -0.482508"
      ]
     },
     "execution_count": 26,
     "metadata": {},
     "output_type": "execute_result"
    }
   ],
   "source": [
    "# Reduving the dimensionality of data to make it visulisible\n",
    "pca= PCA(n_components=2)\n",
    "X_principle= pca.fit_transform(X_normlaised)\n",
    "X_principle= pd.DataFrame(X_principle)\n",
    "X_principle.columns=['P1','P2']\n",
    "X_principle.head()"
   ]
  },
  {
   "cell_type": "markdown",
   "id": "0634f82a",
   "metadata": {},
   "source": [
    "# Building the model\n"
   ]
  },
  {
   "cell_type": "code",
   "execution_count": 40,
   "id": "1b567e2c",
   "metadata": {},
   "outputs": [],
   "source": [
    "# numpy array of all cluster labels are assigned to each datapoints\n",
    "db=DBSCAN(eps=0.0375,min_samples=0).fit(X_principle)\n",
    "labels= db.labels_"
   ]
  },
  {
   "cell_type": "code",
   "execution_count": 42,
   "id": "b591519f",
   "metadata": {},
   "outputs": [],
   "source": [
    "colours={}\n",
    "colours[0]  ='r'\n",
    "colours[1]  ='g'\n",
    "colours[2]  ='b'\n",
    "colours[-1] ='k'"
   ]
  },
  {
   "cell_type": "code",
   "execution_count": 54,
   "id": "9527578c",
   "metadata": {},
   "outputs": [],
   "source": [
    "#cvbc = [colours.get(label) for label in labels]\n"
   ]
  },
  {
   "cell_type": "code",
   "execution_count": 55,
   "id": "8e2f8ea4",
   "metadata": {},
   "outputs": [
    {
     "data": {
      "image/png": "[encoded data removed]",
      "text/plain": [
       "<Figure size 432x288 with 1 Axes>"
      ]
     },
     "metadata": {
      "needs_background": "light"
     },
     "output_type": "display_data"
    }
   ],
   "source": [
    "r= plt.scatter(X_principle['P1'] , X_principle['P2'], color='r');\n",
    "g= plt.scatter(X_principle['P1'] , X_principle['P2'], color='g');\n",
    "b= plt.scatter(X_principle['P1'] , X_principle['P2'], color='b');\n",
    "k= plt.scatter(X_principle['P1'] , X_principle['P2'], color='k');"
   ]
  },
  {
   "cell_type": "code",
   "execution_count": 57,
   "id": "fb9bfc28",
   "metadata": {},
   "outputs": [],
   "source": [
    "# According to the colour vector defined\n"
   ]
  },
  {
   "cell_type": "markdown",
   "id": "8f665405",
   "metadata": {},
   "source": [
    "# Visualising "
   ]
  },
  {
   "cell_type": "code",
   "execution_count": 58,
   "id": "97a14a0e",
   "metadata": {},
   "outputs": [],
   "source": [
    "  # Building label to colour mapping\n",
    "colours={}\n",
    "colours[0]  ='r'\n",
    "colours[1]  ='g'\n",
    "colours[2]  ='b'\n",
    "colours[-1] ='k'\n",
    "\n",
    "# building colour Vector for each data point\n",
    "\n",
    "#cvbc= [colour[label] for label in labels]\n",
    "\n",
    "# Construction of legend of a plot\n",
    "# Plotting P1 on X and P2 pn Y axis\n",
    "#r= plt.scatter(X_principle['P1'] , X_principle['P2'], color='r');\n",
    "#g= plt.scatter(X_principle['P1'] , X_principle['P2'], color='g');\n",
    "#b= plt.scatter(X_principle['P1'] , X_principle['P2'], color='b');\n",
    "#k= plt.scatter(X_principle['P1'] , X_principle['P2'], color='k');\n",
    "\n",
    "\n",
    "# According to the colour vector defined\n",
    "#plt.figure(figsize=(9,9))\n",
    "#plt.scatter(X_principle['P1'],X_principle['P2'],c= cvbc)\n",
    "\n",
    "# Building the Legend\n",
    "#plt.legend((r,g,b,k) ('label 0','label 1','label 2','label -1'))\n",
    "#plt.show()"
   ]
  },
  {
   "cell_type": "code",
   "execution_count": null,
   "id": "868b29eb",
   "metadata": {},
   "outputs": [],
   "source": []
  }
 ],
 "metadata": {
  "kernelspec": {
   "display_name": "Python 3 (ipykernel)",
   "language": "python",
   "name": "python3"
  },
  "language_info": {
   "codemirror_mode": {
    "name": "ipython",
    "version": 3
   },
   "file_extension": ".py",
   "mimetype": "text/x-python",
   "name": "python",
   "nbconvert_exporter": "python",
   "pygments_lexer": "ipython3",
   "version": "3.9.12"
  }
 },
 "nbformat": 4,
 "nbformat_minor": 5
}
