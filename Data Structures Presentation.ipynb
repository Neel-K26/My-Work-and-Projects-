{
 "cells": [
  {
   "cell_type": "code",
   "execution_count": 2,
   "id": "25df7d7a",
   "metadata": {},
   "outputs": [
    {
     "data": {
      "text/plain": [
       "list"
      ]
     },
     "execution_count": 2,
     "metadata": {},
     "output_type": "execute_result"
    }
   ],
   "source": [
    "#Data Structures\n",
    "#List\n",
    "lang=['Mar','Urd','San','Guj','Hin']\n",
    "type(lang)"
   ]
  },
  {
   "cell_type": "code",
   "execution_count": 3,
   "id": "54b294c6",
   "metadata": {},
   "outputs": [
    {
     "data": {
      "text/plain": [
       "list"
      ]
     },
     "execution_count": 3,
     "metadata": {},
     "output_type": "execute_result"
    }
   ],
   "source": [
    "days=['blue','Red','yellow','Rainbow']\n",
    "type(days)"
   ]
  },
  {
   "cell_type": "code",
   "execution_count": 4,
   "id": "8964a89b",
   "metadata": {},
   "outputs": [
    {
     "name": "stdout",
     "output_type": "stream",
     "text": [
      "['blue', 'Red', 'yellow', 'Rainbow']\n"
     ]
    }
   ],
   "source": [
    "print(days)"
   ]
  },
  {
   "cell_type": "code",
   "execution_count": 5,
   "id": "309f4c3a",
   "metadata": {},
   "outputs": [
    {
     "name": "stdout",
     "output_type": "stream",
     "text": [
      "['Mar', 'Urd', 'San', 'Guj', 'Hin']\n"
     ]
    }
   ],
   "source": [
    "print(lang)"
   ]
  },
  {
   "cell_type": "code",
   "execution_count": 6,
   "id": "42aba345",
   "metadata": {},
   "outputs": [
    {
     "name": "stdout",
     "output_type": "stream",
     "text": [
      "yellow\n"
     ]
    }
   ],
   "source": [
    "print(days[2])                #Indexing the List By Position of the Element"
   ]
  },
  {
   "cell_type": "code",
   "execution_count": 8,
   "id": "52ad35cf",
   "metadata": {},
   "outputs": [
    {
     "name": "stdout",
     "output_type": "stream",
     "text": [
      "Hin\n"
     ]
    }
   ],
   "source": [
    "print(lang[4])"
   ]
  },
  {
   "cell_type": "code",
   "execution_count": 9,
   "id": "82f461ef",
   "metadata": {},
   "outputs": [
    {
     "data": {
      "text/plain": [
       "'Urd'"
      ]
     },
     "execution_count": 9,
     "metadata": {},
     "output_type": "execute_result"
    }
   ],
   "source": [
    "lang[1]                       #Alternating Way of Indexing"
   ]
  },
  {
   "cell_type": "code",
   "execution_count": 10,
   "id": "4b04bd8a",
   "metadata": {},
   "outputs": [
    {
     "data": {
      "text/plain": [
       "'yellow'"
      ]
     },
     "execution_count": 10,
     "metadata": {},
     "output_type": "execute_result"
    }
   ],
   "source": [
    "days[2]"
   ]
  },
  {
   "cell_type": "code",
   "execution_count": 11,
   "id": "89550ff5",
   "metadata": {},
   "outputs": [
    {
     "name": "stdout",
     "output_type": "stream",
     "text": [
      "['blue', 'Red', 'yellow', 'Rainbow']\n"
     ]
    }
   ],
   "source": [
    "print(days)"
   ]
  },
  {
   "cell_type": "code",
   "execution_count": 16,
   "id": "25916acc",
   "metadata": {},
   "outputs": [
    {
     "name": "stdout",
     "output_type": "stream",
     "text": [
      "Rainbow\n"
     ]
    }
   ],
   "source": [
    "print(days[-1])"
   ]
  },
  {
   "cell_type": "code",
   "execution_count": 15,
   "id": "589bc2cf",
   "metadata": {},
   "outputs": [
    {
     "name": "stdout",
     "output_type": "stream",
     "text": [
      "Guj\n"
     ]
    }
   ],
   "source": [
    "print(lang[-2])"
   ]
  },
  {
   "cell_type": "code",
   "execution_count": 18,
   "id": "1a68c70d",
   "metadata": {},
   "outputs": [
    {
     "data": {
      "text/plain": [
       "list"
      ]
     },
     "execution_count": 18,
     "metadata": {},
     "output_type": "execute_result"
    }
   ],
   "source": [
    "months=[31,[28,29],30,31,30,31,30]\n",
    "type(months)"
   ]
  },
  {
   "cell_type": "markdown",
   "id": "ef6250e9",
   "metadata": {},
   "source": [
    "months[1][0]"
   ]
  },
  {
   "cell_type": "code",
   "execution_count": 20,
   "id": "a7cef870",
   "metadata": {},
   "outputs": [
    {
     "data": {
      "text/plain": [
       "[28, 29]"
      ]
     },
     "execution_count": 20,
     "metadata": {},
     "output_type": "execute_result"
    }
   ],
   "source": [
    "months[1]"
   ]
  },
  {
   "cell_type": "code",
   "execution_count": 21,
   "id": "5786fff4",
   "metadata": {},
   "outputs": [
    {
     "data": {
      "text/plain": [
       "[45, 67, 83, 92]"
      ]
     },
     "execution_count": 21,
     "metadata": {},
     "output_type": "execute_result"
    }
   ],
   "source": [
    "#Slicing The List\n",
    "num=[19,26,45,67,83,92]\n",
    "num[2:6]"
   ]
  },
  {
   "cell_type": "code",
   "execution_count": 22,
   "id": "73d6607c",
   "metadata": {},
   "outputs": [
    {
     "data": {
      "text/plain": [
       "[45, 67, 83, 92]"
      ]
     },
     "execution_count": 22,
     "metadata": {},
     "output_type": "execute_result"
    }
   ],
   "source": [
    "num[2:]"
   ]
  },
  {
   "cell_type": "code",
   "execution_count": 23,
   "id": "b34b1a73",
   "metadata": {},
   "outputs": [
    {
     "data": {
      "text/plain": [
       "[19, 26, 45, 67, 83]"
      ]
     },
     "execution_count": 23,
     "metadata": {},
     "output_type": "execute_result"
    }
   ],
   "source": [
    "num[:5]"
   ]
  },
  {
   "cell_type": "code",
   "execution_count": 24,
   "id": "9a121c5d",
   "metadata": {},
   "outputs": [
    {
     "data": {
      "text/plain": [
       "[19, 26, 45, 67, 83, 92]"
      ]
     },
     "execution_count": 24,
     "metadata": {},
     "output_type": "execute_result"
    }
   ],
   "source": [
    "num[:]"
   ]
  },
  {
   "cell_type": "code",
   "execution_count": 25,
   "id": "07172c2c",
   "metadata": {},
   "outputs": [
    {
     "name": "stdout",
     "output_type": "stream",
     "text": [
      "['H', 'N', 'O', 'He', 'K', 'Si', 'F']\n"
     ]
    }
   ],
   "source": [
    "#Replacing the Set of Elements\n",
    "metals=['H','N','O','He','K','Si','F']\n",
    "print(metals)"
   ]
  },
  {
   "cell_type": "code",
   "execution_count": 32,
   "id": "00b153cc",
   "metadata": {},
   "outputs": [
    {
     "name": "stdout",
     "output_type": "stream",
     "text": [
      "['H', 'N', 'Na', 'Si', 'K', 'Si', 'F']\n"
     ]
    }
   ],
   "source": [
    "metals[2:4]=['Na','Si']\n",
    "print(metals)"
   ]
  },
  {
   "cell_type": "code",
   "execution_count": 33,
   "id": "14386d99",
   "metadata": {},
   "outputs": [
    {
     "data": {
      "text/plain": [
       "False"
      ]
     },
     "execution_count": 33,
     "metadata": {},
     "output_type": "execute_result"
    }
   ],
   "source": [
    "'O' in metals                      #In Operator(To find the Element)"
   ]
  },
  {
   "cell_type": "code",
   "execution_count": 34,
   "id": "f2575d1a",
   "metadata": {},
   "outputs": [
    {
     "data": {
      "text/plain": [
       "False"
      ]
     },
     "execution_count": 34,
     "metadata": {},
     "output_type": "execute_result"
    }
   ],
   "source": [
    "'He' in metals"
   ]
  },
  {
   "cell_type": "code",
   "execution_count": 36,
   "id": "d94984c7",
   "metadata": {},
   "outputs": [
    {
     "data": {
      "text/plain": [
       "True"
      ]
     },
     "execution_count": 36,
     "metadata": {},
     "output_type": "execute_result"
    }
   ],
   "source": [
    "\"Na\" in metals"
   ]
  },
  {
   "cell_type": "code",
   "execution_count": 38,
   "id": "fd1376ae",
   "metadata": {},
   "outputs": [
    {
     "name": "stdout",
     "output_type": "stream",
     "text": [
      "['H', 'Si', 'K', 'Si', 'F']\n"
     ]
    }
   ],
   "source": [
    "#Deleting Elements\n",
    "del metals[1]\n",
    "print(metals)"
   ]
  },
  {
   "cell_type": "code",
   "execution_count": 39,
   "id": "556cb7ec",
   "metadata": {},
   "outputs": [
    {
     "name": "stdout",
     "output_type": "stream",
     "text": [
      "['H', 'Si', 'F']\n"
     ]
    }
   ],
   "source": [
    "del metals[1:3]\n",
    "print(metals)"
   ]
  },
  {
   "cell_type": "code",
   "execution_count": 43,
   "id": "49530850",
   "metadata": {},
   "outputs": [
    {
     "name": "stdout",
     "output_type": "stream",
     "text": [
      "['Si', 'Pb']\n"
     ]
    }
   ],
   "source": [
    "metals=['H','O','Si','Pb']\n",
    "del metals [0:2]\n",
    "print(metals)\n"
   ]
  },
  {
   "cell_type": "code",
   "execution_count": 44,
   "id": "292049eb",
   "metadata": {},
   "outputs": [
    {
     "data": {
      "text/plain": [
       "[1, 7, 5, 3, 9, 1, 7, 5, 3, 9]"
      ]
     },
     "execution_count": 44,
     "metadata": {},
     "output_type": "execute_result"
    }
   ],
   "source": [
    "num=[1,7,5,3,9]\n",
    "num*2"
   ]
  },
  {
   "cell_type": "code",
   "execution_count": 45,
   "id": "4e6fb294",
   "metadata": {},
   "outputs": [
    {
     "data": {
      "text/plain": [
       "[1, 7, 5, 3, 9, 4, 8]"
      ]
     },
     "execution_count": 45,
     "metadata": {},
     "output_type": "execute_result"
    }
   ],
   "source": [
    "num+[4,8]"
   ]
  },
  {
   "cell_type": "code",
   "execution_count": 48,
   "id": "47185553",
   "metadata": {},
   "outputs": [
    {
     "name": "stdout",
     "output_type": "stream",
     "text": [
      "[1, 7, 5, 3, 9, 0, 9, 0, 9, 0, 9]\n"
     ]
    }
   ],
   "source": [
    "num += [0,9]\n",
    "print(num)"
   ]
  },
  {
   "cell_type": "code",
   "execution_count": 51,
   "id": "ec8d3a9d",
   "metadata": {},
   "outputs": [
    {
     "name": "stdout",
     "output_type": "stream",
     "text": [
      "753"
     ]
    }
   ],
   "source": [
    "#Iteration\n",
    "num=[7,2,5,3,6]\n",
    "for n in num:\n",
    "    if n % 2 !=0:\n",
    "        print(n,end='')\n",
    "        "
   ]
  },
  {
   "cell_type": "code",
   "execution_count": 1,
   "id": "06f84108",
   "metadata": {},
   "outputs": [
    {
     "name": "stdout",
     "output_type": "stream",
     "text": [
      "[2, 4, 6, 8, 10, 12, 14, 16, 18, 20]\n"
     ]
    }
   ],
   "source": [
    "#List Comprehension\n",
    "even=[2*i for i in range(1,11)]\n",
    "print(even)"
   ]
  },
  {
   "cell_type": "code",
   "execution_count": 6,
   "id": "dba06e33",
   "metadata": {},
   "outputs": [
    {
     "name": "stdout",
     "output_type": "stream",
     "text": [
      "[]\n"
     ]
    }
   ],
   "source": [
    "#Empty List\n",
    "num=[]\n",
    "print(num)"
   ]
  },
  {
   "cell_type": "code",
   "execution_count": 7,
   "id": "a234404a",
   "metadata": {},
   "outputs": [
    {
     "data": {
      "text/plain": [
       "list"
      ]
     },
     "execution_count": 7,
     "metadata": {},
     "output_type": "execute_result"
    }
   ],
   "source": [
    "type(num)"
   ]
  },
  {
   "cell_type": "code",
   "execution_count": 8,
   "id": "bec1c214",
   "metadata": {},
   "outputs": [
    {
     "data": {
      "text/plain": [
       "0"
      ]
     },
     "execution_count": 8,
     "metadata": {},
     "output_type": "execute_result"
    }
   ],
   "source": [
    "len(num)"
   ]
  },
  {
   "cell_type": "code",
   "execution_count": 9,
   "id": "c830d50c",
   "metadata": {},
   "outputs": [
    {
     "name": "stdout",
     "output_type": "stream",
     "text": [
      "1\n"
     ]
    }
   ],
   "source": [
    "num=[1,2,3]\n",
    "x,y,z=num\n",
    "print(x)"
   ]
  },
  {
   "cell_type": "code",
   "execution_count": 10,
   "id": "3ff4dcf0",
   "metadata": {},
   "outputs": [
    {
     "name": "stdout",
     "output_type": "stream",
     "text": [
      "2\n"
     ]
    }
   ],
   "source": [
    "print(y)"
   ]
  },
  {
   "cell_type": "code",
   "execution_count": 11,
   "id": "a71b191e",
   "metadata": {},
   "outputs": [
    {
     "name": "stdout",
     "output_type": "stream",
     "text": [
      "3\n"
     ]
    }
   ],
   "source": [
    "print(z)"
   ]
  },
  {
   "cell_type": "code",
   "execution_count": 12,
   "id": "8e7c5baa",
   "metadata": {},
   "outputs": [
    {
     "data": {
      "text/plain": [
       "3"
      ]
     },
     "execution_count": 12,
     "metadata": {},
     "output_type": "execute_result"
    }
   ],
   "source": [
    "num=[19,26,45,]\n",
    "len(num)                                #Length"
   ]
  },
  {
   "cell_type": "code",
   "execution_count": 13,
   "id": "c1cdfc92",
   "metadata": {},
   "outputs": [
    {
     "data": {
      "text/plain": [
       "45"
      ]
     },
     "execution_count": 13,
     "metadata": {},
     "output_type": "execute_result"
    }
   ],
   "source": [
    "max(num)                                 #Maxiumum"
   ]
  },
  {
   "cell_type": "code",
   "execution_count": 14,
   "id": "e8027c5a",
   "metadata": {},
   "outputs": [
    {
     "data": {
      "text/plain": [
       "19"
      ]
     },
     "execution_count": 14,
     "metadata": {},
     "output_type": "execute_result"
    }
   ],
   "source": [
    "min(num)                                 #Minumum"
   ]
  },
  {
   "cell_type": "code",
   "execution_count": 15,
   "id": "56436792",
   "metadata": {},
   "outputs": [
    {
     "data": {
      "text/plain": [
       "90"
      ]
     },
     "execution_count": 15,
     "metadata": {},
     "output_type": "execute_result"
    }
   ],
   "source": [
    "sum(num)                                #Sum of all elements"
   ]
  },
  {
   "cell_type": "code",
   "execution_count": 16,
   "id": "ab9c7c38",
   "metadata": {},
   "outputs": [
    {
     "data": {
      "text/plain": [
       "[19, 26, 45]"
      ]
     },
     "execution_count": 16,
     "metadata": {},
     "output_type": "execute_result"
    }
   ],
   "source": [
    "list(num)"
   ]
  },
  {
   "cell_type": "code",
   "execution_count": 17,
   "id": "35fe6905",
   "metadata": {},
   "outputs": [
    {
     "data": {
      "text/plain": [
       "[19, 26, 45]"
      ]
     },
     "execution_count": 17,
     "metadata": {},
     "output_type": "execute_result"
    }
   ],
   "source": [
    "sorted(num)"
   ]
  },
  {
   "cell_type": "code",
   "execution_count": 21,
   "id": "29206ff7",
   "metadata": {},
   "outputs": [
    {
     "data": {
      "text/plain": [
       "True"
      ]
     },
     "execution_count": 21,
     "metadata": {},
     "output_type": "execute_result"
    }
   ],
   "source": [
    "any(num)"
   ]
  },
  {
   "cell_type": "code",
   "execution_count": 19,
   "id": "f9e54e9d",
   "metadata": {},
   "outputs": [
    {
     "data": {
      "text/plain": [
       "True"
      ]
     },
     "execution_count": 19,
     "metadata": {},
     "output_type": "execute_result"
    }
   ],
   "source": [
    "all(num)"
   ]
  },
  {
   "cell_type": "code",
   "execution_count": 23,
   "id": "8e55510d",
   "metadata": {},
   "outputs": [
    {
     "name": "stdout",
     "output_type": "stream",
     "text": [
      "[1, 2, 3, 4, 5, 6, 7, 0]\n"
     ]
    }
   ],
   "source": [
    "#Built in functions\n",
    "num=[1,2,3,4,5,6,7]\n",
    "num.append(0)\n",
    "print(num)"
   ]
  },
  {
   "cell_type": "code",
   "execution_count": 25,
   "id": "ca4d0c39",
   "metadata": {},
   "outputs": [
    {
     "name": "stdout",
     "output_type": "stream",
     "text": [
      "[1, 7, 7, 2, 3, 4, 5, 6, 7, 0]\n"
     ]
    }
   ],
   "source": [
    "num.insert(1,7)\n",
    "print(num)"
   ]
  },
  {
   "cell_type": "code",
   "execution_count": 26,
   "id": "a003309d",
   "metadata": {},
   "outputs": [
    {
     "name": "stdout",
     "output_type": "stream",
     "text": [
      "[1, 7, 7, 2, 3, 4, 5, 7, 0]\n"
     ]
    }
   ],
   "source": [
    "num.remove(6)\n",
    "print(num)"
   ]
  },
  {
   "cell_type": "markdown",
   "id": "51289186",
   "metadata": {},
   "source": [
    "num=[1,2,3,4,5,6,7]\n",
    "x=num.pop()\n",
    "print(x)"
   ]
  },
  {
   "cell_type": "code",
   "execution_count": 27,
   "id": "47d5991f",
   "metadata": {},
   "outputs": [
    {
     "name": "stdout",
     "output_type": "stream",
     "text": [
      "7\n"
     ]
    }
   ],
   "source": [
    "num=[7,6,5,4,3,2,1]\n",
    "x=num.pop() \n",
    "print(x)"
   ]
  },
  {
   "cell_type": "code",
   "execution_count": 28,
   "id": "98188b96",
   "metadata": {},
   "outputs": [
    {
     "name": "stdout",
     "output_type": "stream",
     "text": [
      "[1, 2, 3, 4, 5, 6]\n"
     ]
    }
   ],
   "source": [
    "print(num)"
   ]
  },
  {
   "cell_type": "code",
   "execution_count": 31,
   "id": "512b9453",
   "metadata": {},
   "outputs": [
    {
     "data": {
      "text/plain": [
       "3"
      ]
     },
     "execution_count": 31,
     "metadata": {},
     "output_type": "execute_result"
    }
   ],
   "source": [
    "num.index(4)"
   ]
  },
  {
   "cell_type": "code",
   "execution_count": 32,
   "id": "02d75486",
   "metadata": {},
   "outputs": [
    {
     "data": {
      "text/plain": [
       "1"
      ]
     },
     "execution_count": 32,
     "metadata": {},
     "output_type": "execute_result"
    }
   ],
   "source": [
    "num.count(5)"
   ]
  },
  {
   "cell_type": "code",
   "execution_count": 35,
   "id": "80c16640",
   "metadata": {},
   "outputs": [
    {
     "name": "stdout",
     "output_type": "stream",
     "text": [
      "[1, 2, 3, 4, 5, 6]\n"
     ]
    }
   ],
   "source": [
    "num.sort()\n",
    "print(num)"
   ]
  },
  {
   "cell_type": "code",
   "execution_count": 36,
   "id": "341d40e9",
   "metadata": {},
   "outputs": [
    {
     "name": "stdout",
     "output_type": "stream",
     "text": [
      "[6, 5, 4, 3, 2, 1]\n"
     ]
    }
   ],
   "source": [
    "num.reverse()\n",
    "print(num)"
   ]
  },
  {
   "cell_type": "code",
   "execution_count": 48,
   "id": "24f6d823",
   "metadata": {},
   "outputs": [
    {
     "name": "stdout",
     "output_type": "stream",
     "text": [
      "How many elements? 26\n",
      "Enter number:78\n",
      "Enter number:90\n",
      "Enter number:787\n"
     ]
    },
    {
     "ename": "KeyboardInterrupt",
     "evalue": "Interrupted by user",
     "output_type": "error",
     "traceback": [
      "\u001b[1;31m---------------------------------------------------------------------------\u001b[0m",
      "\u001b[1;31mKeyboardInterrupt\u001b[0m                         Traceback (most recent call last)",
      "Input \u001b[1;32mIn [48]\u001b[0m, in \u001b[0;36m<cell line: 3>\u001b[1;34m()\u001b[0m\n\u001b[0;32m      2\u001b[0m n \u001b[38;5;241m=\u001b[39m \u001b[38;5;28mint\u001b[39m(\u001b[38;5;28minput\u001b[39m(\u001b[38;5;124m'\u001b[39m\u001b[38;5;124mHow many elements? \u001b[39m\u001b[38;5;124m'\u001b[39m))\n\u001b[0;32m      3\u001b[0m \u001b[38;5;28;01mfor\u001b[39;00m x \u001b[38;5;129;01min\u001b[39;00m \u001b[38;5;28mrange\u001b[39m(n):\n\u001b[1;32m----> 4\u001b[0m           num \u001b[38;5;241m=\u001b[39m \u001b[38;5;28mint\u001b[39m(\u001b[38;5;28;43minput\u001b[39;49m\u001b[43m(\u001b[49m\u001b[38;5;124;43m'\u001b[39;49m\u001b[38;5;124;43mEnter number:\u001b[39;49m\u001b[38;5;124;43m'\u001b[39;49m\u001b[43m)\u001b[49m)\n\u001b[0;32m      5\u001b[0m           arr\u001b[38;5;241m.\u001b[39mappend(num)\n\u001b[0;32m      6\u001b[0m \u001b[38;5;28mprint\u001b[39m(\u001b[38;5;124m'\u001b[39m\u001b[38;5;124mList is:\u001b[39m\u001b[38;5;124m'\u001b[39m, arr)\n",
      "File \u001b[1;32m~\\Anaconda\\lib\\site-packages\\ipykernel\\kernelbase.py:1075\u001b[0m, in \u001b[0;36mKernel.raw_input\u001b[1;34m(self, prompt)\u001b[0m\n\u001b[0;32m   1071\u001b[0m \u001b[38;5;28;01mif\u001b[39;00m \u001b[38;5;129;01mnot\u001b[39;00m \u001b[38;5;28mself\u001b[39m\u001b[38;5;241m.\u001b[39m_allow_stdin:\n\u001b[0;32m   1072\u001b[0m     \u001b[38;5;28;01mraise\u001b[39;00m StdinNotImplementedError(\n\u001b[0;32m   1073\u001b[0m         \u001b[38;5;124m\"\u001b[39m\u001b[38;5;124mraw_input was called, but this frontend does not support input requests.\u001b[39m\u001b[38;5;124m\"\u001b[39m\n\u001b[0;32m   1074\u001b[0m     )\n\u001b[1;32m-> 1075\u001b[0m \u001b[38;5;28;01mreturn\u001b[39;00m \u001b[38;5;28;43mself\u001b[39;49m\u001b[38;5;241;43m.\u001b[39;49m\u001b[43m_input_request\u001b[49m\u001b[43m(\u001b[49m\n\u001b[0;32m   1076\u001b[0m \u001b[43m    \u001b[49m\u001b[38;5;28;43mstr\u001b[39;49m\u001b[43m(\u001b[49m\u001b[43mprompt\u001b[49m\u001b[43m)\u001b[49m\u001b[43m,\u001b[49m\n\u001b[0;32m   1077\u001b[0m \u001b[43m    \u001b[49m\u001b[38;5;28;43mself\u001b[39;49m\u001b[38;5;241;43m.\u001b[39;49m\u001b[43m_parent_ident\u001b[49m\u001b[43m[\u001b[49m\u001b[38;5;124;43m\"\u001b[39;49m\u001b[38;5;124;43mshell\u001b[39;49m\u001b[38;5;124;43m\"\u001b[39;49m\u001b[43m]\u001b[49m\u001b[43m,\u001b[49m\n\u001b[0;32m   1078\u001b[0m \u001b[43m    \u001b[49m\u001b[38;5;28;43mself\u001b[39;49m\u001b[38;5;241;43m.\u001b[39;49m\u001b[43mget_parent\u001b[49m\u001b[43m(\u001b[49m\u001b[38;5;124;43m\"\u001b[39;49m\u001b[38;5;124;43mshell\u001b[39;49m\u001b[38;5;124;43m\"\u001b[39;49m\u001b[43m)\u001b[49m\u001b[43m,\u001b[49m\n\u001b[0;32m   1079\u001b[0m \u001b[43m    \u001b[49m\u001b[43mpassword\u001b[49m\u001b[38;5;241;43m=\u001b[39;49m\u001b[38;5;28;43;01mFalse\u001b[39;49;00m\u001b[43m,\u001b[49m\n\u001b[0;32m   1080\u001b[0m \u001b[43m\u001b[49m\u001b[43m)\u001b[49m\n",
      "File \u001b[1;32m~\\Anaconda\\lib\\site-packages\\ipykernel\\kernelbase.py:1120\u001b[0m, in \u001b[0;36mKernel._input_request\u001b[1;34m(self, prompt, ident, parent, password)\u001b[0m\n\u001b[0;32m   1117\u001b[0m             \u001b[38;5;28;01mbreak\u001b[39;00m\n\u001b[0;32m   1118\u001b[0m \u001b[38;5;28;01mexcept\u001b[39;00m \u001b[38;5;167;01mKeyboardInterrupt\u001b[39;00m:\n\u001b[0;32m   1119\u001b[0m     \u001b[38;5;66;03m# re-raise KeyboardInterrupt, to truncate traceback\u001b[39;00m\n\u001b[1;32m-> 1120\u001b[0m     \u001b[38;5;28;01mraise\u001b[39;00m \u001b[38;5;167;01mKeyboardInterrupt\u001b[39;00m(\u001b[38;5;124m\"\u001b[39m\u001b[38;5;124mInterrupted by user\u001b[39m\u001b[38;5;124m\"\u001b[39m) \u001b[38;5;28;01mfrom\u001b[39;00m \u001b[38;5;28mNone\u001b[39m\n\u001b[0;32m   1121\u001b[0m \u001b[38;5;28;01mexcept\u001b[39;00m \u001b[38;5;167;01mException\u001b[39;00m:\n\u001b[0;32m   1122\u001b[0m     \u001b[38;5;28mself\u001b[39m\u001b[38;5;241m.\u001b[39mlog\u001b[38;5;241m.\u001b[39mwarning(\u001b[38;5;124m\"\u001b[39m\u001b[38;5;124mInvalid Message:\u001b[39m\u001b[38;5;124m\"\u001b[39m, exc_info\u001b[38;5;241m=\u001b[39m\u001b[38;5;28;01mTrue\u001b[39;00m)\n",
      "\u001b[1;31mKeyboardInterrupt\u001b[0m: Interrupted by user"
     ]
    }
   ],
   "source": [
    "arr = []\n",
    "n = int(input('How many elements? '))\n",
    "for x in range(n):\n",
    "          num = int(input('Enter number:'))\n",
    "          arr.append(num)\n",
    "print('List is:', arr)"
   ]
  },
  {
   "cell_type": "code",
   "execution_count": 58,
   "id": "faf8770f",
   "metadata": {},
   "outputs": [
    {
     "name": "stdout",
     "output_type": "stream",
     "text": [
      "['Silver', 'Platinum']\n"
     ]
    }
   ],
   "source": [
    "metals=['Gold','Silver','Platinum']\n",
    "new_metals=[]\n",
    "for metals in metals:\n",
    "    if metals!='Gold':\n",
    "            new_metals.append(metals)\n",
    "print(new_metals)"
   ]
  },
  {
   "cell_type": "code",
   "execution_count": 73,
   "id": "b908f0a0",
   "metadata": {},
   "outputs": [
    {
     "name": "stdout",
     "output_type": "stream",
     "text": [
      "67\n",
      "85\n",
      "69\n",
      "72\n",
      "63\n"
     ]
    }
   ],
   "source": [
    "per=(67, 85, 69, 72, 63)\n",
    "for n in per: \n",
    "    print(n,sep='')"
   ]
  },
  {
   "cell_type": "code",
   "execution_count": 74,
   "id": "9c0c911d",
   "metadata": {},
   "outputs": [
    {
     "data": {
      "text/plain": [
       "(2, 7)"
      ]
     },
     "execution_count": 74,
     "metadata": {},
     "output_type": "execute_result"
    }
   ],
   "source": [
    "num = (23,(2,7),11,36)\n",
    "num[1]\n"
   ]
  },
  {
   "cell_type": "code",
   "execution_count": 75,
   "id": "969381d8",
   "metadata": {},
   "outputs": [
    {
     "data": {
      "text/plain": [
       "2"
      ]
     },
     "execution_count": 75,
     "metadata": {},
     "output_type": "execute_result"
    }
   ],
   "source": [
    "num[1][0]"
   ]
  },
  {
   "cell_type": "code",
   "execution_count": 88,
   "id": "45f6e3ae",
   "metadata": {},
   "outputs": [
    {
     "data": {
      "text/plain": [
       "10"
      ]
     },
     "execution_count": 88,
     "metadata": {},
     "output_type": "execute_result"
    }
   ],
   "source": [
    "num = {1:25, 3:10, 5:11}\n",
    "num[3]"
   ]
  },
  {
   "cell_type": "code",
   "execution_count": 90,
   "id": "03de130b",
   "metadata": {},
   "outputs": [
    {
     "ename": "SyntaxError",
     "evalue": "invalid syntax (3040834686.py, line 2)",
     "output_type": "error",
     "traceback": [
      "\u001b[1;36m  Input \u001b[1;32mIn [90]\u001b[1;36m\u001b[0m\n\u001b[1;33m    d={'a':'apple':'b':'ball'}\u001b[0m\n\u001b[1;37m                  ^\u001b[0m\n\u001b[1;31mSyntaxError\u001b[0m\u001b[1;31m:\u001b[0m invalid syntax\n"
     ]
    }
   ],
   "source": [
    "#Dictionary\n",
    "d={'a':'apple':'b':'ball'}\n",
    "d['a']"
   ]
  },
  {
   "cell_type": "code",
   "execution_count": 93,
   "id": "0bbb2c56",
   "metadata": {},
   "outputs": [
    {
     "name": "stdout",
     "output_type": "stream",
     "text": [
      "{1: 25, 3: 10, 5: 11, 2: 20}\n"
     ]
    }
   ],
   "source": [
    "num = {1:25, 3:10, 5:11}\n",
    "num[2]=20\n",
    "print(num)"
   ]
  },
  {
   "cell_type": "code",
   "execution_count": 94,
   "id": "386247ff",
   "metadata": {},
   "outputs": [
    {
     "name": "stdout",
     "output_type": "stream",
     "text": [
      "{1: 56, 2: 49, 6: 75}\n"
     ]
    }
   ],
   "source": [
    "data = ([1,56],[2,49],[6,75])\n",
    "d=dict(data)\n",
    "print(d)"
   ]
  },
  {
   "cell_type": "code",
   "execution_count": 96,
   "id": "2b540fba",
   "metadata": {},
   "outputs": [
    {
     "data": {
      "text/plain": [
       "dict"
      ]
     },
     "execution_count": 96,
     "metadata": {},
     "output_type": "execute_result"
    }
   ],
   "source": [
    "type(d)"
   ]
  },
  {
   "cell_type": "code",
   "execution_count": 97,
   "id": "a32965bc",
   "metadata": {},
   "outputs": [
    {
     "name": "stdout",
     "output_type": "stream",
     "text": [
      "{1: 45, 6: 27, 4: 23}\n"
     ]
    }
   ],
   "source": [
    "d = {1:45,6:23,4:23,6:27}\n",
    "print(d)"
   ]
  },
  {
   "cell_type": "code",
   "execution_count": 99,
   "id": "91f588b0",
   "metadata": {},
   "outputs": [
    {
     "data": {
      "text/plain": [
       "dict"
      ]
     },
     "execution_count": 99,
     "metadata": {},
     "output_type": "execute_result"
    }
   ],
   "source": [
    "animals={}\n",
    "type(animals)"
   ]
  },
  {
   "cell_type": "code",
   "execution_count": 100,
   "id": "2a59a530",
   "metadata": {},
   "outputs": [
    {
     "name": "stdout",
     "output_type": "stream",
     "text": [
      "{1: 'Lion', 2: 'Tiger', 3: 'Honey Bedger'}\n"
     ]
    }
   ],
   "source": [
    "animals[1]='Lion'\n",
    "animals[2]='Tiger'\n",
    "animals[3]='Honey Bedger'\n",
    "print(animals)"
   ]
  },
  {
   "cell_type": "code",
   "execution_count": 104,
   "id": "a5b97b0c",
   "metadata": {},
   "outputs": [
    {
     "data": {
      "text/plain": [
       "dict_keys([2, 5, 6, 7, 9])"
      ]
     },
     "execution_count": 104,
     "metadata": {},
     "output_type": "execute_result"
    }
   ],
   "source": [
    "data = {2:45,5:38,6:11,7:105,9:20}\n",
    "data.keys()\n"
   ]
  },
  {
   "cell_type": "code",
   "execution_count": 105,
   "id": "f038f86a",
   "metadata": {},
   "outputs": [
    {
     "data": {
      "text/plain": [
       "dict_values([45, 38, 11, 105, 20])"
      ]
     },
     "execution_count": 105,
     "metadata": {},
     "output_type": "execute_result"
    }
   ],
   "source": [
    "data.values()"
   ]
  },
  {
   "cell_type": "code",
   "execution_count": 106,
   "id": "6ee64a79",
   "metadata": {},
   "outputs": [
    {
     "data": {
      "text/plain": [
       "dict_items([(2, 45), (5, 38), (6, 11), (7, 105), (9, 20)])"
      ]
     },
     "execution_count": 106,
     "metadata": {},
     "output_type": "execute_result"
    }
   ],
   "source": [
    "data.items()"
   ]
  },
  {
   "cell_type": "code",
   "execution_count": 107,
   "id": "2316c1a5",
   "metadata": {},
   "outputs": [
    {
     "data": {
      "text/plain": [
       "45"
      ]
     },
     "execution_count": 107,
     "metadata": {},
     "output_type": "execute_result"
    }
   ],
   "source": [
    "data.get(2,1)"
   ]
  },
  {
   "cell_type": "code",
   "execution_count": 108,
   "id": "74ae6117",
   "metadata": {},
   "outputs": [
    {
     "data": {
      "text/plain": [
       "5"
      ]
     },
     "execution_count": 108,
     "metadata": {},
     "output_type": "execute_result"
    }
   ],
   "source": [
    "data.get(4,5)"
   ]
  },
  {
   "cell_type": "code",
   "execution_count": 109,
   "id": "10dd7ff9",
   "metadata": {},
   "outputs": [
    {
     "data": {
      "text/plain": [
       "105"
      ]
     },
     "execution_count": 109,
     "metadata": {},
     "output_type": "execute_result"
    }
   ],
   "source": [
    "data.get(7,110)"
   ]
  },
  {
   "cell_type": "code",
   "execution_count": null,
   "id": "a9e3021e",
   "metadata": {},
   "outputs": [],
   "source": []
  }
 ],
 "metadata": {
  "kernelspec": {
   "display_name": "Python 3 (ipykernel)",
   "language": "python",
   "name": "python3"
  },
  "language_info": {
   "codemirror_mode": {
    "name": "ipython",
    "version": 3
   },
   "file_extension": ".py",
   "mimetype": "text/x-python",
   "name": "python",
   "nbconvert_exporter": "python",
   "pygments_lexer": "ipython3",
   "version": "3.9.12"
  }
 },
 "nbformat": 4,
 "nbformat_minor": 5
}
