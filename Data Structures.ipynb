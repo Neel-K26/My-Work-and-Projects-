{
 "cells": [
  {
   "cell_type": "code",
   "execution_count": 2,
   "id": "2092e045",
   "metadata": {},
   "outputs": [
    {
     "data": {
      "text/plain": [
       "list"
      ]
     },
     "execution_count": 2,
     "metadata": {},
     "output_type": "execute_result"
    }
   ],
   "source": [
    "#Data Structures\n",
    "#List\n",
    "lang=['Mar','Urd','San','Guj','Hin']\n",
    "type(lang)"
   ]
  },
  {
   "cell_type": "code",
   "execution_count": 3,
   "id": "19f888d3",
   "metadata": {},
   "outputs": [
    {
     "data": {
      "text/plain": [
       "list"
      ]
     },
     "execution_count": 3,
     "metadata": {},
     "output_type": "execute_result"
    }
   ],
   "source": [
    "days=['blue','Red','yellow','Rainbow']\n",
    "type(days)"
   ]
  },
  {
   "cell_type": "code",
   "execution_count": 4,
   "id": "0b092c33",
   "metadata": {},
   "outputs": [
    {
     "name": "stdout",
     "output_type": "stream",
     "text": [
      "['blue', 'Red', 'yellow', 'Rainbow']\n"
     ]
    }
   ],
   "source": [
    "print(days)"
   ]
  },
  {
   "cell_type": "code",
   "execution_count": 5,
   "id": "a5922ead",
   "metadata": {},
   "outputs": [
    {
     "name": "stdout",
     "output_type": "stream",
     "text": [
      "['Mar', 'Urd', 'San', 'Guj', 'Hin']\n"
     ]
    }
   ],
   "source": [
    "print(lang)"
   ]
  },
  {
   "cell_type": "code",
   "execution_count": 6,
   "id": "21ea8cd8",
   "metadata": {},
   "outputs": [
    {
     "name": "stdout",
     "output_type": "stream",
     "text": [
      "yellow\n"
     ]
    }
   ],
   "source": [
    "print(days[2])                #Indexing the List By Position of the Element"
   ]
  },
  {
   "cell_type": "code",
   "execution_count": 8,
   "id": "16329a39",
   "metadata": {},
   "outputs": [
    {
     "name": "stdout",
     "output_type": "stream",
     "text": [
      "Hin\n"
     ]
    }
   ],
   "source": [
    "print(lang[4])"
   ]
  },
  {
   "cell_type": "code",
   "execution_count": 9,
   "id": "1c075476",
   "metadata": {},
   "outputs": [
    {
     "data": {
      "text/plain": [
       "'Urd'"
      ]
     },
     "execution_count": 9,
     "metadata": {},
     "output_type": "execute_result"
    }
   ],
   "source": [
    "lang[1]                       #Alternating Way of Indexing"
   ]
  },
  {
   "cell_type": "code",
   "execution_count": 10,
   "id": "50fc0946",
   "metadata": {},
   "outputs": [
    {
     "data": {
      "text/plain": [
       "'yellow'"
      ]
     },
     "execution_count": 10,
     "metadata": {},
     "output_type": "execute_result"
    }
   ],
   "source": [
    "days[2]"
   ]
  },
  {
   "cell_type": "code",
   "execution_count": 11,
   "id": "9eaa6177",
   "metadata": {},
   "outputs": [
    {
     "name": "stdout",
     "output_type": "stream",
     "text": [
      "['blue', 'Red', 'yellow', 'Rainbow']\n"
     ]
    }
   ],
   "source": [
    "print(days)"
   ]
  },
  {
   "cell_type": "code",
   "execution_count": 16,
   "id": "262e07d2",
   "metadata": {},
   "outputs": [
    {
     "name": "stdout",
     "output_type": "stream",
     "text": [
      "Rainbow\n"
     ]
    }
   ],
   "source": [
    "print(days[-1])"
   ]
  },
  {
   "cell_type": "code",
   "execution_count": 15,
   "id": "cd10f1a7",
   "metadata": {},
   "outputs": [
    {
     "name": "stdout",
     "output_type": "stream",
     "text": [
      "Guj\n"
     ]
    }
   ],
   "source": [
    "print(lang[-2])"
   ]
  },
  {
   "cell_type": "code",
   "execution_count": 18,
   "id": "3a8a1b4b",
   "metadata": {},
   "outputs": [
    {
     "data": {
      "text/plain": [
       "list"
      ]
     },
     "execution_count": 18,
     "metadata": {},
     "output_type": "execute_result"
    }
   ],
   "source": [
    "months=[31,[28,29],30,31,30,31,30]\n",
    "type(months)"
   ]
  },
  {
   "cell_type": "markdown",
   "id": "a8f999b8",
   "metadata": {},
   "source": [
    "months[1][0]"
   ]
  },
  {
   "cell_type": "code",
   "execution_count": 20,
   "id": "57dad3c0",
   "metadata": {},
   "outputs": [
    {
     "data": {
      "text/plain": [
       "[28, 29]"
      ]
     },
     "execution_count": 20,
     "metadata": {},
     "output_type": "execute_result"
    }
   ],
   "source": [
    "months[1]"
   ]
  },
  {
   "cell_type": "code",
   "execution_count": 21,
   "id": "5a76b686",
   "metadata": {},
   "outputs": [
    {
     "data": {
      "text/plain": [
       "[45, 67, 83, 92]"
      ]
     },
     "execution_count": 21,
     "metadata": {},
     "output_type": "execute_result"
    }
   ],
   "source": [
    "#Slicing The List\n",
    "num=[19,26,45,67,83,92]\n",
    "num[2:6]"
   ]
  },
  {
   "cell_type": "code",
   "execution_count": 22,
   "id": "f959b9e6",
   "metadata": {},
   "outputs": [
    {
     "data": {
      "text/plain": [
       "[45, 67, 83, 92]"
      ]
     },
     "execution_count": 22,
     "metadata": {},
     "output_type": "execute_result"
    }
   ],
   "source": [
    "num[2:]"
   ]
  },
  {
   "cell_type": "code",
   "execution_count": 23,
   "id": "cba6c5e1",
   "metadata": {},
   "outputs": [
    {
     "data": {
      "text/plain": [
       "[19, 26, 45, 67, 83]"
      ]
     },
     "execution_count": 23,
     "metadata": {},
     "output_type": "execute_result"
    }
   ],
   "source": [
    "num[:5]"
   ]
  },
  {
   "cell_type": "code",
   "execution_count": 24,
   "id": "f8dedcff",
   "metadata": {},
   "outputs": [
    {
     "data": {
      "text/plain": [
       "[19, 26, 45, 67, 83, 92]"
      ]
     },
     "execution_count": 24,
     "metadata": {},
     "output_type": "execute_result"
    }
   ],
   "source": [
    "num[:]"
   ]
  },
  {
   "cell_type": "code",
   "execution_count": 25,
   "id": "b6cb0764",
   "metadata": {},
   "outputs": [
    {
     "name": "stdout",
     "output_type": "stream",
     "text": [
      "['H', 'N', 'O', 'He', 'K', 'Si', 'F']\n"
     ]
    }
   ],
   "source": [
    "#Replacing the Set of Elements\n",
    "metals=['H','N','O','He','K','Si','F']\n",
    "print(metals)"
   ]
  },
  {
   "cell_type": "code",
   "execution_count": 32,
   "id": "2b4be34d",
   "metadata": {},
   "outputs": [
    {
     "name": "stdout",
     "output_type": "stream",
     "text": [
      "['H', 'N', 'Na', 'Si', 'K', 'Si', 'F']\n"
     ]
    }
   ],
   "source": [
    "metals[2:4]=['Na','Si']\n",
    "print(metals)"
   ]
  },
  {
   "cell_type": "code",
   "execution_count": 33,
   "id": "66a120e3",
   "metadata": {},
   "outputs": [
    {
     "data": {
      "text/plain": [
       "False"
      ]
     },
     "execution_count": 33,
     "metadata": {},
     "output_type": "execute_result"
    }
   ],
   "source": [
    "'O' in metals                      #In Operator(To find the Element)"
   ]
  },
  {
   "cell_type": "code",
   "execution_count": 34,
   "id": "0da1caf2",
   "metadata": {},
   "outputs": [
    {
     "data": {
      "text/plain": [
       "False"
      ]
     },
     "execution_count": 34,
     "metadata": {},
     "output_type": "execute_result"
    }
   ],
   "source": [
    "'He' in metals"
   ]
  },
  {
   "cell_type": "code",
   "execution_count": 36,
   "id": "06cba403",
   "metadata": {},
   "outputs": [
    {
     "data": {
      "text/plain": [
       "True"
      ]
     },
     "execution_count": 36,
     "metadata": {},
     "output_type": "execute_result"
    }
   ],
   "source": [
    "\"Na\" in metals"
   ]
  },
  {
   "cell_type": "code",
   "execution_count": 38,
   "id": "31dc5446",
   "metadata": {},
   "outputs": [
    {
     "name": "stdout",
     "output_type": "stream",
     "text": [
      "['H', 'Si', 'K', 'Si', 'F']\n"
     ]
    }
   ],
   "source": [
    "#Deleting Elements\n",
    "del metals[1]\n",
    "print(metals)"
   ]
  },
  {
   "cell_type": "code",
   "execution_count": 39,
   "id": "34eb58e9",
   "metadata": {},
   "outputs": [
    {
     "name": "stdout",
     "output_type": "stream",
     "text": [
      "['H', 'Si', 'F']\n"
     ]
    }
   ],
   "source": [
    "del metals[1:3]\n",
    "print(metals)"
   ]
  },
  {
   "cell_type": "code",
   "execution_count": 43,
   "id": "d0b53bae",
   "metadata": {},
   "outputs": [
    {
     "name": "stdout",
     "output_type": "stream",
     "text": [
      "['Si', 'Pb']\n"
     ]
    }
   ],
   "source": [
    "metals=['H','O','Si','Pb']\n",
    "del metals [0:2]\n",
    "print(metals)\n"
   ]
  },
  {
   "cell_type": "code",
   "execution_count": 44,
   "id": "5122e37a",
   "metadata": {},
   "outputs": [
    {
     "data": {
      "text/plain": [
       "[1, 7, 5, 3, 9, 1, 7, 5, 3, 9]"
      ]
     },
     "execution_count": 44,
     "metadata": {},
     "output_type": "execute_result"
    }
   ],
   "source": [
    "num=[1,7,5,3,9]\n",
    "num*2"
   ]
  },
  {
   "cell_type": "code",
   "execution_count": 45,
   "id": "2436ad98",
   "metadata": {},
   "outputs": [
    {
     "data": {
      "text/plain": [
       "[1, 7, 5, 3, 9, 4, 8]"
      ]
     },
     "execution_count": 45,
     "metadata": {},
     "output_type": "execute_result"
    }
   ],
   "source": [
    "num+[4,8]"
   ]
  },
  {
   "cell_type": "code",
   "execution_count": 48,
   "id": "986dfa16",
   "metadata": {},
   "outputs": [
    {
     "name": "stdout",
     "output_type": "stream",
     "text": [
      "[1, 7, 5, 3, 9, 0, 9, 0, 9, 0, 9]\n"
     ]
    }
   ],
   "source": [
    "num += [0,9]\n",
    "print(num)"
   ]
  },
  {
   "cell_type": "code",
   "execution_count": 51,
   "id": "2a8fe7b7",
   "metadata": {},
   "outputs": [
    {
     "name": "stdout",
     "output_type": "stream",
     "text": [
      "753"
     ]
    }
   ],
   "source": [
    "#Iteration\n",
    "num=[7,2,5,3,6]\n",
    "for n in num:\n",
    "    if n % 2 !=0:\n",
    "        print(n,end='')\n",
    "        "
   ]
  },
  {
   "cell_type": "code",
   "execution_count": null,
   "id": "20f1c258",
   "metadata": {},
   "outputs": [],
   "source": []
  }
 ],
 "metadata": {
  "kernelspec": {
   "display_name": "Python 3 (ipykernel)",
   "language": "python",
   "name": "python3"
  },
  "language_info": {
   "codemirror_mode": {
    "name": "ipython",
    "version": 3
   },
   "file_extension": ".py",
   "mimetype": "text/x-python",
   "name": "python",
   "nbconvert_exporter": "python",
   "pygments_lexer": "ipython3",
   "version": "3.9.12"
  }
 },
 "nbformat": 4,
 "nbformat_minor": 5
}
