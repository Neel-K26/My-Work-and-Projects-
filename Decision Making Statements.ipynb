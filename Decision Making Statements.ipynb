{
 "cells": [
  {
   "cell_type": "code",
   "execution_count": 6,
   "id": "0584a170",
   "metadata": {},
   "outputs": [
    {
     "name": "stdout",
     "output_type": "stream",
     "text": [
      "Positive Number\n"
     ]
    }
   ],
   "source": [
    "#If Else\n",
    "num=23\n",
    "if num > 0:\n",
    "    print('Positive Number')\n",
    "else:\n",
    "    print('Negative Number')"
   ]
  },
  {
   "cell_type": "code",
   "execution_count": 11,
   "id": "e2947b47",
   "metadata": {},
   "outputs": [
    {
     "name": "stdout",
     "output_type": "stream",
     "text": [
      "It is Zero\n"
     ]
    }
   ],
   "source": [
    "#Elif (Intedition is compulsory)\n",
    "num= 0\n",
    "if num==0:    #Compulsory\n",
    "    print('It is Zero')\n",
    "elif num>0:   #Optional, Repeatable\n",
    "    print('Positive Number') \n",
    "else:         #Optional, Repeatable\n",
    "    print('Negative Number')"
   ]
  },
  {
   "cell_type": "code",
   "execution_count": 16,
   "id": "cd871c30",
   "metadata": {},
   "outputs": [
    {
     "name": "stdout",
     "output_type": "stream",
     "text": [
      "Enter the Number:26\n",
      "Even Number\n"
     ]
    }
   ],
   "source": [
    "#Program to find whether the no. is odd or even\n",
    "num=int(input('Enter the Number:'))\n",
    "if num==0:\n",
    "    print('It is Zero')\n",
    "elif num % 2==0:\n",
    "    print('Even Number')\n",
    "else:\n",
    "    print('Odd Number')\n"
   ]
  },
  {
   "cell_type": "code",
   "execution_count": null,
   "id": "b790913a",
   "metadata": {},
   "outputs": [],
   "source": [
    "#Nested If-Else\n",
    "#Program to find the largest Number\n",
    "num1= int(input('Enter First:'))\n",
    "num2= int(input('Enter Second:'))\n",
    "num3= int(input('Enter Third:'))\n",
    "if num1 > num3: \n",
    "    if num1  > num2:\n",
    "        print('largest is',num1)\n",
    "    else:\n",
    "        print('largest is',num3)\n",
    "else:\n",
    "    if num2 > num3:\n",
    "        print('largest is',num2)\n",
    "    else:\n",
    "        print('largest is',num3)"
   ]
  },
  {
   "cell_type": "code",
   "execution_count": 4,
   "id": "2c6e3fcf",
   "metadata": {},
   "outputs": [
    {
     "name": "stdout",
     "output_type": "stream",
     "text": [
      "Enter the marks:78\n",
      "Distinstion\n"
     ]
    }
   ],
   "source": [
    "marks =float(input('Enter the marks:'))\n",
    "if marks>= 75:\n",
    "    print('Distinstion')\n",
    "elif marks>=60:\n",
    "    print('First Class')\n",
    "elif marks>= 50:\n",
    "    print('Second Class')\n",
    "elif marks>=40:\n",
    "    print('Pass Class')\n",
    "else:\n",
    "     print('Failed')\n",
    "        "
   ]
  },
  {
   "cell_type": "code",
   "execution_count": 9,
   "id": "3ca54a17",
   "metadata": {},
   "outputs": [
    {
     "name": "stdout",
     "output_type": "stream",
     "text": [
      "Enter the Number: 5\n",
      "*Menu*\n",
      "1.Square\n",
      "2.Cube\n",
      "3.Odd\n",
      "4.+ve\n",
      "Enter the Number: 2\n",
      "Cube 125\n"
     ]
    }
   ],
   "source": [
    "#Menu Based Program\n",
    "num= int(input('Enter the Number: '))\n",
    "print(\"*Menu*\\n1.Square\\n2.Cube\\n3.Odd\\n4.+ve\")\n",
    "nk=int(input('Enter the Number: '))\n",
    "if nk==1:\n",
    "    print(\"Square\",num*num)\n",
    "elif nk==2:\n",
    "    print('Cube',num*num*num)\n",
    "elif nk==3:\n",
    "    if num%2==0:\n",
    "        print('Even')\n",
    "    else:\n",
    "        print('Odd')\n",
    "elif ch==4:\n",
    "    if num>0:\n",
    "        print(\"+ve\")\n",
    "    else:\n",
    "        print(\"-ve\")\n",
    "else:\n",
    "        print('Wrong Choice')\n"
   ]
  },
  {
   "cell_type": "code",
   "execution_count": null,
   "id": "631caac5",
   "metadata": {},
   "outputs": [],
   "source": []
  },
  {
   "cell_type": "code",
   "execution_count": null,
   "id": "d6320143",
   "metadata": {},
   "outputs": [],
   "source": []
  }
 ],
 "metadata": {
  "kernelspec": {
   "display_name": "Python 3 (ipykernel)",
   "language": "python",
   "name": "python3"
  },
  "language_info": {
   "codemirror_mode": {
    "name": "ipython",
    "version": 3
   },
   "file_extension": ".py",
   "mimetype": "text/x-python",
   "name": "python",
   "nbconvert_exporter": "python",
   "pygments_lexer": "ipython3",
   "version": "3.9.12"
  }
 },
 "nbformat": 4,
 "nbformat_minor": 5
}
