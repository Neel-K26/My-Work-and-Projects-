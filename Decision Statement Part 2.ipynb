{
 "cells": [
  {
   "cell_type": "code",
   "execution_count": 4,
   "id": "95b04eab",
   "metadata": {},
   "outputs": [
    {
     "name": "stdout",
     "output_type": "stream",
     "text": [
      "Enter the marks:98\n",
      "Distinstion\n"
     ]
    }
   ],
   "source": [
    "marks =float(input('Enter the marks:'))\n",
    "if marks>= 75:\n",
    "    print('Distinstion')\n",
    "elif marks>=60:\n",
    "    print('First Class')\n",
    "elif marks>= 50:\n",
    "    print('Second Class')\n",
    "elif marks>=40:\n",
    "    print('Pass Class')\n",
    "else:\n",
    "     print('Failed')"
   ]
  },
  {
   "cell_type": "code",
   "execution_count": 5,
   "id": "d75073f5",
   "metadata": {},
   "outputs": [
    {
     "name": "stdout",
     "output_type": "stream",
     "text": [
      "98\n"
     ]
    }
   ],
   "source": [
    "num=98\n",
    "print(num)"
   ]
  },
  {
   "cell_type": "code",
   "execution_count": null,
   "id": "68088920",
   "metadata": {},
   "outputs": [],
   "source": []
  },
  {
   "cell_type": "code",
   "execution_count": null,
   "id": "635a7173",
   "metadata": {},
   "outputs": [],
   "source": []
  }
 ],
 "metadata": {
  "kernelspec": {
   "display_name": "Python 3 (ipykernel)",
   "language": "python",
   "name": "python3"
  },
  "language_info": {
   "codemirror_mode": {
    "name": "ipython",
    "version": 3
   },
   "file_extension": ".py",
   "mimetype": "text/x-python",
   "name": "python",
   "nbconvert_exporter": "python",
   "pygments_lexer": "ipython3",
   "version": "3.9.12"
  }
 },
 "nbformat": 4,
 "nbformat_minor": 5
}
