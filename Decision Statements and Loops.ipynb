{
 "cells": [
  {
   "cell_type": "code",
   "execution_count": 6,
   "id": "0584a170",
   "metadata": {},
   "outputs": [
    {
     "name": "stdout",
     "output_type": "stream",
     "text": [
      "Positive Number\n"
     ]
    }
   ],
   "source": [
    "#If Else\n",
    "num=23\n",
    "if num > 0:\n",
    "    print('Positive Number')\n",
    "else:\n",
    "    print('Negative Number')"
   ]
  },
  {
   "cell_type": "code",
   "execution_count": 11,
   "id": "e2947b47",
   "metadata": {},
   "outputs": [
    {
     "name": "stdout",
     "output_type": "stream",
     "text": [
      "It is Zero\n"
     ]
    }
   ],
   "source": [
    "#Elif (Intedition is compulsory)\n",
    "num= 0\n",
    "if num==0:    #Compulsory\n",
    "    print('It is Zero')\n",
    "elif num>0:   #Optional, Repeatable\n",
    "    print('Positive Number') \n",
    "else:         #Optional, Repeatable\n",
    "    print('Negative Number')"
   ]
  },
  {
   "cell_type": "code",
   "execution_count": 16,
   "id": "cd871c30",
   "metadata": {},
   "outputs": [
    {
     "name": "stdout",
     "output_type": "stream",
     "text": [
      "Enter the Number:26\n",
      "Even Number\n"
     ]
    }
   ],
   "source": [
    "#Program to find whether the no. is odd or even\n",
    "num=int(input('Enter the Number:'))\n",
    "if num==0:\n",
    "    print('It is Zero')\n",
    "elif num % 2==0:\n",
    "    print('Even Number')\n",
    "else:\n",
    "    print('Odd Number')\n"
   ]
  },
  {
   "cell_type": "code",
   "execution_count": null,
   "id": "b790913a",
   "metadata": {},
   "outputs": [],
   "source": [
    "#Nested If-Else\n",
    "#Program to find the largest Number\n",
    "num1= int(input('Enter First:'))\n",
    "num2= int(input('Enter Second:'))\n",
    "num3= int(input('Enter Third:'))\n",
    "if num1 > num3: \n",
    "    if num1  > num2:\n",
    "        print('largest is',num1)\n",
    "    else:\n",
    "        print('largest is',num3)\n",
    "else:\n",
    "    if num2 > num3:\n",
    "        print('largest is',num2)\n",
    "    else:\n",
    "        print('largest is',num3)"
   ]
  },
  {
   "cell_type": "code",
   "execution_count": 4,
   "id": "2c6e3fcf",
   "metadata": {},
   "outputs": [
    {
     "name": "stdout",
     "output_type": "stream",
     "text": [
      "Enter the marks:78\n",
      "Distinstion\n"
     ]
    }
   ],
   "source": [
    "marks =float(input('Enter the marks:'))\n",
    "if marks>= 75:\n",
    "    print('Distinstion')\n",
    "elif marks>=60:\n",
    "    print('First Class')\n",
    "elif marks>= 50:\n",
    "    print('Second Class')\n",
    "elif marks>=40:\n",
    "    print('Pass Class')\n",
    "else:\n",
    "     print('Failed')\n",
    "        "
   ]
  },
  {
   "cell_type": "code",
   "execution_count": 9,
   "id": "3ca54a17",
   "metadata": {},
   "outputs": [
    {
     "name": "stdout",
     "output_type": "stream",
     "text": [
      "Enter the Number: 5\n",
      "*Menu*\n",
      "1.Square\n",
      "2.Cube\n",
      "3.Odd\n",
      "4.+ve\n",
      "Enter the Number: 2\n",
      "Cube 125\n"
     ]
    }
   ],
   "source": [
    "#Menu Based Program\n",
    "num= int(input('Enter the Number: '))\n",
    "print(\"*Menu*\\n1.Square\\n2.Cube\\n3.Odd\\n4.+ve\")\n",
    "nk=int(input('Enter the Number: '))\n",
    "if nk==1:\n",
    "    print(\"Square\",num*num)\n",
    "elif nk==2:\n",
    "    print('Cube',num*num*num)\n",
    "elif nk==3:\n",
    "    if num%2==0:\n",
    "        print('Even')\n",
    "    else:\n",
    "        print('Odd')\n",
    "elif ch==4:\n",
    "    if num>0:\n",
    "        print(\"+ve\")\n",
    "    else:\n",
    "        print(\"-ve\")\n",
    "else:\n",
    "        print('Wrong Choice')\n"
   ]
  },
  {
   "cell_type": "code",
   "execution_count": 9,
   "id": "631caac5",
   "metadata": {},
   "outputs": [
    {
     "name": "stdout",
     "output_type": "stream",
     "text": [
      "16784"
     ]
    }
   ],
   "source": [
    "#For Loops\n",
    "for n in 1,6,7,8,4:\n",
    "     print(n,end='')\n",
    "    "
   ]
  },
  {
   "cell_type": "code",
   "execution_count": 13,
   "id": "d6320143",
   "metadata": {},
   "outputs": [
    {
     "name": "stdout",
     "output_type": "stream",
     "text": [
      "136496416"
     ]
    }
   ],
   "source": [
    "for n in 1,6,7,8,4:   \n",
    "     print(n*n, end='')"
   ]
  },
  {
   "cell_type": "code",
   "execution_count": 15,
   "id": "20505a00",
   "metadata": {},
   "outputs": [
    {
     "name": "stdout",
     "output_type": "stream",
     "text": [
      "h233.1212"
     ]
    }
   ],
   "source": [
    "for n in 'h',23,3.12,12:\n",
    "    print(n,end='')"
   ]
  },
  {
   "cell_type": "code",
   "execution_count": 17,
   "id": "22791576",
   "metadata": {},
   "outputs": [
    {
     "data": {
      "text/plain": [
       "[0, 1, 2, 3, 4, 5, 6, 7, 8, 9]"
      ]
     },
     "execution_count": 17,
     "metadata": {},
     "output_type": "execute_result"
    }
   ],
   "source": [
    "#Range Function\n",
    "arr=range(10)\n",
    "list(arr)"
   ]
  },
  {
   "cell_type": "code",
   "execution_count": 18,
   "id": "ab59d068",
   "metadata": {},
   "outputs": [
    {
     "data": {
      "text/plain": [
       "[1, 2, 3, 4, 5]"
      ]
     },
     "execution_count": 18,
     "metadata": {},
     "output_type": "execute_result"
    }
   ],
   "source": [
    "arr=range(1,6)             #(Read as 1 to 6) which will always print(n-1) when in range\n",
    "list(arr)"
   ]
  },
  {
   "cell_type": "code",
   "execution_count": 19,
   "id": "4bf53f82",
   "metadata": {},
   "outputs": [
    {
     "data": {
      "text/plain": [
       "[1, 3, 5, 7, 9, 11]"
      ]
     },
     "execution_count": 19,
     "metadata": {},
     "output_type": "execute_result"
    }
   ],
   "source": [
    "arr=range(1,12,2)               #(Read as 1 to 12 with increment of 2 ie;(1,12,2))\n",
    "list(arr)                 "
   ]
  },
  {
   "cell_type": "code",
   "execution_count": 22,
   "id": "5791261c",
   "metadata": {},
   "outputs": [
    {
     "data": {
      "text/plain": [
       "[12, 10, 8, 6, 4, 2]"
      ]
     },
     "execution_count": 22,
     "metadata": {},
     "output_type": "execute_result"
    }
   ],
   "source": [
    "arr=range(12,1,-2)               #(Read as 1 to 12 with decrement of 2 ie;(1,12,-2))\n",
    "list(arr)                 "
   ]
  },
  {
   "cell_type": "code",
   "execution_count": 26,
   "id": "c973b408",
   "metadata": {},
   "outputs": [
    {
     "name": "stdout",
     "output_type": "stream",
     "text": [
      "0123456789"
     ]
    }
   ],
   "source": [
    "for x in range(10):\n",
    "     print(x,end='')"
   ]
  },
  {
   "cell_type": "code",
   "execution_count": 28,
   "id": "49a42007",
   "metadata": {},
   "outputs": [
    {
     "name": "stdout",
     "output_type": "stream",
     "text": [
      "13579"
     ]
    }
   ],
   "source": [
    "for x in range(1,10,2):\n",
    "      print(x,end='')"
   ]
  },
  {
   "cell_type": "code",
   "execution_count": 4,
   "id": "673e464d",
   "metadata": {},
   "outputs": [
    {
     "name": "stdout",
     "output_type": "stream",
     "text": [
      "I am NK"
     ]
    }
   ],
   "source": [
    "X = \"I am NK\"\n",
    "for data in X :\n",
    "    print(data,end='')"
   ]
  },
  {
   "cell_type": "code",
   "execution_count": 5,
   "id": "af18c01e",
   "metadata": {},
   "outputs": [
    {
     "name": "stdout",
     "output_type": "stream",
     "text": [
      "['Mar,Hin,Sans,Tel,Tam']\n"
     ]
    }
   ],
   "source": [
    "sol=['Mar,Hin,Sans,Tel,Tam']\n",
    "for name in sol:\n",
    "    print(sol)"
   ]
  },
  {
   "cell_type": "code",
   "execution_count": 6,
   "id": "70dd0176",
   "metadata": {},
   "outputs": [
    {
     "name": "stdout",
     "output_type": "stream",
     "text": [
      "0123456789Loop Ended\n"
     ]
    }
   ],
   "source": [
    "#Else statement in For Loop\n",
    "for x in range(10):\n",
    "    print(x,end ='')\n",
    "else:\n",
    "    print('Loop Ended')"
   ]
  },
  {
   "cell_type": "code",
   "execution_count": 9,
   "id": "7579ba4e",
   "metadata": {},
   "outputs": [
    {
     "name": "stdout",
     "output_type": "stream",
     "text": [
      "NK THE KING\n",
      "NK THE KING\n",
      "NK THE KING\n",
      "NK THE KING\n",
      "NK THE KING\n",
      "NK THE KING\n",
      "NK THE KING\n",
      "NK THE KING\n",
      "NK THE KING\n",
      "NK THE KING\n"
     ]
    }
   ],
   "source": [
    "for n in range(10):\n",
    "    print(\"NK THE KING\")"
   ]
  },
  {
   "cell_type": "code",
   "execution_count": 13,
   "id": "f7f5ab4a",
   "metadata": {},
   "outputs": [
    {
     "name": "stdout",
     "output_type": "stream",
     "text": [
      "SUM 55\n"
     ]
    }
   ],
   "source": [
    "#Addition of fisrt 10 Numbers using For Loop\n",
    "add=0\n",
    "for n in range(1,11):\n",
    "    add+=n\n",
    "else:\n",
    "    print(\"SUM\",add)"
   ]
  },
  {
   "cell_type": "code",
   "execution_count": 14,
   "id": "52499fc6",
   "metadata": {},
   "outputs": [
    {
     "name": "stdout",
     "output_type": "stream",
     "text": [
      "Sum: 100\n"
     ]
    }
   ],
   "source": [
    "#Addition of Odd Numbers 1 to 20 using For Loop\n",
    "add=0\n",
    "for n in range(1,21,2):\n",
    "    add += n\n",
    "else:\n",
    "    print('Sum:',add)"
   ]
  },
  {
   "cell_type": "code",
   "execution_count": 19,
   "id": "b71c6157",
   "metadata": {},
   "outputs": [
    {
     "name": "stdout",
     "output_type": "stream",
     "text": [
      "$\n",
      "$$\n",
      "$$$\n",
      "$$$$\n",
      "$$$$$\n"
     ]
    }
   ],
   "source": [
    "#Nesting of Loop\n",
    "for i in range(1,6):\n",
    "    for j in range(i):\n",
    "         print(\"$\",end='')\n",
    "    print()"
   ]
  },
  {
   "cell_type": "code",
   "execution_count": 25,
   "id": "b561878e",
   "metadata": {},
   "outputs": [],
   "source": [
    "#Break Statement\n",
    "for i in range(10):\n",
    "    if i==1:\n",
    "        break"
   ]
  },
  {
   "cell_type": "code",
   "execution_count": 29,
   "id": "48222792",
   "metadata": {},
   "outputs": [
    {
     "name": "stdout",
     "output_type": "stream",
     "text": [
      "13579"
     ]
    }
   ],
   "source": [
    "#Continue Statement\n",
    "for i in range(10):\n",
    "    if i%2==0:\n",
    "        continue\n",
    "    print(i,end= '')"
   ]
  },
  {
   "cell_type": "code",
   "execution_count": null,
   "id": "0a919849",
   "metadata": {},
   "outputs": [],
   "source": [
    "#Pass Statement\n",
    "while True:\n",
    "    pass"
   ]
  },
  {
   "cell_type": "code",
   "execution_count": null,
   "id": "6a2026f9",
   "metadata": {},
   "outputs": [],
   "source": []
  }
 ],
 "metadata": {
  "kernelspec": {
   "display_name": "Python 3 (ipykernel)",
   "language": "python",
   "name": "python3"
  },
  "language_info": {
   "codemirror_mode": {
    "name": "ipython",
    "version": 3
   },
   "file_extension": ".py",
   "mimetype": "text/x-python",
   "name": "python",
   "nbconvert_exporter": "python",
   "pygments_lexer": "ipython3",
   "version": "3.9.12"
  }
 },
 "nbformat": 4,
 "nbformat_minor": 5
}
