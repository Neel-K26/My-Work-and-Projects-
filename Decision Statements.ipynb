{
 "cells": [
  {
   "cell_type": "code",
   "execution_count": 6,
   "id": "0584a170",
   "metadata": {},
   "outputs": [
    {
     "name": "stdout",
     "output_type": "stream",
     "text": [
      "Positive Number\n"
     ]
    }
   ],
   "source": [
    "#If Else\n",
    "num=23\n",
    "if num > 0:\n",
    "    print('Positive Number')\n",
    "else:\n",
    "    print('Negative Number')"
   ]
  },
  {
   "cell_type": "code",
   "execution_count": 11,
   "id": "e2947b47",
   "metadata": {},
   "outputs": [
    {
     "name": "stdout",
     "output_type": "stream",
     "text": [
      "It is Zero\n"
     ]
    }
   ],
   "source": [
    "#Elif (Intedition is compulsory)\n",
    "num= 0\n",
    "if num==0:    #Compulsory\n",
    "    print('It is Zero')\n",
    "elif num>0:   #Optional, Repeatable\n",
    "    print('Positive Number') \n",
    "else:         #Optional, Repeatable\n",
    "    print('Negative Number')"
   ]
  },
  {
   "cell_type": "code",
   "execution_count": 16,
   "id": "cd871c30",
   "metadata": {},
   "outputs": [
    {
     "name": "stdout",
     "output_type": "stream",
     "text": [
      "Enter the Number:26\n",
      "Even Number\n"
     ]
    }
   ],
   "source": [
    "#Program to find whether the no. is odd or even\n",
    "num=int(input('Enter the Number:'))\n",
    "if num==0:\n",
    "    print('It is Zero')\n",
    "elif num % 2==0:\n",
    "    print('Even Number')\n",
    "else:\n",
    "    print('Odd Number')\n"
   ]
  },
  {
   "cell_type": "code",
   "execution_count": 29,
   "id": "b790913a",
   "metadata": {},
   "outputs": [
    {
     "name": "stdout",
     "output_type": "stream",
     "text": [
      "Enter First:19\n",
      "Enter Second:26\n",
      "Enter Third:2233\n",
      "largest is 2233\n"
     ]
    }
   ],
   "source": [
    "#Nested If-Else\n",
    "#Program to find the largest Number\n",
    "num1= int(input('Enter First:'))\n",
    "num2= int(input('Enter Second:'))\n",
    "num3= int(input('Enter Third:'))\n",
    "if num1 > num3: \n",
    "    if num1  > num2:\n",
    "        print('largest is',num1)\n",
    "    else:\n",
    "        print('largest is',num3)\n",
    "else:\n",
    "    if num2 > num3:\n",
    "        print('largest is',num2)\n",
    "    else:\n",
    "        print('largest is',num3)"
   ]
  },
  {
   "cell_type": "code",
   "execution_count": null,
   "id": "2c6e3fcf",
   "metadata": {},
   "outputs": [],
   "source": [
    "#Finding Year Is Leap Year Or Not\n",
    "year= int(input('Enter the year: '))\n",
    "if year % 4==0:\n",
    "    if year % 100==0:\n",
    "        if year % 400==0:\n",
    "            print('Leap')\n",
    "        else:\n",
    "            print('Not Leap')\n",
    "    else:\n",
    "        print('Leap')\n",
    "else:\n",
    "    print('Not Leap')\n",
    "        "
   ]
  },
  {
   "cell_type": "code",
   "execution_count": null,
   "id": "3ca54a17",
   "metadata": {},
   "outputs": [],
   "source": [
    "num1=98\n",
    "print(num)"
   ]
  },
  {
   "cell_type": "code",
   "execution_count": null,
   "id": "631caac5",
   "metadata": {},
   "outputs": [],
   "source": []
  },
  {
   "cell_type": "code",
   "execution_count": null,
   "id": "d6320143",
   "metadata": {},
   "outputs": [],
   "source": []
  }
 ],
 "metadata": {
  "kernelspec": {
   "display_name": "Python 3 (ipykernel)",
   "language": "python",
   "name": "python3"
  },
  "language_info": {
   "codemirror_mode": {
    "name": "ipython",
    "version": 3
   },
   "file_extension": ".py",
   "mimetype": "text/x-python",
   "name": "python",
   "nbconvert_exporter": "python",
   "pygments_lexer": "ipython3",
   "version": "3.9.12"
  }
 },
 "nbformat": 4,
 "nbformat_minor": 5
}
