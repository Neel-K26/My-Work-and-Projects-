{
 "cells": [
  {
   "cell_type": "code",
   "execution_count": 5,
   "id": "d77a7076",
   "metadata": {},
   "outputs": [],
   "source": [
    "import pandas as pd\n",
    "import numpy as np\n",
    "import matplotlib.pyplot as plt\n",
    "from scipy.cluster.hierarchy import dendrogram\n",
    "from sklearn.datasets import load_iris\n",
    "from sklearn.cluster import AgglomerativeClustering"
   ]
  },
  {
   "cell_type": "code",
   "execution_count": 41,
   "id": "d811b10f",
   "metadata": {},
   "outputs": [],
   "source": [
    " def plot_dendrogram(model,**kwargs):\n",
    "        # linkage matrix---> dendrogram\n",
    "        # counts of  samples under each node\n",
    "        counts= np.zeros(model.children_.shape[0])\n",
    "        n_samples=len(model.labels_)\n",
    "        for i, merge in enumerate(model.children_):\n",
    "            current_count=0\n",
    "        for child_idx in merge:\n",
    "            if child_idx<n_samples:\n",
    "                current_count+=1 # leaf node\n",
    "            else:\n",
    "                    current_count+= counts[child_idx-n_samples]\n",
    "                    counts[i]=current_count\n",
    "                    linkage_matrix=np.column_stack(\n",
    "                    [model.children_,model.distances_,counts]\n",
    "                ).astype(float)\n",
    "                   \n",
    "                    dendrogram(linkage_matrix, **kwargs)"
   ]
  },
  {
   "cell_type": "code",
   "execution_count": 42,
   "id": "b8cc721c",
   "metadata": {},
   "outputs": [],
   "source": [
    "iris= load_iris()"
   ]
  },
  {
   "cell_type": "code",
   "execution_count": 43,
   "id": "8e305cb5",
   "metadata": {},
   "outputs": [],
   "source": [
    "X= iris.data"
   ]
  },
  {
   "cell_type": "code",
   "execution_count": 44,
   "id": "19f6bda4",
   "metadata": {},
   "outputs": [],
   "source": [
    "model= AgglomerativeClustering(distance_threshold=0,n_clusters= None)\n"
   ]
  },
  {
   "cell_type": "code",
   "execution_count": 45,
   "id": "eaa9c442",
   "metadata": {},
   "outputs": [
    {
     "data": {
      "text/plain": [
       "AgglomerativeClustering(distance_threshold=0, n_clusters=None)"
      ]
     },
     "execution_count": 45,
     "metadata": {},
     "output_type": "execute_result"
    }
   ],
   "source": [
    "model.fit(X)"
   ]
  },
  {
   "cell_type": "code",
   "execution_count": 46,
   "id": "01db3e1e",
   "metadata": {},
   "outputs": [
    {
     "data": {
      "image/png": "[encoded data removed]",
      "text/plain": [
       "<Figure size 432x288 with 1 Axes>"
      ]
     },
     "metadata": {
      "needs_background": "light"
     },
     "output_type": "display_data"
    }
   ],
   "source": [
    "plot_dendrogram(model,truncate_mode ='level', p=3)\n",
    "plt.xlabel('no of points in a node or index of a point if there is no pranthesis')\n",
    "plt.show()"
   ]
  },
  {
   "cell_type": "code",
   "execution_count": null,
   "id": "8f092aba",
   "metadata": {},
   "outputs": [],
   "source": []
  }
 ],
 "metadata": {
  "kernelspec": {
   "display_name": "Python 3 (ipykernel)",
   "language": "python",
   "name": "python3"
  },
  "language_info": {
   "codemirror_mode": {
    "name": "ipython",
    "version": 3
   },
   "file_extension": ".py",
   "mimetype": "text/x-python",
   "name": "python",
   "nbconvert_exporter": "python",
   "pygments_lexer": "ipython3",
   "version": "3.9.12"
  }
 },
 "nbformat": 4,
 "nbformat_minor": 5
}
