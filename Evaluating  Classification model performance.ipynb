{
 "cells": [
  {
   "cell_type": "code",
   "execution_count": 1,
   "id": "d40556d2",
   "metadata": {},
   "outputs": [],
   "source": [
    "import pandas as pd\n",
    "import numpy as np\n",
    "import matplotlib.pyplot as plt"
   ]
  },
  {
   "cell_type": "code",
   "execution_count": 2,
   "id": "de3aed24",
   "metadata": {},
   "outputs": [
    {
     "data": {
      "text/plain": [
       "' 1) Classification accuracy \\n    2) Logarithmic loss\\n    3) Area under curve \\n    4) Confusion Matrix \\n    5) Classification Report'"
      ]
     },
     "execution_count": 2,
     "metadata": {},
     "output_type": "execute_result"
    }
   ],
   "source": [
    " # these agorithms are to evaluate the accuracy of the model\n",
    "''' 1) Classification accuracy \n",
    "     2) Logarithmic loss\n",
    "     3) Area under curve \n",
    "     4) Confusion Matrix \n",
    "     5) Classification Report'''"
   ]
  },
  {
   "cell_type": "code",
   "execution_count": null,
   "id": "4cdb93ac",
   "metadata": {},
   "outputs": [],
   "source": []
  }
 ],
 "metadata": {
  "kernelspec": {
   "display_name": "Python 3 (ipykernel)",
   "language": "python",
   "name": "python3"
  },
  "language_info": {
   "codemirror_mode": {
    "name": "ipython",
    "version": 3
   },
   "file_extension": ".py",
   "mimetype": "text/x-python",
   "name": "python",
   "nbconvert_exporter": "python",
   "pygments_lexer": "ipython3",
   "version": "3.9.12"
  }
 },
 "nbformat": 4,
 "nbformat_minor": 5
}
