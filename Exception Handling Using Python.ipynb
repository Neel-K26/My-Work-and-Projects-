{
 "cells": [
  {
   "cell_type": "code",
   "execution_count": 1,
   "id": "88812bde",
   "metadata": {},
   "outputs": [
    {
     "name": "stdout",
     "output_type": "stream",
     "text": [
      "Enter the first :19\n",
      "Enter the Second :26\n",
      "Division is : 0.7307692307692307\n"
     ]
    }
   ],
   "source": [
    "num1= int(input(\"Enter the first :\"))\n",
    "num2= int(input(\"Enter the Second :\"))\n",
    "result=num1/num2\n",
    "print('Division is :',result)\n",
    "    "
   ]
  },
  {
   "cell_type": "code",
   "execution_count": 2,
   "id": "4060d1dd",
   "metadata": {},
   "outputs": [
    {
     "name": "stdout",
     "output_type": "stream",
     "text": [
      "Enter the first :12\n",
      "Enter the Second :0\n",
      "Denominator is Zero\n",
      "Division is : 12\n"
     ]
    }
   ],
   "source": [
    "#Try and except\n",
    "a= int(input(\"Enter the first :\"))\n",
    "b= int(input(\"Enter the Second :\"))\n",
    "try:\n",
    "    a= a/b\n",
    "except ZeroDivisionError:\n",
    "    print(\"Denominator is Zero\")\n",
    "    exit(0)\n",
    "    print('Division is :',a)"
   ]
  },
  {
   "cell_type": "markdown",
   "id": "c64d6809",
   "metadata": {},
   "source": []
  },
  {
   "cell_type": "code",
   "execution_count": 2,
   "id": "01fd8f47",
   "metadata": {},
   "outputs": [
    {
     "name": "stdout",
     "output_type": "stream",
     "text": [
      "Enter the first :0\n",
      "Enter the Second :5\n"
     ]
    }
   ],
   "source": [
    "#Still & uncaught\n",
    "#Try and except\n",
    "a= int(input(\"Enter the first :\"))\n",
    "b= int(input(\"Enter the Second :\"))\n",
    "try:\n",
    "    a= a/b\n",
    "except ZeroDivisionError:\n",
    "    print(\"Denominator is Zero\")\n",
    "    exit(0)\n",
    "    print('Division is :',a)"
   ]
  },
  {
   "cell_type": "code",
   "execution_count": 15,
   "id": "68c5fed2",
   "metadata": {},
   "outputs": [
    {
     "name": "stdout",
     "output_type": "stream",
     "text": [
      "Enter the first :23\n",
      "Enter the Second :4\n",
      "Division is 5.75\n"
     ]
    }
   ],
   "source": [
    "#Multiple Exceptions\n",
    "try:\n",
    "    a= int(input(\"Enter the first :\"))\n",
    "    b= int(input(\"Enter the Second :\"))\n",
    "    a=a/b\n",
    "\n",
    "except ZeroDivisionError:\n",
    "    print(\"Denominator is Zero\")\n",
    "    exit(0)\n",
    "    exit(0)\n",
    "except ValueError :\n",
    "    print('Enter Proper Values')\n",
    "    exit(0)\n",
    "print('Division is',a)\n",
    "    "
   ]
  },
  {
   "cell_type": "code",
   "execution_count": 1,
   "id": "bd50a97d",
   "metadata": {},
   "outputs": [
    {
     "name": "stdout",
     "output_type": "stream",
     "text": [
      "Enter the first:  34\n",
      "Enter the Second: 8\n",
      "Division is: 4.25\n"
     ]
    }
   ],
   "source": [
    "#Handling all Exceptions\n",
    "try:\n",
    "    a= int(input(\"Enter the first:  \"))\n",
    "    b= int(input(\"Enter the Second: \"))\n",
    "    a=a/b\n",
    "except:\n",
    "    print('Error')\n",
    "    exit(0)\n",
    "print('Division is:',a)"
   ]
  },
  {
   "cell_type": "code",
   "execution_count": 4,
   "id": "7caf4f8a",
   "metadata": {},
   "outputs": [
    {
     "name": "stdout",
     "output_type": "stream",
     "text": [
      "Enter the first:  45\n",
      "Enter the Second: 0\n",
      "Error division by zero\n",
      "Division is: 45\n"
     ]
    }
   ],
   "source": [
    "#Handling Exception with Messages\n",
    "try:\n",
    "    a= int(input(\"Enter the first:  \"))\n",
    "    b= int(input(\"Enter the Second: \"))\n",
    "    a=a/b\n",
    "except Exception as e :\n",
    "    print('Error',e)\n",
    "    exit(0)\n",
    "print('Division is:',a)"
   ]
  },
  {
   "cell_type": "code",
   "execution_count": 3,
   "id": "4005b2d8",
   "metadata": {},
   "outputs": [
    {
     "name": "stdout",
     "output_type": "stream",
     "text": [
      "Enter the first:  56\n",
      "Enter the Second: 76\n",
      "Good Bye\n",
      "Division is: 0.7368421052631579\n"
     ]
    }
   ],
   "source": [
    "try:\n",
    "    a= int(input(\"Enter the first:  \"))\n",
    "    b= int(input(\"Enter the Second: \"))\n",
    "    a=a/b\n",
    "except ZeroDivisionError:\n",
    "    print(\"Denominator is Zero\")\n",
    "finally:\n",
    "    print('Good Bye')\n",
    "print('Division is:',a)"
   ]
  },
  {
   "cell_type": "code",
   "execution_count": 6,
   "id": "b966844b",
   "metadata": {},
   "outputs": [
    {
     "name": "stdout",
     "output_type": "stream",
     "text": [
      "Enter the first:  1\n",
      "Enter the Second: 0\n",
      "Denominator is Zero\n",
      "Good Bye\n"
     ]
    }
   ],
   "source": [
    "# try---except---else----finally\n",
    "try:\n",
    "    a= int(input(\"Enter the first:  \"))\n",
    "    b= int(input(\"Enter the Second: \"))\n",
    "    a=a/b\n",
    "except ZeroDivisionError:\n",
    "    print(\"Denominator is Zero\")\n",
    "else:\n",
    "    print('Division is:',a)\n",
    "finally:\n",
    "    print('Good Bye')    "
   ]
  },
  {
   "cell_type": "code",
   "execution_count": 16,
   "id": "5d188a37",
   "metadata": {},
   "outputs": [
    {
     "name": "stdout",
     "output_type": "stream",
     "text": [
      "Enter the number:  26\n",
      "Square is : 676\n"
     ]
    }
   ],
   "source": [
    "#Raising the expression\n",
    "num= int(input(\"Enter the number:  \"))\n",
    "if num>100:\n",
    "     raise exception('Large Number!!!')\n",
    "print('Square is :',num*num)"
   ]
  },
  {
   "cell_type": "code",
   "execution_count": null,
   "id": "794d69a0",
   "metadata": {},
   "outputs": [],
   "source": []
  }
 ],
 "metadata": {
  "kernelspec": {
   "display_name": "Python 3 (ipykernel)",
   "language": "python",
   "name": "python3"
  },
  "language_info": {
   "codemirror_mode": {
    "name": "ipython",
    "version": 3
   },
   "file_extension": ".py",
   "mimetype": "text/x-python",
   "name": "python",
   "nbconvert_exporter": "python",
   "pygments_lexer": "ipython3",
   "version": "3.9.7"
  }
 },
 "nbformat": 4,
 "nbformat_minor": 5
}
