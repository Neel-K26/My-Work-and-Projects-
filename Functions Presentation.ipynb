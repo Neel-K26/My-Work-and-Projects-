{
 "cells": [
  {
   "cell_type": "code",
   "execution_count": 4,
   "id": "9980d7c2",
   "metadata": {},
   "outputs": [
    {
     "name": "stdout",
     "output_type": "stream",
     "text": [
      "Nk World\n"
     ]
    }
   ],
   "source": [
    "#Sample Functions\n",
    "def show():\n",
    "    print('Nk World')\n",
    "show()"
   ]
  },
  {
   "cell_type": "code",
   "execution_count": 10,
   "id": "f9a8c0d1",
   "metadata": {},
   "outputs": [
    {
     "name": "stdout",
     "output_type": "stream",
     "text": [
      "Enter the Number26\n",
      "Square:  676\n",
      "Square:  361\n"
     ]
    }
   ],
   "source": [
    "def square(x):\n",
    "    y= x*x\n",
    "    print('Square: ',y)\n",
    "num=int(input('Enter the Number'))\n",
    "square(num)                                #Variable Argument\n",
    "square(19)                                 #Constant Argument"
   ]
  },
  {
   "cell_type": "code",
   "execution_count": 18,
   "id": "59bb28fe",
   "metadata": {},
   "outputs": [
    {
     "name": "stdout",
     "output_type": "stream",
     "text": [
      "Enter the Number26\n",
      "Square is 676\n",
      "Cube is 17576\n"
     ]
    }
   ],
   "source": [
    "num=int(input('Enter the Number'))\n",
    "def square(x):\n",
    "    y= x*x\n",
    "    return(y)\n",
    "def cube(x):\n",
    "    y= x*x*x\n",
    "    return(y)\n",
    "print('Square is',square (num))\n",
    "a=cube(num)\n",
    "print('Cube is',num*square(num))"
   ]
  },
  {
   "cell_type": "code",
   "execution_count": 23,
   "id": "2d6c91e7",
   "metadata": {},
   "outputs": [
    {
     "name": "stdout",
     "output_type": "stream",
     "text": [
      "Multi is 216\n",
      "Multi is 324\n",
      "Multi is 756\n",
      "Multi is 126\n",
      "Multi is 216\n"
     ]
    }
   ],
   "source": [
    "#Default Parameteres\n",
    "def mul(x=2,y=7,z=9):\n",
    "    result=x*y*z\n",
    "    return(result)\n",
    "print(\"Multi is\",mul(12,3,6))\n",
    "print(\"Multi is\",mul(12,3))\n",
    "print(\"Multi is\",mul(12))\n",
    "print(\"Multi is\",mul())\n",
    "print(\"Multi is\",mul(x=12,y=3,z=6))\n"
   ]
  },
  {
   "cell_type": "code",
   "execution_count": 25,
   "id": "7e020440",
   "metadata": {},
   "outputs": [
    {
     "name": "stdout",
     "output_type": "stream",
     "text": [
      "Addition is 12.25\n",
      "Average is 2.04\n"
     ]
    }
   ],
   "source": [
    "def array (n):\n",
    "    add=0\n",
    "    for x in n:\n",
    "        add+=x\n",
    "        avg=add/len(n)\n",
    "        return add,avg\n",
    "arr=[12.25,26,78,19,0,78]\n",
    "a,b=array(arr)\n",
    "print('Addition is',a)\n",
    "print('Average is %.2f'%b)"
   ]
  },
  {
   "cell_type": "code",
   "execution_count": 29,
   "id": "9b7a2696",
   "metadata": {},
   "outputs": [
    {
     "name": "stdout",
     "output_type": "stream",
     "text": [
      "Enter the Number26\n",
      "Factorial is 26\n"
     ]
    }
   ],
   "source": [
    "#Recursion\n",
    "def factorial(n):\n",
    "    if n<=1:\n",
    "        return(1)\n",
    "    else:\n",
    "            return(n*factorial(n-1))\n",
    "num= int(input(\"Enter the Number\"))\n",
    "print('Factorial is',(num))"
   ]
  },
  {
   "cell_type": "code",
   "execution_count": 31,
   "id": "f9fe5844",
   "metadata": {},
   "outputs": [
    {
     "name": "stdout",
     "output_type": "stream",
     "text": [
      "1\n",
      "2\n",
      "3\n",
      "x\n",
      "y\n",
      "11\n",
      "True\n"
     ]
    }
   ],
   "source": [
    "def show(*args):\n",
    "    for a in args:\n",
    "          print(a)\n",
    "show(1,2,3)\n",
    "show('x','y',11,True)"
   ]
  },
  {
   "cell_type": "code",
   "execution_count": 34,
   "id": "3df44119",
   "metadata": {},
   "outputs": [
    {
     "name": "stdout",
     "output_type": "stream",
     "text": [
      "name NK\n",
      "age 30\n",
      "pi 3.14\n"
     ]
    }
   ],
   "source": [
    "#Variable Length Arguments\n",
    "#Simple Function for Loop\n",
    "def display(**kwargs):\n",
    "     for a in kwargs:\n",
    "        print(a,kwargs[a])\n",
    "#Call The Function\n",
    "display(name='NK',age=30)\n",
    "display(pi=3.14)\n",
    "    "
   ]
  },
  {
   "cell_type": "code",
   "execution_count": 37,
   "id": "d7ebea56",
   "metadata": {},
   "outputs": [
    {
     "name": "stdout",
     "output_type": "stream",
     "text": [
      "676\n"
     ]
    }
   ],
   "source": [
    "print(square(26))\n",
    "square=lambda x:x**2"
   ]
  },
  {
   "cell_type": "code",
   "execution_count": 42,
   "id": "b47c6031",
   "metadata": {},
   "outputs": [
    {
     "name": "stdout",
     "output_type": "stream",
     "text": [
      "[8, 13]\n"
     ]
    }
   ],
   "source": [
    "seq=[0,1,2,3,5,8,13]\n",
    "result=(filter(lambda x:x>5,seq))\n",
    "print(list(result))"
   ]
  },
  {
   "cell_type": "code",
   "execution_count": 43,
   "id": "3aff521e",
   "metadata": {},
   "outputs": [
    {
     "name": "stdout",
     "output_type": "stream",
     "text": [
      "[0, 2, 8]\n"
     ]
    }
   ],
   "source": [
    "result=(filter(lambda x:x%2==0,seq))\n",
    "print(list(result))"
   ]
  },
  {
   "cell_type": "code",
   "execution_count": 45,
   "id": "ffc967db",
   "metadata": {},
   "outputs": [
    {
     "name": "stdout",
     "output_type": "stream",
     "text": [
      "[['s', 'a', 't'], ['c', 'a', 't'], ['m', 'a', 't'], ['b', 'a', 't']]\n"
     ]
    }
   ],
   "source": [
    "def square (n):\n",
    "    return n*n\n",
    "numbers=(1,2,3,4)\n",
    "result=map(square,numbers)\n",
    "l=['sat','cat','mat','bat']\n",
    "test= map (list,l)\n",
    "print(list(test))"
   ]
  },
  {
   "cell_type": "code",
   "execution_count": 53,
   "id": "26d3df6c",
   "metadata": {},
   "outputs": [],
   "source": [
    "n=0\n",
    "def add():\n",
    "    global c\n",
    "    c=c+2\n",
    "    print('inside add():',c)\n",
    "    add()\n",
    "    print('In Main',c)"
   ]
  },
  {
   "cell_type": "code",
   "execution_count": null,
   "id": "924961a8",
   "metadata": {},
   "outputs": [],
   "source": []
  }
 ],
 "metadata": {
  "kernelspec": {
   "display_name": "Python 3 (ipykernel)",
   "language": "python",
   "name": "python3"
  },
  "language_info": {
   "codemirror_mode": {
    "name": "ipython",
    "version": 3
   },
   "file_extension": ".py",
   "mimetype": "text/x-python",
   "name": "python",
   "nbconvert_exporter": "python",
   "pygments_lexer": "ipython3",
   "version": "3.9.12"
  }
 },
 "nbformat": 4,
 "nbformat_minor": 5
}
