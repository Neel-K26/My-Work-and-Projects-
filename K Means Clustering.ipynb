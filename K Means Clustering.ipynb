{
 "cells": [
  {
   "cell_type": "code",
   "execution_count": 4,
   "id": "0a01082c",
   "metadata": {},
   "outputs": [],
   "source": [
    "#K- Means Clustering\n",
    "import pandas as pd\n",
    "import numpy as np\n",
    "import matplotlib.pyplot as plt"
   ]
  },
  {
   "cell_type": "code",
   "execution_count": 5,
   "id": "01efb4af",
   "metadata": {},
   "outputs": [
    {
     "data": {
      "text/html": [
       "<div>\n",
       "<style scoped>\n",
       "    .dataframe tbody tr th:only-of-type {\n",
       "        vertical-align: middle;\n",
       "    }\n",
       "\n",
       "    .dataframe tbody tr th {\n",
       "        vertical-align: top;\n",
       "    }\n",
       "\n",
       "    .dataframe thead th {\n",
       "        text-align: right;\n",
       "    }\n",
       "</style>\n",
       "<table border=\"1\" class=\"dataframe\">\n",
       "  <thead>\n",
       "    <tr style=\"text-align: right;\">\n",
       "      <th></th>\n",
       "      <th>CustomerID</th>\n",
       "      <th>Genre</th>\n",
       "      <th>Age</th>\n",
       "      <th>Annual Income (k$)</th>\n",
       "      <th>Spending Score (1-100)</th>\n",
       "    </tr>\n",
       "  </thead>\n",
       "  <tbody>\n",
       "    <tr>\n",
       "      <th>0</th>\n",
       "      <td>1</td>\n",
       "      <td>Male</td>\n",
       "      <td>19</td>\n",
       "      <td>15</td>\n",
       "      <td>39</td>\n",
       "    </tr>\n",
       "    <tr>\n",
       "      <th>1</th>\n",
       "      <td>2</td>\n",
       "      <td>Male</td>\n",
       "      <td>21</td>\n",
       "      <td>15</td>\n",
       "      <td>81</td>\n",
       "    </tr>\n",
       "    <tr>\n",
       "      <th>2</th>\n",
       "      <td>3</td>\n",
       "      <td>Female</td>\n",
       "      <td>20</td>\n",
       "      <td>16</td>\n",
       "      <td>6</td>\n",
       "    </tr>\n",
       "    <tr>\n",
       "      <th>3</th>\n",
       "      <td>4</td>\n",
       "      <td>Female</td>\n",
       "      <td>23</td>\n",
       "      <td>16</td>\n",
       "      <td>77</td>\n",
       "    </tr>\n",
       "    <tr>\n",
       "      <th>4</th>\n",
       "      <td>5</td>\n",
       "      <td>Female</td>\n",
       "      <td>31</td>\n",
       "      <td>17</td>\n",
       "      <td>40</td>\n",
       "    </tr>\n",
       "    <tr>\n",
       "      <th>...</th>\n",
       "      <td>...</td>\n",
       "      <td>...</td>\n",
       "      <td>...</td>\n",
       "      <td>...</td>\n",
       "      <td>...</td>\n",
       "    </tr>\n",
       "    <tr>\n",
       "      <th>195</th>\n",
       "      <td>196</td>\n",
       "      <td>Female</td>\n",
       "      <td>35</td>\n",
       "      <td>120</td>\n",
       "      <td>79</td>\n",
       "    </tr>\n",
       "    <tr>\n",
       "      <th>196</th>\n",
       "      <td>197</td>\n",
       "      <td>Female</td>\n",
       "      <td>45</td>\n",
       "      <td>126</td>\n",
       "      <td>28</td>\n",
       "    </tr>\n",
       "    <tr>\n",
       "      <th>197</th>\n",
       "      <td>198</td>\n",
       "      <td>Male</td>\n",
       "      <td>32</td>\n",
       "      <td>126</td>\n",
       "      <td>74</td>\n",
       "    </tr>\n",
       "    <tr>\n",
       "      <th>198</th>\n",
       "      <td>199</td>\n",
       "      <td>Male</td>\n",
       "      <td>32</td>\n",
       "      <td>137</td>\n",
       "      <td>18</td>\n",
       "    </tr>\n",
       "    <tr>\n",
       "      <th>199</th>\n",
       "      <td>200</td>\n",
       "      <td>Male</td>\n",
       "      <td>30</td>\n",
       "      <td>137</td>\n",
       "      <td>83</td>\n",
       "    </tr>\n",
       "  </tbody>\n",
       "</table>\n",
       "<p>200 rows × 5 columns</p>\n",
       "</div>"
      ],
      "text/plain": [
       "     CustomerID   Genre  Age  Annual Income (k$)  Spending Score (1-100)\n",
       "0             1    Male   19                  15                      39\n",
       "1             2    Male   21                  15                      81\n",
       "2             3  Female   20                  16                       6\n",
       "3             4  Female   23                  16                      77\n",
       "4             5  Female   31                  17                      40\n",
       "..          ...     ...  ...                 ...                     ...\n",
       "195         196  Female   35                 120                      79\n",
       "196         197  Female   45                 126                      28\n",
       "197         198    Male   32                 126                      74\n",
       "198         199    Male   32                 137                      18\n",
       "199         200    Male   30                 137                      83\n",
       "\n",
       "[200 rows x 5 columns]"
      ]
     },
     "execution_count": 5,
     "metadata": {},
     "output_type": "execute_result"
    }
   ],
   "source": [
    "df=pd.read_csv('Mall_Customers.csv')\n",
    "df"
   ]
  },
  {
   "cell_type": "code",
   "execution_count": 7,
   "id": "9f888767",
   "metadata": {},
   "outputs": [
    {
     "data": {
      "text/html": [
       "<div>\n",
       "<style scoped>\n",
       "    .dataframe tbody tr th:only-of-type {\n",
       "        vertical-align: middle;\n",
       "    }\n",
       "\n",
       "    .dataframe tbody tr th {\n",
       "        vertical-align: top;\n",
       "    }\n",
       "\n",
       "    .dataframe thead th {\n",
       "        text-align: right;\n",
       "    }\n",
       "</style>\n",
       "<table border=\"1\" class=\"dataframe\">\n",
       "  <thead>\n",
       "    <tr style=\"text-align: right;\">\n",
       "      <th></th>\n",
       "      <th>CustomerID</th>\n",
       "      <th>Genre</th>\n",
       "      <th>Age</th>\n",
       "      <th>Annual Income (k$)</th>\n",
       "      <th>Spending Score (1-100)</th>\n",
       "    </tr>\n",
       "  </thead>\n",
       "  <tbody>\n",
       "    <tr>\n",
       "      <th>0</th>\n",
       "      <td>1</td>\n",
       "      <td>Male</td>\n",
       "      <td>19</td>\n",
       "      <td>15</td>\n",
       "      <td>39</td>\n",
       "    </tr>\n",
       "    <tr>\n",
       "      <th>1</th>\n",
       "      <td>2</td>\n",
       "      <td>Male</td>\n",
       "      <td>21</td>\n",
       "      <td>15</td>\n",
       "      <td>81</td>\n",
       "    </tr>\n",
       "    <tr>\n",
       "      <th>2</th>\n",
       "      <td>3</td>\n",
       "      <td>Female</td>\n",
       "      <td>20</td>\n",
       "      <td>16</td>\n",
       "      <td>6</td>\n",
       "    </tr>\n",
       "    <tr>\n",
       "      <th>3</th>\n",
       "      <td>4</td>\n",
       "      <td>Female</td>\n",
       "      <td>23</td>\n",
       "      <td>16</td>\n",
       "      <td>77</td>\n",
       "    </tr>\n",
       "    <tr>\n",
       "      <th>4</th>\n",
       "      <td>5</td>\n",
       "      <td>Female</td>\n",
       "      <td>31</td>\n",
       "      <td>17</td>\n",
       "      <td>40</td>\n",
       "    </tr>\n",
       "  </tbody>\n",
       "</table>\n",
       "</div>"
      ],
      "text/plain": [
       "   CustomerID   Genre  Age  Annual Income (k$)  Spending Score (1-100)\n",
       "0           1    Male   19                  15                      39\n",
       "1           2    Male   21                  15                      81\n",
       "2           3  Female   20                  16                       6\n",
       "3           4  Female   23                  16                      77\n",
       "4           5  Female   31                  17                      40"
      ]
     },
     "execution_count": 7,
     "metadata": {},
     "output_type": "execute_result"
    }
   ],
   "source": [
    "df.head()"
   ]
  },
  {
   "cell_type": "code",
   "execution_count": 8,
   "id": "e8e49d85",
   "metadata": {},
   "outputs": [
    {
     "data": {
      "text/plain": [
       "(200, 5)"
      ]
     },
     "execution_count": 8,
     "metadata": {},
     "output_type": "execute_result"
    }
   ],
   "source": [
    "df.shape"
   ]
  },
  {
   "cell_type": "code",
   "execution_count": 11,
   "id": "4094a05a",
   "metadata": {},
   "outputs": [],
   "source": [
    "x=df.iloc[:,[3,4]]"
   ]
  },
  {
   "cell_type": "code",
   "execution_count": 19,
   "id": "049303a6",
   "metadata": {},
   "outputs": [],
   "source": [
    "from sklearn.cluster import  KMeans\n"
   ]
  },
  {
   "cell_type": "code",
   "execution_count": 21,
   "id": "a5a6db3a",
   "metadata": {},
   "outputs": [
    {
     "data": {
      "text/plain": [
       "3749.693975468976"
      ]
     },
     "execution_count": 21,
     "metadata": {},
     "output_type": "execute_result"
    }
   ],
   "source": [
    "km=KMeans(n_clusters=34)\n",
    "labels=km.fit_predict(x)\n",
    "km.inertia_"
   ]
  },
  {
   "cell_type": "code",
   "execution_count": 23,
   "id": "f3449404",
   "metadata": {},
   "outputs": [
    {
     "name": "stderr",
     "output_type": "stream",
     "text": [
      "C:\\Users\\Admin\\anaconda3\\lib\\site-packages\\sklearn\\cluster\\_kmeans.py:881: UserWarning: KMeans is known to have a memory leak on Windows with MKL, when there are less chunks than available threads. You can avoid it by setting the environment variable OMP_NUM_THREADS=1.\n",
      "  warnings.warn(\n"
     ]
    }
   ],
   "source": [
    "sse=[]\n",
    "for k in range(1,16):\n",
    "    km=KMeans(n_clusters=k,random_state=0)\n",
    "    km.fit_predict(x)\n",
    "    sse.append(km.inertia_)\n",
    "\n"
   ]
  },
  {
   "cell_type": "code",
   "execution_count": 24,
   "id": "75773133",
   "metadata": {},
   "outputs": [
    {
     "data": {
      "text/plain": [
       "[269981.28000000014,\n",
       " 181363.59595959607,\n",
       " 106348.37306211119,\n",
       " 73679.78903948837,\n",
       " 44448.45544793369,\n",
       " 37265.86520484345,\n",
       " 30259.657207285458,\n",
       " 25095.703209997544,\n",
       " 21830.04197804944,\n",
       " 20736.67993892413,\n",
       " 17702.59593229628,\n",
       " 15810.838613705504,\n",
       " 14763.33040255821,\n",
       " 13165.329070181635,\n",
       " 12064.939000692288]"
      ]
     },
     "execution_count": 24,
     "metadata": {},
     "output_type": "execute_result"
    }
   ],
   "source": [
    "sse"
   ]
  },
  {
   "cell_type": "code",
   "execution_count": 26,
   "id": "b0e526af",
   "metadata": {},
   "outputs": [
    {
     "data": {
      "text/plain": [
       "[<matplotlib.lines.Line2D at 0x22a4c9d1700>]"
      ]
     },
     "execution_count": 26,
     "metadata": {},
     "output_type": "execute_result"
    },
    {
     "data": {
      "image/png": "[encoded data removed]",
      "text/plain": [
       "<Figure size 432x288 with 1 Axes>"
      ]
     },
     "metadata": {
      "needs_background": "light"
     },
     "output_type": "display_data"
    }
   ],
   "source": [
    "plt.title('Elbow Method')\n",
    "plt.xlabel('Value of K ')\n",
    "plt.ylabel('SSE')\n",
    "plt.grid()\n",
    "plt.xticks (range(1,16))\n",
    "plt.plot(range(1,16),sse,color='r',marker='o')"
   ]
  },
  {
   "cell_type": "code",
   "execution_count": 27,
   "id": "663f6c85",
   "metadata": {},
   "outputs": [],
   "source": [
    "from sklearn.metrics import silhouette_score"
   ]
  },
  {
   "cell_type": "code",
   "execution_count": 29,
   "id": "76937cf6",
   "metadata": {},
   "outputs": [],
   "source": [
    "silh=[]\n",
    "for k in range(2,16):\n",
    "    km=KMeans(n_clusters=k,random_state=0)\n",
    "    labels=km.fit_predict(x)\n",
    "    score=silhouette_score(x,labels)\n",
    "    silh.append(score)\n"
   ]
  },
  {
   "cell_type": "code",
   "execution_count": 33,
   "id": "cc1b5a3d",
   "metadata": {},
   "outputs": [
    {
     "data": {
      "text/plain": [
       "<BarContainer object of 14 artists>"
      ]
     },
     "execution_count": 33,
     "metadata": {},
     "output_type": "execute_result"
    },
    {
     "data": {
      "image/png": "[encoded data removed]",
      "text/plain": [
       "<Figure size 432x288 with 1 Axes>"
      ]
     },
     "metadata": {
      "needs_background": "light"
     },
     "output_type": "display_data"
    }
   ],
   "source": [
    "plt.title('Elbow Method')\n",
    "plt.xlabel('Value of K ')\n",
    "plt.ylabel('SSE')\n",
    "plt.grid()\n",
    "plt.bar(range(2,16),silh,color='b')"
   ]
  },
  {
   "cell_type": "code",
   "execution_count": 34,
   "id": "f16cd86e",
   "metadata": {},
   "outputs": [
    {
     "data": {
      "text/plain": [
       "array([4, 3, 4, 3, 4, 3, 4, 3, 4, 3, 4, 3, 4, 3, 4, 3, 4, 3, 4, 3, 4, 3,\n",
       "       4, 3, 4, 3, 4, 3, 4, 3, 4, 3, 4, 3, 4, 3, 4, 3, 4, 3, 4, 3, 4, 1,\n",
       "       4, 3, 1, 1, 1, 1, 1, 1, 1, 1, 1, 1, 1, 1, 1, 1, 1, 1, 1, 1, 1, 1,\n",
       "       1, 1, 1, 1, 1, 1, 1, 1, 1, 1, 1, 1, 1, 1, 1, 1, 1, 1, 1, 1, 1, 1,\n",
       "       1, 1, 1, 1, 1, 1, 1, 1, 1, 1, 1, 1, 1, 1, 1, 1, 1, 1, 1, 1, 1, 1,\n",
       "       1, 1, 1, 1, 1, 1, 1, 1, 1, 1, 1, 1, 1, 2, 0, 2, 1, 2, 0, 2, 0, 2,\n",
       "       1, 2, 0, 2, 0, 2, 0, 2, 0, 2, 1, 2, 0, 2, 0, 2, 0, 2, 0, 2, 0, 2,\n",
       "       0, 2, 0, 2, 0, 2, 0, 2, 0, 2, 0, 2, 0, 2, 0, 2, 0, 2, 0, 2, 0, 2,\n",
       "       0, 2, 0, 2, 0, 2, 0, 2, 0, 2, 0, 2, 0, 2, 0, 2, 0, 2, 0, 2, 0, 2,\n",
       "       0, 2])"
      ]
     },
     "execution_count": 34,
     "metadata": {},
     "output_type": "execute_result"
    }
   ],
   "source": [
    "km=KMeans(n_clusters=5,random_state=0)\n",
    "labels=km.fit_predict(x)\n",
    "labels"
   ]
  },
  {
   "cell_type": "code",
   "execution_count": 35,
   "id": "08537d6b",
   "metadata": {},
   "outputs": [
    {
     "data": {
      "text/plain": [
       "{0, 1, 2, 3, 4}"
      ]
     },
     "execution_count": 35,
     "metadata": {},
     "output_type": "execute_result"
    }
   ],
   "source": [
    "set(labels)"
   ]
  },
  {
   "cell_type": "code",
   "execution_count": 37,
   "id": "f159a77f",
   "metadata": {},
   "outputs": [
    {
     "data": {
      "text/plain": [
       "array([[88.2       , 17.11428571],\n",
       "       [55.2962963 , 49.51851852],\n",
       "       [86.53846154, 82.12820513],\n",
       "       [25.72727273, 79.36363636],\n",
       "       [26.30434783, 20.91304348]])"
      ]
     },
     "execution_count": 37,
     "metadata": {},
     "output_type": "execute_result"
    }
   ],
   "source": [
    "km.cluster_centers_"
   ]
  },
  {
   "cell_type": "code",
   "execution_count": 38,
   "id": "b67ff3ce",
   "metadata": {},
   "outputs": [],
   "source": [
    "centroid=km.cluster_centers_"
   ]
  },
  {
   "cell_type": "code",
   "execution_count": 40,
   "id": "8762e746",
   "metadata": {},
   "outputs": [
    {
     "data": {
      "text/plain": [
       "44448.45544793369"
      ]
     },
     "execution_count": 40,
     "metadata": {},
     "output_type": "execute_result"
    }
   ],
   "source": [
    "km.inertia_"
   ]
  },
  {
   "cell_type": "code",
   "execution_count": 43,
   "id": "414d83bb",
   "metadata": {},
   "outputs": [
    {
     "data": {
      "text/html": [
       "<div>\n",
       "<style scoped>\n",
       "    .dataframe tbody tr th:only-of-type {\n",
       "        vertical-align: middle;\n",
       "    }\n",
       "\n",
       "    .dataframe tbody tr th {\n",
       "        vertical-align: top;\n",
       "    }\n",
       "\n",
       "    .dataframe thead th {\n",
       "        text-align: right;\n",
       "    }\n",
       "</style>\n",
       "<table border=\"1\" class=\"dataframe\">\n",
       "  <thead>\n",
       "    <tr style=\"text-align: right;\">\n",
       "      <th></th>\n",
       "      <th>CustomerID</th>\n",
       "      <th>Genre</th>\n",
       "      <th>Age</th>\n",
       "      <th>Annual Income (k$)</th>\n",
       "      <th>Spending Score (1-100)</th>\n",
       "    </tr>\n",
       "  </thead>\n",
       "  <tbody>\n",
       "    <tr>\n",
       "      <th>0</th>\n",
       "      <td>1</td>\n",
       "      <td>Male</td>\n",
       "      <td>19</td>\n",
       "      <td>15</td>\n",
       "      <td>39</td>\n",
       "    </tr>\n",
       "    <tr>\n",
       "      <th>1</th>\n",
       "      <td>2</td>\n",
       "      <td>Male</td>\n",
       "      <td>21</td>\n",
       "      <td>15</td>\n",
       "      <td>81</td>\n",
       "    </tr>\n",
       "    <tr>\n",
       "      <th>2</th>\n",
       "      <td>3</td>\n",
       "      <td>Female</td>\n",
       "      <td>20</td>\n",
       "      <td>16</td>\n",
       "      <td>6</td>\n",
       "    </tr>\n",
       "    <tr>\n",
       "      <th>3</th>\n",
       "      <td>4</td>\n",
       "      <td>Female</td>\n",
       "      <td>23</td>\n",
       "      <td>16</td>\n",
       "      <td>77</td>\n",
       "    </tr>\n",
       "    <tr>\n",
       "      <th>4</th>\n",
       "      <td>5</td>\n",
       "      <td>Female</td>\n",
       "      <td>31</td>\n",
       "      <td>17</td>\n",
       "      <td>40</td>\n",
       "    </tr>\n",
       "  </tbody>\n",
       "</table>\n",
       "</div>"
      ],
      "text/plain": [
       "   CustomerID   Genre  Age  Annual Income (k$)  Spending Score (1-100)\n",
       "0           1    Male   19                  15                      39\n",
       "1           2    Male   21                  15                      81\n",
       "2           3  Female   20                  16                       6\n",
       "3           4  Female   23                  16                      77\n",
       "4           5  Female   31                  17                      40"
      ]
     },
     "execution_count": 43,
     "metadata": {},
     "output_type": "execute_result"
    }
   ],
   "source": [
    "df.head()"
   ]
  },
  {
   "cell_type": "code",
   "execution_count": 53,
   "id": "cb2ea0ee",
   "metadata": {},
   "outputs": [
    {
     "data": {
      "text/plain": [
       "<matplotlib.collections.PathCollection at 0x22a4ca6d610>"
      ]
     },
     "execution_count": 53,
     "metadata": {},
     "output_type": "execute_result"
    },
    {
     "data": {
      "image/png": "[encoded data removed]",
      "text/plain": [
       "<Figure size 432x288 with 2 Axes>"
      ]
     },
     "metadata": {
      "needs_background": "light"
     },
     "output_type": "display_data"
    }
   ],
   "source": [
    "plt.subplot(1,2,1)\n",
    "plt.title('Unlustered Data')\n",
    "plt.grid()\n",
    "plt.xlabel('Annual Income')\n",
    "plt.ylabel('Spending score')\n",
    "plt.scatter(x['Annual Income (k$)'],x['Spending Score (1-100)'],marker='.',c='r')\n",
    "\n",
    "\n",
    "\n",
    "plt.subplot(1,2,2)\n",
    "plt.title('Clustered Data')\n",
    "plt.grid()\n",
    "plt.xlabel('Annual Income')\n",
    "plt.ylabel('Spending score')\n",
    "plt.scatter(x['Annual Income (k$)'],x['Spending Score (1-100)'],marker='.',c=labels)\n",
    "\n",
    "plt.scatter(centroid[:,0],centroid[:,1],color='k',s=100)"
   ]
  },
  {
   "cell_type": "code",
   "execution_count": 54,
   "id": "dfe09508",
   "metadata": {},
   "outputs": [
    {
     "data": {
      "text/plain": [
       "1    81\n",
       "2    39\n",
       "0    35\n",
       "4    23\n",
       "3    22\n",
       "dtype: int64"
      ]
     },
     "execution_count": 54,
     "metadata": {},
     "output_type": "execute_result"
    }
   ],
   "source": [
    "pd.Series(labels).value_counts()"
   ]
  },
  {
   "cell_type": "code",
   "execution_count": 76,
   "id": "e60c3023",
   "metadata": {},
   "outputs": [],
   "source": [
    "three=df[labels==3]"
   ]
  },
  {
   "cell_type": "code",
   "execution_count": 77,
   "id": "b20286a7",
   "metadata": {},
   "outputs": [
    {
     "data": {
      "text/plain": [
       "22"
      ]
     },
     "execution_count": 77,
     "metadata": {},
     "output_type": "execute_result"
    }
   ],
   "source": [
    "len(three)"
   ]
  },
  {
   "cell_type": "code",
   "execution_count": 55,
   "id": "e482646e",
   "metadata": {},
   "outputs": [],
   "source": [
    "new1=[[34,78]]\n",
    "new2=[[23,45]]\n",
    "new3=[[71,94]]\n",
    "new4=[[51,49]]\n"
   ]
  },
  {
   "cell_type": "code",
   "execution_count": 56,
   "id": "3e02c6ea",
   "metadata": {},
   "outputs": [
    {
     "data": {
      "text/plain": [
       "array([3])"
      ]
     },
     "execution_count": 56,
     "metadata": {},
     "output_type": "execute_result"
    }
   ],
   "source": [
    "km.predict(new1)"
   ]
  },
  {
   "cell_type": "code",
   "execution_count": 57,
   "id": "28e3ab2e",
   "metadata": {},
   "outputs": [
    {
     "data": {
      "text/plain": [
       "array([4])"
      ]
     },
     "execution_count": 57,
     "metadata": {},
     "output_type": "execute_result"
    }
   ],
   "source": [
    "km.predict(new2)"
   ]
  },
  {
   "cell_type": "code",
   "execution_count": 58,
   "id": "dfcbcd32",
   "metadata": {},
   "outputs": [
    {
     "data": {
      "text/plain": [
       "array([2])"
      ]
     },
     "execution_count": 58,
     "metadata": {},
     "output_type": "execute_result"
    }
   ],
   "source": [
    "km.predict(new3)"
   ]
  },
  {
   "cell_type": "code",
   "execution_count": 59,
   "id": "431d0bf0",
   "metadata": {},
   "outputs": [
    {
     "data": {
      "text/plain": [
       "array([1])"
      ]
     },
     "execution_count": 59,
     "metadata": {},
     "output_type": "execute_result"
    }
   ],
   "source": [
    "km.predict(new4)"
   ]
  },
  {
   "cell_type": "code",
   "execution_count": 62,
   "id": "af42f3f7",
   "metadata": {},
   "outputs": [],
   "source": [
    "#Extract the Data\n",
    "one=df[labels==1]"
   ]
  },
  {
   "cell_type": "code",
   "execution_count": 63,
   "id": "60b3a74c",
   "metadata": {},
   "outputs": [],
   "source": [
    "one.to_csv('one.csv',index=False)"
   ]
  },
  {
   "cell_type": "code",
   "execution_count": 64,
   "id": "d89fb546",
   "metadata": {},
   "outputs": [
    {
     "data": {
      "text/html": [
       "<div>\n",
       "<style scoped>\n",
       "    .dataframe tbody tr th:only-of-type {\n",
       "        vertical-align: middle;\n",
       "    }\n",
       "\n",
       "    .dataframe tbody tr th {\n",
       "        vertical-align: top;\n",
       "    }\n",
       "\n",
       "    .dataframe thead th {\n",
       "        text-align: right;\n",
       "    }\n",
       "</style>\n",
       "<table border=\"1\" class=\"dataframe\">\n",
       "  <thead>\n",
       "    <tr style=\"text-align: right;\">\n",
       "      <th></th>\n",
       "      <th>CustomerID</th>\n",
       "      <th>Genre</th>\n",
       "      <th>Age</th>\n",
       "      <th>Annual Income (k$)</th>\n",
       "      <th>Spending Score (1-100)</th>\n",
       "    </tr>\n",
       "  </thead>\n",
       "  <tbody>\n",
       "    <tr>\n",
       "      <th>43</th>\n",
       "      <td>44</td>\n",
       "      <td>Female</td>\n",
       "      <td>31</td>\n",
       "      <td>39</td>\n",
       "      <td>61</td>\n",
       "    </tr>\n",
       "    <tr>\n",
       "      <th>46</th>\n",
       "      <td>47</td>\n",
       "      <td>Female</td>\n",
       "      <td>50</td>\n",
       "      <td>40</td>\n",
       "      <td>55</td>\n",
       "    </tr>\n",
       "    <tr>\n",
       "      <th>47</th>\n",
       "      <td>48</td>\n",
       "      <td>Female</td>\n",
       "      <td>27</td>\n",
       "      <td>40</td>\n",
       "      <td>47</td>\n",
       "    </tr>\n",
       "    <tr>\n",
       "      <th>48</th>\n",
       "      <td>49</td>\n",
       "      <td>Female</td>\n",
       "      <td>29</td>\n",
       "      <td>40</td>\n",
       "      <td>42</td>\n",
       "    </tr>\n",
       "    <tr>\n",
       "      <th>49</th>\n",
       "      <td>50</td>\n",
       "      <td>Female</td>\n",
       "      <td>31</td>\n",
       "      <td>40</td>\n",
       "      <td>42</td>\n",
       "    </tr>\n",
       "    <tr>\n",
       "      <th>...</th>\n",
       "      <td>...</td>\n",
       "      <td>...</td>\n",
       "      <td>...</td>\n",
       "      <td>...</td>\n",
       "      <td>...</td>\n",
       "    </tr>\n",
       "    <tr>\n",
       "      <th>121</th>\n",
       "      <td>122</td>\n",
       "      <td>Female</td>\n",
       "      <td>38</td>\n",
       "      <td>67</td>\n",
       "      <td>40</td>\n",
       "    </tr>\n",
       "    <tr>\n",
       "      <th>122</th>\n",
       "      <td>123</td>\n",
       "      <td>Female</td>\n",
       "      <td>40</td>\n",
       "      <td>69</td>\n",
       "      <td>58</td>\n",
       "    </tr>\n",
       "    <tr>\n",
       "      <th>126</th>\n",
       "      <td>127</td>\n",
       "      <td>Male</td>\n",
       "      <td>43</td>\n",
       "      <td>71</td>\n",
       "      <td>35</td>\n",
       "    </tr>\n",
       "    <tr>\n",
       "      <th>132</th>\n",
       "      <td>133</td>\n",
       "      <td>Female</td>\n",
       "      <td>25</td>\n",
       "      <td>72</td>\n",
       "      <td>34</td>\n",
       "    </tr>\n",
       "    <tr>\n",
       "      <th>142</th>\n",
       "      <td>143</td>\n",
       "      <td>Female</td>\n",
       "      <td>28</td>\n",
       "      <td>76</td>\n",
       "      <td>40</td>\n",
       "    </tr>\n",
       "  </tbody>\n",
       "</table>\n",
       "<p>81 rows × 5 columns</p>\n",
       "</div>"
      ],
      "text/plain": [
       "     CustomerID   Genre  Age  Annual Income (k$)  Spending Score (1-100)\n",
       "43           44  Female   31                  39                      61\n",
       "46           47  Female   50                  40                      55\n",
       "47           48  Female   27                  40                      47\n",
       "48           49  Female   29                  40                      42\n",
       "49           50  Female   31                  40                      42\n",
       "..          ...     ...  ...                 ...                     ...\n",
       "121         122  Female   38                  67                      40\n",
       "122         123  Female   40                  69                      58\n",
       "126         127    Male   43                  71                      35\n",
       "132         133  Female   25                  72                      34\n",
       "142         143  Female   28                  76                      40\n",
       "\n",
       "[81 rows x 5 columns]"
      ]
     },
     "execution_count": 64,
     "metadata": {},
     "output_type": "execute_result"
    }
   ],
   "source": [
    "df[labels==1]"
   ]
  },
  {
   "cell_type": "code",
   "execution_count": 67,
   "id": "bc037d1b",
   "metadata": {},
   "outputs": [
    {
     "data": {
      "text/plain": [
       "array([[ 5,  3],\n",
       "       [10, 15],\n",
       "       [15, 12],\n",
       "       [24, 10],\n",
       "       [30, 30],\n",
       "       [85, 70],\n",
       "       [71, 80],\n",
       "       [60, 78],\n",
       "       [70, 55],\n",
       "       [80, 91]])"
      ]
     },
     "execution_count": 67,
     "metadata": {},
     "output_type": "execute_result"
    }
   ],
   "source": [
    "#dendogram Visulisation\n",
    "import numpy as np\n",
    "x=np.array([[5,3],[10,15],[15,12],[24,10],[30,30],\n",
    "           [85,70],[71,80],[60,78],[70,55],[80,91]])\n",
    "x"
   ]
  },
  {
   "cell_type": "code",
   "execution_count": 71,
   "id": "a31e4ba2",
   "metadata": {},
   "outputs": [],
   "source": [
    "from scipy.cluster.hierarchy import dendrogram,linkage\n",
    "link_crit=linkage(x,'centroid')\n"
   ]
  },
  {
   "cell_type": "code",
   "execution_count": 74,
   "id": "5ac3b652",
   "metadata": {},
   "outputs": [
    {
     "data": {
      "text/plain": [
       "{'icoord': [[35.0, 35.0, 45.0, 45.0],\n",
       "  [25.0, 25.0, 40.0, 40.0],\n",
       "  [15.0, 15.0, 32.5, 32.5],\n",
       "  [5.0, 5.0, 23.75, 23.75],\n",
       "  [85.0, 85.0, 95.0, 95.0],\n",
       "  [75.0, 75.0, 90.0, 90.0],\n",
       "  [65.0, 65.0, 82.5, 82.5],\n",
       "  [55.0, 55.0, 73.75, 73.75],\n",
       "  [14.375, 14.375, 64.375, 64.375]],\n",
       " 'dcoord': [[0.0, 11.180339887498949, 11.180339887498949, 0.0],\n",
       "  [0.0, 18.82153022471871, 18.82153022471871, 11.180339887498949],\n",
       "  [0.0, 19.598752794785465, 19.598752794785465, 18.82153022471871],\n",
       "  [0.0, 25.0711487570873, 25.0711487570873, 19.598752794785465],\n",
       "  [0.0, 5.830951894845301, 5.830951894845301, 0.0],\n",
       "  [0.0, 12.020815280171307, 12.020815280171307, 5.830951894845301],\n",
       "  [0.0, 14.681810363696828, 14.681810363696828, 12.020815280171307],\n",
       "  [0.0, 25.927784324928346, 25.927784324928346, 14.681810363696828],\n",
       "  [25.0711487570873,\n",
       "   82.93129686674385,\n",
       "   82.93129686674385,\n",
       "   25.927784324928346]],\n",
       " 'ivl': [9, 6, 10, 7, 8, 5, 1, 4, 2, 3],\n",
       " 'leaves': [8, 5, 9, 6, 7, 4, 0, 3, 1, 2],\n",
       " 'color_list': ['C1', 'C1', 'C1', 'C1', 'C2', 'C2', 'C2', 'C2', 'C0'],\n",
       " 'leaves_color_list': ['C1',\n",
       "  'C1',\n",
       "  'C1',\n",
       "  'C1',\n",
       "  'C1',\n",
       "  'C2',\n",
       "  'C2',\n",
       "  'C2',\n",
       "  'C2',\n",
       "  'C2']}"
      ]
     },
     "execution_count": 74,
     "metadata": {},
     "output_type": "execute_result"
    },
    {
     "data": {
      "image/png": "[encoded data removed]",
      "text/plain": [
       "<Figure size 432x288 with 1 Axes>"
      ]
     },
     "metadata": {
      "needs_background": "light"
     },
     "output_type": "display_data"
    }
   ],
   "source": [
    "dendrogram(link_crit,labels=range(1,11),\n",
    "           show_leaf_counts=False)"
   ]
  },
  {
   "cell_type": "code",
   "execution_count": null,
   "id": "5f475232",
   "metadata": {},
   "outputs": [],
   "source": []
  }
 ],
 "metadata": {
  "kernelspec": {
   "display_name": "Python 3 (ipykernel)",
   "language": "python",
   "name": "python3"
  },
  "language_info": {
   "codemirror_mode": {
    "name": "ipython",
    "version": 3
   },
   "file_extension": ".py",
   "mimetype": "text/x-python",
   "name": "python",
   "nbconvert_exporter": "python",
   "pygments_lexer": "ipython3",
   "version": "3.9.7"
  }
 },
 "nbformat": 4,
 "nbformat_minor": 5
}
