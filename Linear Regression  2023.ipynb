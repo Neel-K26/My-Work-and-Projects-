{
 "cells": [
  {
   "cell_type": "code",
   "execution_count": 1,
   "id": "ae74d9bf",
   "metadata": {},
   "outputs": [],
   "source": [
    "# Sample heights in Cm\n",
    "X=[[151],[174],[138],[186],[128],[136],[179],[163],[152],[131]]"
   ]
  },
  {
   "cell_type": "code",
   "execution_count": 9,
   "id": "87357ebb",
   "metadata": {},
   "outputs": [],
   "source": [
    "# corresponding weights in Kg\n",
    "Y=[63,81,56,91,47,57,76,72,62,48]"
   ]
  },
  {
   "cell_type": "code",
   "execution_count": 10,
   "id": "0e9f8f4e",
   "metadata": {},
   "outputs": [],
   "source": [
    "from sklearn.linear_model import LinearRegression"
   ]
  },
  {
   "cell_type": "code",
   "execution_count": 15,
   "id": "05ffa3a1",
   "metadata": {},
   "outputs": [],
   "source": [
    "regressor= LinearRegression ()"
   ]
  },
  {
   "cell_type": "code",
   "execution_count": 16,
   "id": "789ddf98",
   "metadata": {},
   "outputs": [
    {
     "data": {
      "text/plain": [
       "LinearRegression()"
      ]
     },
     "execution_count": 16,
     "metadata": {},
     "output_type": "execute_result"
    }
   ],
   "source": [
    "regressor.fit(X,Y)"
   ]
  },
  {
   "cell_type": "code",
   "execution_count": 24,
   "id": "fce0968b",
   "metadata": {},
   "outputs": [],
   "source": [
    "new=[[156]]"
   ]
  },
  {
   "cell_type": "code",
   "execution_count": 25,
   "id": "c846e44e",
   "metadata": {},
   "outputs": [],
   "source": [
    "pred=regressor.predict(new)"
   ]
  },
  {
   "cell_type": "code",
   "execution_count": 26,
   "id": "a5938473",
   "metadata": {},
   "outputs": [
    {
     "name": "stdout",
     "output_type": "stream",
     "text": [
      "Weight of the person will be  66.78414298808431 kgs\n"
     ]
    }
   ],
   "source": [
    "print(\"Weight of the person will be \",pred[0],'kgs')"
   ]
  },
  {
   "cell_type": "code",
   "execution_count": 27,
   "id": "7694fb49",
   "metadata": {},
   "outputs": [
    {
     "name": "stdout",
     "output_type": "stream",
     "text": [
      "Accuracy : 95.47822477500306\n"
     ]
    }
   ],
   "source": [
    "# Accuracy     (score)\n",
    "print('Accuracy :',regressor.score(X,Y)*100)"
   ]
  },
  {
   "cell_type": "code",
   "execution_count": 29,
   "id": "a168f4cd",
   "metadata": {},
   "outputs": [
    {
     "name": "stdout",
     "output_type": "stream",
     "text": [
      "[0.67461045]\n"
     ]
    }
   ],
   "source": [
    "print(regressor.coef_)  # slope value"
   ]
  },
  {
   "cell_type": "code",
   "execution_count": 30,
   "id": "1d0fe035",
   "metadata": {},
   "outputs": [
    {
     "name": "stdout",
     "output_type": "stream",
     "text": [
      "-38.45508707607698\n"
     ]
    }
   ],
   "source": [
    "print(regressor.intercept_)   # intercept value"
   ]
  },
  {
   "cell_type": "code",
   "execution_count": 31,
   "id": "fd45884b",
   "metadata": {},
   "outputs": [],
   "source": [
    "pred= 0.67461045 * 156 -38.45508707607698"
   ]
  },
  {
   "cell_type": "code",
   "execution_count": 32,
   "id": "97949cef",
   "metadata": {},
   "outputs": [
    {
     "name": "stdout",
     "output_type": "stream",
     "text": [
      "66.78414312392302\n"
     ]
    }
   ],
   "source": [
    "print(pred)"
   ]
  },
  {
   "cell_type": "code",
   "execution_count": 34,
   "id": "52fe5f2c",
   "metadata": {},
   "outputs": [
    {
     "data": {
      "text/plain": [
       "[63, 81, 56, 91, 47, 57, 76, 72, 62, 48]"
      ]
     },
     "execution_count": 34,
     "metadata": {},
     "output_type": "execute_result"
    }
   ],
   "source": [
    "Y"
   ]
  },
  {
   "cell_type": "code",
   "execution_count": 35,
   "id": "af80f365",
   "metadata": {},
   "outputs": [
    {
     "data": {
      "text/plain": [
       "array([63.41109074, 78.92713107, 54.6411549 , 87.02245646, 47.89505041,\n",
       "       53.29193401, 82.30018332, 71.50641613, 64.08570119, 49.91888176])"
      ]
     },
     "execution_count": 35,
     "metadata": {},
     "output_type": "execute_result"
    }
   ],
   "source": [
    "regressor.predict(X)     # Residual error (human collected values not 100% ✅ )"
   ]
  },
  {
   "cell_type": "code",
   "execution_count": 36,
   "id": "c4753726",
   "metadata": {},
   "outputs": [],
   "source": [
    "import matplotlib.pyplot as plt"
   ]
  },
  {
   "cell_type": "code",
   "execution_count": 37,
   "id": "696fa690",
   "metadata": {},
   "outputs": [
    {
     "data": {
      "text/plain": [
       "[<matplotlib.lines.Line2D at 0x1e979325400>]"
      ]
     },
     "execution_count": 37,
     "metadata": {},
     "output_type": "execute_result"
    },
    {
     "data": {
      "image/png": "[encoded data removed]",
      "text/plain": [
       "<Figure size 432x288 with 1 Axes>"
      ]
     },
     "metadata": {
      "needs_background": "light"
     },
     "output_type": "display_data"
    }
   ],
   "source": [
    "plt.xlabel('Height(cms)')\n",
    "plt.ylabel('Weight(kgs)')\n",
    "plt.scatter(X,Y) # original values\n",
    "plt.plot(X,regressor.predict(X),color='red') # by formula"
   ]
  },
  {
   "cell_type": "code",
   "execution_count": 38,
   "id": "0fe87e55",
   "metadata": {},
   "outputs": [],
   "source": [
    "A=[[1],[2],[3],[4],[5]]\n",
    "B=[[100],[200],[300],[400],[500]]"
   ]
  },
  {
   "cell_type": "code",
   "execution_count": 39,
   "id": "997bf79e",
   "metadata": {},
   "outputs": [
    {
     "data": {
      "text/plain": [
       "LinearRegression()"
      ]
     },
     "execution_count": 39,
     "metadata": {},
     "output_type": "execute_result"
    }
   ],
   "source": [
    "regressor.fit(A,B)"
   ]
  },
  {
   "cell_type": "code",
   "execution_count": 40,
   "id": "02bdd880",
   "metadata": {},
   "outputs": [
    {
     "data": {
      "text/plain": [
       "100.0"
      ]
     },
     "execution_count": 40,
     "metadata": {},
     "output_type": "execute_result"
    }
   ],
   "source": [
    "regressor.score(A,B)*100"
   ]
  },
  {
   "cell_type": "code",
   "execution_count": 41,
   "id": "9ef471f3",
   "metadata": {},
   "outputs": [
    {
     "data": {
      "text/plain": [
       "array([[2300.]])"
      ]
     },
     "execution_count": 41,
     "metadata": {},
     "output_type": "execute_result"
    }
   ],
   "source": [
    "regressor.predict([[23]])"
   ]
  },
  {
   "cell_type": "code",
   "execution_count": 42,
   "id": "ee2d599b",
   "metadata": {},
   "outputs": [
    {
     "data": {
      "text/plain": [
       "[<matplotlib.lines.Line2D at 0x1e979583880>]"
      ]
     },
     "execution_count": 42,
     "metadata": {},
     "output_type": "execute_result"
    },
    {
     "data": {
      "image/png": "[encoded data removed]",
      "text/plain": [
       "<Figure size 432x288 with 1 Axes>"
      ]
     },
     "metadata": {
      "needs_background": "light"
     },
     "output_type": "display_data"
    }
   ],
   "source": [
    "# Linear Relation\n",
    "plt.xlabel(\"Height(cms)\")\n",
    "plt.ylabel(\"Weight (kgs)\")\n",
    "plt.scatter(A,B)\n",
    "plt.plot(A,regressor.predict(A),color='red')"
   ]
  },
  {
   "cell_type": "markdown",
   "id": "6e23089d",
   "metadata": {},
   "source": [
    "# for csv file (practical)"
   ]
  },
  {
   "cell_type": "code",
   "execution_count": 43,
   "id": "6ba6e1d6",
   "metadata": {},
   "outputs": [],
   "source": [
    "import pandas as pd\n",
    "import numpy as np\n",
    "import matplotlib.pyplot as plt"
   ]
  },
  {
   "cell_type": "code",
   "execution_count": null,
   "id": "1c137d85",
   "metadata": {},
   "outputs": [],
   "source": []
  },
  {
   "cell_type": "code",
   "execution_count": null,
   "id": "758000a9",
   "metadata": {},
   "outputs": [],
   "source": []
  }
 ],
 "metadata": {
  "kernelspec": {
   "display_name": "Python 3 (ipykernel)",
   "language": "python",
   "name": "python3"
  },
  "language_info": {
   "codemirror_mode": {
    "name": "ipython",
    "version": 3
   },
   "file_extension": ".py",
   "mimetype": "text/x-python",
   "name": "python",
   "nbconvert_exporter": "python",
   "pygments_lexer": "ipython3",
   "version": "3.9.12"
  }
 },
 "nbformat": 4,
 "nbformat_minor": 5
}
