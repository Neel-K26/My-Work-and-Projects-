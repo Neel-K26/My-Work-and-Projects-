{
 "cells": [
  {
   "cell_type": "code",
   "execution_count": 1,
   "id": "ee111669",
   "metadata": {},
   "outputs": [],
   "source": [
    "#Linear Regression\n"
   ]
  },
  {
   "cell_type": "code",
   "execution_count": 6,
   "id": "d93052e4",
   "metadata": {},
   "outputs": [
    {
     "data": {
      "text/plain": [
       "(10, 1)"
      ]
     },
     "execution_count": 6,
     "metadata": {},
     "output_type": "execute_result"
    }
   ],
   "source": [
    "#Input Data- value of heights\n",
    "import numpy as np\n",
    "x=np.array([[151],[174],[138],[186],[128],\n",
    "            [136],[179],[163],[152],[131]])\n",
    "x.shape"
   ]
  },
  {
   "cell_type": "code",
   "execution_count": 7,
   "id": "0aed8663",
   "metadata": {},
   "outputs": [
    {
     "name": "stdout",
     "output_type": "stream",
     "text": [
      "[[151]\n",
      " [174]\n",
      " [138]\n",
      " [186]\n",
      " [128]\n",
      " [136]\n",
      " [179]\n",
      " [163]\n",
      " [152]\n",
      " [131]]\n"
     ]
    }
   ],
   "source": [
    "print(x)        # Matrix"
   ]
  },
  {
   "cell_type": "code",
   "execution_count": 8,
   "id": "b2d13fe4",
   "metadata": {},
   "outputs": [
    {
     "data": {
      "text/plain": [
       "array([63, 81, 56, 91, 47, 57, 76, 72, 62, 48])"
      ]
     },
     "execution_count": 8,
     "metadata": {},
     "output_type": "execute_result"
    }
   ],
   "source": [
    "#output data-values of weights\n",
    "y=np.array([63,81,56,91,47,57,76,72,62,48])\n",
    "y\n"
   ]
  },
  {
   "cell_type": "code",
   "execution_count": 9,
   "id": "8d5f6cf0",
   "metadata": {},
   "outputs": [
    {
     "data": {
      "text/plain": [
       "(10,)"
      ]
     },
     "execution_count": 9,
     "metadata": {},
     "output_type": "execute_result"
    }
   ],
   "source": [
    "y.shape"
   ]
  },
  {
   "cell_type": "code",
   "execution_count": 11,
   "id": "60a1d6ec",
   "metadata": {},
   "outputs": [],
   "source": [
    "#import the class\n",
    "from sklearn.linear_model import LinearRegression "
   ]
  },
  {
   "cell_type": "code",
   "execution_count": 12,
   "id": "aae82090",
   "metadata": {},
   "outputs": [
    {
     "data": {
      "text/plain": [
       "LinearRegression()"
      ]
     },
     "execution_count": 12,
     "metadata": {},
     "output_type": "execute_result"
    }
   ],
   "source": [
    "#Create the Object\n",
    "regressor=LinearRegression()\n",
    "regressor.fit(x,y)                   # Train the Algorithm with data"
   ]
  },
  {
   "cell_type": "code",
   "execution_count": 17,
   "id": "d2031dfd",
   "metadata": {},
   "outputs": [
    {
     "data": {
      "text/plain": [
       "array([103.21310724])"
      ]
     },
     "execution_count": 17,
     "metadata": {},
     "output_type": "execute_result"
    }
   ],
   "source": [
    "#Prediction\n",
    "regressor.predict([[210]])"
   ]
  },
  {
   "cell_type": "code",
   "execution_count": 18,
   "id": "aff1fd74",
   "metadata": {},
   "outputs": [
    {
     "data": {
      "text/plain": [
       "array([521.4715857])"
      ]
     },
     "execution_count": 18,
     "metadata": {},
     "output_type": "execute_result"
    }
   ],
   "source": [
    "regressor.predict([[830]])"
   ]
  },
  {
   "cell_type": "code",
   "execution_count": 19,
   "id": "c55e7e0e",
   "metadata": {},
   "outputs": [
    {
     "data": {
      "text/plain": [
       "array([0.67461045])"
      ]
     },
     "execution_count": 19,
     "metadata": {},
     "output_type": "execute_result"
    }
   ],
   "source": [
    "regressor.coef_                #Slope"
   ]
  },
  {
   "cell_type": "code",
   "execution_count": 20,
   "id": "988988a2",
   "metadata": {},
   "outputs": [
    {
     "data": {
      "text/plain": [
       "-38.45508707607698"
      ]
     },
     "execution_count": 20,
     "metadata": {},
     "output_type": "execute_result"
    }
   ],
   "source": [
    "regressor.intercept_            #Intercept"
   ]
  },
  {
   "cell_type": "code",
   "execution_count": 22,
   "id": "57d04744",
   "metadata": {},
   "outputs": [
    {
     "data": {
      "text/plain": [
       "74.87946852392302"
      ]
     },
     "execution_count": 22,
     "metadata": {},
     "output_type": "execute_result"
    }
   ],
   "source": [
    "168*0.67461045+-38.45508707607698"
   ]
  },
  {
   "cell_type": "code",
   "execution_count": 23,
   "id": "d9c38860",
   "metadata": {},
   "outputs": [
    {
     "data": {
      "text/plain": [
       "95.47822477500306"
      ]
     },
     "execution_count": 23,
     "metadata": {},
     "output_type": "execute_result"
    }
   ],
   "source": [
    "regressor.score(x,y)*100"
   ]
  },
  {
   "cell_type": "code",
   "execution_count": 26,
   "id": "5c929afa",
   "metadata": {},
   "outputs": [
    {
     "data": {
      "text/plain": [
       "<AxesSubplot:>"
      ]
     },
     "execution_count": 26,
     "metadata": {},
     "output_type": "execute_result"
    },
    {
     "data": {
      "image/png": "[encoded data removed]",
      "text/plain": [
       "<Figure size 432x288 with 1 Axes>"
      ]
     },
     "metadata": {
      "needs_background": "light"
     },
     "output_type": "display_data"
    }
   ],
   "source": [
    "import seaborn as sns\n",
    "sns.regplot(x=x,y=y)"
   ]
  },
  {
   "cell_type": "code",
   "execution_count": null,
   "id": "b01e8f22",
   "metadata": {},
   "outputs": [],
   "source": [
    "#Linear regression\n",
    "#dataset: Salary_Data.csv\n",
    "#Location:https://mitu.co.in/dataset"
   ]
  },
  {
   "cell_type": "code",
   "execution_count": 41,
   "id": "957ea8bc",
   "metadata": {},
   "outputs": [],
   "source": [
    "x=x.reshape(-1,1)"
   ]
  },
  {
   "cell_type": "code",
   "execution_count": 42,
   "id": "6014f0f7",
   "metadata": {},
   "outputs": [
    {
     "data": {
      "text/plain": [
       "int"
      ]
     },
     "execution_count": 42,
     "metadata": {},
     "output_type": "execute_result"
    }
   ],
   "source": [
    "num=90\n",
    "type(num)"
   ]
  },
  {
   "cell_type": "code",
   "execution_count": null,
   "id": "8442b881",
   "metadata": {},
   "outputs": [],
   "source": []
  }
 ],
 "metadata": {
  "kernelspec": {
   "display_name": "Python 3 (ipykernel)",
   "language": "python",
   "name": "python3"
  },
  "language_info": {
   "codemirror_mode": {
    "name": "ipython",
    "version": 3
   },
   "file_extension": ".py",
   "mimetype": "text/x-python",
   "name": "python",
   "nbconvert_exporter": "python",
   "pygments_lexer": "ipython3",
   "version": "3.9.7"
  }
 },
 "nbformat": 4,
 "nbformat_minor": 5
}
