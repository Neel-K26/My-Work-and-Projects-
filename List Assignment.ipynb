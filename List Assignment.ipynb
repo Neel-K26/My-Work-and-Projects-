{
 "cells": [
  {
   "cell_type": "code",
   "execution_count": 6,
   "id": "15213f14",
   "metadata": {},
   "outputs": [
    {
     "name": "stdout",
     "output_type": "stream",
     "text": [
      "15\n"
     ]
    }
   ],
   "source": [
    "#Program for sum of all elements in the lists\n",
    "num=[1,2,3,4,5]\n",
    "p,q,r,s,t=num\n",
    "sum=p+q+r+s+t\n",
    "print(sum)"
   ]
  },
  {
   "cell_type": "code",
   "execution_count": 21,
   "id": "112359a8",
   "metadata": {},
   "outputs": [
    {
     "name": "stdout",
     "output_type": "stream",
     "text": [
      "120\n"
     ]
    }
   ],
   "source": [
    "#Program for Product of Given LElements in the List\n",
    "num=[1,2,3,4,5,]\n",
    "p,q,r,s,t=num\n",
    "sum=p*q*r*s*t\n",
    "print(sum)\n"
   ]
  },
  {
   "cell_type": "code",
   "execution_count": 13,
   "id": "f470ee9a",
   "metadata": {},
   "outputs": [
    {
     "data": {
      "text/plain": [
       "56"
      ]
     },
     "execution_count": 13,
     "metadata": {},
     "output_type": "execute_result"
    }
   ],
   "source": [
    "#To find Highest Element Given List\n",
    "num=[1,12,34,56,26]\n",
    "max(num)"
   ]
  },
  {
   "cell_type": "code",
   "execution_count": 16,
   "id": "dd473e65",
   "metadata": {},
   "outputs": [
    {
     "data": {
      "text/plain": [
       "1"
      ]
     },
     "execution_count": 16,
     "metadata": {},
     "output_type": "execute_result"
    }
   ],
   "source": [
    "#To find lowest Element Given List\n",
    "num=[1,12,34,56,66,89,99]\n",
    "min(num)"
   ]
  },
  {
   "cell_type": "code",
   "execution_count": 3,
   "id": "8173507d",
   "metadata": {},
   "outputs": [
    {
     "name": "stdout",
     "output_type": "stream",
     "text": [
      "[(5, 6), (3, 4), (1, 2), (9, 0), (2, 1)]\n"
     ]
    }
   ],
   "source": [
    "#Program for sorted in increasing order by the last element \n",
    "l=[(2,1),(9,0),(1,2) ,(3,4),(5,6)]\n",
    "l.reverse()\n",
    "print(l)"
   ]
  },
  {
   "cell_type": "code",
   "execution_count": 10,
   "id": "98ab8441",
   "metadata": {},
   "outputs": [
    {
     "name": "stdout",
     "output_type": "stream",
     "text": [
      "[1, 2, 3, 4, 5, 7, 8, 9]\n"
     ]
    }
   ],
   "source": [
    "#Program to Remove The Duplicate in The List\n",
    "l=[1,2,3,4,5,5,7,8,9]\n",
    "l.remove(5)\n",
    "print(l)"
   ]
  },
  {
   "cell_type": "code",
   "execution_count": 19,
   "id": "180a84ae",
   "metadata": {},
   "outputs": [
    {
     "name": "stdout",
     "output_type": "stream",
     "text": [
      "List is Empty\n"
     ]
    }
   ],
   "source": [
    "#Program to Check whether list is empty or not\n",
    "l=[]\n",
    "if not l:\n",
    "    print(\"List is Empty\")\n",
    "else:\n",
    "    print(\"List is not Empty\")\n",
    "    "
   ]
  },
  {
   "cell_type": "code",
   "execution_count": 24,
   "id": "36ef2684",
   "metadata": {},
   "outputs": [
    {
     "name": "stdout",
     "output_type": "stream",
     "text": [
      "[1, 3, 5, 7, 9, 11, 13, 15, 17, 19]\n"
     ]
    }
   ],
   "source": [
    "#Program to copy list\n",
    "mylist=[1,3,5,7,9,11,13,15,17,19]\n",
    "mylist_copy=mylist.copy()\n",
    "print(mylist_copy)"
   ]
  },
  {
   "cell_type": "code",
   "execution_count": 30,
   "id": "ea025a9b",
   "metadata": {},
   "outputs": [
    {
     "name": "stdout",
     "output_type": "stream",
     "text": [
      "['KING', 'WORLD']\n"
     ]
    }
   ],
   "source": [
    "#Program to find which are no longer than n form\n",
    "def long_words(n, str):\n",
    "    word_len = []\n",
    "    txt = str.split(\" \")\n",
    "    for x in txt:\n",
    "        if len(x) > n:\n",
    "            word_len.append(x)\n",
    "    return word_len\t\n",
    "print(long_words(3, \"NK IS KING OF THE WORLD\"))\n"
   ]
  },
  {
   "cell_type": "code",
   "execution_count": 32,
   "id": "b9f0634c",
   "metadata": {},
   "outputs": [
    {
     "data": {
      "text/plain": [
       "True"
      ]
     },
     "execution_count": 32,
     "metadata": {},
     "output_type": "execute_result"
    }
   ],
   "source": [
    "#Program to find common terms in both lists\n",
    "metals=[\"H\",\"O\",\"Ne\",\"Xe\",\"Si\"]\n",
    "noble=[\"Ne\",\"Rd\",\"Xe\",\"He\",\"Kr\"]\n",
    "any(metals)\n",
    "any(noble)"
   ]
  },
  {
   "cell_type": "code",
   "execution_count": 47,
   "id": "6861d6d8",
   "metadata": {},
   "outputs": [
    {
     "name": "stdout",
     "output_type": "stream",
     "text": [
      "['Green', 'White', 'Black']\n"
     ]
    }
   ],
   "source": [
    "#Program to Remove 0th,4th & 5th element from The Given List\n",
    "list1=[\"Red\",\"Green\",\"White\",\"Black\",\"Pink\",\"Yellow\",]\n",
    "list1 = [x for (i,x) in enumerate(list1) if i not in (0,4,5)]\n",
    "print(list1)"
   ]
  },
  {
   "cell_type": "code",
   "execution_count": 48,
   "id": "0942a967",
   "metadata": {},
   "outputs": [
    {
     "name": "stdout",
     "output_type": "stream",
     "text": [
      "[[['*', '*', '*', '*', '*', '*'], ['*', '*', '*', '*', '*', '*'], ['*', '*', '*', '*', '*', '*'], ['*', '*', '*', '*', '*', '*']], [['*', '*', '*', '*', '*', '*'], ['*', '*', '*', '*', '*', '*'], ['*', '*', '*', '*', '*', '*'], ['*', '*', '*', '*', '*', '*']], [['*', '*', '*', '*', '*', '*'], ['*', '*', '*', '*', '*', '*'], ['*', '*', '*', '*', '*', '*'], ['*', '*', '*', '*', '*', '*']]]\n"
     ]
    }
   ],
   "source": [
    "#Array 3*4*6  3d array\n",
    "array = [[ ['*' for col in range(6)] for col in range(4)] for row in range(3)]\n",
    "print(array)\n"
   ]
  },
  {
   "cell_type": "code",
   "execution_count": 19,
   "id": "53323da1",
   "metadata": {},
   "outputs": [
    {
     "data": {
      "text/plain": [
       "0"
      ]
     },
     "execution_count": 19,
     "metadata": {},
     "output_type": "execute_result"
    }
   ],
   "source": [
    "#Program to acess the index the list\n",
    "color=[\"Red\",\"Green\",\"White\",\"Black\",\"Pink\",\"Yellow\",]\n",
    "color.index(\"Red\")\n"
   ]
  },
  {
   "cell_type": "code",
   "execution_count": 9,
   "id": "0591c2c8",
   "metadata": {},
   "outputs": [
    {
     "data": {
      "text/plain": [
       "['NKIsKingOfTheWorld']"
      ]
     },
     "execution_count": 9,
     "metadata": {},
     "output_type": "execute_result"
    }
   ],
   "source": [
    "#Program to Convert list Characters into String\n",
    "list1=[\"NK\" \"Is\" \"King\" \"Of\" \"The\" \"World\"]\n",
    "list(list1)\n",
    "        "
   ]
  },
  {
   "cell_type": "code",
   "execution_count": 1,
   "id": "b7508edc",
   "metadata": {},
   "outputs": [
    {
     "data": {
      "text/plain": [
       "1"
      ]
     },
     "execution_count": 1,
     "metadata": {},
     "output_type": "execute_result"
    }
   ],
   "source": [
    "#Program to Find Index of specified element\n",
    "color=[\"White\",\"Yellow\",\"Red\",\"Blue\",\"Grey\"]\n",
    "color.index(\"Yellow\")"
   ]
  },
  {
   "cell_type": "code",
   "execution_count": 3,
   "id": "6dea59b6",
   "metadata": {},
   "outputs": [
    {
     "name": "stdout",
     "output_type": "stream",
     "text": [
      "[10, 20, 30, 40, 50, 60, 70, 80, 90, 100, 110, 120]\n"
     ]
    }
   ],
   "source": [
    "#Program to Flatten thelist\n",
    "list1 = [[10, 20, 30, 40], [50, 60, 70, 80], [90, 100, 110, 120]]\n",
    "flatlist=[]\n",
    "for sublist in list1:\n",
    "    for ele in sublist:\n",
    "        flatlist.append(ele)\n",
    "print(flatlist)"
   ]
  },
  {
   "cell_type": "code",
   "execution_count": 10,
   "id": "10732e4d",
   "metadata": {},
   "outputs": [
    {
     "name": "stdout",
     "output_type": "stream",
     "text": [
      "[1, 2, 3, 4, 5, 6, 7, 11, 13, 15, 17, 19]\n"
     ]
    }
   ],
   "source": [
    "list1=[1,2,3,4,5,6,7]\n",
    "list2=[11,13,15,17,19]\n",
    "total=list1+list2\n",
    "print(total)\n"
   ]
  },
  {
   "cell_type": "code",
   "execution_count": 23,
   "id": "39f917f1",
   "metadata": {},
   "outputs": [
    {
     "name": "stdout",
     "output_type": "stream",
     "text": [
      "[6, 9]\n"
     ]
    }
   ],
   "source": [
    "#Python program to select an item randomly from a list\n",
    "import random\n",
    "items = [1, 2, 3, 4, 5, 6, 7, 8, 9]\n",
    "random_items = random.sample(items, 2)\n",
    "print(random_items)"
   ]
  },
  {
   "cell_type": "code",
   "execution_count": 59,
   "id": "0e88d59b",
   "metadata": {},
   "outputs": [
    {
     "name": "stdout",
     "output_type": "stream",
     "text": [
      "No\n",
      "No\n"
     ]
    }
   ],
   "source": [
    "#Program to check whether Lists are Identical are not\n",
    "def circularly_identical(list1, list2):\n",
    "     \n",
    "    # doubling list\n",
    "    list3 = list1 * 2\n",
    "     \n",
    "    \n",
    "    for x in range(0, len(list1)):\n",
    "        z = 0\n",
    "         \n",
    "        \n",
    "        for y in range(x, x + len(list1)):\n",
    "            if list2[z]== list3[y]:\n",
    "                z+= 1\n",
    "            else:\n",
    "                break\n",
    "             \n",
    "        \n",
    "        if z == len(list1):\n",
    "            return True\n",
    "     \n",
    "    return False\n",
    "\n",
    "list1 = [10, 10, 0, 0, 1]\n",
    "list2 = [10, 10, 10, 0, 0]\n",
    "list3 = [1, 10, 10, 0, 0]\n",
    " \n",
    " \n",
    "# check for list 1 and list 2\n",
    "if(circularly_identical(list1, list2)):\n",
    "    print(\"Yes\")\n",
    "else:\n",
    "    print(\"No\")\n",
    " \n",
    "# check for list 2 and list 3\n",
    "if(circularly_identical(list2, list3)):\n",
    "    print (\"Yes\")\n",
    "else:\n",
    "    print (\"No\")\n"
   ]
  },
  {
   "cell_type": "code",
   "execution_count": 63,
   "id": "f4263450",
   "metadata": {},
   "outputs": [
    {
     "data": {
      "text/plain": [
       "1"
      ]
     },
     "execution_count": 63,
     "metadata": {},
     "output_type": "execute_result"
    }
   ],
   "source": [
    "#Program to find 2nd smallest no. in the List\n",
    "list1=[1,2,3,4,5,6,7]\n",
    "min(list1)\n"
   ]
  },
  {
   "cell_type": "code",
   "execution_count": 70,
   "id": "44d24b5b",
   "metadata": {},
   "outputs": [
    {
     "name": "stdout",
     "output_type": "stream",
     "text": [
      "-6\n",
      "-4\n",
      "-1\n",
      "None\n",
      "None\n"
     ]
    }
   ],
   "source": [
    "def second_smallest(numbers):\n",
    "  if (len(numbers)<2):\n",
    "    return\n",
    "  if ((len(numbers)==2)  and (numbers[0] == numbers[1]) ):\n",
    "    return\n",
    "  dup_items = set()\n",
    "  uniq_items = []\n",
    "  for x in numbers:\n",
    "    if x not in dup_items:\n",
    "      uniq_items.append(x)\n",
    "      dup_items.add(x)\n",
    "  uniq_items.sort()    \n",
    "  return  uniq_items[1]   \n",
    "\n",
    "print(second_smallest([1, 2, -8, -2, 0, -6]))\n",
    "print(second_smallest([1, 1, 0, 0, 2, -4, -9]))\n",
    "print(second_smallest([1, 1, 1, 0, 0, 0, 2, -2, -1]))\n",
    "print(second_smallest([2,2]))\n",
    "print(second_smallest([2]))\n"
   ]
  },
  {
   "cell_type": "code",
   "execution_count": 71,
   "id": "99f3d901",
   "metadata": {},
   "outputs": [
    {
     "name": "stdout",
     "output_type": "stream",
     "text": [
      "None\n",
      "None\n",
      "None\n"
     ]
    },
    {
     "ename": "IndexError",
     "evalue": "list index out of range",
     "output_type": "error",
     "traceback": [
      "\u001b[1;31m---------------------------------------------------------------------------\u001b[0m",
      "\u001b[1;31mIndexError\u001b[0m                                Traceback (most recent call last)",
      "\u001b[1;32m~\\AppData\\Local\\Temp/ipykernel_10384/3436699298.py\u001b[0m in \u001b[0;36m<module>\u001b[1;34m\u001b[0m\n\u001b[0;32m     16\u001b[0m \u001b[0mprint\u001b[0m\u001b[1;33m(\u001b[0m\u001b[0msecond_smallest\u001b[0m\u001b[1;33m(\u001b[0m\u001b[1;33m[\u001b[0m\u001b[1;36m1\u001b[0m\u001b[1;33m,\u001b[0m \u001b[1;36m1\u001b[0m\u001b[1;33m,\u001b[0m \u001b[1;36m0\u001b[0m\u001b[1;33m,\u001b[0m \u001b[1;36m0\u001b[0m\u001b[1;33m,\u001b[0m \u001b[1;36m2\u001b[0m\u001b[1;33m,\u001b[0m \u001b[1;36m4\u001b[0m\u001b[1;33m,\u001b[0m \u001b[1;36m9\u001b[0m\u001b[1;33m]\u001b[0m\u001b[1;33m)\u001b[0m\u001b[1;33m)\u001b[0m\u001b[1;33m\u001b[0m\u001b[1;33m\u001b[0m\u001b[0m\n\u001b[0;32m     17\u001b[0m \u001b[0mprint\u001b[0m\u001b[1;33m(\u001b[0m\u001b[0msecond_smallest\u001b[0m\u001b[1;33m(\u001b[0m\u001b[1;33m[\u001b[0m\u001b[1;36m1\u001b[0m\u001b[1;33m,\u001b[0m \u001b[1;36m1\u001b[0m\u001b[1;33m,\u001b[0m \u001b[1;36m1\u001b[0m\u001b[1;33m,\u001b[0m \u001b[1;36m0\u001b[0m\u001b[1;33m,\u001b[0m \u001b[1;36m0\u001b[0m\u001b[1;33m,\u001b[0m \u001b[1;36m0\u001b[0m\u001b[1;33m,\u001b[0m \u001b[1;36m2\u001b[0m\u001b[1;33m,\u001b[0m \u001b[1;33m-\u001b[0m\u001b[1;36m2\u001b[0m\u001b[1;33m,\u001b[0m \u001b[1;33m-\u001b[0m\u001b[1;36m1\u001b[0m\u001b[1;33m]\u001b[0m\u001b[1;33m)\u001b[0m\u001b[1;33m)\u001b[0m\u001b[1;33m\u001b[0m\u001b[1;33m\u001b[0m\u001b[0m\n\u001b[1;32m---> 18\u001b[1;33m \u001b[0mprint\u001b[0m\u001b[1;33m(\u001b[0m\u001b[0msecond_smallest\u001b[0m\u001b[1;33m(\u001b[0m\u001b[1;33m[\u001b[0m\u001b[1;36m2\u001b[0m\u001b[1;33m,\u001b[0m\u001b[1;36m2\u001b[0m\u001b[1;33m]\u001b[0m\u001b[1;33m)\u001b[0m\u001b[1;33m)\u001b[0m\u001b[1;33m\u001b[0m\u001b[1;33m\u001b[0m\u001b[0m\n\u001b[0m\u001b[0;32m     19\u001b[0m \u001b[0mprint\u001b[0m\u001b[1;33m(\u001b[0m\u001b[0msecond_smallest\u001b[0m\u001b[1;33m(\u001b[0m\u001b[1;33m[\u001b[0m\u001b[1;36m2\u001b[0m\u001b[1;33m]\u001b[0m\u001b[1;33m)\u001b[0m\u001b[1;33m)\u001b[0m\u001b[1;33m\u001b[0m\u001b[1;33m\u001b[0m\u001b[0m\n",
      "\u001b[1;32m~\\AppData\\Local\\Temp/ipykernel_10384/3436699298.py\u001b[0m in \u001b[0;36msecond_smallest\u001b[1;34m(numbers)\u001b[0m\n\u001b[0;32m     11\u001b[0m       \u001b[0mdup_items\u001b[0m\u001b[1;33m.\u001b[0m\u001b[0madd\u001b[0m\u001b[1;33m(\u001b[0m\u001b[0mx\u001b[0m\u001b[1;33m)\u001b[0m\u001b[1;33m\u001b[0m\u001b[1;33m\u001b[0m\u001b[0m\n\u001b[0;32m     12\u001b[0m   \u001b[0muniq_items\u001b[0m\u001b[1;33m.\u001b[0m\u001b[0msort\u001b[0m\u001b[1;33m(\u001b[0m\u001b[1;33m)\u001b[0m\u001b[1;33m\u001b[0m\u001b[1;33m\u001b[0m\u001b[0m\n\u001b[1;32m---> 13\u001b[1;33m   \u001b[1;32mreturn\u001b[0m  \u001b[0muniq_items\u001b[0m\u001b[1;33m[\u001b[0m\u001b[1;36m1\u001b[0m\u001b[1;33m]\u001b[0m\u001b[1;33m\u001b[0m\u001b[1;33m\u001b[0m\u001b[0m\n\u001b[0m\u001b[0;32m     14\u001b[0m \u001b[1;33m\u001b[0m\u001b[0m\n\u001b[0;32m     15\u001b[0m \u001b[0mprint\u001b[0m\u001b[1;33m(\u001b[0m\u001b[0msecond_smallest\u001b[0m\u001b[1;33m(\u001b[0m\u001b[1;33m[\u001b[0m\u001b[1;36m1\u001b[0m\u001b[1;33m,\u001b[0m \u001b[1;36m2\u001b[0m\u001b[1;33m,\u001b[0m \u001b[1;36m8\u001b[0m\u001b[1;33m,\u001b[0m \u001b[1;36m2\u001b[0m\u001b[1;33m,\u001b[0m \u001b[1;36m0\u001b[0m\u001b[1;33m,\u001b[0m \u001b[1;36m6\u001b[0m\u001b[1;33m]\u001b[0m\u001b[1;33m)\u001b[0m\u001b[1;33m)\u001b[0m\u001b[1;33m\u001b[0m\u001b[1;33m\u001b[0m\u001b[0m\n",
      "\u001b[1;31mIndexError\u001b[0m: list index out of range"
     ]
    }
   ],
   "source": [
    "def second_smallest(numbers):\n",
    "  if (len(numbers)>2):\n",
    "    return\n",
    "  if ((len(numbers)>2)  and (numbers[0] == numbers[1]) ):\n",
    "    return\n",
    "  dup_items = set()\n",
    "  uniq_items = []\n",
    "  for x in numbers:\n",
    "    if x not in dup_items:\n",
    "      uniq_items.append(x)\n",
    "      dup_items.add(x)\n",
    "  uniq_items.sort()    \n",
    "  return  uniq_items[1]   \n",
    "\n",
    "print(second_smallest([1, 2, 8, 2, 0, 6]))\n",
    "print(second_smallest([1, 1, 0, 0, 2, 4, 9]))\n",
    "print(second_smallest([1, 1, 1, 0, 0, 0, 2, -2, -1]))\n",
    "print(second_smallest([2,2]))\n",
    "print(second_smallest([2]))\n"
   ]
  },
  {
   "cell_type": "code",
   "execution_count": 72,
   "id": "483114af",
   "metadata": {},
   "outputs": [
    {
     "name": "stdout",
     "output_type": "stream",
     "text": [
      "Enter number of elements in list: 12\n",
      "Enter elements: 11\n",
      "Enter elements: 22\n",
      "Enter elements: 11\n",
      "Enter elements: 445\n",
      "Enter elements: 6\n",
      "Enter elements: 5\n",
      "Enter elements: 77\n",
      "Enter elements: 55\n",
      "Enter elements: 78\n",
      "Enter elements: 77\n",
      "Enter elements: 66\n",
      "Enter elements: 55\n",
      "Second largest element is: 78\n"
     ]
    }
   ],
   "source": [
    "list1 = []\n",
    "num = int(input(\"Enter number of elements in list: \"))\n",
    "  \n",
    "\n",
    "for i in range(1, num + 1):\n",
    "    ele = int(input(\"Enter elements: \"))\n",
    "    list1.append(ele)\n",
    "     \n",
    "\n",
    "new_list = set(list1)\n",
    "  \n",
    "\n",
    "new_list.remove(max(new_list))\n",
    " \n",
    "print(\"Second largest element is:\", max(new_list))\n"
   ]
  },
  {
   "cell_type": "code",
   "execution_count": 73,
   "id": "3f3abb23",
   "metadata": {},
   "outputs": [
    {
     "name": "stdout",
     "output_type": "stream",
     "text": [
      "Original List :  [10, 10, 10, 10, 20, 20, 20, 20, 40, 40, 50, 50, 30]\n",
      "Frequency of the elements in the List :  Counter({10: 4, 20: 4, 40: 2, 50: 2, 30: 1})\n"
     ]
    }
   ],
   "source": [
    "#Program to Calculate Frequency of the list\n",
    "import collections\n",
    "my_list = [10,10,10,10,20,20,20,20,40,40,50,50,30]\n",
    "print(\"Original List : \",my_list)\n",
    "ctr = collections.Counter(my_list)\n",
    "print(\"Frequency of the elements in the List : \",ctr)\n"
   ]
  },
  {
   "cell_type": "code",
   "execution_count": 75,
   "id": "cda2d2d5",
   "metadata": {},
   "outputs": [
    {
     "name": "stdout",
     "output_type": "stream",
     "text": [
      "The original list : [5, 6, 3, 8, 2, 1, 7, 1]\n",
      "Is sublist present in list ? : True\n"
     ]
    }
   ],
   "source": [
    "# To check whether List has a Sublist or not\n",
    "test_list = [5, 6, 3, 8, 2, 1, 7, 1]\n",
    "\n",
    "print(\"The original list : \" + str(test_list))\n",
    "\n",
    "\n",
    "sublist = [8, 2, 1]\n",
    "\n",
    "\n",
    "res = False\n",
    "for idx in range(len(test_list) - len(sublist) + 1):\n",
    "        if test_list[idx : idx + len(sublist)] == sublist:\n",
    "            res = True\n",
    "            break\n",
    "\n",
    "# printing result\n",
    "print(\"Is sublist present in list ? : \" + str(res))\n"
   ]
  },
  {
   "cell_type": "code",
   "execution_count": 77,
   "id": "a009c8e6",
   "metadata": {},
   "outputs": [
    {
     "data": {
      "text/plain": [
       "['12345']"
      ]
     },
     "execution_count": 77,
     "metadata": {},
     "output_type": "execute_result"
    }
   ],
   "source": [
    "Multiple integers into single\n",
    "list1=['1' '2' '3' '4' '5',]\n",
    "list(list1)"
   ]
  },
  {
   "cell_type": "code",
   "execution_count": 81,
   "id": "30fecde7",
   "metadata": {},
   "outputs": [
    {
     "name": "stdout",
     "output_type": "stream",
     "text": [
      "A\n",
      "Austin\n",
      "B\n",
      "Braun\n",
      "C\n",
      "Cat\n",
      "Courtsey\n",
      "F\n",
      "Finn\n",
      "Flower\n",
      "G\n",
      "Gary\n",
      "Goldberg\n",
      "J\n",
      "John\n",
      "L\n",
      "Liser\n",
      "M\n",
      "Mark\n",
      "R\n",
      "Randy\n",
      "Rey\n",
      "S\n",
      "Saturn\n",
      "Seth\n",
      "Sting\n",
      "T\n",
      "Truth\n",
      "Tyson\n",
      "U\n",
      "Undertaker\n",
      "Uso\n",
      "W\n",
      "Wader\n",
      "Warrior\n",
      "Z\n",
      "Ziggler\n",
      "k\n",
      "kingston\n"
     ]
    }
   ],
   "source": [
    "#split list based on first Character\n",
    "from itertools import groupby\n",
    "from operator import itemgetter\n",
    "\n",
    "word_list = ['Warrior','John','Randy','Rey','Austin','Mark','Gary','kingston','Undertaker','Saturn','Courtsey','Truth',\n",
    "     'Flower','Goldberg','Braun','Uso','Seth','Tyson','Ziggler','Wader','Sting','Finn','Liser','Cat']\n",
    "\n",
    "for letter, words in groupby(sorted(word_list), key=itemgetter(0)):\n",
    "    print(letter)\n",
    "    for word in words:\n",
    "        print(word)\n"
   ]
  },
  {
   "cell_type": "code",
   "execution_count": 83,
   "id": "235f0ed2",
   "metadata": {},
   "outputs": [
    {
     "name": "stdout",
     "output_type": "stream",
     "text": [
      "{'1': [], '2': [], '3': [], '4': [], '5': [], '6': [], '7': [], '8': [], '9': [], '10': [], '11': [], '12': [], '13': [], '14': [], '15': [], '16': [], '17': [], '18': [], '19': []}\n"
     ]
    }
   ],
   "source": [
    "#Program to Create Multiple Lists\n",
    "obj = {}\n",
    "for i in range(1, 20):\n",
    "    obj[str(i)] = []\n",
    "print(obj)"
   ]
  },
  {
   "cell_type": "code",
   "execution_count": 87,
   "id": "10669f97",
   "metadata": {},
   "outputs": [
    {
     "name": "stdout",
     "output_type": "stream",
     "text": [
      "Missing values in second list:  a,c,b\n",
      "Additional values in second list:  h,g\n"
     ]
    }
   ],
   "source": [
    "#Program to find missing and Additional Values in list\n",
    "list1 = ['a','b','c','d','e','f']\n",
    "list2 = ['d','e','f','g','h']\n",
    "print('Missing values in second list: ', ','.join(set(list1).difference(list2)))\n",
    "print('Additional values in second list: ', ','.join(set(list2).difference(list1)))\n"
   ]
  },
  {
   "cell_type": "code",
   "execution_count": 90,
   "id": "0e4917cc",
   "metadata": {},
   "outputs": [
    {
     "name": "stdout",
     "output_type": "stream",
     "text": [
      "('Black', 'NK', 'King')\n",
      "('Blue', 'Power', 'KC')\n",
      "('Silver', 'Venus', 'USA')\n"
     ]
    }
   ],
   "source": [
    "#Program to Print Diffrent Variable\n",
    "color = [(\"Black\", \"NK\", \"King\"), (\"Blue\", \"Power\", \"KC\"),\n",
    "         (\"Silver\", \"Venus\", \"USA\")]\n",
    "var1, var2, var3 = color\n",
    "print(var1)\n",
    "print(var2)\n",
    "print(var3)\n"
   ]
  },
  {
   "cell_type": "code",
   "execution_count": 93,
   "id": "154b3d9d",
   "metadata": {},
   "outputs": [
    {
     "name": "stdout",
     "output_type": "stream",
     "text": [
      "Original List:  [(1, 2), (3, 4), (1, 2), (5, 6), (7, 8), (1, 2), (3, 4), (3, 4), (7, 8), (9, 10)]\n",
      "Sorted Unique Data: [1, 2, 3, 4, 5, 6, 7, 8, 9, 10]\n"
     ]
    }
   ],
   "source": [
    "#Program to print Data variables in sorted way\n",
    "L = [(1, 2), (3, 4), (1, 2), (5, 6), (7, 8), (1, 2), (3, 4), (3, 4),\n",
    " (7, 8), (9, 10)]\n",
    "print(\"Original List: \", L)\n",
    "print(\"Sorted Unique Data:\",sorted(set().union(*L)))\n"
   ]
  },
  {
   "cell_type": "code",
   "execution_count": 94,
   "id": "89e0149f",
   "metadata": {},
   "outputs": [
    {
     "name": "stdout",
     "output_type": "stream",
     "text": [
      "[1, 3, 5, 7, 9]\n"
     ]
    }
   ],
   "source": [
    "#Program to print odd variables from the list\n",
    "x = [1, 2, 3, 4, 5, 6, 7, 8, 9]\n",
    "print(x[::2])\n"
   ]
  },
  {
   "cell_type": "code",
   "execution_count": 95,
   "id": "de46d813",
   "metadata": {},
   "outputs": [
    {
     "name": "stdout",
     "output_type": "stream",
     "text": [
      "Original List:  ['Red', 'Green', 'Black']\n",
      "Original List:  ['c', 'Red', 'c', 'Green', 'c', 'Black']\n"
     ]
    }
   ],
   "source": [
    "#Addition of element before each element\n",
    "color = ['Red', 'Green', 'Black']\n",
    "print(\"Original List: \",color)\n",
    "color = [v for ele in color for v in ('c', ele)]\n",
    "print(\"Original List: \",color)\n"
   ]
  },
  {
   "cell_type": "code",
   "execution_count": 97,
   "id": "2935bf6c",
   "metadata": {},
   "outputs": [
    {
     "name": "stdout",
     "output_type": "stream",
     "text": [
      "['Randy Orton']\n",
      "['John Cena']\n",
      "['The Rock']\n"
     ]
    }
   ],
   "source": [
    "#Program to print list line by line\n",
    "colors = [['Randy Orton'], ['John Cena'], ['The Rock']]\n",
    "print('\\n'.join([str(lst) for lst in colors]))\n"
   ]
  },
  {
   "cell_type": "code",
   "execution_count": 100,
   "id": "92ed9281",
   "metadata": {},
   "outputs": [
    {
     "name": "stdout",
     "output_type": "stream",
     "text": [
      "Original List: \n",
      "[{'key': {'subkey': 1}}, {'key': {'subkey': 10}}, {'key': {'subkey': 5}}]\n",
      "Sorted List: \n",
      "[{'key': {'subkey': 10}}, {'key': {'subkey': 5}}, {'key': {'subkey': 1}}]\n"
     ]
    }
   ],
   "source": [
    "my_list = [{'key': {'subkey': 1}}, {'key': {'subkey': 10}}, {'key': {'subkey': 5}}]\n",
    "print(\"Original List: \")\n",
    "print(my_list)\n",
    "my_list.sort(key=lambda e: e['key']['subkey'], reverse=True)\n",
    "print(\"Sorted List: \")\n",
    "print(my_list)\n"
   ]
  },
  {
   "cell_type": "code",
   "execution_count": 101,
   "id": "075f7d76",
   "metadata": {},
   "outputs": [
    {
     "name": "stdout",
     "output_type": "stream",
     "text": [
      "0\n",
      "1\n",
      "2\n",
      "3\n",
      "4\n"
     ]
    }
   ],
   "source": [
    "#List With Infinite Elements\n",
    "import itertools\n",
    "c = itertools.count()\n",
    "print(next(c))\n",
    "print(next(c))\n",
    "print(next(c))\n",
    "print(next(c))\n",
    "print(next(c))\n"
   ]
  },
  {
   "cell_type": "code",
   "execution_count": 103,
   "id": "4b38a727",
   "metadata": {},
   "outputs": [
    {
     "name": "stdout",
     "output_type": "stream",
     "text": [
      "List is : ['Python', 'coding', 'for', 'extravagent', 'python', 'knowledge']\n"
     ]
    }
   ],
   "source": [
    "#Program to convert a String to a List\n",
    "str1 = \"Python coding for extravagent python knowledge\"\n",
    "list1 = list(str1.split(\" \")) \n",
    "print(\"List is :\",list1) "
   ]
  },
  {
   "cell_type": "code",
   "execution_count": 104,
   "id": "1b49aeb6",
   "metadata": {},
   "outputs": [
    {
     "name": "stdout",
     "output_type": "stream",
     "text": [
      "Elements in list1 are not equal\n",
      "Elements in list2 are equal\n"
     ]
    }
   ],
   "source": [
    "#to Check whether all elements in list are equal ot not\n",
    "def checkList( list):\n",
    "    first = list[0]\n",
    "    return list.count(first) == len(list)\n",
    "    \n",
    "        \n",
    "list1 = [1,2,3,4,5]\n",
    "list2 = [1,1,1,1,1]\n",
    "if checkList(list1):\n",
    "    print(\"Elements in list1 are equal\")\n",
    "else:\n",
    "    print(\"Elements in list1 are not equal\")\n",
    "    \n",
    "if checkList(list2):\n",
    "    print(\"Elements in list2 are equal\")\n",
    "else:\n",
    "    print(\"Elements in list2 are not equal\")"
   ]
  },
  {
   "cell_type": "code",
   "execution_count": 105,
   "id": "485f4b3e",
   "metadata": {},
   "outputs": [
    {
     "name": "stdout",
     "output_type": "stream",
     "text": [
      "(6, 0)\n"
     ]
    }
   ],
   "source": [
    "#Program to Find Tuple \n",
    "x = [(4, 1), (1, 2), (6, 0)]\n",
    "print(min(x, key=lambda n: (n[1], -n[0])))\n"
   ]
  },
  {
   "cell_type": "code",
   "execution_count": 107,
   "id": "62646da5",
   "metadata": {},
   "outputs": [
    {
     "name": "stdout",
     "output_type": "stream",
     "text": [
      "[{}, {}, {}, {}, {}, {}, {}, {}, {}]\n"
     ]
    }
   ],
   "source": [
    "#Program for Empty Dictionaries\n",
    "n = 9\n",
    "l = [{} for _ in range(n)]\n",
    "print(l)\n"
   ]
  },
  {
   "cell_type": "code",
   "execution_count": 108,
   "id": "ee8320cd",
   "metadata": {},
   "outputs": [
    {
     "name": "stdout",
     "output_type": "stream",
     "text": [
      "1 2 3 4 5\n"
     ]
    }
   ],
   "source": [
    "#List of space-seprated Element\n",
    "num = [1, 2, 3, 4, 5]\n",
    "print(*num)\n"
   ]
  },
  {
   "cell_type": "code",
   "execution_count": 109,
   "id": "fb974256",
   "metadata": {},
   "outputs": [
    {
     "name": "stdout",
     "output_type": "stream",
     "text": [
      "1 red\n",
      "2 white\n",
      "3 black\n"
     ]
    }
   ],
   "source": [
    "#program to iterate 2 lists simultaneously\n",
    "num = [1, 2, 3]\n",
    "color = ['red', 'white', 'black']\n",
    "for (a,b) in zip(num, color):\n",
    "     print(a, b)\n",
    "\t "
   ]
  },
  {
   "cell_type": "code",
   "execution_count": 110,
   "id": "ededfe21",
   "metadata": {},
   "outputs": [
    {
     "name": "stdout",
     "output_type": "stream",
     "text": [
      "physics\n",
      "math\n",
      "chemistry\n"
     ]
    }
   ],
   "source": [
    "#to acess dictionary keys by elements\n",
    "num = {'physics': 90, 'math': 95, 'chemistry': 92}\n",
    "print(list(num)[0])\n",
    "print(list(num)[1])\n",
    "print(list(num)[2])\n"
   ]
  },
  {
   "cell_type": "code",
   "execution_count": 114,
   "id": "217d1b2c",
   "metadata": {},
   "outputs": [
    {
     "name": "stdout",
     "output_type": "stream",
     "text": [
      "[11, 19, 20]\n"
     ]
    }
   ],
   "source": [
    "#Program to Find Maxiumum of Lists in the given Lists\n",
    "num = [[1,2,3], [4,5,6], [11,19,20], [7,8,9]]\n",
    "print(max(num, key=sum))\n"
   ]
  },
  {
   "cell_type": "code",
   "execution_count": 115,
   "id": "ce0e44f1",
   "metadata": {},
   "outputs": [
    {
     "name": "stdout",
     "output_type": "stream",
     "text": [
      "[40, 50, 60, 10, 20, 30]\n"
     ]
    }
   ],
   "source": [
    "#Extending List without Append\n",
    "x = [10, 20, 30]\n",
    "y = [40, 50, 60]\n",
    "x[:0] =y\n",
    "print(x)\n"
   ]
  },
  {
   "cell_type": "code",
   "execution_count": 119,
   "id": "4da303f8",
   "metadata": {},
   "outputs": [
    {
     "name": "stdout",
     "output_type": "stream",
     "text": [
      "Original List : [[10, 20], [40], [30, 56, 25], [10, 20], [33], [40]]\n",
      "List Without Duplicates : [[10, 20], [30, 56, 25], [33], [40]]\n"
     ]
    }
   ],
   "source": [
    "#Program to Remove Duplicates from a List\n",
    "import itertools\n",
    "num = [[10, 20], [40], [30, 56, 25], [10, 20], [33], [40]]\n",
    "print(\"Original List :\", num)\n",
    "num.sort()\n",
    "new_num = list(num for num,_ in itertools.groupby(num))\n",
    "print(\"List Without Duplicates :\", new_num)\n"
   ]
  },
  {
   "cell_type": "code",
   "execution_count": 121,
   "id": "ea810681",
   "metadata": {},
   "outputs": [
    {
     "name": "stdout",
     "output_type": "stream",
     "text": [
      "4\n"
     ]
    }
   ],
   "source": [
    "#Program to get depth of a Dictionary\n",
    "def dict_depth(d):\n",
    "    if isinstance(d, dict):\n",
    "        return 1 + (max(map(dict_depth, d.values())) if d else 0)\n",
    "    return 0\n",
    "dic = {'a':1, 'b': {'c': {'d': {}}}}\n",
    "print(dict_depth(dic))\n"
   ]
  },
  {
   "cell_type": "code",
   "execution_count": 122,
   "id": "d7074540",
   "metadata": {},
   "outputs": [
    {
     "name": "stdout",
     "output_type": "stream",
     "text": [
      "True\n",
      "False\n"
     ]
    }
   ],
   "source": [
    "#Last Program\n",
    "#Program to Check whether Given Dictionary is Empty or not\n",
    "my_list = [{},{},{}]\n",
    "my_list1 = [{1,2},{},{}]\n",
    "print(all(not d for d in my_list))\n",
    "print(all(not d for d in my_list1))\n"
   ]
  },
  {
   "cell_type": "code",
   "execution_count": 123,
   "id": "f43c602a",
   "metadata": {},
   "outputs": [
    {
     "name": "stdout",
     "output_type": "stream",
     "text": [
      "THANK YOU\n"
     ]
    }
   ],
   "source": [
    "#The End\n",
    "Assignment=\"THANK YOU\"\n",
    "print(Assignment)"
   ]
  },
  {
   "cell_type": "code",
   "execution_count": null,
   "id": "17dc72e5",
   "metadata": {},
   "outputs": [],
   "source": []
  }
 ],
 "metadata": {
  "kernelspec": {
   "display_name": "Python 3 (ipykernel)",
   "language": "python",
   "name": "python3"
  },
  "language_info": {
   "codemirror_mode": {
    "name": "ipython",
    "version": 3
   },
   "file_extension": ".py",
   "mimetype": "text/x-python",
   "name": "python",
   "nbconvert_exporter": "python",
   "pygments_lexer": "ipython3",
   "version": "3.9.7"
  }
 },
 "nbformat": 4,
 "nbformat_minor": 5
}
