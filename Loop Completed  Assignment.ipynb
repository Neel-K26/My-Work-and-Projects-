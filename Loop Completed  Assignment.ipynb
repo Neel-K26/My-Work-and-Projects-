{
 "cells": [
  {
   "cell_type": "code",
   "execution_count": 9,
   "id": "a82384db",
   "metadata": {},
   "outputs": [
    {
     "name": "stdout",
     "output_type": "stream",
     "text": [
      "Enter Any Number 10\n",
      "0\n",
      "1\n",
      "2\n",
      "3\n",
      "4\n",
      "5\n",
      "6\n",
      "7\n",
      "8\n",
      "9\n"
     ]
    }
   ],
   "source": [
    "#Forward Count\n",
    "no=int(input('Enter Any Number '))\n",
    "i=0\n",
    "while i<no:print(i);i+=1\n",
    "    "
   ]
  },
  {
   "cell_type": "code",
   "execution_count": 7,
   "id": "354d14e5",
   "metadata": {},
   "outputs": [
    {
     "name": "stdout",
     "output_type": "stream",
     "text": [
      "Enter Any Number 10\n",
      "10\n",
      "9\n",
      "8\n",
      "7\n",
      "6\n",
      "5\n",
      "4\n",
      "3\n",
      "2\n",
      "1\n"
     ]
    }
   ],
   "source": [
    "#Reverse Count\n",
    "no=int(input(\"Enter Any Number \"))\n",
    "i=no\n",
    "while (i>=1):\n",
    "          print(i,end='\\n')\n",
    "          i=i-1"
   ]
  },
  {
   "cell_type": "code",
   "execution_count": 26,
   "id": "c2737a7e",
   "metadata": {},
   "outputs": [
    {
     "name": "stdout",
     "output_type": "stream",
     "text": [
      "a b c d e f g h i j k l m n o p q r s t u v w x y z "
     ]
    }
   ],
   "source": [
    "#Counting Alphabets\n",
    "for alpha in range(97, 123):\n",
    "    print(chr(alpha), end=\" \")"
   ]
  },
  {
   "cell_type": "code",
   "execution_count": 18,
   "id": "043b6e58",
   "metadata": {},
   "outputs": [
    {
     "name": "stdout",
     "output_type": "stream",
     "text": [
      "2\n",
      "4\n",
      "6\n",
      "8\n",
      "10\n",
      "12\n",
      "14\n",
      "16\n",
      "18\n",
      "20\n",
      "22\n",
      "24\n",
      "26\n",
      "28\n",
      "30\n",
      "32\n",
      "34\n",
      "36\n",
      "38\n",
      "40\n",
      "42\n",
      "44\n",
      "46\n",
      "48\n",
      "50\n",
      "52\n",
      "54\n",
      "56\n",
      "58\n",
      "60\n",
      "62\n",
      "64\n",
      "66\n",
      "68\n",
      "70\n",
      "72\n",
      "74\n",
      "76\n",
      "78\n",
      "80\n",
      "82\n",
      "84\n",
      "86\n",
      "88\n",
      "90\n",
      "92\n",
      "94\n",
      "96\n",
      "98\n",
      "100\n"
     ]
    }
   ],
   "source": [
    "count=0\n",
    "while count<=98:\n",
    "        count=count+2\n",
    "        print(count)"
   ]
  },
  {
   "cell_type": "code",
   "execution_count": 24,
   "id": "5c129a64",
   "metadata": {},
   "outputs": [
    {
     "name": "stdout",
     "output_type": "stream",
     "text": [
      "3\n",
      "5\n",
      "7\n",
      "9\n",
      "11\n",
      "13\n",
      "15\n",
      "17\n",
      "19\n",
      "21\n",
      "23\n",
      "25\n",
      "27\n",
      "29\n",
      "31\n",
      "33\n",
      "35\n",
      "37\n",
      "39\n",
      "41\n",
      "43\n",
      "45\n",
      "47\n",
      "49\n",
      "51\n",
      "53\n",
      "55\n",
      "57\n",
      "59\n",
      "61\n",
      "63\n",
      "65\n",
      "67\n",
      "69\n",
      "71\n",
      "73\n",
      "75\n",
      "77\n",
      "79\n",
      "81\n",
      "83\n",
      "85\n",
      "87\n",
      "89\n",
      "91\n",
      "93\n",
      "95\n",
      "97\n",
      "99\n"
     ]
    }
   ],
   "source": [
    "count=1\n",
    "while count<98:\n",
    "        count=count+2\n",
    "        print(count)"
   ]
  },
  {
   "cell_type": "code",
   "execution_count": 1,
   "id": "35a412e1",
   "metadata": {},
   "outputs": [
    {
     "name": "stdout",
     "output_type": "stream",
     "text": [
      "Enter The no. 20\n",
      "Addition is 210\n"
     ]
    }
   ],
   "source": [
    "#Sum of all Natural Numbers using while loop\n",
    "n=int(input(\"Enter The no. \"))\n",
    "count,add= 1,0\n",
    "while count<=n:\n",
    "         add=add + count\n",
    "         count+=1\n",
    "else:\n",
    "    print(\"Addition is\",add)"
   ]
  },
  {
   "cell_type": "code",
   "execution_count": 46,
   "id": "62d0bb2a",
   "metadata": {},
   "outputs": [
    {
     "name": "stdout",
     "output_type": "stream",
     "text": [
      "Enter the Number 10\n",
      "Addition is : 30\n"
     ]
    }
   ],
   "source": [
    "#Sum of all even Natural Numbers\n",
    "n=int(input(\"Enter the Number \"))\n",
    "add=0\n",
    "count=2\n",
    "while count<=n:\n",
    "    add=add+count\n",
    "    count+=2\n",
    "else:\n",
    "    print(\"Addition is :\",add)\n"
   ]
  },
  {
   "cell_type": "code",
   "execution_count": 50,
   "id": "268f9c15",
   "metadata": {},
   "outputs": [
    {
     "name": "stdout",
     "output_type": "stream",
     "text": [
      "Enter the Number 10\n",
      "Addition is : 25\n"
     ]
    }
   ],
   "source": [
    "n=int(input(\"Enter the Number \"))\n",
    "add=0\n",
    "count=1\n",
    "while count<=n:\n",
    "    add=add+count\n",
    "    count+=2\n",
    "else:\n",
    "    print(\"Addition is :\",add)\n"
   ]
  },
  {
   "cell_type": "code",
   "execution_count": 61,
   "id": "e29eea5a",
   "metadata": {},
   "outputs": [
    {
     "name": "stdout",
     "output_type": "stream",
     "text": [
      "Enter The Number 2\n",
      "2 X 1 = 2\n",
      "2 X 2 = 4\n",
      "2 X 3 = 6\n",
      "2 X 4 = 8\n",
      "2 X 5 = 10\n",
      "2 X 6 = 12\n",
      "2 X 7 = 14\n",
      "2 X 8 = 16\n",
      "2 X 9 = 18\n",
      "2 X 10 = 20\n"
     ]
    }
   ],
   "source": [
    "n=int(input(\"Enter The Number \"))\n",
    "for i in range(1,11):\n",
    "      print(n,\"X\",i,\"=\",n * i)\n",
    " "
   ]
  },
  {
   "cell_type": "code",
   "execution_count": 71,
   "id": "02fd061d",
   "metadata": {},
   "outputs": [
    {
     "name": "stdout",
     "output_type": "stream",
     "text": [
      "Enter a number \n",
      "10\n",
      "Number of Digits: 2\n"
     ]
    }
   ],
   "source": [
    "\n",
    "num = int(input(\"Enter a number \\n\"))\n",
    "count = 0\n",
    "\n",
    "#counting number of digits in 'num'\n",
    "while num>0:\n",
    "    count +=1\n",
    "    num = num//10;\n",
    "    \n",
    "print(\"Number of Digits: %d\"%count)"
   ]
  },
  {
   "cell_type": "code",
   "execution_count": 99,
   "id": "1ace092d",
   "metadata": {},
   "outputs": [
    {
     "name": "stdout",
     "output_type": "stream",
     "text": [
      "Please Enter any Number: 10\n",
      "The First Digit from a Given Number 10 = 1\n",
      "The Last Digit in a Given Number 10 = 0\n"
     ]
    }
   ],
   "source": [
    "#Python Program to get the first digit of number\n",
    "# Python Program to find First Digit of a Number\n",
    "\n",
    "number = int(input(\"Please Enter any Number: \"))\n",
    "\n",
    "first_digit = number\n",
    "\n",
    "while (first_digit >= 10):\n",
    "    first_digit = first_digit // 10\n",
    "\n",
    "print(\"The First Digit from a Given Number {0} = {1}\".format(number, first_digit))\n",
    "\n",
    "last_digit = number % 10\n",
    "\n",
    "print(\"The Last Digit in a Given Number %d = %d\" %(number, last_digit))"
   ]
  },
  {
   "cell_type": "code",
   "execution_count": 103,
   "id": "45da8d74",
   "metadata": {},
   "outputs": [
    {
     "name": "stdout",
     "output_type": "stream",
     "text": [
      "Please Enter any Number: 20\n",
      "The First Digit from a Given Number 20 = 1\n",
      "The Last Digit in a Given Number 20 = 0\n",
      "Sum of given numbers is 1\n"
     ]
    }
   ],
   "source": [
    "number = int(input(\"Please Enter any Number: \"))\n",
    "while (first_digit >= 10):\n",
    "    first_digit = first_digit // 10\n",
    "\n",
    "print(\"The First Digit from a Given Number {0} = {1}\".format(number, first_digit))\n",
    "\n",
    "last_digit = number % 10\n",
    "\n",
    "print(\"The Last Digit in a Given Number %d = %d\" %(number, last_digit))\n"
   ]
  },
  {
   "cell_type": "code",
   "execution_count": 107,
   "id": "ab24ab0b",
   "metadata": {},
   "outputs": [
    {
     "name": "stdout",
     "output_type": "stream",
     "text": [
      "Enter The Number 83\n",
      "Addition of first and last digit of the number is 11\n"
     ]
    }
   ],
   "source": [
    "# We have a number\n",
    "number = int(input(\"Enter The Number \"))\n",
    "\n",
    "# We are type casting it in string\n",
    "number = str(number)\n",
    "\n",
    "# Storing first and last digit in a variable\n",
    "# after type casting into Integer.\n",
    "first_digit = int(number[0])\n",
    "last_digit = int(number[-1])\n",
    "\n",
    "# Adding these two variables\n",
    "addition = first_digit + last_digit\n",
    "\n",
    "# Display our output\n",
    "print('Addition of first and last digit of the number is',\n",
    "\taddition)\n"
   ]
  },
  {
   "cell_type": "code",
   "execution_count": 11,
   "id": "ef31658d",
   "metadata": {},
   "outputs": [
    {
     "name": "stdout",
     "output_type": "stream",
     "text": [
      "Enter a Number33\n",
      "6\n"
     ]
    }
   ],
   "source": [
    "#Sum of Digits\n",
    "n=int(input(\"Enter a Number\"))\n",
    "def setSum(n):\n",
    "    \n",
    "    sum = 0\n",
    "    for digit in str(n): \n",
    "        sum +=int(digit)      \n",
    "    return sum\n",
    "   \n",
    "print(setSum(n))"
   ]
  },
  {
   "cell_type": "code",
   "execution_count": 17,
   "id": "67aa8311",
   "metadata": {},
   "outputs": [
    {
     "name": "stdout",
     "output_type": "stream",
     "text": [
      "Enter any number : 22\n",
      "\n",
      "Product of all digits is 4\n"
     ]
    }
   ],
   "source": [
    "#Sum of Digits\n",
    "# Take input from user\n",
    "n = int(input(\"Enter any number : \"))\n",
    "\n",
    "p = n\n",
    "product = 1;\n",
    "\n",
    "while(p != 0):\n",
    "\n",
    "    product = product * (p % 10);\n",
    "\n",
    "    # Remove last digit from temp.\n",
    "    p = int(p / 10)\n",
    "\n",
    "print(\"\\nProduct of all digits is\", product)"
   ]
  },
  {
   "cell_type": "code",
   "execution_count": 20,
   "id": "55dea221",
   "metadata": {},
   "outputs": [
    {
     "name": "stdout",
     "output_type": "stream",
     "text": [
      "Enter number:212\n",
      "The number is a palindrome!\n"
     ]
    }
   ],
   "source": [
    "n=int(input(\"Enter number:\"))\n",
    "p=n\n",
    "rev=0\n",
    "while(n>0):\n",
    "    dig=n%10\n",
    "    rev=rev*10+dig\n",
    "    n=n//10\n",
    "if(p==rev):\n",
    "    print(\"The number is a palindrome!\")\n",
    "else:\n",
    "    print(\"The number isn't a palindrome!\")"
   ]
  },
  {
   "cell_type": "code",
   "execution_count": 24,
   "id": "b4543b5d",
   "metadata": {},
   "outputs": [
    {
     "name": "stdout",
     "output_type": "stream",
     "text": [
      "Please enter any number to find factorial: 33\n",
      "The factorial of 33 = 8683317618811886495518194401280000000\n"
     ]
    }
   ],
   "source": [
    "#Program to find Factorial\n",
    "\n",
    "def factorial(num):#function definition\n",
    "    fact=1\n",
    "\n",
    "    for i in range(1, num+1):\n",
    "        fact=fact*i\n",
    "    return fact     \n",
    "\n",
    "number=int(input(\"Please enter any number to find factorial: \"))\n",
    "\n",
    "result=factorial(number)\n",
    "\n",
    "print(\"The factorial of %d = %d\"%(number,result))"
   ]
  },
  {
   "cell_type": "code",
   "execution_count": 26,
   "id": "5785fa38",
   "metadata": {},
   "outputs": [
    {
     "name": "stdout",
     "output_type": "stream",
     "text": [
      "Enter number: 2\n",
      "2 is a prime number\n"
     ]
    }
   ],
   "source": [
    "number  = int(input(\"Enter number: \"))\n",
    "\n",
    "if number > 1:\n",
    "   for i in range(2,(number//2)+1):\n",
    "       if (number % i) == 0:\n",
    "           print(number,\"is not a prime number\")\n",
    "           break\n",
    "   else:\n",
    "       print(number,\"is a prime number\")\n",
    "else:\n",
    "   print(number,\"is not a prime number\")"
   ]
  },
  {
   "cell_type": "code",
   "execution_count": 32,
   "id": "00e05abf",
   "metadata": {},
   "outputs": [
    {
     "name": "stdout",
     "output_type": "stream",
     "text": [
      "Enter Number : 10\n",
      "\n",
      "All prime numbers upto 10 are : \n",
      "3 5 7 "
     ]
    }
   ],
   "source": [
    "# Take input from user\n",
    "n = int(input(\"Enter Number : \"))\n",
    "\n",
    "print(\"\\nAll prime numbers upto\", n, \"are : \")\n",
    "\n",
    "for num in range(2, n + 1):\n",
    "\n",
    "    i = 2\n",
    "\n",
    "    for i in range(2, num):\n",
    "        if(num % i == 0):\n",
    "            i = num\n",
    "            break;\n",
    "\n",
    "    # If the number is prime then print it.\n",
    "    if(i != num):\n",
    "        print(num, end=\" \")"
   ]
  },
  {
   "cell_type": "code",
   "execution_count": 33,
   "id": "e859fc56",
   "metadata": {},
   "outputs": [
    {
     "name": "stdout",
     "output_type": "stream",
     "text": [
      "Find sum of prime numbers upto : 100\n",
      "\n",
      "Sum of all prime numbers upto 100 : 1058\n"
     ]
    }
   ],
   "source": [
    "# Sum of prime numbers between 1-n\n",
    "upto = int(input(\"Find sum of prime numbers upto : \"))\n",
    "\n",
    "sum = 0\n",
    "\n",
    "for num in range(2, upto + 1):\n",
    "\n",
    "    i = 2\n",
    "    \n",
    "    for i in range(2, num):\n",
    "        if (int(num % i) == 0):\n",
    "            i = num\n",
    "            break;\n",
    "\n",
    "    #If the number is prime then add it.\n",
    "    if i is not num:\n",
    "        sum += num\n",
    "\n",
    "print(\"\\nSum of all prime numbers upto\", upto, \":\", sum)"
   ]
  },
  {
   "cell_type": "code",
   "execution_count": 37,
   "id": "0f80a178",
   "metadata": {},
   "outputs": [
    {
     "name": "stdout",
     "output_type": "stream",
     "text": [
      "Enter a number: 707\n",
      "707 is not an Armstrong number\n"
     ]
    }
   ],
   "source": [
    "# Python program to check if the number is an Armstrong number or not\n",
    "\n",
    "# take input from the user\n",
    "num = int(input(\"Enter a number: \"))\n",
    "\n",
    "# initialize sum\n",
    "sum = 0\n",
    "\n",
    "temp = num\n",
    "while temp > 0:\n",
    "    digit = temp % 10\n",
    "    sum += digit ** 3\n",
    "    temp //= 10\n",
    "\n",
    "\n",
    "if num == sum:\n",
    "    print(num,\"is an Armstrong number\")\n",
    "else:\n",
    "    print(num,\"is not an Armstrong number\")\n"
   ]
  },
  {
   "cell_type": "code",
   "execution_count": 45,
   "id": "680b570b",
   "metadata": {},
   "outputs": [
    {
     "name": "stdout",
     "output_type": "stream",
     "text": [
      "How many terms? 4\n",
      "Fibonacci sequence:\n",
      "0\n",
      "1\n",
      "1\n",
      "2\n"
     ]
    }
   ],
   "source": [
    "#program for Fibonacci Series\n",
    "\n",
    "n = int(input(\"How many terms? \"))\n",
    "\n",
    "# first two terms\n",
    "n1, n2 = 0, 1\n",
    "count = 0\n",
    "\n",
    "# check if the number of terms is valid\n",
    "if n <= 0:\n",
    "    print(\"Please enter a positive integer\")\n",
    "# if there is only one term, return n1\n",
    "elif n == 1:\n",
    "    print(\"Fibonacci sequence upto\",n,\":\")\n",
    "    print(n1)\n",
    "# generate fibonacci sequence\n",
    "else:\n",
    "    print(\"Fibonacci sequence:\")\n",
    "    while count < n:\n",
    "        print(n1)\n",
    "        nth = n1 + n2\n",
    "       # update values\n",
    "        n1 = n2\n",
    "        n2 = nth\n",
    "        count += 1"
   ]
  },
  {
   "cell_type": "code",
   "execution_count": 53,
   "id": "e35fb78e",
   "metadata": {},
   "outputs": [
    {
     "name": "stdout",
     "output_type": "stream",
     "text": [
      "*\n",
      "**\n",
      "***\n",
      "****\n",
      "*****\n"
     ]
    }
   ],
   "source": [
    "#Printing * Pattern\n",
    "for i in range(1,6):\n",
    "    for j in range(i):\n",
    "         print(\"*\",end='')\n",
    "    print()"
   ]
  },
  {
   "cell_type": "code",
   "execution_count": 56,
   "id": "ddfd28ca",
   "metadata": {},
   "outputs": [
    {
     "name": "stdout",
     "output_type": "stream",
     "text": [
      "\n",
      "1\n",
      "22\n",
      "333\n",
      "4444\n",
      "55555\n"
     ]
    }
   ],
   "source": [
    "#Pattern of Numbers\n",
    "r=5\n",
    "for i in range(r+1):\n",
    "    for j in range(i):\n",
    "        print(i,end='')\n",
    "    print()\n"
   ]
  },
  {
   "cell_type": "code",
   "execution_count": null,
   "id": "ce8fd0db",
   "metadata": {},
   "outputs": [],
   "source": [
    "#Assignment Done"
   ]
  }
 ],
 "metadata": {
  "kernelspec": {
   "display_name": "Python 3 (ipykernel)",
   "language": "python",
   "name": "python3"
  },
  "language_info": {
   "codemirror_mode": {
    "name": "ipython",
    "version": 3
   },
   "file_extension": ".py",
   "mimetype": "text/x-python",
   "name": "python",
   "nbconvert_exporter": "python",
   "pygments_lexer": "ipython3",
   "version": "3.9.7"
  }
 },
 "nbformat": 4,
 "nbformat_minor": 5
}
