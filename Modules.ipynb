{
 "cells": [
  {
   "cell_type": "code",
   "execution_count": 1,
   "id": "d4e770fa",
   "metadata": {},
   "outputs": [
    {
     "name": "stdout",
     "output_type": "stream",
     "text": [
      "-0.8555199789753223\n"
     ]
    }
   ],
   "source": [
    "import math\n",
    "print(math.sin(67))\n"
   ]
  },
  {
   "cell_type": "code",
   "execution_count": 2,
   "id": "1ff261ad",
   "metadata": {},
   "outputs": [
    {
     "name": "stdout",
     "output_type": "stream",
     "text": [
      "3.258096538021482\n"
     ]
    }
   ],
   "source": [
    "print(math.log(26))\n"
   ]
  },
  {
   "cell_type": "code",
   "execution_count": 3,
   "id": "09688d88",
   "metadata": {},
   "outputs": [
    {
     "name": "stdout",
     "output_type": "stream",
     "text": [
      "4.358898943540674\n"
     ]
    }
   ],
   "source": [
    "print(math.sqrt(19))"
   ]
  },
  {
   "cell_type": "code",
   "execution_count": 4,
   "id": "14620ece",
   "metadata": {},
   "outputs": [
    {
     "name": "stdout",
     "output_type": "stream",
     "text": [
      "3.141592653589793\n"
     ]
    }
   ],
   "source": [
    "print(math.pi)"
   ]
  },
  {
   "cell_type": "code",
   "execution_count": 5,
   "id": "dc197f74",
   "metadata": {},
   "outputs": [
    {
     "name": "stdout",
     "output_type": "stream",
     "text": [
      "2.718281828459045\n"
     ]
    }
   ],
   "source": [
    "print(math.e)"
   ]
  },
  {
   "cell_type": "code",
   "execution_count": 9,
   "id": "337ec781",
   "metadata": {},
   "outputs": [
    {
     "name": "stdout",
     "output_type": "stream",
     "text": [
      "0.7625584504796027\n"
     ]
    }
   ],
   "source": [
    "import math as m\n",
    "print(m.sin(26))"
   ]
  },
  {
   "cell_type": "code",
   "execution_count": 10,
   "id": "8d4e82bc",
   "metadata": {},
   "outputs": [
    {
     "name": "stdout",
     "output_type": "stream",
     "text": [
      "3.258096538021482\n"
     ]
    }
   ],
   "source": [
    "print(m.log(26))"
   ]
  },
  {
   "cell_type": "code",
   "execution_count": 11,
   "id": "200e541b",
   "metadata": {},
   "outputs": [
    {
     "name": "stdout",
     "output_type": "stream",
     "text": [
      "5.0990195135927845\n"
     ]
    }
   ],
   "source": [
    "print(m.sqrt(26))"
   ]
  },
  {
   "cell_type": "code",
   "execution_count": 12,
   "id": "42559b38",
   "metadata": {},
   "outputs": [
    {
     "name": "stdout",
     "output_type": "stream",
     "text": [
      "3.141592653589793\n"
     ]
    }
   ],
   "source": [
    "print(m.pi)"
   ]
  },
  {
   "cell_type": "code",
   "execution_count": 13,
   "id": "87be1c45",
   "metadata": {},
   "outputs": [
    {
     "name": "stdout",
     "output_type": "stream",
     "text": [
      "2.718281828459045\n"
     ]
    }
   ],
   "source": [
    "print(m.e)"
   ]
  },
  {
   "cell_type": "code",
   "execution_count": 15,
   "id": "b3bfc58a",
   "metadata": {},
   "outputs": [
    {
     "name": "stdout",
     "output_type": "stream",
     "text": [
      "0.7625584504796027\n"
     ]
    }
   ],
   "source": [
    "from math import sin, log, pi\n",
    "print(sin(26))"
   ]
  },
  {
   "cell_type": "code",
   "execution_count": 16,
   "id": "10dbab36",
   "metadata": {},
   "outputs": [
    {
     "name": "stdout",
     "output_type": "stream",
     "text": [
      "3.258096538021482\n"
     ]
    }
   ],
   "source": [
    "print(log(26))"
   ]
  },
  {
   "cell_type": "code",
   "execution_count": 17,
   "id": "00f92a84",
   "metadata": {},
   "outputs": [
    {
     "name": "stdout",
     "output_type": "stream",
     "text": [
      "3.141592653589793\n"
     ]
    }
   ],
   "source": [
    "print(pi)"
   ]
  },
  {
   "cell_type": "code",
   "execution_count": 18,
   "id": "28a49e43",
   "metadata": {},
   "outputs": [
    {
     "name": "stdout",
     "output_type": "stream",
     "text": [
      "0.6469193223286404\n"
     ]
    }
   ],
   "source": [
    "from math import*\n",
    "print(cos(26))"
   ]
  },
  {
   "cell_type": "code",
   "execution_count": 19,
   "id": "b0cb073b",
   "metadata": {},
   "outputs": [
    {
     "name": "stdout",
     "output_type": "stream",
     "text": [
      "2.718281828459045\n"
     ]
    }
   ],
   "source": [
    "print(e)"
   ]
  },
  {
   "cell_type": "code",
   "execution_count": 1,
   "id": "d757ee51",
   "metadata": {},
   "outputs": [
    {
     "name": "stdout",
     "output_type": "stream",
     "text": [
      "89\n"
     ]
    }
   ],
   "source": [
    "num=89\n",
    "print(num)"
   ]
  },
  {
   "cell_type": "code",
   "execution_count": null,
   "id": "94062d82",
   "metadata": {},
   "outputs": [],
   "source": []
  }
 ],
 "metadata": {
  "kernelspec": {
   "display_name": "Python 3 (ipykernel)",
   "language": "python",
   "name": "python3"
  },
  "language_info": {
   "codemirror_mode": {
    "name": "ipython",
    "version": 3
   },
   "file_extension": ".py",
   "mimetype": "text/x-python",
   "name": "python",
   "nbconvert_exporter": "python",
   "pygments_lexer": "ipython3",
   "version": "3.9.12"
  }
 },
 "nbformat": 4,
 "nbformat_minor": 5
}
