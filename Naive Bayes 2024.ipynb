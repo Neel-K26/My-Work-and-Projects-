{
 "cells": [
  {
   "cell_type": "code",
   "execution_count": 1,
   "id": "025d59a1",
   "metadata": {},
   "outputs": [],
   "source": [
    "import pandas as pd\n",
    "import numpy as np\n",
    "import matplotlib.pyplot as plt"
   ]
  },
  {
   "cell_type": "code",
   "execution_count": 2,
   "id": "d0d9e816",
   "metadata": {},
   "outputs": [],
   "source": [
    "data= pd.read_csv('C:\\\\Users\\\\Admin\\\\Social_Network_Ads.csv')"
   ]
  },
  {
   "cell_type": "code",
   "execution_count": 3,
   "id": "b4d6997d",
   "metadata": {},
   "outputs": [
    {
     "data": {
      "text/html": [
       "<div>\n",
       "<style scoped>\n",
       "    .dataframe tbody tr th:only-of-type {\n",
       "        vertical-align: middle;\n",
       "    }\n",
       "\n",
       "    .dataframe tbody tr th {\n",
       "        vertical-align: top;\n",
       "    }\n",
       "\n",
       "    .dataframe thead th {\n",
       "        text-align: right;\n",
       "    }\n",
       "</style>\n",
       "<table border=\"1\" class=\"dataframe\">\n",
       "  <thead>\n",
       "    <tr style=\"text-align: right;\">\n",
       "      <th></th>\n",
       "      <th>User ID</th>\n",
       "      <th>Gender</th>\n",
       "      <th>Age</th>\n",
       "      <th>EstimatedSalary</th>\n",
       "      <th>Purchased</th>\n",
       "    </tr>\n",
       "  </thead>\n",
       "  <tbody>\n",
       "    <tr>\n",
       "      <th>0</th>\n",
       "      <td>15624510</td>\n",
       "      <td>Male</td>\n",
       "      <td>19.0</td>\n",
       "      <td>19000.0</td>\n",
       "      <td>0</td>\n",
       "    </tr>\n",
       "    <tr>\n",
       "      <th>1</th>\n",
       "      <td>15810944</td>\n",
       "      <td>Male</td>\n",
       "      <td>35.0</td>\n",
       "      <td>20000.0</td>\n",
       "      <td>0</td>\n",
       "    </tr>\n",
       "    <tr>\n",
       "      <th>2</th>\n",
       "      <td>15668575</td>\n",
       "      <td>Female</td>\n",
       "      <td>26.0</td>\n",
       "      <td>43000.0</td>\n",
       "      <td>0</td>\n",
       "    </tr>\n",
       "    <tr>\n",
       "      <th>3</th>\n",
       "      <td>15603246</td>\n",
       "      <td>Female</td>\n",
       "      <td>27.0</td>\n",
       "      <td>57000.0</td>\n",
       "      <td>0</td>\n",
       "    </tr>\n",
       "    <tr>\n",
       "      <th>4</th>\n",
       "      <td>15804002</td>\n",
       "      <td>Male</td>\n",
       "      <td>19.0</td>\n",
       "      <td>76000.0</td>\n",
       "      <td>0</td>\n",
       "    </tr>\n",
       "    <tr>\n",
       "      <th>...</th>\n",
       "      <td>...</td>\n",
       "      <td>...</td>\n",
       "      <td>...</td>\n",
       "      <td>...</td>\n",
       "      <td>...</td>\n",
       "    </tr>\n",
       "    <tr>\n",
       "      <th>395</th>\n",
       "      <td>15691863</td>\n",
       "      <td>Female</td>\n",
       "      <td>46.0</td>\n",
       "      <td>41000.0</td>\n",
       "      <td>1</td>\n",
       "    </tr>\n",
       "    <tr>\n",
       "      <th>396</th>\n",
       "      <td>15706071</td>\n",
       "      <td>Male</td>\n",
       "      <td>51.0</td>\n",
       "      <td>23000.0</td>\n",
       "      <td>1</td>\n",
       "    </tr>\n",
       "    <tr>\n",
       "      <th>397</th>\n",
       "      <td>15654296</td>\n",
       "      <td>Female</td>\n",
       "      <td>50.0</td>\n",
       "      <td>20000.0</td>\n",
       "      <td>1</td>\n",
       "    </tr>\n",
       "    <tr>\n",
       "      <th>398</th>\n",
       "      <td>15755018</td>\n",
       "      <td>Male</td>\n",
       "      <td>36.0</td>\n",
       "      <td>33000.0</td>\n",
       "      <td>0</td>\n",
       "    </tr>\n",
       "    <tr>\n",
       "      <th>399</th>\n",
       "      <td>15594041</td>\n",
       "      <td>Female</td>\n",
       "      <td>49.0</td>\n",
       "      <td>36000.0</td>\n",
       "      <td>1</td>\n",
       "    </tr>\n",
       "  </tbody>\n",
       "</table>\n",
       "<p>400 rows × 5 columns</p>\n",
       "</div>"
      ],
      "text/plain": [
       "      User ID  Gender   Age  EstimatedSalary  Purchased\n",
       "0    15624510    Male  19.0          19000.0          0\n",
       "1    15810944    Male  35.0          20000.0          0\n",
       "2    15668575  Female  26.0          43000.0          0\n",
       "3    15603246  Female  27.0          57000.0          0\n",
       "4    15804002    Male  19.0          76000.0          0\n",
       "..        ...     ...   ...              ...        ...\n",
       "395  15691863  Female  46.0          41000.0          1\n",
       "396  15706071    Male  51.0          23000.0          1\n",
       "397  15654296  Female  50.0          20000.0          1\n",
       "398  15755018    Male  36.0          33000.0          0\n",
       "399  15594041  Female  49.0          36000.0          1\n",
       "\n",
       "[400 rows x 5 columns]"
      ]
     },
     "execution_count": 3,
     "metadata": {},
     "output_type": "execute_result"
    }
   ],
   "source": [
    "data"
   ]
  },
  {
   "cell_type": "code",
   "execution_count": 6,
   "id": "c69fa95a",
   "metadata": {},
   "outputs": [],
   "source": [
    "# Data preprocessing \n",
    "# train & test splits\n",
    "X= data.iloc[:,[2,4]] # input \n",
    "y= data.iloc[:,4] # output"
   ]
  },
  {
   "cell_type": "code",
   "execution_count": 7,
   "id": "b96d88f2",
   "metadata": {},
   "outputs": [],
   "source": [
    "# model_selection \n",
    "from sklearn.model_selection import train_test_split"
   ]
  },
  {
   "cell_type": "code",
   "execution_count": 8,
   "id": "8bfe1ae0",
   "metadata": {},
   "outputs": [],
   "source": [
    "X_train,X_test,y_train,y_test= train_test_split(X,y,test_size=0.25,random_state=0)"
   ]
  },
  {
   "cell_type": "code",
   "execution_count": 9,
   "id": "10f10451",
   "metadata": {},
   "outputs": [
    {
     "data": {
      "text/plain": [
       "(      Age  Purchased\n",
       " 250  44.0          0\n",
       " 63   32.0          1\n",
       " 312  38.0          0\n",
       " 159  32.0          1\n",
       " 283  52.0          1\n",
       " ..    ...        ...\n",
       " 323  48.0          1\n",
       " 192  29.0          0\n",
       " 117  36.0          0\n",
       " 47   27.0          0\n",
       " 172  26.0          0\n",
       " \n",
       " [300 rows x 2 columns],\n",
       " 250    0\n",
       " 63     1\n",
       " 312    0\n",
       " 159    1\n",
       " 283    1\n",
       "       ..\n",
       " 323    1\n",
       " 192    0\n",
       " 117    0\n",
       " 47     0\n",
       " 172    0\n",
       " Name: Purchased, Length: 300, dtype: int64)"
      ]
     },
     "execution_count": 9,
     "metadata": {},
     "output_type": "execute_result"
    }
   ],
   "source": [
    "X_train,y_train"
   ]
  },
  {
   "cell_type": "code",
   "execution_count": 10,
   "id": "e9b4c89f",
   "metadata": {},
   "outputs": [
    {
     "data": {
      "text/plain": [
       "(      Age  Purchased\n",
       " 132  30.0          0\n",
       " 309  38.0          0\n",
       " 341  35.0          0\n",
       " 196  30.0          0\n",
       " 246  35.0          0\n",
       " ..    ...        ...\n",
       " 146  27.0          1\n",
       " 135  23.0          0\n",
       " 390  48.0          1\n",
       " 264  48.0          1\n",
       " 364  42.0          1\n",
       " \n",
       " [100 rows x 2 columns],\n",
       " 132    0\n",
       " 309    0\n",
       " 341    0\n",
       " 196    0\n",
       " 246    0\n",
       "       ..\n",
       " 146    1\n",
       " 135    0\n",
       " 390    1\n",
       " 264    1\n",
       " 364    1\n",
       " Name: Purchased, Length: 100, dtype: int64)"
      ]
     },
     "execution_count": 10,
     "metadata": {},
     "output_type": "execute_result"
    }
   ],
   "source": [
    "X_test,y_test"
   ]
  },
  {
   "cell_type": "code",
   "execution_count": 11,
   "id": "138c06d3",
   "metadata": {},
   "outputs": [],
   "source": [
    "# Scaling Data\n",
    "from sklearn.preprocessing import StandardScaler"
   ]
  },
  {
   "cell_type": "code",
   "execution_count": 12,
   "id": "34196480",
   "metadata": {},
   "outputs": [],
   "source": [
    "sc= StandardScaler()"
   ]
  },
  {
   "cell_type": "code",
   "execution_count": 13,
   "id": "c3e353b7",
   "metadata": {},
   "outputs": [],
   "source": [
    "X_train= sc.fit_transform(X_train)"
   ]
  },
  {
   "cell_type": "code",
   "execution_count": 14,
   "id": "40f86941",
   "metadata": {},
   "outputs": [
    {
     "data": {
      "text/plain": [
       "array([[ 0.58164944, -0.76635604],\n",
       "       [-0.60673761,  1.30487651],\n",
       "       [-0.01254409, -0.76635604],\n",
       "       [-0.60673761,  1.30487651],\n",
       "       [ 1.37390747,  1.30487651],\n",
       "       [ 1.47293972,  1.30487651],\n",
       "       [ 0.08648817, -0.76635604],\n",
       "       [-0.01254409, -0.76635604],\n",
       "       [-0.21060859, -0.76635604],\n",
       "       [-0.21060859, -0.76635604],\n",
       "       [-0.30964085, -0.76635604],\n",
       "       [-0.30964085, -0.76635604],\n",
       "       [ 0.38358493,  1.30487651],\n",
       "       [ 0.8787462 ,  1.30487651],\n",
       "       [ 2.06713324,  1.30487651],\n",
       "       [ 1.07681071, -0.76635604],\n",
       "       [ 0.68068169,  1.30487651],\n",
       "       [-0.70576986, -0.76635604],\n",
       "       [ 0.77971394, -0.76635604],\n",
       "       [ 0.8787462 ,  1.30487651],\n",
       "       [-1.20093113, -0.76635604],\n",
       "       [ 2.1661655 ,  1.30487651],\n",
       "       [-0.01254409, -0.76635604],\n",
       "       [ 0.18552042,  1.30487651],\n",
       "       [ 0.38358493, -0.76635604],\n",
       "       [-0.30964085, -0.76635604],\n",
       "       [ 0.97777845,  1.30487651],\n",
       "       [ 0.97777845,  1.30487651],\n",
       "       [-0.01254409,  1.30487651],\n",
       "       [-0.90383437,  1.30487651],\n",
       "       [-1.20093113, -0.76635604],\n",
       "       [ 2.1661655 ,  1.30487651],\n",
       "       [-1.39899564, -0.76635604],\n",
       "       [ 0.38358493,  1.30487651],\n",
       "       [ 0.77971394, -0.76635604],\n",
       "       [-1.00286662, -0.76635604],\n",
       "       [ 0.08648817,  1.30487651],\n",
       "       [-1.00286662, -0.76635604],\n",
       "       [ 0.28455268, -0.76635604],\n",
       "       [ 0.68068169,  1.30487651],\n",
       "       [-0.50770535, -0.76635604],\n",
       "       [-1.79512465, -0.76635604],\n",
       "       [-0.70576986, -0.76635604],\n",
       "       [ 0.38358493, -0.76635604],\n",
       "       [-0.30964085, -0.76635604],\n",
       "       [-0.50770535,  1.30487651],\n",
       "       [ 0.18552042,  1.30487651],\n",
       "       [ 1.27487521,  1.30487651],\n",
       "       [ 0.77971394,  1.30487651],\n",
       "       [-0.30964085, -0.76635604],\n",
       "       [-0.01254409, -0.76635604],\n",
       "       [-0.21060859, -0.76635604],\n",
       "       [-0.11157634,  1.30487651],\n",
       "       [-0.01254409, -0.76635604],\n",
       "       [ 2.1661655 ,  1.30487651],\n",
       "       [-1.79512465, -0.76635604],\n",
       "       [ 1.86906873,  1.30487651],\n",
       "       [ 0.38358493, -0.76635604],\n",
       "       [-1.20093113, -0.76635604],\n",
       "       [ 0.77971394,  1.30487651],\n",
       "       [-0.30964085, -0.76635604],\n",
       "       [-1.6960924 , -0.76635604],\n",
       "       [-1.00286662, -0.76635604],\n",
       "       [ 0.28455268,  1.30487651],\n",
       "       [-0.11157634, -0.76635604],\n",
       "       [-1.10189888, -0.76635604],\n",
       "       [ 0.08648817, -0.76635604],\n",
       "       [-1.00286662,  1.30487651],\n",
       "       [-0.70576986,  1.30487651],\n",
       "       [-1.29996338, -0.76635604],\n",
       "       [-0.30964085, -0.76635604],\n",
       "       [-0.11157634,  1.30487651],\n",
       "       [-0.30964085, -0.76635604],\n",
       "       [ 0.8787462 ,  1.30487651],\n",
       "       [-0.30964085,  1.30487651],\n",
       "       [ 0.97777845,  1.30487651],\n",
       "       [-1.20093113, -0.76635604],\n",
       "       [-1.29996338, -0.76635604],\n",
       "       [ 1.37390747,  1.30487651],\n",
       "       [ 1.27487521,  1.30487651],\n",
       "       [-0.30964085, -0.76635604],\n",
       "       [-0.50770535, -0.76635604],\n",
       "       [-0.80480212,  1.30487651],\n",
       "       [ 0.97777845,  1.30487651],\n",
       "       [ 0.28455268, -0.76635604],\n",
       "       [ 0.97777845,  1.30487651],\n",
       "       [-0.70576986, -0.76635604],\n",
       "       [-0.70576986, -0.76635604],\n",
       "       [ 0.48261718,  1.30487651],\n",
       "       [ 2.06713324,  1.30487651],\n",
       "       [-1.99318916, -0.76635604],\n",
       "       [-0.21060859,  1.30487651],\n",
       "       [ 0.38358493,  1.30487651],\n",
       "       [ 0.8787462 ,  1.30487651],\n",
       "       [-1.20093113, -0.76635604],\n",
       "       [ 0.18552042, -0.76635604],\n",
       "       [ 0.77971394, -0.76635604],\n",
       "       [ 2.06713324, -0.76635604],\n",
       "       [ 0.77971394, -0.76635604],\n",
       "       [-0.30964085,  1.30487651],\n",
       "       [-1.00286662, -0.76635604],\n",
       "       [ 0.18552042, -0.76635604],\n",
       "       [ 2.06713324,  1.30487651],\n",
       "       [ 1.86906873,  1.30487651],\n",
       "       [ 1.37390747,  1.30487651],\n",
       "       [ 0.8787462 ,  1.30487651],\n",
       "       [ 1.47293972,  1.30487651],\n",
       "       [-0.30964085, -0.76635604],\n",
       "       [ 1.96810099,  1.30487651],\n",
       "       [ 0.68068169,  1.30487651],\n",
       "       [-1.49802789, -0.76635604],\n",
       "       [ 0.77971394,  1.30487651],\n",
       "       [ 0.38358493, -0.76635604],\n",
       "       [-1.00286662, -0.76635604],\n",
       "       [-0.01254409, -0.76635604],\n",
       "       [-1.20093113, -0.76635604],\n",
       "       [-0.90383437, -0.76635604],\n",
       "       [-0.11157634, -0.76635604],\n",
       "       [-1.59706014, -0.76635604],\n",
       "       [ 0.97777845,  1.30487651],\n",
       "       [ 1.07681071,  1.30487651],\n",
       "       [-0.01254409, -0.76635604],\n",
       "       [-1.10189888, -0.76635604],\n",
       "       [ 0.77971394,  1.30487651],\n",
       "       [ 0.97777845, -0.76635604],\n",
       "       [-1.20093113, -0.76635604],\n",
       "       [-0.30964085,  1.30487651],\n",
       "       [ 0.08648817, -0.76635604],\n",
       "       [-1.39899564, -0.76635604],\n",
       "       [-0.60673761, -0.76635604],\n",
       "       [ 0.77971394,  1.30487651],\n",
       "       [-0.30964085, -0.76635604],\n",
       "       [ 1.77003648,  1.30487651],\n",
       "       [ 0.8787462 ,  1.30487651],\n",
       "       [ 0.18552042, -0.76635604],\n",
       "       [-0.60673761,  1.30487651],\n",
       "       [-1.89415691, -0.76635604],\n",
       "       [-1.29996338, -0.76635604],\n",
       "       [-0.30964085, -0.76635604],\n",
       "       [-1.00286662, -0.76635604],\n",
       "       [ 1.17584296,  1.30487651],\n",
       "       [ 0.18552042, -0.76635604],\n",
       "       [ 1.17584296, -0.76635604],\n",
       "       [-0.30964085, -0.76635604],\n",
       "       [ 0.18552042,  1.30487651],\n",
       "       [ 0.77971394,  1.30487651],\n",
       "       [ 0.08648817, -0.76635604],\n",
       "       [-1.79512465, -0.76635604],\n",
       "       [-0.90383437, -0.76635604],\n",
       "       [-0.70576986, -0.76635604],\n",
       "       [ 0.8787462 ,  1.30487651],\n",
       "       [ 0.18552042, -0.76635604],\n",
       "       [-0.4086731 ,  1.30487651],\n",
       "       [-0.01254409, -0.76635604],\n",
       "       [ 0.38358493, -0.76635604],\n",
       "       [ 0.8787462 , -0.76635604],\n",
       "       [ 0.08648817,  1.30487651],\n",
       "       [-1.89415691, -0.76635604],\n",
       "       [-0.11157634, -0.76635604],\n",
       "       [-0.21060859, -0.76635604],\n",
       "       [ 0.28455268, -0.76635604],\n",
       "       [-0.21060859,  1.30487651],\n",
       "       [ 0.97777845,  1.30487651],\n",
       "       [-0.21060859,  1.30487651],\n",
       "       [ 1.27487521, -0.76635604],\n",
       "       [-1.10189888, -0.76635604],\n",
       "       [-0.01254409, -0.76635604],\n",
       "       [ 0.08648817, -0.76635604],\n",
       "       [-1.59706014, -0.76635604],\n",
       "       [-0.50770535, -0.76635604],\n",
       "       [ 0.97777845,  1.30487651],\n",
       "       [ 1.96810099,  1.30487651],\n",
       "       [ 1.47293972,  1.30487651],\n",
       "       [-0.60673761,  1.30487651],\n",
       "       [ 1.57197197,  1.30487651],\n",
       "       [-0.80480212, -0.76635604],\n",
       "       [ 1.96810099,  1.30487651],\n",
       "       [-1.20093113, -0.76635604],\n",
       "       [ 0.68068169, -0.76635604],\n",
       "       [-1.39899564, -0.76635604],\n",
       "       [ 0.18552042, -0.76635604],\n",
       "       [-0.50770535, -0.76635604],\n",
       "       [ 0.58164944,  1.30487651],\n",
       "       [-1.59706014, -0.76635604],\n",
       "       [-0.50770535, -0.76635604],\n",
       "       [ 0.48261718, -0.76635604],\n",
       "       [-1.39899564, -0.76635604],\n",
       "       [ 0.77971394, -0.76635604],\n",
       "       [-0.30964085, -0.76635604],\n",
       "       [ 1.57197197,  1.30487651],\n",
       "       [ 0.97777845,  1.30487651],\n",
       "       [-0.30964085, -0.76635604],\n",
       "       [-0.11157634,  1.30487651],\n",
       "       [-1.49802789, -0.76635604],\n",
       "       [-0.11157634,  1.30487651],\n",
       "       [-0.70576986, -0.76635604],\n",
       "       [-0.50770535, -0.76635604],\n",
       "       [ 0.68068169,  1.30487651],\n",
       "       [-0.80480212, -0.76635604],\n",
       "       [-1.89415691, -0.76635604],\n",
       "       [ 1.07681071, -0.76635604],\n",
       "       [ 0.08648817,  1.30487651],\n",
       "       [-0.30964085, -0.76635604],\n",
       "       [ 0.08648817, -0.76635604],\n",
       "       [-1.39899564, -0.76635604],\n",
       "       [ 0.28455268, -0.76635604],\n",
       "       [-0.90383437, -0.76635604],\n",
       "       [ 1.57197197,  1.30487651],\n",
       "       [-0.30964085, -0.76635604],\n",
       "       [-0.11157634, -0.76635604],\n",
       "       [-0.90383437, -0.76635604],\n",
       "       [-0.70576986, -0.76635604],\n",
       "       [ 0.38358493, -0.76635604],\n",
       "       [-0.80480212,  1.30487651],\n",
       "       [ 1.37390747, -0.76635604],\n",
       "       [ 1.17584296,  1.30487651],\n",
       "       [ 1.77003648,  1.30487651],\n",
       "       [-0.90383437, -0.76635604],\n",
       "       [-0.80480212, -0.76635604],\n",
       "       [-1.20093113, -0.76635604],\n",
       "       [-0.50770535, -0.76635604],\n",
       "       [ 0.28455268, -0.76635604],\n",
       "       [-0.21060859, -0.76635604],\n",
       "       [ 1.67100423,  1.30487651],\n",
       "       [ 0.97777845,  1.30487651],\n",
       "       [ 0.28455268, -0.76635604],\n",
       "       [-0.80480212, -0.76635604],\n",
       "       [-0.11157634, -0.76635604],\n",
       "       [ 0.28455268, -0.76635604],\n",
       "       [ 1.96810099,  1.30487651],\n",
       "       [-0.80480212, -0.76635604],\n",
       "       [-1.79512465, -0.76635604],\n",
       "       [-0.11157634, -0.76635604],\n",
       "       [ 0.28455268, -0.76635604],\n",
       "       [ 1.07681071,  1.30487651],\n",
       "       [-1.00286662, -0.76635604],\n",
       "       [ 1.47293972,  1.30487651],\n",
       "       [ 0.18552042, -0.76635604],\n",
       "       [ 2.1661655 ,  1.30487651],\n",
       "       [-0.30964085, -0.76635604],\n",
       "       [-1.6960924 , -0.76635604],\n",
       "       [-0.01254409, -0.76635604],\n",
       "       [ 0.08648817,  1.30487651],\n",
       "       [-0.11157634, -0.76635604],\n",
       "       [-1.20093113, -0.76635604],\n",
       "       [-0.30964085, -0.76635604],\n",
       "       [ 1.57197197,  1.30487651],\n",
       "       [-0.80480212, -0.76635604],\n",
       "       [ 0.08648817,  1.30487651],\n",
       "       [-0.90383437, -0.76635604],\n",
       "       [-0.50770535, -0.76635604],\n",
       "       [-0.30964085, -0.76635604],\n",
       "       [ 0.28455268, -0.76635604],\n",
       "       [ 0.28455268, -0.76635604],\n",
       "       [ 0.08648817,  1.30487651],\n",
       "       [-1.10189888,  1.30487651],\n",
       "       [-1.6960924 , -0.76635604],\n",
       "       [-1.20093113, -0.76635604],\n",
       "       [-0.70576986, -0.76635604],\n",
       "       [ 0.08648817, -0.76635604],\n",
       "       [ 0.28455268, -0.76635604],\n",
       "       [ 0.8787462 ,  1.30487651],\n",
       "       [ 0.28455268, -0.76635604],\n",
       "       [-0.11157634,  1.30487651],\n",
       "       [ 2.1661655 ,  1.30487651],\n",
       "       [-1.29996338, -0.76635604],\n",
       "       [-1.00286662, -0.76635604],\n",
       "       [-0.01254409, -0.76635604],\n",
       "       [-0.21060859, -0.76635604],\n",
       "       [-1.79512465, -0.76635604],\n",
       "       [ 1.77003648,  1.30487651],\n",
       "       [ 0.18552042, -0.76635604],\n",
       "       [ 0.38358493,  1.30487651],\n",
       "       [-1.79512465, -0.76635604],\n",
       "       [ 0.18552042, -0.76635604],\n",
       "       [ 0.8787462 ,  1.30487651],\n",
       "       [-1.99318916, -0.76635604],\n",
       "       [-0.30964085, -0.76635604],\n",
       "       [ 1.86906873,  1.30487651],\n",
       "       [-0.4086731 , -0.76635604],\n",
       "       [ 1.07681071,  1.30487651],\n",
       "       [-1.10189888, -0.76635604],\n",
       "       [-1.89415691, -0.76635604],\n",
       "       [ 0.08648817, -0.76635604],\n",
       "       [-1.20093113, -0.76635604],\n",
       "       [-1.29996338, -0.76635604],\n",
       "       [-1.00286662, -0.76635604],\n",
       "       [ 1.67100423,  1.30487651],\n",
       "       [ 1.17584296,  1.30487651],\n",
       "       [ 1.07681071,  1.30487651],\n",
       "       [ 1.37390747,  1.30487651],\n",
       "       [-0.30964085, -0.76635604],\n",
       "       [ 0.38358493, -0.76635604],\n",
       "       [-0.4086731 , -0.76635604],\n",
       "       [-0.11157634, -0.76635604],\n",
       "       [ 0.97777845,  1.30487651],\n",
       "       [-0.90383437, -0.76635604],\n",
       "       [-0.21060859, -0.76635604],\n",
       "       [-1.10189888, -0.76635604],\n",
       "       [-1.20093113, -0.76635604]])"
      ]
     },
     "execution_count": 14,
     "metadata": {},
     "output_type": "execute_result"
    }
   ],
   "source": [
    "X_train"
   ]
  },
  {
   "cell_type": "code",
   "execution_count": 19,
   "id": "def35873",
   "metadata": {},
   "outputs": [
    {
     "data": {
      "text/plain": [
       "array([[-0.54748976, -0.68599434],\n",
       "       [ 0.15442019, -0.68599434],\n",
       "       [-0.10879604, -0.68599434],\n",
       "       [-0.54748976, -0.68599434],\n",
       "       [-0.10879604, -0.68599434],\n",
       "       [-0.81070599, -0.68599434],\n",
       "       [-0.45975102, -0.68599434],\n",
       "       [-0.0210573 ,  1.45773797],\n",
       "       [-1.60035469, -0.68599434],\n",
       "       [ 0.94406888, -0.68599434],\n",
       "       [-0.54748976, -0.68599434],\n",
       "       [-0.72296725, -0.68599434],\n",
       "       [ 0.06668145, -0.68599434],\n",
       "       [ 0.24215893, -0.68599434],\n",
       "       [-1.4248772 , -0.68599434],\n",
       "       [-0.37201227, -0.68599434],\n",
       "       [ 0.06668145, -0.68599434],\n",
       "       [-1.51261594, -0.68599434],\n",
       "       [ 1.64597884,  1.45773797],\n",
       "       [-0.10879604, -0.68599434],\n",
       "       [-0.10879604, -0.68599434],\n",
       "       [ 0.94406888,  1.45773797],\n",
       "       [ 0.41763642, -0.68599434],\n",
       "       [ 0.94406888,  1.45773797],\n",
       "       [-1.16166097, -0.68599434],\n",
       "       [ 1.11954637,  1.45773797],\n",
       "       [-0.72296725, -0.68599434],\n",
       "       [-0.63522851, -0.68599434],\n",
       "       [ 0.06668145, -0.68599434],\n",
       "       [-0.37201227, -0.68599434],\n",
       "       [-1.33713846, -0.68599434],\n",
       "       [ 0.06668145,  1.45773797],\n",
       "       [ 1.82145632,  1.45773797],\n",
       "       [ 0.06668145, -0.68599434],\n",
       "       [-1.07392223, -0.68599434],\n",
       "       [-1.60035469, -0.68599434],\n",
       "       [-1.24939971, -0.68599434],\n",
       "       [-0.19653479, -0.68599434],\n",
       "       [-0.45975102, -0.68599434],\n",
       "       [ 1.11954637,  1.45773797],\n",
       "       [-0.81070599, -0.68599434],\n",
       "       [ 0.41763642, -0.68599434],\n",
       "       [-0.81070599, -0.68599434],\n",
       "       [-0.10879604, -0.68599434],\n",
       "       [ 0.59311391,  1.45773797],\n",
       "       [-0.81070599, -0.68599434],\n",
       "       [ 0.06668145, -0.68599434],\n",
       "       [ 1.3827626 ,  1.45773797],\n",
       "       [-0.89844474, -0.68599434],\n",
       "       [ 1.11954637,  1.45773797],\n",
       "       [ 1.82145632,  1.45773797],\n",
       "       [-0.19653479, -0.68599434],\n",
       "       [-0.10879604, -0.68599434],\n",
       "       [-0.19653479, -0.68599434],\n",
       "       [ 1.99693381,  1.45773797],\n",
       "       [ 0.7685914 ,  1.45773797],\n",
       "       [-0.63522851, -0.68599434],\n",
       "       [-0.89844474, -0.68599434],\n",
       "       [ 1.11954637,  1.45773797],\n",
       "       [-1.16166097, -0.68599434],\n",
       "       [-0.37201227, -0.68599434],\n",
       "       [ 2.08467255,  1.45773797],\n",
       "       [-1.51261594, -0.68599434],\n",
       "       [-0.0210573 ,  1.45773797],\n",
       "       [-1.51261594, -0.68599434],\n",
       "       [ 2.08467255,  1.45773797],\n",
       "       [-1.07392223, -0.68599434],\n",
       "       [-0.81070599, -0.68599434],\n",
       "       [ 0.32989768, -0.68599434],\n",
       "       [ 0.50537516, -0.68599434],\n",
       "       [-0.37201227,  1.45773797],\n",
       "       [-0.10879604, -0.68599434],\n",
       "       [-1.24939971, -0.68599434],\n",
       "       [ 0.7685914 ,  1.45773797],\n",
       "       [-0.81070599, -0.68599434],\n",
       "       [-1.60035469, -0.68599434],\n",
       "       [ 0.50537516, -0.68599434],\n",
       "       [ 0.32989768, -0.68599434],\n",
       "       [ 1.47050135,  1.45773797],\n",
       "       [ 0.94406888,  1.45773797],\n",
       "       [ 1.90919507,  1.45773797],\n",
       "       [ 1.99693381, -0.68599434],\n",
       "       [-1.07392223, -0.68599434],\n",
       "       [-0.89844474, -0.68599434],\n",
       "       [ 1.90919507,  1.45773797],\n",
       "       [ 0.50537516,  1.45773797],\n",
       "       [ 0.32989768, -0.68599434],\n",
       "       [ 1.99693381,  1.45773797],\n",
       "       [ 0.85633014,  1.45773797],\n",
       "       [ 0.41763642, -0.68599434],\n",
       "       [ 0.50537516, -0.68599434],\n",
       "       [ 0.06668145,  1.45773797],\n",
       "       [-1.16166097, -0.68599434],\n",
       "       [-0.98618348, -0.68599434],\n",
       "       [-1.07392223, -0.68599434],\n",
       "       [-0.81070599,  1.45773797],\n",
       "       [-1.16166097, -0.68599434],\n",
       "       [ 1.03180763,  1.45773797],\n",
       "       [ 1.03180763,  1.45773797],\n",
       "       [ 0.50537516,  1.45773797]])"
      ]
     },
     "execution_count": 19,
     "metadata": {},
     "output_type": "execute_result"
    }
   ],
   "source": [
    "X_test=sc.fit_transform(X_test)\n",
    "X_test"
   ]
  },
  {
   "cell_type": "code",
   "execution_count": 20,
   "id": "236a69bd",
   "metadata": {},
   "outputs": [],
   "source": [
    "# Model Creation Uding Naive Bayes\n",
    "from sklearn.naive_bayes import GaussianNB"
   ]
  },
  {
   "cell_type": "code",
   "execution_count": 21,
   "id": "9421446b",
   "metadata": {},
   "outputs": [],
   "source": [
    "gnb= GaussianNB()"
   ]
  },
  {
   "cell_type": "code",
   "execution_count": 22,
   "id": "e11576cb",
   "metadata": {},
   "outputs": [
    {
     "data": {
      "text/plain": [
       "GaussianNB()"
      ]
     },
     "execution_count": 22,
     "metadata": {},
     "output_type": "execute_result"
    }
   ],
   "source": [
    "gnb.fit(X_train,y_train)"
   ]
  },
  {
   "cell_type": "code",
   "execution_count": 24,
   "id": "8b7bc1ca",
   "metadata": {},
   "outputs": [],
   "source": [
    "y_pred=gnb.predict(X_test)"
   ]
  },
  {
   "cell_type": "code",
   "execution_count": 25,
   "id": "78a94f54",
   "metadata": {},
   "outputs": [
    {
     "data": {
      "text/plain": [
       "array([0, 0, 0, 0, 0, 0, 0, 1, 0, 0, 0, 0, 0, 0, 0, 0, 0, 0, 1, 0, 0, 1,\n",
       "       0, 1, 0, 1, 0, 0, 0, 0, 0, 1, 1, 0, 0, 0, 0, 0, 0, 1, 0, 0, 0, 0,\n",
       "       1, 0, 0, 1, 0, 1, 1, 0, 0, 0, 1, 1, 0, 0, 1, 0, 0, 1, 0, 1, 0, 1,\n",
       "       0, 0, 0, 0, 1, 0, 0, 1, 0, 0, 0, 0, 1, 1, 1, 0, 0, 0, 1, 1, 0, 1,\n",
       "       1, 0, 0, 1, 0, 0, 0, 1, 0, 1, 1, 1], dtype=int64)"
      ]
     },
     "execution_count": 25,
     "metadata": {},
     "output_type": "execute_result"
    }
   ],
   "source": [
    "y_pred"
   ]
  },
  {
   "cell_type": "code",
   "execution_count": 27,
   "id": "3707b752",
   "metadata": {},
   "outputs": [
    {
     "data": {
      "text/plain": [
       "array([0, 0, 0, 0, 0, 0, 0, 1, 0, 0, 0, 0, 0, 0, 0, 0, 0, 0, 1, 0, 0, 1,\n",
       "       0, 1, 0, 1, 0, 0, 0, 0, 0, 1, 1, 0, 0, 0, 0, 0, 0, 1, 0, 0, 0, 0,\n",
       "       1, 0, 0, 1, 0, 1, 1, 0, 0, 0, 1, 1, 0, 0, 1, 0, 0, 1, 0, 1, 0, 1,\n",
       "       0, 0, 0, 0, 1, 0, 0, 1, 0, 0, 0, 0, 1, 1, 1, 0, 0, 0, 1, 1, 0, 1,\n",
       "       1, 0, 0, 1, 0, 0, 0, 1, 0, 1, 1, 1], dtype=int64)"
      ]
     },
     "execution_count": 27,
     "metadata": {},
     "output_type": "execute_result"
    }
   ],
   "source": [
    "y_test.values"
   ]
  },
  {
   "cell_type": "code",
   "execution_count": 28,
   "id": "98034f0d",
   "metadata": {},
   "outputs": [],
   "source": [
    "# Lets check the accuracy with confusion Matrix\n",
    "from sklearn.metrics import accuracy_score, confusion_matrix\n"
   ]
  },
  {
   "cell_type": "code",
   "execution_count": 31,
   "id": "96cc6a53",
   "metadata": {},
   "outputs": [
    {
     "name": "stdout",
     "output_type": "stream",
     "text": [
      "Accuracy--> 1.0\n"
     ]
    }
   ],
   "source": [
    "ac= accuracy_score(y_test,y_pred)\n",
    "print('Accuracy-->',ac)"
   ]
  },
  {
   "cell_type": "code",
   "execution_count": 34,
   "id": "3835542c",
   "metadata": {},
   "outputs": [
    {
     "data": {
      "text/plain": [
       "array([[68,  0],\n",
       "       [ 0, 32]], dtype=int64)"
      ]
     },
     "execution_count": 34,
     "metadata": {},
     "output_type": "execute_result"
    }
   ],
   "source": [
    "cf= confusion_matrix(y_test,y_pred)\n",
    "cf"
   ]
  },
  {
   "cell_type": "code",
   "execution_count": 40,
   "id": "151e59d4",
   "metadata": {},
   "outputs": [],
   "source": [
    "from matplotlib import pyplot as plt"
   ]
  },
  {
   "cell_type": "code",
   "execution_count": 42,
   "id": "22c2e339",
   "metadata": {},
   "outputs": [
    {
     "data": {
      "text/plain": [
       "<matplotlib.collections.PathCollection at 0x1d05da9c520>"
      ]
     },
     "execution_count": 42,
     "metadata": {},
     "output_type": "execute_result"
    },
    {
     "data": {
      "image/png": "[encoded data removed]",
      "text/plain": [
       "<Figure size 432x288 with 1 Axes>"
      ]
     },
     "metadata": {
      "needs_background": "light"
     },
     "output_type": "display_data"
    }
   ],
   "source": [
    "# test observes\n",
    "x= X_test[:,0]\n",
    "y= X_test[:,1]\n",
    "c= y_test\n",
    "plt.scatter(x,y,c=c)"
   ]
  },
  {
   "cell_type": "code",
   "execution_count": 43,
   "id": "a54c1984",
   "metadata": {},
   "outputs": [
    {
     "data": {
      "text/plain": [
       "<matplotlib.collections.PathCollection at 0x1d05dbeed90>"
      ]
     },
     "execution_count": 43,
     "metadata": {},
     "output_type": "execute_result"
    },
    {
     "data": {
      "image/png": "[encoded data removed]",
      "text/plain": [
       "<Figure size 432x288 with 1 Axes>"
      ]
     },
     "metadata": {
      "needs_background": "light"
     },
     "output_type": "display_data"
    }
   ],
   "source": [
    "x= X_test[:,0]\n",
    "y= X_test[:,1]\n",
    "c= y_pred\n",
    "plt.scatter(x,y,c=c)"
   ]
  },
  {
   "cell_type": "code",
   "execution_count": 39,
   "id": "b0eefd6d",
   "metadata": {},
   "outputs": [],
   "source": []
  },
  {
   "cell_type": "code",
   "execution_count": null,
   "id": "af0257db",
   "metadata": {},
   "outputs": [],
   "source": []
  }
 ],
 "metadata": {
  "kernelspec": {
   "display_name": "Python 3 (ipykernel)",
   "language": "python",
   "name": "python3"
  },
  "language_info": {
   "codemirror_mode": {
    "name": "ipython",
    "version": 3
   },
   "file_extension": ".py",
   "mimetype": "text/x-python",
   "name": "python",
   "nbconvert_exporter": "python",
   "pygments_lexer": "ipython3",
   "version": "3.9.12"
  }
 },
 "nbformat": 4,
 "nbformat_minor": 5
}
