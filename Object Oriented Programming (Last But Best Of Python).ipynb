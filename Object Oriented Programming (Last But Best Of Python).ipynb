{
 "cells": [
  {
   "cell_type": "code",
   "execution_count": 6,
   "id": "456927f1",
   "metadata": {},
   "outputs": [
    {
     "name": "stdout",
     "output_type": "stream",
     "text": [
      "Hello NK The King\n"
     ]
    }
   ],
   "source": [
    "# A Simple Example Of Class\n",
    "class Test:\n",
    "    # A sample Method\n",
    "    def fun(self):\n",
    "        print(\"Hello NK The King\")\n",
    "obj=Test()             #Object Creation\n",
    "obj.fun()              #Method Call"
   ]
  },
  {
   "cell_type": "code",
   "execution_count": 47,
   "id": "081f508c",
   "metadata": {},
   "outputs": [
    {
     "name": "stdout",
     "output_type": "stream",
     "text": [
      "New York, USA\n"
     ]
    }
   ],
   "source": [
    "class Student:\n",
    "    stream='cse'\n",
    "    def _init_ (self,roll):\n",
    "        self.roll= roll\n",
    "    def setAdress(self,adress):\n",
    "        self.adress=adress\n",
    "    def getAdress(self):\n",
    "        return self.adress\n",
    "a= Student()\n",
    "a.setAdress('New York, USA')\n",
    "print(a.getAdress())"
   ]
  },
  {
   "cell_type": "code",
   "execution_count": 50,
   "id": "d3603636",
   "metadata": {},
   "outputs": [],
   "source": [
    "#Empty Class\n",
    "class Test:\n",
    "     pass\n",
    "t=Test()"
   ]
  },
  {
   "cell_type": "code",
   "execution_count": 58,
   "id": "dc8e5f17",
   "metadata": {},
   "outputs": [
    {
     "name": "stdout",
     "output_type": "stream",
     "text": [
      "2\n",
      "7\n",
      "7\n"
     ]
    }
   ],
   "source": [
    "#Data hiding\n",
    "class MyClass:\n",
    "    _hiddenVariable=0\n",
    "    \n",
    "    def add(self, increment):\n",
    "        self._hiddenVariable +=increment\n",
    "        print(self._hiddenVariable)\n",
    "myObject=MyClass()\n",
    "myObject.add(2)\n",
    "myObject.add(5)\n",
    "print(myObject._hiddenVariable)"
   ]
  },
  {
   "cell_type": "code",
   "execution_count": 65,
   "id": "6c816719",
   "metadata": {},
   "outputs": [
    {
     "name": "stdout",
     "output_type": "stream",
     "text": [
      "19\n"
     ]
    }
   ],
   "source": [
    "# Accesing Private Variable\n",
    "class MyClass:\n",
    "    __hiddenVariable= 19\n",
    "    \n",
    "myObject= MyClass()\n",
    "print(myObject._MyClass__hiddenVariable)"
   ]
  },
  {
   "cell_type": "code",
   "execution_count": 75,
   "id": "448ed8df",
   "metadata": {},
   "outputs": [
    {
     "ename": "SyntaxError",
     "evalue": "invalid syntax (Temp/ipykernel_11120/1730533387.py, line 8)",
     "output_type": "error",
     "traceback": [
      "\u001b[1;36m  File \u001b[1;32m\"C:\\Users\\Admin\\AppData\\Local\\Temp/ipykernel_11120/1730533387.py\"\u001b[1;36m, line \u001b[1;32m8\u001b[0m\n\u001b[1;33m    def __str__(self):\u001b[0m\n\u001b[1;37m    ^\u001b[0m\n\u001b[1;31mSyntaxError\u001b[0m\u001b[1;31m:\u001b[0m invalid syntax\n"
     ]
    }
   ],
   "source": [
    "#Printing The Objects\n",
    "class Test:\n",
    "    def __init_(self,a,b):\n",
    "        self.a=a\n",
    "        self.b=b\n",
    "    def __repr__(self):\n",
    "        return ('Test a:%s b:%s'% (self.a, self.b)\n",
    "    def __str__(self):\n",
    "        return ('Values:a is %s & b is %s'%(self.a,self.b)\n",
    "t=Test(67,78)\n",
    "print(t)             # Calls __str__()\n",
    "print([t])           # Calls __repr__()\n",
    "    "
   ]
  },
  {
   "cell_type": "code",
   "execution_count": 77,
   "id": "842720b4",
   "metadata": {},
   "outputs": [
    {
     "name": "stdout",
     "output_type": "stream",
     "text": [
      "<__main__.Test object at 0x0000019FD086D340>\n"
     ]
    }
   ],
   "source": [
    "#no _str_\n",
    "class Test:\n",
    "    def __init__(self,a,b):\n",
    "        self.a=a\n",
    "        self.b=b\n",
    "t=Test(365,102)\n",
    "print(t)"
   ]
  },
  {
   "cell_type": "code",
   "execution_count": 84,
   "id": "5e05e556",
   "metadata": {},
   "outputs": [
    {
     "name": "stdout",
     "output_type": "stream",
     "text": [
      "Tushar False\n",
      "NK True\n"
     ]
    }
   ],
   "source": [
    "#Inheritance\n",
    "class Person(object):\n",
    "    def __init__(self,name):\n",
    "        self.name=name\n",
    "    def getName(self):\n",
    "        return self.name\n",
    "    def isEmployee(self):\n",
    "        return False\n",
    "    #Inherited Class/(SubClass)\n",
    "class Employee(Person):\n",
    "    def isEmployee(Self):\n",
    "        return True\n",
    "#Driver Code\n",
    "emp= Person(\"Tushar\")\n",
    "print(emp.getName(), emp.isEmployee())   #Super Class\n",
    "\n",
    "emp=Employee('NK')\n",
    "print(emp.getName(), emp.isEmployee())    #SubClass\n",
    "\n",
    "\n"
   ]
  },
  {
   "cell_type": "code",
   "execution_count": 86,
   "id": "76f6de6d",
   "metadata": {},
   "outputs": [
    {
     "name": "stdout",
     "output_type": "stream",
     "text": [
      "True\n",
      "False\n",
      "False\n",
      "True\n"
     ]
    }
   ],
   "source": [
    "#Check The Subclass\n",
    "class Base(object):\n",
    "    pass #Empty Class\n",
    "class Derived(Base):\n",
    "    pass #Empty Class\n",
    "print(issubclass(Derived,Base))\n",
    "print(issubclass(Base,Derived))\n",
    "\n",
    "d=Derived()\n",
    "b=Base()\n",
    "\n",
    "print(isinstance(b,Derived))\n",
    "print(isinstance(d,Base))\n"
   ]
  },
  {
   "cell_type": "code",
   "execution_count": 91,
   "id": "46307c17",
   "metadata": {},
   "outputs": [
    {
     "name": "stdout",
     "output_type": "stream",
     "text": [
      "Base1\n",
      "Base2\n",
      "Derived\n",
      "NK King of Solar System\n"
     ]
    }
   ],
   "source": [
    "#Multiple Inheritance\n",
    "class Base1(object):\n",
    "    def __init__(self):\n",
    "        self.str1='NK'\n",
    "        print('Base1')\n",
    "class Base2(object):\n",
    "    def __init__(self):\n",
    "        self.str2=\"King of Solar System\"\n",
    "        print('Base2')\n",
    "class Derived(Base1,Base2):\n",
    "    def __init__(self):\n",
    "        Base1.__init__(self)\n",
    "        Base2.__init__(self)\n",
    "        print('Derived')\n",
    "    def printStrs(self):\n",
    "        print(self.str1,self.str2)\n",
    "ob=Derived()\n",
    "ob.printStrs()"
   ]
  },
  {
   "cell_type": "code",
   "execution_count": 95,
   "id": "7843b8ae",
   "metadata": {},
   "outputs": [
    {
     "name": "stdout",
     "output_type": "stream",
     "text": [
      "19 26\n"
     ]
    }
   ],
   "source": [
    "#Accesing the SuperClass\n",
    "class Base(object):\n",
    "    def __init__(self,x):\n",
    "        self.x= x\n",
    "class Derived(Base):\n",
    "    def __init__(self,x,y):\n",
    "        Base.x= x\n",
    "        self.y= y\n",
    "    def printXY(self):\n",
    "        print(Base.x,self.y)\n",
    "d=Derived(19,26)\n",
    "d.printXY()\n",
    "    "
   ]
  },
  {
   "cell_type": "code",
   "execution_count": 99,
   "id": "f73106a9",
   "metadata": {},
   "outputs": [
    {
     "name": "stdout",
     "output_type": "stream",
     "text": [
      "19 26\n"
     ]
    }
   ],
   "source": [
    "class Base(object):\n",
    "    def __init__(self,x):\n",
    "        self.x= x\n",
    "class Derived(Base):\n",
    "    def __init__(self,x,y):\n",
    "        super().__init__(x)\n",
    "        Base.x= x\n",
    "        self.y= y\n",
    "    def printXY(self):\n",
    "        print(Base.x,self.y)\n",
    "d=Derived(19,26)\n",
    "d.printXY()\n",
    "    "
   ]
  },
  {
   "cell_type": "code",
   "execution_count": 116,
   "id": "4a3e59b4",
   "metadata": {},
   "outputs": [
    {
     "name": "stdout",
     "output_type": "stream",
     "text": [
      "Employee Created.\n",
      "Employee Deleted.\n"
     ]
    }
   ],
   "source": [
    "#Destructor\n",
    "class Employee :\n",
    "    def __init__(self):\n",
    "         print('Employee Created.')\n",
    "    def __del__(self):\n",
    "         print('Employee Deleted.')\n",
    "obj = Employee()\n",
    "del obj"
   ]
  },
  {
   "cell_type": "code",
   "execution_count": 120,
   "id": "bff8bfc5",
   "metadata": {},
   "outputs": [
    {
     "name": "stdout",
     "output_type": "stream",
     "text": [
      "45\n",
      "NKWorld\n"
     ]
    }
   ],
   "source": [
    "#Operator Overloading\n",
    "class N:\n",
    "    def __init__(self,a):\n",
    "        self.a=a\n",
    "    def __add__(self,o):\n",
    "        return self.a + o.a\n",
    "ob1=N(19)\n",
    "ob2=N(26)\n",
    "ob3=N('NK')\n",
    "ob4=N('World')\n",
    "print(ob1+ob2)\n",
    "print(ob3+ob4)\n"
   ]
  },
  {
   "cell_type": "code",
   "execution_count": 122,
   "id": "56e487e3",
   "metadata": {},
   "outputs": [
    {
     "data": {
      "text/plain": [
       "['__abs__',\n",
       " '__add__',\n",
       " '__and__',\n",
       " '__bool__',\n",
       " '__ceil__',\n",
       " '__class__',\n",
       " '__delattr__',\n",
       " '__dir__',\n",
       " '__divmod__',\n",
       " '__doc__',\n",
       " '__eq__',\n",
       " '__float__',\n",
       " '__floor__',\n",
       " '__floordiv__',\n",
       " '__format__',\n",
       " '__ge__',\n",
       " '__getattribute__',\n",
       " '__getnewargs__',\n",
       " '__gt__',\n",
       " '__hash__',\n",
       " '__index__',\n",
       " '__init__',\n",
       " '__init_subclass__',\n",
       " '__int__',\n",
       " '__invert__',\n",
       " '__le__',\n",
       " '__lshift__',\n",
       " '__lt__',\n",
       " '__mod__',\n",
       " '__mul__',\n",
       " '__ne__',\n",
       " '__neg__',\n",
       " '__new__',\n",
       " '__or__',\n",
       " '__pos__',\n",
       " '__pow__',\n",
       " '__radd__',\n",
       " '__rand__',\n",
       " '__rdivmod__',\n",
       " '__reduce__',\n",
       " '__reduce_ex__',\n",
       " '__repr__',\n",
       " '__rfloordiv__',\n",
       " '__rlshift__',\n",
       " '__rmod__',\n",
       " '__rmul__',\n",
       " '__ror__',\n",
       " '__round__',\n",
       " '__rpow__',\n",
       " '__rrshift__',\n",
       " '__rshift__',\n",
       " '__rsub__',\n",
       " '__rtruediv__',\n",
       " '__rxor__',\n",
       " '__setattr__',\n",
       " '__sizeof__',\n",
       " '__str__',\n",
       " '__sub__',\n",
       " '__subclasshook__',\n",
       " '__truediv__',\n",
       " '__trunc__',\n",
       " '__xor__',\n",
       " 'as_integer_ratio',\n",
       " 'bit_length',\n",
       " 'conjugate',\n",
       " 'denominator',\n",
       " 'from_bytes',\n",
       " 'imag',\n",
       " 'numerator',\n",
       " 'real',\n",
       " 'to_bytes']"
      ]
     },
     "execution_count": 122,
     "metadata": {},
     "output_type": "execute_result"
    }
   ],
   "source": [
    "n=26\n",
    "dir(n)"
   ]
  },
  {
   "cell_type": "code",
   "execution_count": null,
   "id": "43699b71",
   "metadata": {},
   "outputs": [],
   "source": []
  }
 ],
 "metadata": {
  "kernelspec": {
   "display_name": "Python 3 (ipykernel)",
   "language": "python",
   "name": "python3"
  },
  "language_info": {
   "codemirror_mode": {
    "name": "ipython",
    "version": 3
   },
   "file_extension": ".py",
   "mimetype": "text/x-python",
   "name": "python",
   "nbconvert_exporter": "python",
   "pygments_lexer": "ipython3",
   "version": "3.9.7"
  }
 },
 "nbformat": 4,
 "nbformat_minor": 5
}
