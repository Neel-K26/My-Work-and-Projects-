{
 "cells": [
  {
   "cell_type": "code",
   "execution_count": 75,
   "id": "a9c19609",
   "metadata": {},
   "outputs": [
    {
     "data": {
      "text/plain": [
       "<function __main__.Test.fun(self)>"
      ]
     },
     "execution_count": 75,
     "metadata": {},
     "output_type": "execute_result"
    }
   ],
   "source": [
    "# A simple example class\n",
    "class Test:\n",
    "    # A sample method\n",
    "     def fun (self):\n",
    "            print('Hello')\n",
    "#Driver Code\n",
    "obj=Test                      #Object Creation\n",
    "obj.fun                       #Method Call"
   ]
  },
  {
   "cell_type": "code",
   "execution_count": 91,
   "id": "3ab642ec",
   "metadata": {},
   "outputs": [
    {
     "name": "stdout",
     "output_type": "stream",
     "text": [
      "Pune,Maharashtra\n"
     ]
    }
   ],
   "source": [
    "class Student:\n",
    "    stream='cse'\n",
    "    def _init_(self,roll):\n",
    "        self.roll=roll\n",
    "        #Add Instance Variable\n",
    "    def setAdress(self,adress):\n",
    "        self.adress=adress\n",
    "    def getAdress(self):\n",
    "        return self.adress\n",
    "a = Student()\n",
    "a.setAdress((\"Pune,Maharashtra\"))\n",
    "print(a.getAdress())\n",
    "        "
   ]
  },
  {
   "cell_type": "code",
   "execution_count": null,
   "id": "6d830f3e",
   "metadata": {},
   "outputs": [],
   "source": []
  }
 ],
 "metadata": {
  "kernelspec": {
   "display_name": "Python 3 (ipykernel)",
   "language": "python",
   "name": "python3"
  },
  "language_info": {
   "codemirror_mode": {
    "name": "ipython",
    "version": 3
   },
   "file_extension": ".py",
   "mimetype": "text/x-python",
   "name": "python",
   "nbconvert_exporter": "python",
   "pygments_lexer": "ipython3",
   "version": "3.9.7"
  }
 },
 "nbformat": 4,
 "nbformat_minor": 5
}
