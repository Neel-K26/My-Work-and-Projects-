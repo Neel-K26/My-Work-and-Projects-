{
 "cells": [
  {
   "cell_type": "code",
   "execution_count": 1,
   "id": "10aa0007",
   "metadata": {},
   "outputs": [
    {
     "name": "stdout",
     "output_type": "stream",
     "text": [
      "Enter The Temprature in Celcius 39\n",
      "The Temprature in Celcius is 39.0\n",
      "The Temprature of Celcius in Farenheit is  102.2\n"
     ]
    }
   ],
   "source": [
    "# Program to read Celsius User input\n",
    "c= float(input(\"Enter The Temprature in Celcius \"))\n",
    "\n",
    "Farenheit= 9/5*c+32\n",
    "print('The Temprature in Celcius is',c)\n",
    "print('The Temprature of Celcius in Farenheit is ',Farenheit)"
   ]
  },
  {
   "cell_type": "code",
   "execution_count": 2,
   "id": "bee43860",
   "metadata": {},
   "outputs": [
    {
     "name": "stdout",
     "output_type": "stream",
     "text": [
      "Total Distance in Kilometre 75\n",
      "Averge Consumption is : 7.5\n"
     ]
    }
   ],
   "source": [
    "#Avg Consumption of Bike\n",
    "d= int(input(\"Total Distance in Kilometre \"))\n",
    "f= 10.0\n",
    "avg= d/f\n",
    "print('Averge Consumption is :',avg)"
   ]
  },
  {
   "cell_type": "code",
   "execution_count": 3,
   "id": "b4ac5427",
   "metadata": {},
   "outputs": [
    {
     "name": "stdout",
     "output_type": "stream",
     "text": [
      "Enter the Radius 14\n",
      "The radius is : 14.0\n",
      "Area of a Circle  is : 615.44\n",
      "Permimeter of a Circle is : 87.92\n"
     ]
    }
   ],
   "source": [
    "#Radius of a Circle from user\n",
    "r=float(input('Enter the Radius '))\n",
    "print('The radius is :',r)\n",
    "a= 3.14*r*r\n",
    "print('Area of a Circle  is :',a)\n",
    "p=2*3.14*r\n",
    "print('Permimeter of a Circle is :',p)\n"
   ]
  },
  {
   "cell_type": "code",
   "execution_count": 4,
   "id": "f187faca",
   "metadata": {},
   "outputs": [
    {
     "name": "stdout",
     "output_type": "stream",
     "text": [
      "Enter the Length in meters 100\n",
      "Metre in Centimetre is : 10000\n",
      "Metre in inches is : 3936.9999999999995\n",
      "Metre in Yards is : 109.00000000000001\n"
     ]
    }
   ],
   "source": [
    "#Conversion of Metre in Centimetre, Inches & Yards\n",
    "m=int(input(\"Enter the Length in meters \"))\n",
    "cm=m*100\n",
    "i=m* 39.37\n",
    "y= m*1.09\n",
    "print(\"Metre in Centimetre is :\",cm)\n",
    "print(\"Metre in inches is :\",i)\n",
    "print(\"Metre in Yards is :\",y)"
   ]
  },
  {
   "cell_type": "code",
   "execution_count": 5,
   "id": "1b74fd86",
   "metadata": {},
   "outputs": [
    {
     "name": "stdout",
     "output_type": "stream",
     "text": [
      "Enter no. of Days 30\n",
      "No. of Year is : 0.0821917808219178\n",
      "No. of weeks is 4.285714285714286\n"
     ]
    }
   ],
   "source": [
    "# Conversion of given days into year and weeks\n",
    "d=int(input(\"Enter no. of Days \"))\n",
    "y= d/365\n",
    "print(\"No. of Year is :\",y)\n",
    "w= d/7\n",
    "print(\"No. of weeks is\",w)\n",
    "\n",
    "\n"
   ]
  },
  {
   "cell_type": "code",
   "execution_count": 6,
   "id": "f6f4efd6",
   "metadata": {},
   "outputs": [
    {
     "name": "stdout",
     "output_type": "stream",
     "text": [
      "Enter Seconds60\n",
      "Seconds is 60\n",
      "Minutes is : 1.0\n",
      "Hours is 0.016666666666666666\n"
     ]
    }
   ],
   "source": [
    "#conversion of seconds into Minutes and hours\n",
    "sec=int(input(\"Enter Seconds\"))\n",
    "print(\"Seconds is\",sec)\n",
    "m= sec/60\n",
    "print(\"Minutes is :\",m)\n",
    "h= sec/3600\n",
    "print(\"Hours is\",h)\n",
    "\n"
   ]
  },
  {
   "cell_type": "code",
   "execution_count": 7,
   "id": "d506e75a",
   "metadata": {},
   "outputs": [
    {
     "name": "stdout",
     "output_type": "stream",
     "text": [
      "Enter the Base Value 57\n",
      "Enter the Height Value 98\n",
      "Area is : 2793.0\n"
     ]
    }
   ],
   "source": [
    "#Area of Traingle\n",
    "b=int(input(\"Enter the Base Value \"))\n",
    "h=int(input(\"Enter the Height Value \"))\n",
    "a=0.5*b*h\n",
    "print(\"Area is :\",a)"
   ]
  },
  {
   "cell_type": "code",
   "execution_count": 8,
   "id": "d516ae4d",
   "metadata": {},
   "outputs": [
    {
     "name": "stdout",
     "output_type": "stream",
     "text": [
      "Enter The Radius 15\n",
      "The Area of : 2826.0\n"
     ]
    }
   ],
   "source": [
    "#Calculation of Area of Circle using given Formula\n",
    "r=float(input(\"Enter The Radius \"))\n",
    "a=4*3.14*r*r                             #4pi*r^2\n",
    "print(\"The Area of :\",a)"
   ]
  },
  {
   "cell_type": "code",
   "execution_count": 9,
   "id": "67f7dbcb",
   "metadata": {},
   "outputs": [
    {
     "name": "stdout",
     "output_type": "stream",
     "text": [
      "Enter the Radius 78\n",
      "Enter the Height 79\n",
      "The Volume of Cylainder is : 1509197.0400000003\n"
     ]
    }
   ],
   "source": [
    "#Volume if Cylainder\n",
    "r=float(input(\"Enter the Radius \"))\n",
    "h=int(input(\"Enter the Height \"))\n",
    "V=3.14*r*r*h\n",
    "print(\"The Volume of Cylainder is :\",V)"
   ]
  },
  {
   "cell_type": "code",
   "execution_count": null,
   "id": "459583ea",
   "metadata": {},
   "outputs": [],
   "source": []
  }
 ],
 "metadata": {
  "kernelspec": {
   "display_name": "Python 3 (ipykernel)",
   "language": "python",
   "name": "python3"
  },
  "language_info": {
   "codemirror_mode": {
    "name": "ipython",
    "version": 3
   },
   "file_extension": ".py",
   "mimetype": "text/x-python",
   "name": "python",
   "nbconvert_exporter": "python",
   "pygments_lexer": "ipython3",
   "version": "3.9.7"
  }
 },
 "nbformat": 4,
 "nbformat_minor": 5
}
