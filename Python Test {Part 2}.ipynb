{
 "cells": [
  {
   "cell_type": "code",
   "execution_count": 2,
   "id": "1fe30a13",
   "metadata": {},
   "outputs": [
    {
     "name": "stdout",
     "output_type": "stream",
     "text": [
      "Hello World\n"
     ]
    }
   ],
   "source": [
    "# Function\n",
    "def show():     # def used for function call\n",
    "    print('Hello World')\n",
    "show()"
   ]
  },
  {
   "cell_type": "code",
   "execution_count": 4,
   "id": "1fa4630f",
   "metadata": {},
   "outputs": [
    {
     "name": "stdout",
     "output_type": "stream",
     "text": [
      "Enter number :74\n",
      "Square: 5476\n",
      "Square: 3709476\n"
     ]
    }
   ],
   "source": [
    "def square(x):\n",
    "    y= x*x\n",
    "    print(\"Square:\",y)\n",
    "num=int(input('Enter number :'))\n",
    "square(num) # Variable argument\n",
    "square(1926) # Constant argument\n",
    "\n"
   ]
  },
  {
   "cell_type": "code",
   "execution_count": 6,
   "id": "23593704",
   "metadata": {},
   "outputs": [
    {
     "name": "stdout",
     "output_type": "stream",
     "text": [
      "Enter number:1926\n",
      "Square is 3709476\n",
      "Cube is 7144450776\n"
     ]
    }
   ],
   "source": [
    "# Function returning values\n",
    "num= int(input('Enter number:'))\n",
    "def square(x):\n",
    "    y=x*x\n",
    "    return y\n",
    "def cube(x):\n",
    "    y= x* square(x)\n",
    "    return y\n",
    "print('Square is',square(num))\n",
    "a= cube(num)\n",
    "print('Cube is',a)\n",
    "#print('Cube is', num*square(num))\n"
   ]
  },
  {
   "cell_type": "code",
   "execution_count": 8,
   "id": "d9a1640c",
   "metadata": {},
   "outputs": [
    {
     "name": "stdout",
     "output_type": "stream",
     "text": [
      "Multi is 2592\n",
      "Multi is 360\n",
      "Multi is 600\n",
      "Multi is 100\n",
      "Multi is 42\n"
     ]
    }
   ],
   "source": [
    "#Default Parameters\n",
    "def mul(x=2,y=5,z=10):\n",
    "    result=x*y*z\n",
    "    return result \n",
    "print('Multi is',mul(12,36,6))\n",
    "print('Multi is',mul(12,3))\n",
    "print('Multi is',mul(12))\n",
    "print('Multi is',mul())\n",
    "print('Multi is',mul(z=2,y=3,x=7))\n",
    "\n"
   ]
  },
  {
   "cell_type": "code",
   "execution_count": 9,
   "id": "ca36e7ad",
   "metadata": {},
   "outputs": [
    {
     "name": "stdout",
     "output_type": "stream",
     "text": [
      "Addition is 367.0\n",
      "Average is 52.43\n"
     ]
    }
   ],
   "source": [
    "def array(n):\n",
    "    add=0\n",
    "    for x in n:\n",
    "        add+=x\n",
    "    avg=add/len(n)\n",
    "    return add, avg\n",
    "arr=[43,65,76,11.0,23,67,82]\n",
    "a,b= array(arr)\n",
    "print(\"Addition is\",a)\n",
    "print('Average is %.2f' %b)\n"
   ]
  },
  {
   "cell_type": "code",
   "execution_count": 12,
   "id": "83b3394f",
   "metadata": {},
   "outputs": [
    {
     "name": "stdout",
     "output_type": "stream",
     "text": [
      "Enter the Number :26\n",
      "Factorial is 403291461126605635584000000\n"
     ]
    }
   ],
   "source": [
    "# call ny themselves----> recursion\n",
    "def factorial(n):\n",
    "    if n<=1: \n",
    "        return 1\n",
    "    else:\n",
    "        return n* factorial(n-1)\n",
    "num=int(input('Enter the Number :'))\n",
    "print('Factorial is', factorial(num))"
   ]
  },
  {
   "cell_type": "code",
   "execution_count": 13,
   "id": "2649ad75",
   "metadata": {},
   "outputs": [
    {
     "name": "stdout",
     "output_type": "stream",
     "text": [
      "1\n",
      "2\n",
      "3\n",
      "x\n",
      "y\n",
      "11\n",
      "True\n",
      "name Gayatri\n",
      "age 18\n",
      "pi 3.26\n"
     ]
    }
   ],
   "source": [
    "# Variable length Arguments\n",
    "def show(*args):\n",
    "    for a in args:\n",
    "        print(a)\n",
    "show(1,2,3)\n",
    "show('x','y',11,True)\n",
    "\n",
    "\n",
    "def display(**kwargs):\n",
    "    for a in kwargs:\n",
    "        print(a,kwargs[a])\n",
    " # Display the function\n",
    "display(name='Gayatri',age=18)\n",
    "display(pi=3.26)\n",
    "\n"
   ]
  },
  {
   "cell_type": "code",
   "execution_count": 26,
   "id": "9e5d2621",
   "metadata": {},
   "outputs": [
    {
     "name": "stdout",
     "output_type": "stream",
     "text": [
      "144\n"
     ]
    }
   ],
   "source": [
    "# anonymous functions-- defined without keyword def but rather lambda\n",
    "#lambda arguments : expression\n",
    "square= lambda x:x ** 2\n",
    "print(square(12))\n",
    "\n"
   ]
  },
  {
   "cell_type": "code",
   "execution_count": 24,
   "id": "b57fa370",
   "metadata": {},
   "outputs": [
    {
     "name": "stdout",
     "output_type": "stream",
     "text": [
      "[11, 8, 13]\n"
     ]
    }
   ],
   "source": [
    "seq=[0,11,2,3,5,8,13]\n",
    "result = filter(lambda x:x>5,seq)    # Numbers greater than 5\n",
    "print(list(result))"
   ]
  },
  {
   "cell_type": "code",
   "execution_count": 25,
   "id": "308d1ca7",
   "metadata": {},
   "outputs": [
    {
     "name": "stdout",
     "output_type": "stream",
     "text": [
      "[0, 2, 8]\n"
     ]
    }
   ],
   "source": [
    "result=filter(lambda x:x %2==0,seq) # Numbers which are even\n",
    "print(list(result))\n"
   ]
  },
  {
   "cell_type": "code",
   "execution_count": 27,
   "id": "4f1562bd",
   "metadata": {},
   "outputs": [
    {
     "name": "stdout",
     "output_type": "stream",
     "text": [
      "[1, 4, 9, 16]\n",
      "[['s', 'a', 't'], ['b', 'a', 't'], ['c', 'a', 't'], ['m', 'a', 't']]\n"
     ]
    }
   ],
   "source": [
    "# map function\n",
    "def square(n):\n",
    "    return n*n\n",
    "# we square all numbers using map()\n",
    "numbers=(1,2,3,4)\n",
    "result= map(square,numbers)\n",
    "print(list(result))\n",
    "#Lists of Strings\n",
    "l=['sat','bat','cat','mat']\n",
    "test= map(list,l)\n",
    "print(list(test))\n",
    "\n",
    "\n"
   ]
  },
  {
   "cell_type": "code",
   "execution_count": 34,
   "id": "115b75a2",
   "metadata": {},
   "outputs": [],
   "source": [
    "# Global keyword\n",
    "c=0\n",
    "def add():\n",
    "    global c\n",
    "    c=c+2 # increment by 2\n",
    "    add()\n",
    "    print ('In Main :', c)"
   ]
  },
  {
   "cell_type": "code",
   "execution_count": null,
   "id": "cbb97c48",
   "metadata": {},
   "outputs": [],
   "source": []
  },
  {
   "cell_type": "code",
   "execution_count": 35,
   "id": "51770c26",
   "metadata": {},
   "outputs": [
    {
     "name": "stdout",
     "output_type": "stream",
     "text": [
      "-0.8555199789753223\n"
     ]
    }
   ],
   "source": [
    "# Modules in Python -- used to categorise code in Python into smaller parts\n",
    "# import\n",
    "# import as\n",
    "# from import\n",
    "import math\n",
    "print(math.sin(67))"
   ]
  },
  {
   "cell_type": "code",
   "execution_count": 36,
   "id": "d1868300",
   "metadata": {},
   "outputs": [
    {
     "name": "stdout",
     "output_type": "stream",
     "text": [
      "7.563200592358071\n"
     ]
    }
   ],
   "source": [
    "print(math.log(1926))"
   ]
  },
  {
   "cell_type": "code",
   "execution_count": 37,
   "id": "474cc4f7",
   "metadata": {},
   "outputs": [
    {
     "name": "stdout",
     "output_type": "stream",
     "text": [
      "6.708203932499369\n"
     ]
    }
   ],
   "source": [
    "print(math.sqrt(45))"
   ]
  },
  {
   "cell_type": "code",
   "execution_count": 38,
   "id": "699dac85",
   "metadata": {},
   "outputs": [
    {
     "name": "stdout",
     "output_type": "stream",
     "text": [
      "3.141592653589793\n"
     ]
    }
   ],
   "source": [
    "print(math.pi)"
   ]
  },
  {
   "cell_type": "code",
   "execution_count": 39,
   "id": "a39c44bd",
   "metadata": {},
   "outputs": [
    {
     "name": "stdout",
     "output_type": "stream",
     "text": [
      "2.718281828459045\n"
     ]
    }
   ],
   "source": [
    "print(math.e)"
   ]
  },
  {
   "cell_type": "code",
   "execution_count": 41,
   "id": "55a41ca7",
   "metadata": {},
   "outputs": [
    {
     "name": "stdout",
     "output_type": "stream",
     "text": [
      "0.8939966636005579\n"
     ]
    }
   ],
   "source": [
    "# import using alias\n",
    "import math as m\n",
    "print(m.sin(90))"
   ]
  },
  {
   "cell_type": "code",
   "execution_count": 42,
   "id": "af9b43e0",
   "metadata": {},
   "outputs": [
    {
     "name": "stdout",
     "output_type": "stream",
     "text": [
      "4.499809670330265\n"
     ]
    }
   ],
   "source": [
    "print(m.log(90))"
   ]
  },
  {
   "cell_type": "code",
   "execution_count": 43,
   "id": "22974a58",
   "metadata": {},
   "outputs": [
    {
     "name": "stdout",
     "output_type": "stream",
     "text": [
      "9.486832980505138\n"
     ]
    }
   ],
   "source": [
    "print(m.sqrt(90))"
   ]
  },
  {
   "cell_type": "code",
   "execution_count": 44,
   "id": "1198b9bb",
   "metadata": {},
   "outputs": [
    {
     "name": "stdout",
     "output_type": "stream",
     "text": [
      "3.141592653589793\n"
     ]
    }
   ],
   "source": [
    "print(m.pi)"
   ]
  },
  {
   "cell_type": "code",
   "execution_count": 45,
   "id": "e807ff1d",
   "metadata": {},
   "outputs": [
    {
     "name": "stdout",
     "output_type": "stream",
     "text": [
      "2.718281828459045\n"
     ]
    }
   ],
   "source": [
    "print(m.e)"
   ]
  },
  {
   "cell_type": "code",
   "execution_count": 46,
   "id": "83cd9268",
   "metadata": {},
   "outputs": [
    {
     "name": "stdout",
     "output_type": "stream",
     "text": [
      "0.5806111842123143\n"
     ]
    }
   ],
   "source": [
    "from math import sin,log,pi\n",
    "print(sin(120))"
   ]
  },
  {
   "cell_type": "code",
   "execution_count": 47,
   "id": "ecf1a28e",
   "metadata": {},
   "outputs": [
    {
     "name": "stdout",
     "output_type": "stream",
     "text": [
      "3.8066624897703196\n"
     ]
    }
   ],
   "source": [
    "print(log(45))"
   ]
  },
  {
   "cell_type": "code",
   "execution_count": 48,
   "id": "bc1899eb",
   "metadata": {},
   "outputs": [
    {
     "name": "stdout",
     "output_type": "stream",
     "text": [
      "3.141592653589793\n"
     ]
    }
   ],
   "source": [
    "print(pi)"
   ]
  },
  {
   "cell_type": "code",
   "execution_count": 49,
   "id": "848a44bf",
   "metadata": {},
   "outputs": [
    {
     "name": "stdout",
     "output_type": "stream",
     "text": [
      "0.5253219888177297\n"
     ]
    }
   ],
   "source": [
    "from math import *\n",
    "print(cos(45))"
   ]
  },
  {
   "cell_type": "code",
   "execution_count": 50,
   "id": "9e4a4230",
   "metadata": {},
   "outputs": [
    {
     "name": "stdout",
     "output_type": "stream",
     "text": [
      "2.718281828459045\n"
     ]
    }
   ],
   "source": [
    "print(e)"
   ]
  },
  {
   "cell_type": "code",
   "execution_count": 74,
   "id": "5229b4b7",
   "metadata": {},
   "outputs": [
    {
     "name": "stdout",
     "output_type": "stream",
     "text": [
      "12\n"
     ]
    }
   ],
   "source": [
    "num=12\n",
    "print(num)\n",
    "\n",
    "def factorial(n):\n",
    "    if n <= 1:\n",
    "        return 1\n",
    "    else:\n",
    "        return n * factorial(n-1)\n",
    "\n",
    "def hello(s):\n",
    "    print('Hello', s)\n",
    "\n",
    "name = 'Nk EMIPIRE'\n",
    "\n",
    "import fact as f\n",
    "print(f.factorial)\n",
    "f.hello('NK')\n",
    "print(f.name)"
   ]
  },
  {
   "cell_type": "code",
   "execution_count": null,
   "id": "c3e12729",
   "metadata": {},
   "outputs": [],
   "source": []
  }
 ],
 "metadata": {
  "kernelspec": {
   "display_name": "Python 3 (ipykernel)",
   "language": "python",
   "name": "python3"
  },
  "language_info": {
   "codemirror_mode": {
    "name": "ipython",
    "version": 3
   },
   "file_extension": ".py",
   "mimetype": "text/x-python",
   "name": "python",
   "nbconvert_exporter": "python",
   "pygments_lexer": "ipython3",
   "version": "3.9.12"
  }
 },
 "nbformat": 4,
 "nbformat_minor": 5
}
