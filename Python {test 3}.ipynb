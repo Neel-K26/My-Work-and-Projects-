{
 "cells": [
  {
   "cell_type": "code",
   "execution_count": 1,
   "id": "3223f371",
   "metadata": {},
   "outputs": [
    {
     "name": "stdout",
     "output_type": "stream",
     "text": [
      "Enter first:12\n",
      "Enter second2\n",
      "Division is : 6.0\n"
     ]
    }
   ],
   "source": [
    "# Uncaught Exception (ERROR)\n",
    "num1= int(input('Enter first:'))\n",
    "num2= int(input('Enter second'))\n",
    "\n",
    "result=num1/num2\n",
    "print('Division is :',result)\n"
   ]
  },
  {
   "cell_type": "code",
   "execution_count": 9,
   "id": "76fbce78",
   "metadata": {},
   "outputs": [
    {
     "name": "stdout",
     "output_type": "stream",
     "text": [
      "Enter first :15\n",
      "Enter Second :6\n",
      "Division is : 2.5\n"
     ]
    }
   ],
   "source": [
    "# try and except -- use to repair exceptional code\n",
    "# try: code to monitor\n",
    "#  except excpetion-name: message to print\n",
    "a= int(input('Enter first :'))\n",
    "b= int(input('Enter Second :'))\n",
    "try:\n",
    "    a=a/b\n",
    "except ZeroDivisionError:\n",
    "    print('Denominator is zero')\n",
    "    exit(0)\n",
    "print('Division is :',a)\n",
    "    "
   ]
  },
  {
   "cell_type": "code",
   "execution_count": 12,
   "id": "ea9bbb23",
   "metadata": {},
   "outputs": [
    {
     "name": "stdout",
     "output_type": "stream",
     "text": [
      "Enter first :45\n",
      "Enter second :55\n",
      "Division is : 0.8181818181818182\n"
     ]
    }
   ],
   "source": [
    "a= int(input('Enter first :'))\n",
    "b= int(input('Enter second :'))\n",
    "try:\n",
    "    a=a/b\n",
    "except ZeroDivisionError:\n",
    "    print('Denominator is zero')\n",
    "    exit(0)\n",
    "print('Division is :',a)\n",
    "    "
   ]
  },
  {
   "cell_type": "code",
   "execution_count": 20,
   "id": "880b754e",
   "metadata": {},
   "outputs": [
    {
     "name": "stdout",
     "output_type": "stream",
     "text": [
      "Enter first:45\n",
      "Enter second:55\n",
      "Division is 0.8181818181818182\n"
     ]
    }
   ],
   "source": [
    "try:\n",
    "    a = int(input('Enter first:'))\n",
    "    b = int(input('Enter second:'))\n",
    "    a = a / b\n",
    "except ZeroDivisionError:\n",
    "    print('Denominator is zero')\n",
    "    exit(0)\n",
    "except ValueError:\n",
    "    print('Enter proper Values')\n",
    "    exit(0)\n",
    "    \n",
    "print('Division is', a)"
   ]
  },
  {
   "cell_type": "code",
   "execution_count": null,
   "id": "09f25563",
   "metadata": {},
   "outputs": [],
   "source": []
  }
 ],
 "metadata": {
  "kernelspec": {
   "display_name": "Python 3 (ipykernel)",
   "language": "python",
   "name": "python3"
  },
  "language_info": {
   "codemirror_mode": {
    "name": "ipython",
    "version": 3
   },
   "file_extension": ".py",
   "mimetype": "text/x-python",
   "name": "python",
   "nbconvert_exporter": "python",
   "pygments_lexer": "ipython3",
   "version": "3.9.12"
  }
 },
 "nbformat": 4,
 "nbformat_minor": 5
}
