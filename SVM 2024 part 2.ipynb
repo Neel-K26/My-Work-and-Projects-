{
 "cells": [
  {
   "cell_type": "code",
   "execution_count": 3,
   "id": "dc7b43e7",
   "metadata": {},
   "outputs": [],
   "source": [
    "import pandas as pd\n",
    "import numpy as np\n",
    "import matplotlib.pyplot as plt\n"
   ]
  },
  {
   "cell_type": "code",
   "execution_count": 7,
   "id": "4f7cd361",
   "metadata": {},
   "outputs": [],
   "source": [
    "# Support Vectors\n",
    "# Kernel Functions---> tranforms input features --> higher ddimensional planes & then seprates it\n",
    "from sklearn.preprocessing import StandardScaler\n",
    "from sklearn.pipeline import make_pipeline\n",
    "from sklearn.svm import SVC"
   ]
  },
  {
   "cell_type": "code",
   "execution_count": 8,
   "id": "44a3f002",
   "metadata": {},
   "outputs": [],
   "source": [
    "# Input\n",
    "X=np.array([\n",
    "    [-1,1],\n",
    "    [-2,-1],\n",
    "    [1,1],\n",
    "    [2,1]\n",
    "    ])"
   ]
  },
  {
   "cell_type": "code",
   "execution_count": 9,
   "id": "1ff39076",
   "metadata": {},
   "outputs": [],
   "source": [
    "# Output\n",
    "y=np.array([1,1,2,2])"
   ]
  },
  {
   "cell_type": "code",
   "execution_count": 11,
   "id": "241580cf",
   "metadata": {},
   "outputs": [],
   "source": [
    "# object of SVC\n",
    "sv= make_pipeline(StandardScaler(),SVC(gamma='auto'))\n",
    "# whichever Data will be there it will be scaled first & then SVC will be applied"
   ]
  },
  {
   "cell_type": "code",
   "execution_count": 12,
   "id": "d52df88b",
   "metadata": {},
   "outputs": [
    {
     "data": {
      "text/plain": [
       "Pipeline(steps=[('standardscaler', StandardScaler()),\n",
       "                ('svc', SVC(gamma='auto'))])"
      ]
     },
     "execution_count": 12,
     "metadata": {},
     "output_type": "execute_result"
    }
   ],
   "source": [
    "sv.fit(X,y)"
   ]
  },
  {
   "cell_type": "code",
   "execution_count": 17,
   "id": "fbb2721b",
   "metadata": {},
   "outputs": [
    {
     "data": {
      "text/plain": [
       "array([1])"
      ]
     },
     "execution_count": 17,
     "metadata": {},
     "output_type": "execute_result"
    }
   ],
   "source": [
    "sv.predict([[-2,1]])"
   ]
  },
  {
   "cell_type": "code",
   "execution_count": 18,
   "id": "d22c009f",
   "metadata": {},
   "outputs": [],
   "source": [
    "from sklearn.datasets import load_iris"
   ]
  },
  {
   "cell_type": "code",
   "execution_count": 19,
   "id": "84f86a31",
   "metadata": {},
   "outputs": [],
   "source": [
    "X,y= load_iris(return_X_y=True)"
   ]
  },
  {
   "cell_type": "code",
   "execution_count": 20,
   "id": "4d8986df",
   "metadata": {},
   "outputs": [],
   "source": [
    "sv1= make_pipeline(StandardScaler(),SVC(gamma='auto'))"
   ]
  },
  {
   "cell_type": "code",
   "execution_count": 21,
   "id": "b4615fae",
   "metadata": {},
   "outputs": [
    {
     "data": {
      "text/plain": [
       "Pipeline(steps=[('standardscaler', StandardScaler()),\n",
       "                ('svc', SVC(gamma='auto'))])"
      ]
     },
     "execution_count": 21,
     "metadata": {},
     "output_type": "execute_result"
    }
   ],
   "source": [
    "sv1.fit(X,y)"
   ]
  },
  {
   "cell_type": "code",
   "execution_count": 22,
   "id": "e341b4c8",
   "metadata": {},
   "outputs": [
    {
     "data": {
      "text/plain": [
       "array([[5.1, 3.5, 1.4, 0.2],\n",
       "       [4.9, 3. , 1.4, 0.2]])"
      ]
     },
     "execution_count": 22,
     "metadata": {},
     "output_type": "execute_result"
    }
   ],
   "source": [
    "X[:2]"
   ]
  },
  {
   "cell_type": "code",
   "execution_count": 25,
   "id": "f0afae26",
   "metadata": {},
   "outputs": [
    {
     "data": {
      "text/plain": [
       "array([2, 2, 2])"
      ]
     },
     "execution_count": 25,
     "metadata": {},
     "output_type": "execute_result"
    }
   ],
   "source": [
    "sv1.predict(X[130:133])"
   ]
  },
  {
   "cell_type": "code",
   "execution_count": null,
   "id": "362ee3bc",
   "metadata": {},
   "outputs": [],
   "source": []
  }
 ],
 "metadata": {
  "kernelspec": {
   "display_name": "Python 3 (ipykernel)",
   "language": "python",
   "name": "python3"
  },
  "language_info": {
   "codemirror_mode": {
    "name": "ipython",
    "version": 3
   },
   "file_extension": ".py",
   "mimetype": "text/x-python",
   "name": "python",
   "nbconvert_exporter": "python",
   "pygments_lexer": "ipython3",
   "version": "3.9.12"
  }
 },
 "nbformat": 4,
 "nbformat_minor": 5
}
