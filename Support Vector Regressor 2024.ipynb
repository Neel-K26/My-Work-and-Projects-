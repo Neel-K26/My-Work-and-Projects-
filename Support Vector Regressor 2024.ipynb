{
 "cells": [
  {
   "cell_type": "code",
   "execution_count": 1,
   "id": "f950527f",
   "metadata": {},
   "outputs": [],
   "source": [
    "import numpy as np\n",
    "import pandas as pd\n",
    "import matplotlib.pyplot as plt"
   ]
  },
  {
   "cell_type": "code",
   "execution_count": 4,
   "id": "fc499720",
   "metadata": {},
   "outputs": [],
   "source": [
    "from sklearn.svm import SVR\n",
    "from sklearn.pipeline import make_pipeline\n",
    "from sklearn.preprocessing import StandardScaler"
   ]
  },
  {
   "cell_type": "code",
   "execution_count": 5,
   "id": "4efcce83",
   "metadata": {},
   "outputs": [],
   "source": [
    "n_samples,n_features= 10,5"
   ]
  },
  {
   "cell_type": "code",
   "execution_count": 6,
   "id": "1006a305",
   "metadata": {},
   "outputs": [],
   "source": [
    "r= np.random.RandomState(0)"
   ]
  },
  {
   "cell_type": "code",
   "execution_count": 9,
   "id": "7f63ec87",
   "metadata": {},
   "outputs": [],
   "source": [
    "y= r.randn(n_samples)"
   ]
  },
  {
   "cell_type": "code",
   "execution_count": 10,
   "id": "f8ebc406",
   "metadata": {},
   "outputs": [],
   "source": [
    "X= r.randn(n_samples,n_features)"
   ]
  },
  {
   "cell_type": "code",
   "execution_count": 12,
   "id": "f22b1d60",
   "metadata": {},
   "outputs": [
    {
     "data": {
      "text/plain": [
       "array([-0.67246045, -0.35955316, -0.81314628, -1.7262826 ,  0.17742614,\n",
       "       -0.40178094, -1.63019835,  0.46278226, -0.90729836,  0.0519454 ])"
      ]
     },
     "execution_count": 12,
     "metadata": {},
     "output_type": "execute_result"
    }
   ],
   "source": [
    "y"
   ]
  },
  {
   "cell_type": "code",
   "execution_count": 13,
   "id": "3be0a8d8",
   "metadata": {},
   "outputs": [],
   "source": [
    "model= make_pipeline(StandardScaler(),SVR())"
   ]
  },
  {
   "cell_type": "code",
   "execution_count": 14,
   "id": "1d44b045",
   "metadata": {},
   "outputs": [
    {
     "data": {
      "text/plain": [
       "Pipeline(steps=[('standardscaler', StandardScaler()), ('svr', SVR())])"
      ]
     },
     "execution_count": 14,
     "metadata": {},
     "output_type": "execute_result"
    }
   ],
   "source": [
    "# training model\n",
    "model.fit(X,y)"
   ]
  },
  {
   "cell_type": "code",
   "execution_count": 15,
   "id": "57cbde68",
   "metadata": {},
   "outputs": [
    {
     "data": {
      "text/plain": [
       "array([-0.69483397, -0.45911353, -0.71280646, -1.18573159,  0.07691356,\n",
       "       -0.49843755, -1.53045841,  0.29576224, -0.80695854, -0.04840118])"
      ]
     },
     "execution_count": 15,
     "metadata": {},
     "output_type": "execute_result"
    }
   ],
   "source": [
    "# prediction\n",
    "model.predict(X)"
   ]
  },
  {
   "cell_type": "code",
   "execution_count": 17,
   "id": "713dfe37",
   "metadata": {},
   "outputs": [
    {
     "data": {
      "text/plain": [
       "array([-0.67246045, -0.35955316, -0.81314628, -1.7262826 ,  0.17742614,\n",
       "       -0.40178094, -1.63019835,  0.46278226, -0.90729836,  0.0519454 ])"
      ]
     },
     "execution_count": 17,
     "metadata": {},
     "output_type": "execute_result"
    }
   ],
   "source": [
    "y"
   ]
  },
  {
   "cell_type": "raw",
   "id": "aeff0384",
   "metadata": {},
   "source": [
    "X is nearly equal to y which is what use of SVR"
   ]
  },
  {
   "cell_type": "code",
   "execution_count": null,
   "id": "4c6e5f30",
   "metadata": {},
   "outputs": [],
   "source": []
  }
 ],
 "metadata": {
  "kernelspec": {
   "display_name": "Python 3 (ipykernel)",
   "language": "python",
   "name": "python3"
  },
  "language_info": {
   "codemirror_mode": {
    "name": "ipython",
    "version": 3
   },
   "file_extension": ".py",
   "mimetype": "text/x-python",
   "name": "python",
   "nbconvert_exporter": "python",
   "pygments_lexer": "ipython3",
   "version": "3.9.12"
  }
 },
 "nbformat": 4,
 "nbformat_minor": 5
}
