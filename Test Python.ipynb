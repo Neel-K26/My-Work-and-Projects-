{
 "cells": [
  {
   "cell_type": "code",
   "execution_count": 1,
   "id": "c284fbbc",
   "metadata": {},
   "outputs": [
    {
     "name": "stdout",
     "output_type": "stream",
     "text": [
      "Hello World\n"
     ]
    }
   ],
   "source": [
    "print('Hello World')"
   ]
  },
  {
   "cell_type": "code",
   "execution_count": 2,
   "id": "f881eace",
   "metadata": {},
   "outputs": [
    {
     "name": "stdout",
     "output_type": "stream",
     "text": [
      "45\n"
     ]
    }
   ],
   "source": [
    "num1=45\n",
    "num2=56\n",
    "print(num1)"
   ]
  },
  {
   "cell_type": "code",
   "execution_count": 3,
   "id": "3e648b03",
   "metadata": {},
   "outputs": [
    {
     "name": "stdout",
     "output_type": "stream",
     "text": [
      "1926\n"
     ]
    }
   ],
   "source": [
    "num3=1926\n",
    "print(num3)"
   ]
  },
  {
   "cell_type": "markdown",
   "id": "bb226ad5",
   "metadata": {},
   "source": [
    "name='NK'\n",
    "print(name)"
   ]
  },
  {
   "cell_type": "code",
   "execution_count": 4,
   "id": "27ab64a9",
   "metadata": {},
   "outputs": [
    {
     "name": "stdout",
     "output_type": "stream",
     "text": [
      "NK\n"
     ]
    }
   ],
   "source": [
    "name='NK' \n",
    "print(name)\n"
   ]
  },
  {
   "cell_type": "code",
   "execution_count": 5,
   "id": "93f2e0f9",
   "metadata": {},
   "outputs": [
    {
     "data": {
      "text/plain": [
       "int"
      ]
     },
     "execution_count": 5,
     "metadata": {},
     "output_type": "execute_result"
    }
   ],
   "source": [
    "num=23\n",
    "type(num)"
   ]
  },
  {
   "cell_type": "code",
   "execution_count": 6,
   "id": "3ff46133",
   "metadata": {},
   "outputs": [
    {
     "data": {
      "text/plain": [
       "33"
      ]
     },
     "execution_count": 6,
     "metadata": {},
     "output_type": "execute_result"
    }
   ],
   "source": [
    "num+10"
   ]
  },
  {
   "cell_type": "code",
   "execution_count": 9,
   "id": "96011f88",
   "metadata": {},
   "outputs": [
    {
     "data": {
      "text/plain": [
       "534362554845387984429285717632078264404288886701292664674348522803815713962719368388235666590605403677248156163757205903151663471252295262323428554065966415119622859595311765695862653081931610727643220493235980821067016368596072933871898558447311260924172452892154994718383894837560902079215434740406586067213948236319846971454630912532664174303743711065026766611328884448241698834673057727410176920463272481071110614520981385979622714871558146978674186608922401845176115263154524360989762752964387193869798200475394349488330738864555948027101595246612784073865855211779163799776897551488316148055324599120037091729264355737502650438134597631978363640183648542025849814482994659139982520532615470431227895343047487431398063671068137021202741283977918697421562827307287757095088143275997734455443252789856625079352313256367028049552390678654760506344512196496528709277797277493931755363058736709353460070871445241744376336608530426787624136625688526119133159450990063433974287582908305244200774830116288326128099340057046181432100217642781322503003229892736183887814961311563087865136900075349183688294886983672488126230751923378053718980772724415188844804513035348819398467905119902101998014333916472260923120653298671929918745244387797987466310871755402142469270718693734764580297770247364464159723408761558993632966934277763892076802667575778825233237218760001"
      ]
     },
     "execution_count": 9,
     "metadata": {},
     "output_type": "execute_result"
    }
   ],
   "source": [
    "num**1000   "
   ]
  },
  {
   "cell_type": "code",
   "execution_count": 10,
   "id": "023ef412",
   "metadata": {},
   "outputs": [
    {
     "name": "stdout",
     "output_type": "stream",
     "text": [
      "59.33\n"
     ]
    }
   ],
   "source": [
    "num=59.33\n",
    "print(num)"
   ]
  },
  {
   "cell_type": "code",
   "execution_count": 11,
   "id": "5616117b",
   "metadata": {},
   "outputs": [
    {
     "name": "stdout",
     "output_type": "stream",
     "text": [
      "5.933e+21\n"
     ]
    }
   ],
   "source": [
    "num= 5933e18\n",
    "print(num)"
   ]
  },
  {
   "cell_type": "code",
   "execution_count": 12,
   "id": "e5ec097d",
   "metadata": {},
   "outputs": [
    {
     "data": {
      "text/plain": [
       "float"
      ]
     },
     "execution_count": 12,
     "metadata": {},
     "output_type": "execute_result"
    }
   ],
   "source": [
    "type(num)"
   ]
  },
  {
   "cell_type": "code",
   "execution_count": 13,
   "id": "7daa801f",
   "metadata": {},
   "outputs": [
    {
     "data": {
      "text/plain": [
       "6.781419e+22"
      ]
     },
     "execution_count": 13,
     "metadata": {},
     "output_type": "execute_result"
    }
   ],
   "source": [
    "num*11.43"
   ]
  },
  {
   "cell_type": "code",
   "execution_count": 15,
   "id": "075a559b",
   "metadata": {},
   "outputs": [
    {
     "data": {
      "text/plain": [
       "3.5200488999999996e+43"
      ]
     },
     "execution_count": 15,
     "metadata": {},
     "output_type": "execute_result"
    }
   ],
   "source": [
    "num1= 4.233e221\n",
    "num2=12.322e212\n",
    "num*num"
   ]
  },
  {
   "cell_type": "code",
   "execution_count": 16,
   "id": "0aeec307",
   "metadata": {},
   "outputs": [
    {
     "name": "stdout",
     "output_type": "stream",
     "text": [
      "83\n"
     ]
    }
   ],
   "source": [
    "num=0o123\n",
    "print(num)"
   ]
  },
  {
   "cell_type": "code",
   "execution_count": 17,
   "id": "22b8ba5a",
   "metadata": {},
   "outputs": [
    {
     "name": "stdout",
     "output_type": "stream",
     "text": [
      "291\n"
     ]
    }
   ],
   "source": [
    "num= 0x123\n",
    "print(num)"
   ]
  },
  {
   "cell_type": "code",
   "execution_count": 18,
   "id": "700be581",
   "metadata": {},
   "outputs": [
    {
     "name": "stdout",
     "output_type": "stream",
     "text": [
      "5\n"
     ]
    }
   ],
   "source": [
    "num=0b101\n",
    "print(num)"
   ]
  },
  {
   "cell_type": "code",
   "execution_count": 23,
   "id": "85e1584d",
   "metadata": {},
   "outputs": [
    {
     "name": "stdout",
     "output_type": "stream",
     "text": [
      "11\n"
     ]
    }
   ],
   "source": [
    "num1=num2=num3=11\n",
    "print(num1)"
   ]
  },
  {
   "cell_type": "code",
   "execution_count": 24,
   "id": "0233ff49",
   "metadata": {},
   "outputs": [
    {
     "name": "stdout",
     "output_type": "stream",
     "text": [
      "11\n"
     ]
    }
   ],
   "source": [
    "print(num2)"
   ]
  },
  {
   "cell_type": "code",
   "execution_count": 25,
   "id": "d40739c8",
   "metadata": {},
   "outputs": [
    {
     "name": "stdout",
     "output_type": "stream",
     "text": [
      "11\n"
     ]
    }
   ],
   "source": [
    "print(num3)"
   ]
  },
  {
   "cell_type": "code",
   "execution_count": 26,
   "id": "4a38d7fd",
   "metadata": {},
   "outputs": [
    {
     "name": "stdout",
     "output_type": "stream",
     "text": [
      "19\n",
      "26\n",
      "1926\n"
     ]
    }
   ],
   "source": [
    "num1,num2,num3=19,26,1926\n",
    "print(num1)\n",
    "print(num2)\n",
    "print(num3)"
   ]
  },
  {
   "cell_type": "code",
   "execution_count": 28,
   "id": "18d5923f",
   "metadata": {},
   "outputs": [
    {
     "name": "stdout",
     "output_type": "stream",
     "text": [
      "26\n"
     ]
    }
   ],
   "source": [
    "num1=19; num1=num1+7; print(num1)"
   ]
  },
  {
   "cell_type": "code",
   "execution_count": 29,
   "id": "66c3656e",
   "metadata": {},
   "outputs": [
    {
     "name": "stdout",
     "output_type": "stream",
     "text": [
      "Hello World\n"
     ]
    }
   ],
   "source": [
    "name='Hello World'\n",
    "print(name)"
   ]
  },
  {
   "cell_type": "code",
   "execution_count": 30,
   "id": "f11503b8",
   "metadata": {},
   "outputs": [
    {
     "name": "stdout",
     "output_type": "stream",
     "text": [
      "Hello world\n"
     ]
    }
   ],
   "source": [
    "name=\"Hello world\"\n",
    "print(name)"
   ]
  },
  {
   "cell_type": "code",
   "execution_count": 31,
   "id": "88f4c863",
   "metadata": {},
   "outputs": [
    {
     "data": {
      "text/plain": [
       "str"
      ]
     },
     "execution_count": 31,
     "metadata": {},
     "output_type": "execute_result"
    }
   ],
   "source": [
    "type(name)"
   ]
  },
  {
   "cell_type": "code",
   "execution_count": 32,
   "id": "5c7bcd3c",
   "metadata": {},
   "outputs": [
    {
     "name": "stdout",
     "output_type": "stream",
     "text": [
      "Learning \"Python\" is fun\n"
     ]
    }
   ],
   "source": [
    "data='Learning \"Python\" is fun'\n",
    "print(data)"
   ]
  },
  {
   "cell_type": "code",
   "execution_count": 33,
   "id": "cd1656cf",
   "metadata": {},
   "outputs": [
    {
     "name": "stdout",
     "output_type": "stream",
     "text": [
      "Learning 'Python' is fun \n"
     ]
    }
   ],
   "source": [
    "data=\"Learning 'Python' is fun \"\n",
    "print(data)"
   ]
  },
  {
   "cell_type": "code",
   "execution_count": 36,
   "id": "78074241",
   "metadata": {},
   "outputs": [
    {
     "name": "stdout",
     "output_type": "stream",
     "text": [
      " PythonProgramming\n"
     ]
    }
   ],
   "source": [
    "first=' Python'         #Combining 2 strings\n",
    "second='Programming'\n",
    "last = first + second\n",
    "print(last)"
   ]
  },
  {
   "cell_type": "code",
   "execution_count": 37,
   "id": "c5b1f317",
   "metadata": {},
   "outputs": [
    {
     "name": "stdout",
     "output_type": "stream",
     "text": [
      " PythonProgramming\n"
     ]
    }
   ],
   "source": [
    "print(first + second)"
   ]
  },
  {
   "cell_type": "code",
   "execution_count": 38,
   "id": "a593d7ed",
   "metadata": {},
   "outputs": [
    {
     "name": "stdout",
     "output_type": "stream",
     "text": [
      "PythonProgramming\n"
     ]
    }
   ],
   "source": [
    "print('Python'+'Programming')"
   ]
  },
  {
   "cell_type": "code",
   "execution_count": 40,
   "id": "0d4890a5",
   "metadata": {},
   "outputs": [
    {
     "name": "stdout",
     "output_type": "stream",
     "text": [
      "Hello \n",
      "World\n"
     ]
    }
   ],
   "source": [
    "#Escape sequences\n",
    "print('Hello \\nWorld')  #Line below Line"
   ]
  },
  {
   "cell_type": "code",
   "execution_count": 42,
   "id": "31670d6c",
   "metadata": {},
   "outputs": [
    {
     "name": "stdout",
     "output_type": "stream",
     "text": [
      "Hello \bWorld\n"
     ]
    }
   ],
   "source": [
    "print('Hello \\bWorld') "
   ]
  },
  {
   "cell_type": "code",
   "execution_count": 43,
   "id": "b4ab107d",
   "metadata": {},
   "outputs": [
    {
     "name": "stdout",
     "output_type": "stream",
     "text": [
      "Hello\r",
      " World\n"
     ]
    }
   ],
   "source": [
    "print('Hello\\r World')  "
   ]
  },
  {
   "cell_type": "code",
   "execution_count": 44,
   "id": "ad0c5694",
   "metadata": {},
   "outputs": [
    {
     "name": "stdout",
     "output_type": "stream",
     "text": [
      "Hello \\ World\n"
     ]
    }
   ],
   "source": [
    "print('Hello \\\\ World')"
   ]
  },
  {
   "cell_type": "markdown",
   "id": "20703ace",
   "metadata": {},
   "source": [
    "# num=34\n"
   ]
  },
  {
   "cell_type": "code",
   "execution_count": 46,
   "id": "031ad550",
   "metadata": {},
   "outputs": [
    {
     "name": "stdout",
     "output_type": "stream",
     "text": [
      "Hello\n",
      ".... Welcome to NK Empire\n"
     ]
    }
   ],
   "source": [
    ">>> line= '''Hello\n",
    ".... Welcome to NK Empire'''\n",
    "print(line)"
   ]
  },
  {
   "cell_type": "code",
   "execution_count": 48,
   "id": "00cbcfbb",
   "metadata": {},
   "outputs": [
    {
     "name": "stdout",
     "output_type": "stream",
     "text": [
      "100\n"
     ]
    }
   ],
   "source": [
    "'''This is my revision'''\n",
    "num1= 45\n",
    "num2= 55\n",
    "result=(45+55)\n",
    "print(result)"
   ]
  },
  {
   "cell_type": "code",
   "execution_count": 49,
   "id": "137a3b92",
   "metadata": {},
   "outputs": [
    {
     "data": {
      "text/plain": [
       "'HELLO'"
      ]
     },
     "execution_count": 49,
     "metadata": {},
     "output_type": "execute_result"
    }
   ],
   "source": [
    "data='hello'   \n",
    "data.upper()    #Upper for Capital Letter"
   ]
  },
  {
   "cell_type": "code",
   "execution_count": 51,
   "id": "1f15e766",
   "metadata": {},
   "outputs": [
    {
     "data": {
      "text/plain": [
       "True"
      ]
     },
     "execution_count": 51,
     "metadata": {},
     "output_type": "execute_result"
    }
   ],
   "source": [
    "data.isalpha()  #checking whether  it is alphabet or not"
   ]
  },
  {
   "cell_type": "code",
   "execution_count": 52,
   "id": "a8f47fdf",
   "metadata": {},
   "outputs": [
    {
     "data": {
      "text/plain": [
       "['hello']"
      ]
     },
     "execution_count": 52,
     "metadata": {},
     "output_type": "execute_result"
    }
   ],
   "source": [
    "data.split()  # turning capital to small"
   ]
  },
  {
   "cell_type": "code",
   "execution_count": 53,
   "id": "274e12a1",
   "metadata": {},
   "outputs": [
    {
     "data": {
      "text/plain": [
       "True"
      ]
     },
     "execution_count": 53,
     "metadata": {},
     "output_type": "execute_result"
    }
   ],
   "source": [
    "data.startswith('he')  # confirming from which the data starts"
   ]
  },
  {
   "cell_type": "code",
   "execution_count": 54,
   "id": "230f57e5",
   "metadata": {},
   "outputs": [
    {
     "data": {
      "text/plain": [
       "'hallo'"
      ]
     },
     "execution_count": 54,
     "metadata": {},
     "output_type": "execute_result"
    }
   ],
   "source": [
    "data.replace('e','a')  #replacing letters\n"
   ]
  },
  {
   "cell_type": "code",
   "execution_count": 56,
   "id": "23f78423",
   "metadata": {},
   "outputs": [
    {
     "name": "stdout",
     "output_type": "stream",
     "text": [
      "ष\n"
     ]
    }
   ],
   "source": [
    "#Unicode String\n",
    "s= u'\\u0937'\n",
    "print(s)"
   ]
  },
  {
   "cell_type": "code",
   "execution_count": 57,
   "id": "a5230b3f",
   "metadata": {},
   "outputs": [
    {
     "name": "stdout",
     "output_type": "stream",
     "text": [
      "ݖ\n"
     ]
    }
   ],
   "source": [
    "s= u'\\u0756'    #Format for different letters 🔤 \n",
    "print(s)\n"
   ]
  },
  {
   "cell_type": "code",
   "execution_count": 58,
   "id": "c0f85925",
   "metadata": {},
   "outputs": [
    {
     "name": "stdout",
     "output_type": "stream",
     "text": [
      "է\n"
     ]
    }
   ],
   "source": [
    "s=u'\\u0567'\n",
    "print(s)"
   ]
  },
  {
   "cell_type": "code",
   "execution_count": 59,
   "id": "c27a36d2",
   "metadata": {},
   "outputs": [
    {
     "data": {
      "text/plain": [
       "['__add__',\n",
       " '__class__',\n",
       " '__contains__',\n",
       " '__delattr__',\n",
       " '__dir__',\n",
       " '__doc__',\n",
       " '__eq__',\n",
       " '__format__',\n",
       " '__ge__',\n",
       " '__getattribute__',\n",
       " '__getitem__',\n",
       " '__getnewargs__',\n",
       " '__gt__',\n",
       " '__hash__',\n",
       " '__init__',\n",
       " '__init_subclass__',\n",
       " '__iter__',\n",
       " '__le__',\n",
       " '__len__',\n",
       " '__lt__',\n",
       " '__mod__',\n",
       " '__mul__',\n",
       " '__ne__',\n",
       " '__new__',\n",
       " '__reduce__',\n",
       " '__reduce_ex__',\n",
       " '__repr__',\n",
       " '__rmod__',\n",
       " '__rmul__',\n",
       " '__setattr__',\n",
       " '__sizeof__',\n",
       " '__str__',\n",
       " '__subclasshook__',\n",
       " 'capitalize',\n",
       " 'casefold',\n",
       " 'center',\n",
       " 'count',\n",
       " 'encode',\n",
       " 'endswith',\n",
       " 'expandtabs',\n",
       " 'find',\n",
       " 'format',\n",
       " 'format_map',\n",
       " 'index',\n",
       " 'isalnum',\n",
       " 'isalpha',\n",
       " 'isascii',\n",
       " 'isdecimal',\n",
       " 'isdigit',\n",
       " 'isidentifier',\n",
       " 'islower',\n",
       " 'isnumeric',\n",
       " 'isprintable',\n",
       " 'isspace',\n",
       " 'istitle',\n",
       " 'isupper',\n",
       " 'join',\n",
       " 'ljust',\n",
       " 'lower',\n",
       " 'lstrip',\n",
       " 'maketrans',\n",
       " 'partition',\n",
       " 'removeprefix',\n",
       " 'removesuffix',\n",
       " 'replace',\n",
       " 'rfind',\n",
       " 'rindex',\n",
       " 'rjust',\n",
       " 'rpartition',\n",
       " 'rsplit',\n",
       " 'rstrip',\n",
       " 'split',\n",
       " 'splitlines',\n",
       " 'startswith',\n",
       " 'strip',\n",
       " 'swapcase',\n",
       " 'title',\n",
       " 'translate',\n",
       " 'upper',\n",
       " 'zfill']"
      ]
     },
     "execution_count": 59,
     "metadata": {},
     "output_type": "execute_result"
    }
   ],
   "source": [
    "# Dir() returns all properties and methods of specified object\n",
    "future=\"Hello NK The things are going to happen in your favour\"\n",
    "dir(future)"
   ]
  },
  {
   "cell_type": "code",
   "execution_count": 60,
   "id": "eb5e1dbb",
   "metadata": {
    "scrolled": true
   },
   "outputs": [
    {
     "name": "stdout",
     "output_type": "stream",
     "text": [
      "Help on built-in function upper:\n",
      "\n",
      "upper() method of builtins.str instance\n",
      "    Return a copy of the string converted to uppercase.\n",
      "\n",
      "Help on built-in function len in module builtins:\n",
      "\n",
      "len(obj, /)\n",
      "    Return the number of items in a container.\n",
      "\n"
     ]
    }
   ],
   "source": [
    "help(data.upper) # Object Function\n",
    "help(len) # basic function"
   ]
  },
  {
   "cell_type": "code",
   "execution_count": 62,
   "id": "455f76f8",
   "metadata": {},
   "outputs": [
    {
     "name": "stdout",
     "output_type": "stream",
     "text": [
      "My name is NK and age is 18\n"
     ]
    }
   ],
   "source": [
    "#Print function --> prints given object to standard output device\n",
    "# print(*objects, sep='', end='\\n')\n",
    "name='NK'\n",
    "age='18'\n",
    "print('My name is',name,'and age is',age)"
   ]
  },
  {
   "cell_type": "code",
   "execution_count": 66,
   "id": "c69dc46e",
   "metadata": {},
   "outputs": [
    {
     "name": "stdout",
     "output_type": "stream",
     "text": [
      "My name is NK and age is 18\n"
     ]
    }
   ],
   "source": [
    "print('My name is {} and age is {}' .format(name,age)) # defining variable outside"
   ]
  },
  {
   "cell_type": "code",
   "execution_count": 67,
   "id": "1374fe6d",
   "metadata": {},
   "outputs": [
    {
     "name": "stdout",
     "output_type": "stream",
     "text": [
      "My name is NK\n"
     ]
    }
   ],
   "source": [
    "print('My name is',name)"
   ]
  },
  {
   "cell_type": "code",
   "execution_count": 68,
   "id": "d82958c4",
   "metadata": {},
   "outputs": [
    {
     "name": "stdout",
     "output_type": "stream",
     "text": [
      "My name is NK\n",
      "\n"
     ]
    }
   ],
   "source": [
    "print('My name is',name, end='\\n\\n')"
   ]
  },
  {
   "cell_type": "code",
   "execution_count": 69,
   "id": "3355cccd",
   "metadata": {},
   "outputs": [
    {
     "name": "stdout",
     "output_type": "stream",
     "text": [
      "NK 18\n"
     ]
    }
   ],
   "source": [
    "print(name,age)"
   ]
  },
  {
   "cell_type": "code",
   "execution_count": 70,
   "id": "28ed50bb",
   "metadata": {},
   "outputs": [
    {
     "name": "stdout",
     "output_type": "stream",
     "text": [
      "NK\t18\n"
     ]
    }
   ],
   "source": [
    "print(name,age,sep='\\t')"
   ]
  },
  {
   "cell_type": "code",
   "execution_count": 71,
   "id": "1a3af2df",
   "metadata": {},
   "outputs": [
    {
     "name": "stdout",
     "output_type": "stream",
     "text": [
      "NK\n",
      "18\n"
     ]
    }
   ],
   "source": [
    "print(name,age,sep='\\n')"
   ]
  },
  {
   "cell_type": "code",
   "execution_count": 76,
   "id": "97cd5745",
   "metadata": {},
   "outputs": [
    {
     "name": "stdout",
     "output_type": "stream",
     "text": [
      "Hello NK ,your age is 27.\n",
      "Hello NK ,your age is 27.\n",
      "Hello NK , your age is27.\n",
      "Hello NK , your age is 27.\n"
     ]
    }
   ],
   "source": [
    "# format() ----> positional and keyword parameters\n",
    "'''Hello{0} your balance is {1:9.3f}. format(Adam, 230.2346) here 0 is adam and 1 is the value'''\n",
    "name='NK'\n",
    "age='27'\n",
    "print('Hello {} ,your age is {}.'. format(name, age))\n",
    "# positional arguments\n",
    "print('Hello {0} ,your age is {1}.'.format(name,age))\n",
    "\n",
    "# keyword arguments\n",
    "print('Hello {x} , your age is{y}.'.format(x=name,y=age))\n",
    "\n",
    "#Mixed arguments\n",
    "print(\"Hello {0} , your age is {y}.\". format(name, y=age))\n"
   ]
  },
  {
   "cell_type": "code",
   "execution_count": 77,
   "id": "633fe8b0",
   "metadata": {},
   "outputs": [
    {
     "name": "stdout",
     "output_type": "stream",
     "text": [
      "30\n"
     ]
    }
   ],
   "source": [
    "# Arithmetic  Operators\n",
    "num1=19; num2= 11\n",
    "result= num1+num2\n",
    "print(result)"
   ]
  },
  {
   "cell_type": "code",
   "execution_count": 78,
   "id": "49842263",
   "metadata": {},
   "outputs": [
    {
     "data": {
      "text/plain": [
       "8"
      ]
     },
     "execution_count": 78,
     "metadata": {},
     "output_type": "execute_result"
    }
   ],
   "source": [
    "num1-num2"
   ]
  },
  {
   "cell_type": "code",
   "execution_count": 79,
   "id": "9af481fe",
   "metadata": {},
   "outputs": [
    {
     "data": {
      "text/plain": [
       "209"
      ]
     },
     "execution_count": 79,
     "metadata": {},
     "output_type": "execute_result"
    }
   ],
   "source": [
    "num1*num2"
   ]
  },
  {
   "cell_type": "code",
   "execution_count": 80,
   "id": "7cd3e646",
   "metadata": {},
   "outputs": [
    {
     "data": {
      "text/plain": [
       "1.7272727272727273"
      ]
     },
     "execution_count": 80,
     "metadata": {},
     "output_type": "execute_result"
    }
   ],
   "source": [
    "num1/num2"
   ]
  },
  {
   "cell_type": "code",
   "execution_count": 81,
   "id": "65b13166",
   "metadata": {},
   "outputs": [
    {
     "data": {
      "text/plain": [
       "1"
      ]
     },
     "execution_count": 81,
     "metadata": {},
     "output_type": "execute_result"
    }
   ],
   "source": [
    "num1//num2"
   ]
  },
  {
   "cell_type": "code",
   "execution_count": 82,
   "id": "5199a8d9",
   "metadata": {},
   "outputs": [
    {
     "data": {
      "text/plain": [
       "8"
      ]
     },
     "execution_count": 82,
     "metadata": {},
     "output_type": "execute_result"
    }
   ],
   "source": [
    "num1 % num2"
   ]
  },
  {
   "cell_type": "code",
   "execution_count": 83,
   "id": "8a95582e",
   "metadata": {},
   "outputs": [
    {
     "data": {
      "text/plain": [
       "'NKNKNKNKNK'"
      ]
     },
     "execution_count": 83,
     "metadata": {},
     "output_type": "execute_result"
    }
   ],
   "source": [
    "# operations on strings\n",
    "name='NK'\n",
    "name*5"
   ]
  },
  {
   "cell_type": "code",
   "execution_count": 84,
   "id": "8b527c47",
   "metadata": {},
   "outputs": [
    {
     "data": {
      "text/plain": [
       "True"
      ]
     },
     "execution_count": 84,
     "metadata": {},
     "output_type": "execute_result"
    }
   ],
   "source": [
    "num1>num2"
   ]
  },
  {
   "cell_type": "code",
   "execution_count": 85,
   "id": "70cadcec",
   "metadata": {},
   "outputs": [
    {
     "data": {
      "text/plain": [
       "False"
      ]
     },
     "execution_count": 85,
     "metadata": {},
     "output_type": "execute_result"
    }
   ],
   "source": [
    "num1<= num2"
   ]
  },
  {
   "cell_type": "code",
   "execution_count": 86,
   "id": "f2fa1551",
   "metadata": {},
   "outputs": [
    {
     "data": {
      "text/plain": [
       "False"
      ]
     },
     "execution_count": 86,
     "metadata": {},
     "output_type": "execute_result"
    }
   ],
   "source": [
    "num1== num2"
   ]
  },
  {
   "cell_type": "code",
   "execution_count": 87,
   "id": "e95a1d9f",
   "metadata": {},
   "outputs": [
    {
     "data": {
      "text/plain": [
       "True"
      ]
     },
     "execution_count": 87,
     "metadata": {},
     "output_type": "execute_result"
    }
   ],
   "source": [
    "num1!= num2"
   ]
  },
  {
   "cell_type": "code",
   "execution_count": 89,
   "id": "9fb863e9",
   "metadata": {},
   "outputs": [
    {
     "data": {
      "text/plain": [
       "False"
      ]
     },
     "execution_count": 89,
     "metadata": {},
     "output_type": "execute_result"
    }
   ],
   "source": [
    "'ABC' != 'AbC'\n",
    "'ABC' == 'AbC'\n",
    "'ABC' < 'AbC'\n",
    "'ABC' > 'AbC'"
   ]
  },
  {
   "cell_type": "code",
   "execution_count": 90,
   "id": "0ab1614f",
   "metadata": {},
   "outputs": [
    {
     "data": {
      "text/plain": [
       "False"
      ]
     },
     "execution_count": 90,
     "metadata": {},
     "output_type": "execute_result"
    }
   ],
   "source": [
    "'ABC' == 'AbC'"
   ]
  },
  {
   "cell_type": "code",
   "execution_count": 91,
   "id": "60aa4c9d",
   "metadata": {},
   "outputs": [
    {
     "data": {
      "text/plain": [
       "True"
      ]
     },
     "execution_count": 91,
     "metadata": {},
     "output_type": "execute_result"
    }
   ],
   "source": [
    "'ABC' < 'AbC'"
   ]
  },
  {
   "cell_type": "code",
   "execution_count": 92,
   "id": "caf2f3d2",
   "metadata": {},
   "outputs": [
    {
     "data": {
      "text/plain": [
       "False"
      ]
     },
     "execution_count": 92,
     "metadata": {},
     "output_type": "execute_result"
    }
   ],
   "source": [
    "'ABC' > 'AbC'"
   ]
  },
  {
   "cell_type": "code",
   "execution_count": 93,
   "id": "94b501c6",
   "metadata": {},
   "outputs": [
    {
     "name": "stdout",
     "output_type": "stream",
     "text": [
      "19\n"
     ]
    }
   ],
   "source": [
    "#Assignment Operators\n",
    "print(num1)"
   ]
  },
  {
   "cell_type": "code",
   "execution_count": 96,
   "id": "737711d1",
   "metadata": {},
   "outputs": [
    {
     "name": "stdout",
     "output_type": "stream",
     "text": [
      "25\n"
     ]
    }
   ],
   "source": [
    "num1 +=2\n",
    "print(num1)"
   ]
  },
  {
   "cell_type": "code",
   "execution_count": 97,
   "id": "708c9a25",
   "metadata": {},
   "outputs": [
    {
     "name": "stdout",
     "output_type": "stream",
     "text": [
      "12.5\n"
     ]
    }
   ],
   "source": [
    "num1/= 2\n",
    "print(num1)"
   ]
  },
  {
   "cell_type": "code",
   "execution_count": 99,
   "id": "7e4fa060",
   "metadata": {},
   "outputs": [
    {
     "name": "stdout",
     "output_type": "stream",
     "text": [
      "25.0\n"
     ]
    }
   ],
   "source": [
    "num1 *=2\n",
    "print(num1)"
   ]
  },
  {
   "cell_type": "code",
   "execution_count": 100,
   "id": "24da3dcb",
   "metadata": {},
   "outputs": [
    {
     "data": {
      "text/plain": [
       "True"
      ]
     },
     "execution_count": 100,
     "metadata": {},
     "output_type": "execute_result"
    }
   ],
   "source": [
    "#Logical Operators\n",
    "num1>num2 and num1<100"
   ]
  },
  {
   "cell_type": "code",
   "execution_count": 101,
   "id": "28c91f57",
   "metadata": {},
   "outputs": [
    {
     "data": {
      "text/plain": [
       "False"
      ]
     },
     "execution_count": 101,
     "metadata": {},
     "output_type": "execute_result"
    }
   ],
   "source": [
    "num1>100 or num1== num2"
   ]
  },
  {
   "cell_type": "code",
   "execution_count": 103,
   "id": "645391a6",
   "metadata": {},
   "outputs": [
    {
     "data": {
      "text/plain": [
       "False"
      ]
     },
     "execution_count": 103,
     "metadata": {},
     "output_type": "execute_result"
    }
   ],
   "source": [
    "not num1<100"
   ]
  },
  {
   "cell_type": "code",
   "execution_count": 105,
   "id": "9153d2ef",
   "metadata": {},
   "outputs": [
    {
     "data": {
      "text/plain": [
       "True"
      ]
     },
     "execution_count": 105,
     "metadata": {},
     "output_type": "execute_result"
    }
   ],
   "source": [
    "# Membership Operators\n",
    "'''in and not in checks whether  the value is present is member of sequence'''\n",
    "x=10\n",
    "x in [34,10,32,17]"
   ]
  },
  {
   "cell_type": "code",
   "execution_count": 106,
   "id": "f97604c3",
   "metadata": {},
   "outputs": [
    {
     "data": {
      "text/plain": [
       "False"
      ]
     },
     "execution_count": 106,
     "metadata": {},
     "output_type": "execute_result"
    }
   ],
   "source": [
    "15 in [34,10,32,17]"
   ]
  },
  {
   "cell_type": "code",
   "execution_count": 107,
   "id": "38604aa0",
   "metadata": {},
   "outputs": [
    {
     "data": {
      "text/plain": [
       "True"
      ]
     },
     "execution_count": 107,
     "metadata": {},
     "output_type": "execute_result"
    }
   ],
   "source": [
    "15 not in [ 34,10,32,17]\n"
   ]
  },
  {
   "cell_type": "code",
   "execution_count": 108,
   "id": "d20cdc48",
   "metadata": {},
   "outputs": [
    {
     "data": {
      "text/plain": [
       "True"
      ]
     },
     "execution_count": 108,
     "metadata": {},
     "output_type": "execute_result"
    }
   ],
   "source": [
    "'kar' in 'Tendulkar'"
   ]
  },
  {
   "cell_type": "code",
   "execution_count": 109,
   "id": "c8cd8172",
   "metadata": {},
   "outputs": [
    {
     "name": "stderr",
     "output_type": "stream",
     "text": [
      "<>:2: SyntaxWarning: \"is\" with a literal. Did you mean \"==\"?\n",
      "<>:2: SyntaxWarning: \"is\" with a literal. Did you mean \"==\"?\n",
      "C:\\Users\\Admin\\AppData\\Local\\Temp\\ipykernel_24472\\303109974.py:2: SyntaxWarning: \"is\" with a literal. Did you mean \"==\"?\n",
      "  2 is 2\n"
     ]
    },
    {
     "data": {
      "text/plain": [
       "True"
      ]
     },
     "execution_count": 109,
     "metadata": {},
     "output_type": "execute_result"
    }
   ],
   "source": [
    "#Identity Operators  (is)& (is not)\n",
    "2 is 2 "
   ]
  },
  {
   "cell_type": "code",
   "execution_count": 110,
   "id": "9aa2a7e0",
   "metadata": {},
   "outputs": [
    {
     "name": "stderr",
     "output_type": "stream",
     "text": [
      "<>:1: SyntaxWarning: \"is\" with a literal. Did you mean \"==\"?\n",
      "<>:1: SyntaxWarning: \"is\" with a literal. Did you mean \"==\"?\n",
      "C:\\Users\\Admin\\AppData\\Local\\Temp\\ipykernel_24472\\1162160561.py:1: SyntaxWarning: \"is\" with a literal. Did you mean \"==\"?\n",
      "  2 is '2'\n"
     ]
    },
    {
     "data": {
      "text/plain": [
       "False"
      ]
     },
     "execution_count": 110,
     "metadata": {},
     "output_type": "execute_result"
    }
   ],
   "source": [
    "2 is '2'"
   ]
  },
  {
   "cell_type": "code",
   "execution_count": 111,
   "id": "1c026a95",
   "metadata": {},
   "outputs": [
    {
     "name": "stderr",
     "output_type": "stream",
     "text": [
      "<>:1: SyntaxWarning: \"is\" with a literal. Did you mean \"==\"?\n",
      "<>:1: SyntaxWarning: \"is\" with a literal. Did you mean \"==\"?\n",
      "C:\\Users\\Admin\\AppData\\Local\\Temp\\ipykernel_24472\\4191586626.py:1: SyntaxWarning: \"is\" with a literal. Did you mean \"==\"?\n",
      "  20 is 20.0\n"
     ]
    },
    {
     "data": {
      "text/plain": [
       "False"
      ]
     },
     "execution_count": 111,
     "metadata": {},
     "output_type": "execute_result"
    }
   ],
   "source": [
    "20 is 20.0"
   ]
  },
  {
   "cell_type": "code",
   "execution_count": 112,
   "id": "a72bf75a",
   "metadata": {},
   "outputs": [
    {
     "name": "stderr",
     "output_type": "stream",
     "text": [
      "<>:1: SyntaxWarning: \"is\" with a literal. Did you mean \"==\"?\n",
      "<>:1: SyntaxWarning: \"is\" with a literal. Did you mean \"==\"?\n",
      "C:\\Users\\Admin\\AppData\\Local\\Temp\\ipykernel_24472\\909634102.py:1: SyntaxWarning: \"is\" with a literal. Did you mean \"==\"?\n",
      "  2000.0 is 2e3\n"
     ]
    },
    {
     "data": {
      "text/plain": [
       "True"
      ]
     },
     "execution_count": 112,
     "metadata": {},
     "output_type": "execute_result"
    }
   ],
   "source": [
    "2000.0 is 2e3"
   ]
  },
  {
   "cell_type": "code",
   "execution_count": 115,
   "id": "776c8ecb",
   "metadata": {},
   "outputs": [
    {
     "data": {
      "text/plain": [
       "2"
      ]
     },
     "execution_count": 115,
     "metadata": {},
     "output_type": "execute_result"
    }
   ],
   "source": [
    "# Bitwise Operators\n",
    "x = 19 ; y= 34\n",
    "x & y  # AND"
   ]
  },
  {
   "cell_type": "code",
   "execution_count": 117,
   "id": "af501623",
   "metadata": {},
   "outputs": [
    {
     "data": {
      "text/plain": [
       "51"
      ]
     },
     "execution_count": 117,
     "metadata": {},
     "output_type": "execute_result"
    }
   ],
   "source": [
    "x|y    # OR"
   ]
  },
  {
   "cell_type": "code",
   "execution_count": 118,
   "id": "ee20eda2",
   "metadata": {},
   "outputs": [
    {
     "data": {
      "text/plain": [
       "49"
      ]
     },
     "execution_count": 118,
     "metadata": {},
     "output_type": "execute_result"
    }
   ],
   "source": [
    "x^y #XOR"
   ]
  },
  {
   "cell_type": "code",
   "execution_count": 119,
   "id": "421c4868",
   "metadata": {},
   "outputs": [
    {
     "data": {
      "text/plain": [
       "136"
      ]
     },
     "execution_count": 119,
     "metadata": {},
     "output_type": "execute_result"
    }
   ],
   "source": [
    "y<<2    # Binary left shift (^)"
   ]
  },
  {
   "cell_type": "code",
   "execution_count": 120,
   "id": "2e1be3a6",
   "metadata": {},
   "outputs": [
    {
     "data": {
      "text/plain": [
       "-20"
      ]
     },
     "execution_count": 120,
     "metadata": {},
     "output_type": "execute_result"
    }
   ],
   "source": [
    "~x       # Binary One's Complement"
   ]
  },
  {
   "cell_type": "code",
   "execution_count": 121,
   "id": "542af064",
   "metadata": {},
   "outputs": [
    {
     "name": "stdout",
     "output_type": "stream",
     "text": [
      "(2.3+4.5j)\n"
     ]
    }
   ],
   "source": [
    "# Complex Type\n",
    "num=2.3+4.5j\n",
    "print(num)"
   ]
  },
  {
   "cell_type": "code",
   "execution_count": 122,
   "id": "086b6801",
   "metadata": {},
   "outputs": [
    {
     "data": {
      "text/plain": [
       "complex"
      ]
     },
     "execution_count": 122,
     "metadata": {},
     "output_type": "execute_result"
    }
   ],
   "source": [
    "type(num)"
   ]
  },
  {
   "cell_type": "code",
   "execution_count": 123,
   "id": "f2e9149c",
   "metadata": {},
   "outputs": [
    {
     "name": "stdout",
     "output_type": "stream",
     "text": [
      "True\n"
     ]
    }
   ],
   "source": [
    "# Boolean\n",
    "num = True\n",
    "print(num)\n"
   ]
  },
  {
   "cell_type": "code",
   "execution_count": 124,
   "id": "9a5eb680",
   "metadata": {},
   "outputs": [
    {
     "data": {
      "text/plain": [
       "bool"
      ]
     },
     "execution_count": 124,
     "metadata": {},
     "output_type": "execute_result"
    }
   ],
   "source": [
    "type(num)"
   ]
  },
  {
   "cell_type": "code",
   "execution_count": 125,
   "id": "ec120e39",
   "metadata": {},
   "outputs": [
    {
     "name": "stdout",
     "output_type": "stream",
     "text": [
      "None\n"
     ]
    }
   ],
   "source": [
    "num= None\n",
    "print(num)"
   ]
  },
  {
   "cell_type": "code",
   "execution_count": 126,
   "id": "cc895021",
   "metadata": {},
   "outputs": [
    {
     "data": {
      "text/plain": [
       "NoneType"
      ]
     },
     "execution_count": 126,
     "metadata": {},
     "output_type": "execute_result"
    }
   ],
   "source": [
    "type(num)"
   ]
  },
  {
   "cell_type": "code",
   "execution_count": 128,
   "id": "5df9fa75",
   "metadata": {},
   "outputs": [
    {
     "name": "stdout",
     "output_type": "stream",
     "text": [
      "101.3\n"
     ]
    }
   ],
   "source": [
    "# Process of converting one data type to other is Type Conversion\n",
    "num1 = 45 # int\n",
    "num2 = 56.3 # float\n",
    "result= num1+ num2\n",
    "print(result) #Float\n"
   ]
  },
  {
   "cell_type": "code",
   "execution_count": 129,
   "id": "29dea09e",
   "metadata": {},
   "outputs": [
    {
     "name": "stdout",
     "output_type": "stream",
     "text": [
      "75\n"
     ]
    }
   ],
   "source": [
    "# Explict type conversion--> converting data by using predefined functions \n",
    "# Like  int()  float()  str() etc also called [typecasting]\n",
    "num1= 19\n",
    "num2= 56.23\n",
    "result= num1 + int(num2)\n",
    "print(result)"
   ]
  },
  {
   "cell_type": "code",
   "execution_count": 132,
   "id": "c3f294b9",
   "metadata": {},
   "outputs": [
    {
     "data": {
      "text/plain": [
       "'178178178'"
      ]
     },
     "execution_count": 132,
     "metadata": {},
     "output_type": "execute_result"
    }
   ],
   "source": [
    "num='178'\n",
    "num*3"
   ]
  },
  {
   "cell_type": "code",
   "execution_count": 133,
   "id": "d594808f",
   "metadata": {},
   "outputs": [
    {
     "data": {
      "text/plain": [
       "534"
      ]
     },
     "execution_count": 133,
     "metadata": {},
     "output_type": "execute_result"
    }
   ],
   "source": [
    " int(num)*3"
   ]
  },
  {
   "cell_type": "code",
   "execution_count": 134,
   "id": "b5240f17",
   "metadata": {},
   "outputs": [
    {
     "data": {
      "text/plain": [
       "'hello123'"
      ]
     },
     "execution_count": 134,
     "metadata": {},
     "output_type": "execute_result"
    }
   ],
   "source": [
    "num=123\n",
    "s='hello' + str(num)\n",
    "s"
   ]
  },
  {
   "cell_type": "code",
   "execution_count": 135,
   "id": "c5c3c04b",
   "metadata": {},
   "outputs": [
    {
     "name": "stdout",
     "output_type": "stream",
     "text": [
      "45\n"
     ]
    }
   ],
   "source": [
    "#ADDITION\n",
    "num1 = 19\n",
    "num2=26\n",
    "result= 19+26\n",
    "print(result)\n"
   ]
  },
  {
   "cell_type": "code",
   "execution_count": 136,
   "id": "7bd94800",
   "metadata": {},
   "outputs": [
    {
     "name": "stdout",
     "output_type": "stream",
     "text": [
      "Enter Your Name :NK\n",
      "Enter Your Wife Birthday19\n",
      "Enter marks :100\n"
     ]
    }
   ],
   "source": [
    "# User Input\n",
    "s= input('Enter Your Name :')\n",
    "num= int(input('Enter Your Wife Birthday'))\n",
    "marks= float(input('Enter marks :'))\n"
   ]
  },
  {
   "cell_type": "code",
   "execution_count": 138,
   "id": "10c4c36a",
   "metadata": {},
   "outputs": [
    {
     "name": "stdout",
     "output_type": "stream",
     "text": [
      "Enter first :19\n",
      "Enter Second :26\n",
      "Adiition is 45\n"
     ]
    }
   ],
   "source": [
    "num1= int(input('Enter first :'))\n",
    "num2= int(input('Enter Second :'))\n",
    "result= num1+num2\n",
    "print('Adiition is',result )\n"
   ]
  },
  {
   "cell_type": "code",
   "execution_count": 142,
   "id": "19aca902",
   "metadata": {},
   "outputs": [
    {
     "name": "stdout",
     "output_type": "stream",
     "text": [
      "Positive Number\n"
     ]
    }
   ],
   "source": [
    "# Conditional Statements\n",
    "num= 1926\n",
    "if num>0:\n",
    "    print('Positive Number')\n",
    "else:\n",
    "    print('Negative Number')\n",
    "    "
   ]
  },
  {
   "cell_type": "code",
   "execution_count": 146,
   "id": "dbd7c82f",
   "metadata": {},
   "outputs": [
    {
     "name": "stdout",
     "output_type": "stream",
     "text": [
      "Positive number\n"
     ]
    }
   ],
   "source": [
    "# if-elif-else\n",
    "num= 1926\n",
    "if num ==0 : # Compulsory\n",
    "     print('It is Zero')\n",
    "elif num>0 :\n",
    "    print('Positive number')\n",
    "else :\n",
    "    print('Negative Number')\n",
    "    \n",
    "  "
   ]
  },
  {
   "cell_type": "code",
   "execution_count": 153,
   "id": "e2ce5561",
   "metadata": {},
   "outputs": [
    {
     "name": "stdout",
     "output_type": "stream",
     "text": [
      "Enter first:19\n",
      "Enter Second :26\n",
      "Enter third :12\n",
      "Largest is 26\n"
     ]
    }
   ],
   "source": [
    "num1= int(input('Enter first:'))\n",
    "num2= int(input('Enter Second :'))\n",
    "num3= int(input(\"Enter third :\"))\n",
    "if num1> num2:\n",
    "    if num1> num3:\n",
    "        print('Largest is',num1)\n",
    "    else:\n",
    "        print('Largest is',num3)\n",
    "else:\n",
    "    if num2>num3:\n",
    "        print('Largest is',num2)\n",
    "    else:\n",
    "        print('Largest is',num3)\n",
    "            "
   ]
  },
  {
   "cell_type": "code",
   "execution_count": 163,
   "id": "b5627745",
   "metadata": {},
   "outputs": [
    {
     "name": "stdout",
     "output_type": "stream",
     "text": [
      "Enter the year :2023\n",
      "Not Leap\n",
      "Enter the year :2024\n",
      "Leap\n"
     ]
    }
   ],
   "source": [
    "# Leap Year\n",
    "year= int(input('Enter the year :'))\n",
    "if year % 4 == 0:\n",
    "    if year % 100 ==0:\n",
    "        if year % 400 ==0:\n",
    "            print('Leap')\n",
    "        else:\n",
    "            print('Not Leap')\n",
    "    else:\n",
    "        print('Leap')\n",
    "else:\n",
    "    print('Not Leap')\n",
    "year = int(input('Enter the year :'))\n",
    "if year % 4==0 and year % 100 !=0 or year % 400 == 0:\n",
    "    print('Leap')\n",
    "else:\n",
    "    print('Not Leap')"
   ]
  },
  {
   "cell_type": "code",
   "execution_count": 166,
   "id": "a3d9af99",
   "metadata": {},
   "outputs": [
    {
     "name": "stdout",
     "output_type": "stream",
     "text": [
      "Enter the marks :100\n",
      "Distinction\n"
     ]
    }
   ],
   "source": [
    "# Elif with marks problem\n",
    "marks= float(input('Enter the marks :'))\n",
    "if marks>= 75:\n",
    "    print('Distinction')\n",
    "elif marks >= 60:\n",
    "    print('First Class')\n",
    "elif marks >= 50:\n",
    "    print('Second Class')\n",
    "elif marks >= 40:\n",
    "    print('Pass Class')\n",
    "else:\n",
    "    print('Failed')\n",
    "    \n"
   ]
  },
  {
   "cell_type": "code",
   "execution_count": 172,
   "id": "5cb08e20",
   "metadata": {},
   "outputs": [
    {
     "name": "stdout",
     "output_type": "stream",
     "text": [
      "Enter the marks :100\n",
      "Distinction\n"
     ]
    }
   ],
   "source": [
    "# Another Way\n",
    "marks= float(input('Enter the marks :'))\n",
    "if marks <40:\n",
    "    print('Failed')\n",
    "elif marks < 50 :\n",
    "    print('Pass Class')\n",
    "elif marks< 75:\n",
    "    print('Second Class')\n",
    "elif marks<75:\n",
    "     print('First Class')\n",
    "else:\n",
    "    print('Distinction')"
   ]
  },
  {
   "cell_type": "code",
   "execution_count": 175,
   "id": "692deba1",
   "metadata": {},
   "outputs": [
    {
     "name": "stdout",
     "output_type": "stream",
     "text": [
      "Enter the Number :1926\n",
      "*Menu *\n",
      "1.Square\n",
      "2.Cube\n",
      "3.Odd\n",
      "4.+ve\n",
      "Enter the choice:1\n",
      "Square: 3709476\n"
     ]
    }
   ],
   "source": [
    "# Menu Based Programs (if-elif-else)\n",
    "num= int(input('Enter the Number :'))\n",
    "print(\"*Menu *\\n1.Square\\n2.Cube\\n3.Odd\\n4.+ve\")\n",
    "ch= int(input('Enter the choice:'))\n",
    "if ch == 1:\n",
    "    print('Square:', num*num)\n",
    "elif ch==2:\n",
    "    print('Cube :', num* num * num)\n",
    "elif ch==3:\n",
    "    if num% 2==0:\n",
    "        print('Even')\n",
    "    else:\n",
    "        print('Odd')\n",
    "elif ch==4:\n",
    "    if num > 0 :\n",
    "        print('+ve')\n",
    "    else:\n",
    "        print('-ve')\n",
    "else:\n",
    "    print('Wrong Choice')\n",
    "\n",
    "\n",
    "    "
   ]
  },
  {
   "cell_type": "code",
   "execution_count": 176,
   "id": "6867b6e4",
   "metadata": {},
   "outputs": [
    {
     "name": "stdout",
     "output_type": "stream",
     "text": [
      "NK\n",
      "NK\n",
      "NK\n",
      "NK\n",
      "NK\n",
      "NK\n",
      "NK\n",
      "NK\n",
      "NK\n",
      "NK\n"
     ]
    }
   ],
   "source": [
    "# Loops\n",
    "count= 0    #Initilise\n",
    "while count <10:    #condition\n",
    "    print('NK')  \n",
    "    count +=1     # Change Counter\n"
   ]
  },
  {
   "cell_type": "code",
   "execution_count": 178,
   "id": "69871a32",
   "metadata": {},
   "outputs": [
    {
     "name": "stdout",
     "output_type": "stream",
     "text": [
      "Addition is 55\n"
     ]
    }
   ],
   "source": [
    "# Addiion of first 10 Natural Numbers\n",
    "count, add=1,0\n",
    "while count <= 10:\n",
    "    add = add+ count\n",
    "    count +=1\n",
    "else:\n",
    "    print('Addition is', add)"
   ]
  },
  {
   "cell_type": "code",
   "execution_count": 179,
   "id": "0615b5bb",
   "metadata": {},
   "outputs": [
    {
     "name": "stdout",
     "output_type": "stream",
     "text": [
      "Addition is 100\n"
     ]
    }
   ],
   "source": [
    "count , add= 1,0\n",
    "while count <= 20:\n",
    "    add=add+count\n",
    "    count +=2\n",
    "else:\n",
    "    print('Addition is', add)\n",
    "    "
   ]
  },
  {
   "cell_type": "code",
   "execution_count": null,
   "id": "50003708",
   "metadata": {},
   "outputs": [],
   "source": [
    "# While loop the only lopp where we can make it infinite\n",
    "num=0\n",
    "while num<10:\n",
    "    print(num)\n",
    "print('Ended')\n",
    "while True :\n",
    "    print('NK')\n",
    "    \n",
    "        "
   ]
  },
  {
   "cell_type": "code",
   "execution_count": 184,
   "id": "987a7fac",
   "metadata": {},
   "outputs": [
    {
     "name": "stdout",
     "output_type": "stream",
     "text": [
      "0\n",
      "1\n",
      "2\n",
      "3\n",
      "4\n",
      "5\n",
      "6\n",
      "7\n",
      "8\n",
      "9\n",
      "Ended\n"
     ]
    }
   ],
   "source": [
    "num=0\n",
    "while num<10:\n",
    "    print(num)\n",
    "    num+=1\n",
    "else:\n",
    "    print('Ended')"
   ]
  },
  {
   "cell_type": "code",
   "execution_count": 185,
   "id": "0569c04f",
   "metadata": {},
   "outputs": [
    {
     "name": "stdout",
     "output_type": "stream",
     "text": [
      "0\n",
      "1\n",
      "2\n",
      "3\n",
      "4\n",
      "5\n",
      "6\n",
      "7\n",
      "8\n",
      "9\n"
     ]
    }
   ],
   "source": [
    " num= 0\n",
    "while num < 10 : print(num); num +=1"
   ]
  },
  {
   "cell_type": "code",
   "execution_count": 187,
   "id": "59ad48c4",
   "metadata": {},
   "outputs": [
    {
     "name": "stdout",
     "output_type": "stream",
     "text": [
      "16784"
     ]
    }
   ],
   "source": [
    "# For Loop  syntax-- [for n in sequence]\n",
    "for n in 1,6,7,8,4:   #Same Sequence\n",
    "    print(n,end ='')\n"
   ]
  },
  {
   "cell_type": "code",
   "execution_count": 188,
   "id": "c8c64377",
   "metadata": {},
   "outputs": [
    {
     "name": "stdout",
     "output_type": "stream",
     "text": [
      "136496416"
     ]
    }
   ],
   "source": [
    "for n in 1,6,7,8,4:     #Operation Data\n",
    "    print(n*n,end='')\n",
    "    "
   ]
  },
  {
   "cell_type": "code",
   "execution_count": 189,
   "id": "860b4b99",
   "metadata": {},
   "outputs": [
    {
     "name": "stdout",
     "output_type": "stream",
     "text": [
      "h233.1212"
     ]
    }
   ],
   "source": [
    "for n in 'h',23,3.12,12:   #Mixed Elements\n",
    "    print(n,end = '')"
   ]
  },
  {
   "cell_type": "code",
   "execution_count": 190,
   "id": "6af17141",
   "metadata": {},
   "outputs": [
    {
     "data": {
      "text/plain": [
       "[0, 1, 2, 3, 4, 5, 6, 7, 8, 9]"
      ]
     },
     "execution_count": 190,
     "metadata": {},
     "output_type": "execute_result"
    }
   ],
   "source": [
    "# Range() Function\n",
    "arr = range(10)  # Simply means till 10 but not including it\n",
    "list(arr)"
   ]
  },
  {
   "cell_type": "code",
   "execution_count": 191,
   "id": "eb817b6b",
   "metadata": {},
   "outputs": [
    {
     "data": {
      "text/plain": [
       "[1, 2, 3, 4, 5]"
      ]
     },
     "execution_count": 191,
     "metadata": {},
     "output_type": "execute_result"
    }
   ],
   "source": [
    "arr= range(1,6)\n",
    "list(arr)"
   ]
  },
  {
   "cell_type": "code",
   "execution_count": 192,
   "id": "5f6b16ed",
   "metadata": {},
   "outputs": [
    {
     "name": "stdout",
     "output_type": "stream",
     "text": [
      "0123456789"
     ]
    }
   ],
   "source": [
    "arr= range(1,12,2)\n",
    "for x in range(10) :\n",
    "    print(x,end='')\n",
    "    "
   ]
  },
  {
   "cell_type": "code",
   "execution_count": 193,
   "id": "1f048c91",
   "metadata": {},
   "outputs": [
    {
     "name": "stdout",
     "output_type": "stream",
     "text": [
      "13579"
     ]
    }
   ],
   "source": [
    "for x in range(1,10,2) :\n",
    "    print(x,end = '')\n",
    "    "
   ]
  },
  {
   "cell_type": "code",
   "execution_count": 194,
   "id": "fe985a26",
   "metadata": {},
   "outputs": [
    {
     "data": {
      "text/plain": [
       "[12, 10, 8, 6, 4]"
      ]
     },
     "execution_count": 194,
     "metadata": {},
     "output_type": "execute_result"
    }
   ],
   "source": [
    "arr= range(12,2,-2)\n",
    "list(arr)"
   ]
  },
  {
   "cell_type": "code",
   "execution_count": 195,
   "id": "9d021669",
   "metadata": {},
   "outputs": [
    {
     "name": "stdout",
     "output_type": "stream",
     "text": [
      "47915"
     ]
    }
   ],
   "source": [
    "x=[4,7,9,1,5]   #list \n",
    "for num in x:\n",
    "    print(num, end=\"\")\n",
    "    "
   ]
  },
  {
   "cell_type": "code",
   "execution_count": 197,
   "id": "40ef8d4f",
   "metadata": {},
   "outputs": [
    {
     "name": "stdout",
     "output_type": "stream",
     "text": [
      "NK"
     ]
    }
   ],
   "source": [
    "s='NK'\n",
    "for data in s:\n",
    "    print(data,  end = '')\n"
   ]
  },
  {
   "cell_type": "code",
   "execution_count": 198,
   "id": "e007c962",
   "metadata": {},
   "outputs": [
    {
     "name": "stdout",
     "output_type": "stream",
     "text": [
      "Mar\n",
      "Hin\n",
      "San\n",
      "Nep\n"
     ]
    }
   ],
   "source": [
    "col =['Mar','Hin','San','Nep']\n",
    "for name in col:\n",
    "    print(name)"
   ]
  },
  {
   "cell_type": "code",
   "execution_count": 199,
   "id": "6d2bdea0",
   "metadata": {},
   "outputs": [
    {
     "name": "stdout",
     "output_type": "stream",
     "text": [
      "0123456789Loop Ended\n"
     ]
    }
   ],
   "source": [
    "# Else STATEMENT\n",
    "for x in range(10) :\n",
    "    print(x,end='')\n",
    "else :\n",
    "    print('Loop Ended')\n",
    "    "
   ]
  },
  {
   "cell_type": "code",
   "execution_count": 200,
   "id": "d0ce89e2",
   "metadata": {},
   "outputs": [
    {
     "name": "stdout",
     "output_type": "stream",
     "text": [
      "NK\n",
      "NK\n",
      "NK\n",
      "NK\n",
      "NK\n",
      "NK\n",
      "NK\n",
      "NK\n",
      "NK\n",
      "NK\n"
     ]
    }
   ],
   "source": [
    "for n in range(10):\n",
    "    print('NK')"
   ]
  },
  {
   "cell_type": "code",
   "execution_count": 202,
   "id": "ba62c98b",
   "metadata": {},
   "outputs": [
    {
     "name": "stdout",
     "output_type": "stream",
     "text": [
      "Sum : 55\n"
     ]
    }
   ],
   "source": [
    "# Addition of first 10 natural numbers using for loop\n",
    "add=0\n",
    "for n in range(1,11):\n",
    "    add += n\n",
    "else:\n",
    "    print('Sum :',add)"
   ]
  },
  {
   "cell_type": "code",
   "execution_count": 204,
   "id": "19e379d8",
   "metadata": {},
   "outputs": [
    {
     "name": "stdout",
     "output_type": "stream",
     "text": [
      "Sum : 100\n"
     ]
    }
   ],
   "source": [
    "add = 0\n",
    "for n in range(1,21,2):\n",
    "    add+=n\n",
    "else:\n",
    "    print('Sum :',add)"
   ]
  },
  {
   "cell_type": "code",
   "execution_count": 207,
   "id": "a869bd37",
   "metadata": {},
   "outputs": [
    {
     "name": "stdout",
     "output_type": "stream",
     "text": [
      "@\n",
      "@@\n",
      "@@@\n",
      "@@@@\n",
      "@@@@@\n"
     ]
    }
   ],
   "source": [
    "#Nesting Loops\n",
    "for i in range(1,6):\n",
    "    for j in range(i):\n",
    "        print(\"@\", end='')\n",
    "    print()\n",
    "    "
   ]
  },
  {
   "cell_type": "code",
   "execution_count": 211,
   "id": "b745a8b7",
   "metadata": {},
   "outputs": [],
   "source": [
    "#Break\n",
    "for i in range(10):\n",
    "    if i==5:\n",
    "        break"
   ]
  },
  {
   "cell_type": "code",
   "execution_count": 213,
   "id": "b8915a9d",
   "metadata": {},
   "outputs": [
    {
     "name": "stdout",
     "output_type": "stream",
     "text": [
      "13579"
     ]
    }
   ],
   "source": [
    "# Continue\n",
    "for i in range(10):\n",
    "    if i % 2 ==0:\n",
    "        continue\n",
    "    print(i,end='')"
   ]
  },
  {
   "cell_type": "code",
   "execution_count": 215,
   "id": "f3dbb248",
   "metadata": {},
   "outputs": [
    {
     "name": "stdout",
     "output_type": "stream",
     "text": [
      "12\n"
     ]
    }
   ],
   "source": [
    "# pass statement [no operation]\n",
    "num=12\n",
    "print(num)\n",
    "\n",
    "while True:\n",
    "    pass\n"
   ]
  },
  {
   "cell_type": "code",
   "execution_count": 216,
   "id": "d98508f6",
   "metadata": {},
   "outputs": [
    {
     "data": {
      "text/plain": [
       "list"
      ]
     },
     "execution_count": 216,
     "metadata": {},
     "output_type": "execute_result"
    }
   ],
   "source": [
    "# Data Structures []--- List ()--- Tuple {}-- set  {:}- dictionary\n",
    "# Lists\n",
    "# Creation\n",
    "lang=['Mar','Urd','San','Guj','Hin']\n",
    "type(lang)\n",
    "\n"
   ]
  },
  {
   "cell_type": "code",
   "execution_count": 218,
   "id": "4ed7df5f",
   "metadata": {},
   "outputs": [],
   "source": [
    "col=['blue','red','green','yellow']  # similar elements\n",
    "days=['Mon','Tue','Wed',4,5,6]   # dissimilar elements\n",
    "\n"
   ]
  },
  {
   "cell_type": "code",
   "execution_count": 219,
   "id": "7063ca86",
   "metadata": {},
   "outputs": [
    {
     "name": "stdout",
     "output_type": "stream",
     "text": [
      "['Mar', 'Urd', 'San', 'Guj', 'Hin']\n"
     ]
    }
   ],
   "source": [
    "print(lang)"
   ]
  },
  {
   "cell_type": "code",
   "execution_count": 220,
   "id": "c802b053",
   "metadata": {},
   "outputs": [
    {
     "name": "stdout",
     "output_type": "stream",
     "text": [
      "San\n"
     ]
    }
   ],
   "source": [
    "print(lang[2])"
   ]
  },
  {
   "cell_type": "code",
   "execution_count": 221,
   "id": "1bcc7902",
   "metadata": {},
   "outputs": [
    {
     "name": "stdout",
     "output_type": "stream",
     "text": [
      "['Mar', 'Kan', 'San', 'Guj', 'Hin']\n"
     ]
    }
   ],
   "source": [
    "lang[1]='Kan'   # replacing element on the given index\n",
    "print(lang)"
   ]
  },
  {
   "cell_type": "code",
   "execution_count": 222,
   "id": "abdf791c",
   "metadata": {},
   "outputs": [
    {
     "name": "stdout",
     "output_type": "stream",
     "text": [
      "['Mon', 'Tue', 'Wed', 4, 5, 6]\n"
     ]
    }
   ],
   "source": [
    "print(days)"
   ]
  },
  {
   "cell_type": "code",
   "execution_count": 225,
   "id": "007c27af",
   "metadata": {},
   "outputs": [
    {
     "name": "stdout",
     "output_type": "stream",
     "text": [
      "6\n"
     ]
    }
   ],
   "source": [
    "print(days[-1])  # negative indexing(giving last index)"
   ]
  },
  {
   "cell_type": "code",
   "execution_count": 226,
   "id": "3159db99",
   "metadata": {},
   "outputs": [
    {
     "name": "stdout",
     "output_type": "stream",
     "text": [
      "['Mon', 'Tue', 'Wed', 4, 'Sat', 6]\n"
     ]
    }
   ],
   "source": [
    "days[-2]='Sat' # replacing given element  from last on given position\n",
    "print(days)"
   ]
  },
  {
   "cell_type": "code",
   "execution_count": 227,
   "id": "ec816cef",
   "metadata": {},
   "outputs": [
    {
     "data": {
      "text/plain": [
       "list"
      ]
     },
     "execution_count": 227,
     "metadata": {},
     "output_type": "execute_result"
    }
   ],
   "source": [
    "months =[31,[28,29],31,30]\n",
    "type(months)"
   ]
  },
  {
   "cell_type": "code",
   "execution_count": 228,
   "id": "c599d297",
   "metadata": {},
   "outputs": [
    {
     "data": {
      "text/plain": [
       "[28, 29]"
      ]
     },
     "execution_count": 228,
     "metadata": {},
     "output_type": "execute_result"
    }
   ],
   "source": [
    "months[1]"
   ]
  },
  {
   "cell_type": "code",
   "execution_count": 229,
   "id": "32bfdd60",
   "metadata": {},
   "outputs": [
    {
     "data": {
      "text/plain": [
       "28"
      ]
     },
     "execution_count": 229,
     "metadata": {},
     "output_type": "execute_result"
    }
   ],
   "source": [
    "months[1][0]"
   ]
  },
  {
   "cell_type": "code",
   "execution_count": 230,
   "id": "c0ad4008",
   "metadata": {},
   "outputs": [
    {
     "data": {
      "text/plain": [
       "[12, 48, 29, 38]"
      ]
     },
     "execution_count": 230,
     "metadata": {},
     "output_type": "execute_result"
    }
   ],
   "source": [
    "num=[23,67,12,48,29,38,19]  # display of elemnts including 2 and excluding 6\n",
    "num[2:6]"
   ]
  },
  {
   "cell_type": "code",
   "execution_count": 231,
   "id": "b6ebb0b9",
   "metadata": {},
   "outputs": [
    {
     "data": {
      "text/plain": [
       "[12, 48, 29, 38, 19]"
      ]
     },
     "execution_count": 231,
     "metadata": {},
     "output_type": "execute_result"
    }
   ],
   "source": [
    "num[2:] # all elements ahead of 2   "
   ]
  },
  {
   "cell_type": "code",
   "execution_count": 232,
   "id": "d92b9a14",
   "metadata": {},
   "outputs": [
    {
     "data": {
      "text/plain": [
       "[23, 67, 12, 48, 29]"
      ]
     },
     "execution_count": 232,
     "metadata": {},
     "output_type": "execute_result"
    }
   ],
   "source": [
    "num[:5]  # elements before 5 position"
   ]
  },
  {
   "cell_type": "code",
   "execution_count": 233,
   "id": "96b6a01c",
   "metadata": {},
   "outputs": [
    {
     "data": {
      "text/plain": [
       "[23, 67, 12, 48, 29, 38, 19]"
      ]
     },
     "execution_count": 233,
     "metadata": {},
     "output_type": "execute_result"
    }
   ],
   "source": [
    "num[:] # no indexing"
   ]
  },
  {
   "cell_type": "code",
   "execution_count": 234,
   "id": "1920c44d",
   "metadata": {},
   "outputs": [
    {
     "data": {
      "text/plain": [
       "['H', 'O', 'He', 'K', 'Si', 'Fe']"
      ]
     },
     "execution_count": 234,
     "metadata": {},
     "output_type": "execute_result"
    }
   ],
   "source": [
    "metals=['H','O','He','K','Si','Fe']\n",
    "metals"
   ]
  },
  {
   "cell_type": "code",
   "execution_count": 235,
   "id": "590772d4",
   "metadata": {},
   "outputs": [
    {
     "data": {
      "text/plain": [
       "['H', 'O', 'Na', 'S', 'Si', 'Fe']"
      ]
     },
     "execution_count": 235,
     "metadata": {},
     "output_type": "execute_result"
    }
   ],
   "source": [
    "metals[2:4]=['Na','S'] # replacing He and K with Ne and S\n",
    "metals"
   ]
  },
  {
   "cell_type": "code",
   "execution_count": 237,
   "id": "7433cb4c",
   "metadata": {},
   "outputs": [
    {
     "data": {
      "text/plain": [
       "True"
      ]
     },
     "execution_count": 237,
     "metadata": {},
     "output_type": "execute_result"
    }
   ],
   "source": [
    "'O' in metals"
   ]
  },
  {
   "cell_type": "code",
   "execution_count": 238,
   "id": "417d47f5",
   "metadata": {},
   "outputs": [
    {
     "data": {
      "text/plain": [
       "False"
      ]
     },
     "execution_count": 238,
     "metadata": {},
     "output_type": "execute_result"
    }
   ],
   "source": [
    "'he' in metals"
   ]
  },
  {
   "cell_type": "code",
   "execution_count": 239,
   "id": "79906f2d",
   "metadata": {},
   "outputs": [
    {
     "data": {
      "text/plain": [
       "False"
      ]
     },
     "execution_count": 239,
     "metadata": {},
     "output_type": "execute_result"
    }
   ],
   "source": [
    "'O' not in metals"
   ]
  },
  {
   "cell_type": "code",
   "execution_count": 240,
   "id": "f2624d07",
   "metadata": {},
   "outputs": [
    {
     "data": {
      "text/plain": [
       "['H', 'Na', 'S', 'Si', 'Fe']"
      ]
     },
     "execution_count": 240,
     "metadata": {},
     "output_type": "execute_result"
    }
   ],
   "source": [
    "#Deleting Elements\n",
    "del metals[1]\n",
    "metals\n"
   ]
  },
  {
   "cell_type": "code",
   "execution_count": 242,
   "id": "58dee044",
   "metadata": {},
   "outputs": [
    {
     "data": {
      "text/plain": [
       "['H']"
      ]
     },
     "execution_count": 242,
     "metadata": {},
     "output_type": "execute_result"
    }
   ],
   "source": [
    "del metals[1:3]\n",
    "metals"
   ]
  },
  {
   "cell_type": "code",
   "execution_count": 245,
   "id": "33c9349a",
   "metadata": {},
   "outputs": [
    {
     "data": {
      "text/plain": [
       "[[1, 2, 3], [5, 6, 7], [4, [9, 8]]]"
      ]
     },
     "execution_count": 245,
     "metadata": {},
     "output_type": "execute_result"
    }
   ],
   "source": [
    "mat=[[1,2,3],[5,6,7],[4,[9,8]]]\n",
    "mat"
   ]
  },
  {
   "cell_type": "code",
   "execution_count": 246,
   "id": "0946b0b9",
   "metadata": {},
   "outputs": [
    {
     "data": {
      "text/plain": [
       "[4, [9, 8]]"
      ]
     },
     "execution_count": 246,
     "metadata": {},
     "output_type": "execute_result"
    }
   ],
   "source": [
    "mat[2]"
   ]
  },
  {
   "cell_type": "code",
   "execution_count": 247,
   "id": "05b5b453",
   "metadata": {},
   "outputs": [
    {
     "data": {
      "text/plain": [
       "[9, 8]"
      ]
     },
     "execution_count": 247,
     "metadata": {},
     "output_type": "execute_result"
    }
   ],
   "source": [
    "mat [2][1]"
   ]
  },
  {
   "cell_type": "code",
   "execution_count": 248,
   "id": "2ea09889",
   "metadata": {},
   "outputs": [
    {
     "data": {
      "text/plain": [
       "[9, 8]"
      ]
     },
     "execution_count": 248,
     "metadata": {},
     "output_type": "execute_result"
    }
   ],
   "source": [
    "mat[2] [1]\n"
   ]
  },
  {
   "cell_type": "code",
   "execution_count": 249,
   "id": "19ddcc8f",
   "metadata": {},
   "outputs": [
    {
     "data": {
      "text/plain": [
       "9"
      ]
     },
     "execution_count": 249,
     "metadata": {},
     "output_type": "execute_result"
    }
   ],
   "source": [
    "mat [2] [1] [0]"
   ]
  },
  {
   "cell_type": "code",
   "execution_count": 250,
   "id": "e32995b5",
   "metadata": {},
   "outputs": [
    {
     "data": {
      "text/plain": [
       "[7, 2, 5, 3, 6, 7, 2, 5, 3, 6]"
      ]
     },
     "execution_count": 250,
     "metadata": {},
     "output_type": "execute_result"
    }
   ],
   "source": [
    "num=[7,2,5,3,6]\n",
    "num*2"
   ]
  },
  {
   "cell_type": "code",
   "execution_count": 251,
   "id": "46fbbd7e",
   "metadata": {},
   "outputs": [
    {
     "data": {
      "text/plain": [
       "[7, 2, 5, 3, 6, 4, 8]"
      ]
     },
     "execution_count": 251,
     "metadata": {},
     "output_type": "execute_result"
    }
   ],
   "source": [
    "num+[4,8]"
   ]
  },
  {
   "cell_type": "code",
   "execution_count": 252,
   "id": "9cb2efac",
   "metadata": {},
   "outputs": [
    {
     "data": {
      "text/plain": [
       "[7, 2, 5, 3, 6, 0, 9]"
      ]
     },
     "execution_count": 252,
     "metadata": {},
     "output_type": "execute_result"
    }
   ],
   "source": [
    "num +=[0,9]\n",
    "num"
   ]
  },
  {
   "cell_type": "code",
   "execution_count": 253,
   "id": "ae014578",
   "metadata": {},
   "outputs": [
    {
     "name": "stdout",
     "output_type": "stream",
     "text": [
      "753"
     ]
    }
   ],
   "source": [
    "num=[7,2,5,3,6]\n",
    "for n in num :\n",
    "    if n % 2 !=0:\n",
    "        print(n,end='')"
   ]
  },
  {
   "cell_type": "code",
   "execution_count": 255,
   "id": "a2fc71c7",
   "metadata": {},
   "outputs": [
    {
     "data": {
      "text/plain": [
       "[2, 4, 6, 8, 10, 12, 14, 16, 18, 20]"
      ]
     },
     "execution_count": 255,
     "metadata": {},
     "output_type": "execute_result"
    }
   ],
   "source": [
    "even=[2*i for i in range(1,11)] '''multiplying 2 with numbers 1 to 10'''\n",
    "even"
   ]
  },
  {
   "cell_type": "code",
   "execution_count": 256,
   "id": "fdb85fd0",
   "metadata": {},
   "outputs": [
    {
     "data": {
      "text/plain": [
       "[]"
      ]
     },
     "execution_count": 256,
     "metadata": {},
     "output_type": "execute_result"
    }
   ],
   "source": [
    "num=[]  # Empty List\n",
    "num"
   ]
  },
  {
   "cell_type": "code",
   "execution_count": 257,
   "id": "27146bf2",
   "metadata": {},
   "outputs": [
    {
     "data": {
      "text/plain": [
       "list"
      ]
     },
     "execution_count": 257,
     "metadata": {},
     "output_type": "execute_result"
    }
   ],
   "source": [
    "type(num)"
   ]
  },
  {
   "cell_type": "code",
   "execution_count": 258,
   "id": "0eb23416",
   "metadata": {},
   "outputs": [
    {
     "data": {
      "text/plain": [
       "0"
      ]
     },
     "execution_count": 258,
     "metadata": {},
     "output_type": "execute_result"
    }
   ],
   "source": [
    "len(num)"
   ]
  },
  {
   "cell_type": "code",
   "execution_count": 259,
   "id": "0d144f54",
   "metadata": {},
   "outputs": [
    {
     "data": {
      "text/plain": [
       "1"
      ]
     },
     "execution_count": 259,
     "metadata": {},
     "output_type": "execute_result"
    }
   ],
   "source": [
    "num=[1,2,3]\n",
    "x,y,z=num\n",
    "x"
   ]
  },
  {
   "cell_type": "code",
   "execution_count": 260,
   "id": "bcd99506",
   "metadata": {},
   "outputs": [
    {
     "data": {
      "text/plain": [
       "2"
      ]
     },
     "execution_count": 260,
     "metadata": {},
     "output_type": "execute_result"
    }
   ],
   "source": [
    "y"
   ]
  },
  {
   "cell_type": "code",
   "execution_count": 261,
   "id": "e7e0d75c",
   "metadata": {},
   "outputs": [
    {
     "data": {
      "text/plain": [
       "3"
      ]
     },
     "execution_count": 261,
     "metadata": {},
     "output_type": "execute_result"
    }
   ],
   "source": [
    "z"
   ]
  },
  {
   "cell_type": "code",
   "execution_count": 262,
   "id": "4b3de4a1",
   "metadata": {},
   "outputs": [
    {
     "data": {
      "text/plain": [
       "7"
      ]
     },
     "execution_count": 262,
     "metadata": {},
     "output_type": "execute_result"
    }
   ],
   "source": [
    "# Built- in Functions\n",
    "''' len()  max()   min()   sum() '''\n",
    "num=[7,2,5,8,6,4,3]\n",
    "len(num)\n"
   ]
  },
  {
   "cell_type": "code",
   "execution_count": 263,
   "id": "3950d27b",
   "metadata": {},
   "outputs": [
    {
     "data": {
      "text/plain": [
       "8"
      ]
     },
     "execution_count": 263,
     "metadata": {},
     "output_type": "execute_result"
    }
   ],
   "source": [
    "max(num)"
   ]
  },
  {
   "cell_type": "code",
   "execution_count": 264,
   "id": "3eb3220a",
   "metadata": {},
   "outputs": [
    {
     "data": {
      "text/plain": [
       "2"
      ]
     },
     "execution_count": 264,
     "metadata": {},
     "output_type": "execute_result"
    }
   ],
   "source": [
    "min(num)"
   ]
  },
  {
   "cell_type": "code",
   "execution_count": 265,
   "id": "0ea8a731",
   "metadata": {},
   "outputs": [
    {
     "data": {
      "text/plain": [
       "35"
      ]
     },
     "execution_count": 265,
     "metadata": {},
     "output_type": "execute_result"
    }
   ],
   "source": [
    "sum(num)"
   ]
  },
  {
   "cell_type": "code",
   "execution_count": 266,
   "id": "7d4aa69b",
   "metadata": {},
   "outputs": [
    {
     "data": {
      "text/plain": [
       "[2, 3, 4, 5, 6, 7, 8]"
      ]
     },
     "execution_count": 266,
     "metadata": {},
     "output_type": "execute_result"
    }
   ],
   "source": [
    "sorted(num)"
   ]
  },
  {
   "cell_type": "code",
   "execution_count": 267,
   "id": "5d6602c3",
   "metadata": {},
   "outputs": [
    {
     "data": {
      "text/plain": [
       "['x', 'y', 'z']"
      ]
     },
     "execution_count": 267,
     "metadata": {},
     "output_type": "execute_result"
    }
   ],
   "source": [
    "list('xyz')"
   ]
  },
  {
   "cell_type": "code",
   "execution_count": 268,
   "id": "b4547df9",
   "metadata": {},
   "outputs": [
    {
     "data": {
      "text/plain": [
       "False"
      ]
     },
     "execution_count": 268,
     "metadata": {},
     "output_type": "execute_result"
    }
   ],
   "source": [
    "data=[0,0,0,0,False]\n",
    "any(data)"
   ]
  },
  {
   "cell_type": "code",
   "execution_count": 269,
   "id": "9edb2278",
   "metadata": {},
   "outputs": [
    {
     "data": {
      "text/plain": [
       "True"
      ]
     },
     "execution_count": 269,
     "metadata": {},
     "output_type": "execute_result"
    }
   ],
   "source": [
    "data=[0,0,3,0,False]  #checks whether there is a True value or not\n",
    "any(data)"
   ]
  },
  {
   "cell_type": "code",
   "execution_count": 270,
   "id": "d62dfbc8",
   "metadata": {},
   "outputs": [
    {
     "data": {
      "text/plain": [
       "True"
      ]
     },
     "execution_count": 270,
     "metadata": {},
     "output_type": "execute_result"
    }
   ],
   "source": [
    "data=[4,7,2,4,6,7]  # checking whether all are same data type values\n",
    "all(data)"
   ]
  },
  {
   "cell_type": "code",
   "execution_count": 271,
   "id": "86dfdbad",
   "metadata": {},
   "outputs": [
    {
     "data": {
      "text/plain": [
       "False"
      ]
     },
     "execution_count": 271,
     "metadata": {},
     "output_type": "execute_result"
    }
   ],
   "source": [
    "data=[4,7,2,4,0,7]\n",
    "all(data)"
   ]
  },
  {
   "cell_type": "code",
   "execution_count": 272,
   "id": "f5c8b8e7",
   "metadata": {},
   "outputs": [
    {
     "data": {
      "text/plain": [
       "[4, 7, 2, 4, 0, 7, 0]"
      ]
     },
     "execution_count": 272,
     "metadata": {},
     "output_type": "execute_result"
    }
   ],
   "source": [
    "num=[4,7,2,4,0,7]  # append- inserting elements\n",
    "num.append(0)\n",
    "num"
   ]
  },
  {
   "cell_type": "code",
   "execution_count": 273,
   "id": "4224b2b4",
   "metadata": {},
   "outputs": [
    {
     "data": {
      "text/plain": [
       "[4, 5, 7, 2, 4, 0, 7, 0]"
      ]
     },
     "execution_count": 273,
     "metadata": {},
     "output_type": "execute_result"
    }
   ],
   "source": [
    "num.insert(1,5) #(index, no to be replaced)\n",
    "num"
   ]
  },
  {
   "cell_type": "code",
   "execution_count": 274,
   "id": "013c4fde",
   "metadata": {},
   "outputs": [
    {
     "data": {
      "text/plain": [
       "[4, 7, 2, 4, 0, 7, 0]"
      ]
     },
     "execution_count": 274,
     "metadata": {},
     "output_type": "execute_result"
    }
   ],
   "source": [
    "num.remove(5)\n",
    "num"
   ]
  },
  {
   "cell_type": "code",
   "execution_count": 275,
   "id": "cdf7ba69",
   "metadata": {},
   "outputs": [
    {
     "data": {
      "text/plain": [
       "0"
      ]
     },
     "execution_count": 275,
     "metadata": {},
     "output_type": "execute_result"
    }
   ],
   "source": [
    "x=num.pop() # removing the last element\n",
    "x"
   ]
  },
  {
   "cell_type": "code",
   "execution_count": 279,
   "id": "c2ae54a7",
   "metadata": {},
   "outputs": [
    {
     "data": {
      "text/plain": [
       "1"
      ]
     },
     "execution_count": 279,
     "metadata": {},
     "output_type": "execute_result"
    }
   ],
   "source": [
    "num.index(7) # Position of the number \n"
   ]
  },
  {
   "cell_type": "code",
   "execution_count": 280,
   "id": "1c4b3a6a",
   "metadata": {},
   "outputs": [
    {
     "data": {
      "text/plain": [
       "0"
      ]
     },
     "execution_count": 280,
     "metadata": {},
     "output_type": "execute_result"
    }
   ],
   "source": [
    "num.count(3)"
   ]
  },
  {
   "cell_type": "code",
   "execution_count": 283,
   "id": "80976c9c",
   "metadata": {},
   "outputs": [
    {
     "data": {
      "text/plain": [
       "[3, 4, 6, 8, 5, 2, 7]"
      ]
     },
     "execution_count": 283,
     "metadata": {},
     "output_type": "execute_result"
    }
   ],
   "source": [
    "num=[7,2,5,8,6,4,3]\n",
    "num.reverse()   # reversing the data\n",
    "num"
   ]
  },
  {
   "cell_type": "code",
   "execution_count": 285,
   "id": "73d3485f",
   "metadata": {},
   "outputs": [
    {
     "name": "stdout",
     "output_type": "stream",
     "text": [
      "How many elements?9\n",
      "Enter number :12\n",
      "List is : [12]\n",
      "Enter number :22\n",
      "List is : [12, 22]\n",
      "Enter number :19\n",
      "List is : [12, 22, 19]\n",
      "Enter number :26\n",
      "List is : [12, 22, 19, 26]\n",
      "Enter number :45\n",
      "List is : [12, 22, 19, 26, 45]\n",
      "Enter number :1926\n",
      "List is : [12, 22, 19, 26, 45, 1926]\n",
      "Enter number :44\n",
      "List is : [12, 22, 19, 26, 45, 1926, 44]\n",
      "Enter number :789\n",
      "List is : [12, 22, 19, 26, 45, 1926, 44, 789]\n",
      "Enter number :44\n",
      "List is : [12, 22, 19, 26, 45, 1926, 44, 789, 44]\n"
     ]
    }
   ],
   "source": [
    "arr=[]       # \n",
    "n= int(input('How many elements?'))\n",
    "for x in range(n):\n",
    "    num=int(input('Enter number :'))\n",
    "    arr.append(num)\n",
    "    print('List is :',arr)"
   ]
  },
  {
   "cell_type": "code",
   "execution_count": 287,
   "id": "b0bd8248",
   "metadata": {},
   "outputs": [
    {
     "name": "stdout",
     "output_type": "stream",
     "text": [
      "['gold', 'silver', 'iron', 'aluminuim']\n"
     ]
    }
   ],
   "source": [
    "metals=['gold','copper','silver','iron','aluminuim','copper']\n",
    "new_metals=[]\n",
    "for metal in metals:\n",
    "    if metal != 'copper':\n",
    "        new_metals.append(metal)\n",
    "print(new_metals)"
   ]
  },
  {
   "cell_type": "code",
   "execution_count": 288,
   "id": "068a566e",
   "metadata": {},
   "outputs": [
    {
     "name": "stdout",
     "output_type": "stream",
     "text": [
      "(67, 85, 69, 72, 63)\n"
     ]
    }
   ],
   "source": [
    "# Tuples are immutable  unlike lists\n",
    "per=(67,85,69,72,63)\n",
    "print(per)\n"
   ]
  },
  {
   "cell_type": "code",
   "execution_count": 289,
   "id": "cedf9abf",
   "metadata": {},
   "outputs": [
    {
     "data": {
      "text/plain": [
       "tuple"
      ]
     },
     "execution_count": 289,
     "metadata": {},
     "output_type": "execute_result"
    }
   ],
   "source": [
    "type(per)"
   ]
  },
  {
   "cell_type": "code",
   "execution_count": 290,
   "id": "957fed3a",
   "metadata": {},
   "outputs": [
    {
     "data": {
      "text/plain": [
       "(1, 56.34, 'NK')"
      ]
     },
     "execution_count": 290,
     "metadata": {},
     "output_type": "execute_result"
    }
   ],
   "source": [
    "sample=1,56.34,'NK'\n",
    "sample"
   ]
  },
  {
   "cell_type": "code",
   "execution_count": 291,
   "id": "d30329a3",
   "metadata": {},
   "outputs": [
    {
     "data": {
      "text/plain": [
       "tuple"
      ]
     },
     "execution_count": 291,
     "metadata": {},
     "output_type": "execute_result"
    }
   ],
   "source": [
    "type(sample)"
   ]
  },
  {
   "cell_type": "code",
   "execution_count": 292,
   "id": "87032643",
   "metadata": {},
   "outputs": [
    {
     "data": {
      "text/plain": [
       "69"
      ]
     },
     "execution_count": 292,
     "metadata": {},
     "output_type": "execute_result"
    }
   ],
   "source": [
    "per=(67,85,69,72,63)\n",
    "per[2]"
   ]
  },
  {
   "cell_type": "code",
   "execution_count": 293,
   "id": "10e07cc3",
   "metadata": {},
   "outputs": [
    {
     "data": {
      "text/plain": [
       "(69, 72, 63)"
      ]
     },
     "execution_count": 293,
     "metadata": {},
     "output_type": "execute_result"
    }
   ],
   "source": [
    "per[2:5] "
   ]
  },
  {
   "cell_type": "code",
   "execution_count": 294,
   "id": "9b8dd295",
   "metadata": {},
   "outputs": [
    {
     "data": {
      "text/plain": [
       "72"
      ]
     },
     "execution_count": 294,
     "metadata": {},
     "output_type": "execute_result"
    }
   ],
   "source": [
    "per[-2] # second last index"
   ]
  },
  {
   "cell_type": "code",
   "execution_count": 295,
   "id": "04ad45dc",
   "metadata": {},
   "outputs": [
    {
     "data": {
      "text/plain": [
       "7"
      ]
     },
     "execution_count": 295,
     "metadata": {},
     "output_type": "execute_result"
    }
   ],
   "source": [
    "num=(7,2,5,8,6,4,3)\n",
    "len(num)"
   ]
  },
  {
   "cell_type": "code",
   "execution_count": 296,
   "id": "55d750fb",
   "metadata": {},
   "outputs": [
    {
     "data": {
      "text/plain": [
       "8"
      ]
     },
     "execution_count": 296,
     "metadata": {},
     "output_type": "execute_result"
    }
   ],
   "source": [
    "max(num)"
   ]
  },
  {
   "cell_type": "code",
   "execution_count": 297,
   "id": "665079ef",
   "metadata": {},
   "outputs": [
    {
     "data": {
      "text/plain": [
       "2"
      ]
     },
     "execution_count": 297,
     "metadata": {},
     "output_type": "execute_result"
    }
   ],
   "source": [
    "min(num)"
   ]
  },
  {
   "cell_type": "code",
   "execution_count": 298,
   "id": "8bdbac1a",
   "metadata": {},
   "outputs": [
    {
     "data": {
      "text/plain": [
       "35"
      ]
     },
     "execution_count": 298,
     "metadata": {},
     "output_type": "execute_result"
    }
   ],
   "source": [
    "sum(num)"
   ]
  },
  {
   "cell_type": "code",
   "execution_count": 299,
   "id": "2ddc997b",
   "metadata": {},
   "outputs": [
    {
     "data": {
      "text/plain": [
       "[2, 3, 4, 5, 6, 7, 8]"
      ]
     },
     "execution_count": 299,
     "metadata": {},
     "output_type": "execute_result"
    }
   ],
   "source": [
    "sorted(num)"
   ]
  },
  {
   "cell_type": "code",
   "execution_count": 301,
   "id": "cf8ca0dd",
   "metadata": {},
   "outputs": [
    {
     "data": {
      "text/plain": [
       "('x', 'y', 'z')"
      ]
     },
     "execution_count": 301,
     "metadata": {},
     "output_type": "execute_result"
    }
   ],
   "source": [
    "tuple('xyz')"
   ]
  },
  {
   "cell_type": "code",
   "execution_count": 303,
   "id": "cfed2c2d",
   "metadata": {},
   "outputs": [
    {
     "data": {
      "text/plain": [
       "False"
      ]
     },
     "execution_count": 303,
     "metadata": {},
     "output_type": "execute_result"
    }
   ],
   "source": [
    "data=(0,0,0,0,False)\n",
    "any(data)"
   ]
  },
  {
   "cell_type": "code",
   "execution_count": 304,
   "id": "9e4ec874",
   "metadata": {},
   "outputs": [
    {
     "data": {
      "text/plain": [
       "True"
      ]
     },
     "execution_count": 304,
     "metadata": {},
     "output_type": "execute_result"
    }
   ],
   "source": [
    "data=(0,0,3,0,False)\n",
    "any(data)"
   ]
  },
  {
   "cell_type": "code",
   "execution_count": 305,
   "id": "d7000704",
   "metadata": {},
   "outputs": [
    {
     "data": {
      "text/plain": [
       "False"
      ]
     },
     "execution_count": 305,
     "metadata": {},
     "output_type": "execute_result"
    }
   ],
   "source": [
    "all(data)"
   ]
  },
  {
   "cell_type": "code",
   "execution_count": 309,
   "id": "834f30d5",
   "metadata": {},
   "outputs": [
    {
     "data": {
      "text/plain": [
       "True"
      ]
     },
     "execution_count": 309,
     "metadata": {},
     "output_type": "execute_result"
    }
   ],
   "source": [
    "data=(4,7,9,4,6,7)\n",
    "all(data)"
   ]
  },
  {
   "cell_type": "code",
   "execution_count": 307,
   "id": "e576bfa0",
   "metadata": {},
   "outputs": [
    {
     "data": {
      "text/plain": [
       "False"
      ]
     },
     "execution_count": 307,
     "metadata": {},
     "output_type": "execute_result"
    }
   ],
   "source": [
    "data=(4,7,2,4,6,0)\n",
    "all(data)"
   ]
  },
  {
   "cell_type": "code",
   "execution_count": 310,
   "id": "0517ca02",
   "metadata": {},
   "outputs": [
    {
     "data": {
      "text/plain": [
       "4"
      ]
     },
     "execution_count": 310,
     "metadata": {},
     "output_type": "execute_result"
    }
   ],
   "source": [
    "per.index(63)    #Returns the index of first apprearance\n"
   ]
  },
  {
   "cell_type": "code",
   "execution_count": 311,
   "id": "a0996f38",
   "metadata": {},
   "outputs": [
    {
     "data": {
      "text/plain": [
       "1"
      ]
     },
     "execution_count": 311,
     "metadata": {},
     "output_type": "execute_result"
    }
   ],
   "source": [
    "per.count(85)  # Returns frequency of items\n"
   ]
  },
  {
   "cell_type": "code",
   "execution_count": 312,
   "id": "a0e90d63",
   "metadata": {},
   "outputs": [
    {
     "data": {
      "text/plain": [
       "False"
      ]
     },
     "execution_count": 312,
     "metadata": {},
     "output_type": "execute_result"
    }
   ],
   "source": [
    "56 in per"
   ]
  },
  {
   "cell_type": "code",
   "execution_count": 313,
   "id": "730d70e0",
   "metadata": {},
   "outputs": [
    {
     "data": {
      "text/plain": [
       "True"
      ]
     },
     "execution_count": 313,
     "metadata": {},
     "output_type": "execute_result"
    }
   ],
   "source": [
    "81 not in per"
   ]
  },
  {
   "cell_type": "code",
   "execution_count": 315,
   "id": "f302da91",
   "metadata": {},
   "outputs": [
    {
     "data": {
      "text/plain": [
       "(67, 85, 69, 72, 63, 18, 43)"
      ]
     },
     "execution_count": 315,
     "metadata": {},
     "output_type": "execute_result"
    }
   ],
   "source": [
    "per+(18,43) # adding 18 and 43 at end"
   ]
  },
  {
   "cell_type": "code",
   "execution_count": 316,
   "id": "35ae58fb",
   "metadata": {},
   "outputs": [
    {
     "data": {
      "text/plain": [
       "(67, 85, 69, 72, 63, 18, 43)"
      ]
     },
     "execution_count": 316,
     "metadata": {},
     "output_type": "execute_result"
    }
   ],
   "source": [
    "new=per+(18,43)\n",
    "new"
   ]
  },
  {
   "cell_type": "code",
   "execution_count": 317,
   "id": "bf51206f",
   "metadata": {},
   "outputs": [
    {
     "name": "stdout",
     "output_type": "stream",
     "text": [
      "67\n",
      "85\n",
      "69\n",
      "72\n",
      "63\n"
     ]
    }
   ],
   "source": [
    "for n in per:\n",
    "    print(n,sep='')"
   ]
  },
  {
   "cell_type": "code",
   "execution_count": 318,
   "id": "f02905a4",
   "metadata": {},
   "outputs": [
    {
     "data": {
      "text/plain": [
       "(2, 7)"
      ]
     },
     "execution_count": 318,
     "metadata": {},
     "output_type": "execute_result"
    }
   ],
   "source": [
    "#Nesting\n",
    "num=(23,(2,7),11,36)\n",
    "num[1]"
   ]
  },
  {
   "cell_type": "code",
   "execution_count": 320,
   "id": "94b451cb",
   "metadata": {},
   "outputs": [
    {
     "data": {
      "text/plain": [
       "2"
      ]
     },
     "execution_count": 320,
     "metadata": {},
     "output_type": "execute_result"
    }
   ],
   "source": [
    "num[1][0]"
   ]
  },
  {
   "cell_type": "code",
   "execution_count": 325,
   "id": "c7348da8",
   "metadata": {},
   "outputs": [
    {
     "name": "stdout",
     "output_type": "stream",
     "text": [
      "How many students? :2\n",
      "Enter roll :19\n",
      "Enter name:GK\n",
      "Enter marks :99\n",
      "Enter roll :26\n",
      "Enter name:NK\n",
      "Enter marks :100\n",
      "26NK        100.00\n"
     ]
    }
   ],
   "source": [
    "# Sample list of Tuple\n",
    "num= int(input('How many students? :'))\n",
    "stud=[]\n",
    "for x in range(num):\n",
    "        roll=int(input('Enter roll :'))\n",
    "        name=input('Enter name:')\n",
    "        marks = float(input('Enter marks :'))\n",
    "stud.append((roll,name,marks))\n",
    "for x in stud :\n",
    "    print(\"%-2d%-10s%-3.2f\" %(x[0],x[1],x[2]))\n",
    "    "
   ]
  },
  {
   "cell_type": "code",
   "execution_count": 351,
   "id": "d4b01f7f",
   "metadata": {},
   "outputs": [
    {
     "data": {
      "text/plain": [
       "dict"
      ]
     },
     "execution_count": 351,
     "metadata": {},
     "output_type": "execute_result"
    }
   ],
   "source": [
    "# Dictionary \n",
    "d={'a':'apple','b':'ball'}\n",
    "num={1:25,3:10,5:11}\n",
    "type(d)"
   ]
  },
  {
   "cell_type": "code",
   "execution_count": 352,
   "id": "6c2fcd02",
   "metadata": {},
   "outputs": [
    {
     "data": {
      "text/plain": [
       "dict"
      ]
     },
     "execution_count": 352,
     "metadata": {},
     "output_type": "execute_result"
    }
   ],
   "source": [
    "type(num)\n"
   ]
  },
  {
   "cell_type": "code",
   "execution_count": 354,
   "id": "9d2dc918",
   "metadata": {},
   "outputs": [
    {
     "data": {
      "text/plain": [
       "dict"
      ]
     },
     "execution_count": 354,
     "metadata": {},
     "output_type": "execute_result"
    }
   ],
   "source": [
    "num={1:25,3:10,5:11,'x':'data'}\n",
    "type(num)"
   ]
  },
  {
   "cell_type": "code",
   "execution_count": 355,
   "id": "de752ade",
   "metadata": {},
   "outputs": [
    {
     "data": {
      "text/plain": [
       "'apple'"
      ]
     },
     "execution_count": 355,
     "metadata": {},
     "output_type": "execute_result"
    }
   ],
   "source": [
    "d['a']"
   ]
  },
  {
   "cell_type": "code",
   "execution_count": 356,
   "id": "0fd408bc",
   "metadata": {},
   "outputs": [
    {
     "data": {
      "text/plain": [
       "10"
      ]
     },
     "execution_count": 356,
     "metadata": {},
     "output_type": "execute_result"
    }
   ],
   "source": [
    "num[3]"
   ]
  },
  {
   "cell_type": "code",
   "execution_count": 358,
   "id": "f48b1a97",
   "metadata": {},
   "outputs": [
    {
     "data": {
      "text/plain": [
       "{1: 25, 3: 10, 5: 11, 'x': 'data', 2: 20}"
      ]
     },
     "execution_count": 358,
     "metadata": {},
     "output_type": "execute_result"
    }
   ],
   "source": [
    "num[2]=20   # accessing and adding elemnts\n",
    "num"
   ]
  },
  {
   "cell_type": "code",
   "execution_count": 360,
   "id": "41dc5d79",
   "metadata": {},
   "outputs": [
    {
     "data": {
      "text/plain": [
       "{1: 56, 2: 49, 6: 75}"
      ]
     },
     "execution_count": 360,
     "metadata": {},
     "output_type": "execute_result"
    }
   ],
   "source": [
    "data=([1,56],[2,49],[6,75])\n",
    "d= dict(data)\n",
    "d"
   ]
  },
  {
   "cell_type": "code",
   "execution_count": 361,
   "id": "ed5b2bff",
   "metadata": {},
   "outputs": [
    {
     "data": {
      "text/plain": [
       "{1: 45, 6: 27, 4: 23}"
      ]
     },
     "execution_count": 361,
     "metadata": {},
     "output_type": "execute_result"
    }
   ],
   "source": [
    "d={1:45,6:23,4:23,6:27}\n",
    "d"
   ]
  },
  {
   "cell_type": "code",
   "execution_count": 362,
   "id": "fccd07f9",
   "metadata": {},
   "outputs": [
    {
     "data": {
      "text/plain": [
       "dict"
      ]
     },
     "execution_count": 362,
     "metadata": {},
     "output_type": "execute_result"
    }
   ],
   "source": [
    "type(d)"
   ]
  },
  {
   "cell_type": "code",
   "execution_count": 363,
   "id": "6a2915e5",
   "metadata": {},
   "outputs": [
    {
     "data": {
      "text/plain": [
       "dict"
      ]
     },
     "execution_count": 363,
     "metadata": {},
     "output_type": "execute_result"
    }
   ],
   "source": [
    "animals={}\n",
    "type(animals)"
   ]
  },
  {
   "cell_type": "code",
   "execution_count": 364,
   "id": "ca8067e1",
   "metadata": {},
   "outputs": [
    {
     "data": {
      "text/plain": [
       "{1: 'dog', 2: 'cat', 3: 'ferret'}"
      ]
     },
     "execution_count": 364,
     "metadata": {},
     "output_type": "execute_result"
    }
   ],
   "source": [
    "animals[1]='dog'\n",
    "animals[2]= 'cat'\n",
    "animals[3]= 'ferret'\n",
    "animals"
   ]
  },
  {
   "cell_type": "code",
   "execution_count": 365,
   "id": "6994b309",
   "metadata": {},
   "outputs": [
    {
     "data": {
      "text/plain": [
       "dict_keys([2, 5, 6, 7, 9])"
      ]
     },
     "execution_count": 365,
     "metadata": {},
     "output_type": "execute_result"
    }
   ],
   "source": [
    "data = {2:45,5:38,6:11,7:105,9:20} # Key values(coefficient )\n",
    "data.keys()"
   ]
  },
  {
   "cell_type": "code",
   "execution_count": 367,
   "id": "8a8a9f8f",
   "metadata": {},
   "outputs": [
    {
     "data": {
      "text/plain": [
       "dict_values([45, 38, 11, 105, 20])"
      ]
     },
     "execution_count": 367,
     "metadata": {},
     "output_type": "execute_result"
    }
   ],
   "source": [
    "data.values()\n"
   ]
  },
  {
   "cell_type": "code",
   "execution_count": 368,
   "id": "3d094ab9",
   "metadata": {},
   "outputs": [
    {
     "data": {
      "text/plain": [
       "dict_items([(2, 45), (5, 38), (6, 11), (7, 105), (9, 20)])"
      ]
     },
     "execution_count": 368,
     "metadata": {},
     "output_type": "execute_result"
    }
   ],
   "source": [
    "data.items()"
   ]
  },
  {
   "cell_type": "code",
   "execution_count": 369,
   "id": "4e8b0ab1",
   "metadata": {},
   "outputs": [
    {
     "data": {
      "text/plain": [
       "45"
      ]
     },
     "execution_count": 369,
     "metadata": {},
     "output_type": "execute_result"
    }
   ],
   "source": [
    "data={9: 20, 2: 45, 5: 38, 6: 11, 7: 105} #1st- key to search 2nd- is to return\n",
    "data.get(2,1)"
   ]
  },
  {
   "cell_type": "code",
   "execution_count": 370,
   "id": "c41c20a5",
   "metadata": {},
   "outputs": [
    {
     "data": {
      "text/plain": [
       "5"
      ]
     },
     "execution_count": 370,
     "metadata": {},
     "output_type": "execute_result"
    }
   ],
   "source": [
    "data.get(4,5)"
   ]
  },
  {
   "cell_type": "code",
   "execution_count": 371,
   "id": "36b6a24c",
   "metadata": {},
   "outputs": [
    {
     "data": {
      "text/plain": [
       "105"
      ]
     },
     "execution_count": 371,
     "metadata": {},
     "output_type": "execute_result"
    }
   ],
   "source": [
    "data.get(7,110)"
   ]
  },
  {
   "cell_type": "code",
   "execution_count": 372,
   "id": "243b34cc",
   "metadata": {},
   "outputs": [
    {
     "data": {
      "text/plain": [
       "' copy()--> creates copy of python dict and pop()  removes element  where 1st\\nis the key to be found and 2nd is key to be replaced  while clear is to clear the python dict'"
      ]
     },
     "execution_count": 372,
     "metadata": {},
     "output_type": "execute_result"
    }
   ],
   "source": [
    "''' copy()--> creates copy of python dict and pop()  removes element  where 1st\n",
    "is the key to be found and 2nd is key to be replaced  while clear is to clear the python dict'''\n"
   ]
  },
  {
   "cell_type": "code",
   "execution_count": null,
   "id": "2a309cbc",
   "metadata": {},
   "outputs": [],
   "source": []
  }
 ],
 "metadata": {
  "kernelspec": {
   "display_name": "Python 3 (ipykernel)",
   "language": "python",
   "name": "python3"
  },
  "language_info": {
   "codemirror_mode": {
    "name": "ipython",
    "version": 3
   },
   "file_extension": ".py",
   "mimetype": "text/x-python",
   "name": "python",
   "nbconvert_exporter": "python",
   "pygments_lexer": "ipython3",
   "version": "3.9.12"
  }
 },
 "nbformat": 4,
 "nbformat_minor": 5
}
