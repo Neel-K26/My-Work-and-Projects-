{
 "cells": [
  {
   "cell_type": "code",
   "execution_count": 4,
   "id": "90b1516c",
   "metadata": {},
   "outputs": [
    {
     "name": "stdout",
     "output_type": "stream",
     "text": [
      "18.0\n"
     ]
    }
   ],
   "source": [
    "data1=36\n",
    "data2=2\n",
    "result=int(data1)/data2\n",
    "print(result)"
   ]
  },
  {
   "cell_type": "code",
   "execution_count": 6,
   "id": "6164d381",
   "metadata": {},
   "outputs": [
    {
     "name": "stdout",
     "output_type": "stream",
     "text": [
      "34\n"
     ]
    }
   ],
   "source": [
    "num1,num2,num3=[12,34,55)\n",
    "print(num2)"
   ]
  },
  {
   "cell_type": "code",
   "execution_count": 12,
   "id": "afa7d99d",
   "metadata": {},
   "outputs": [],
   "source": [
    "num=[7,2,5,8,6,4,3]\n",
    "num.sort()"
   ]
  },
  {
   "cell_type": "code",
   "execution_count": 14,
   "id": "9d8fd24a",
   "metadata": {},
   "outputs": [
    {
     "name": "stdout",
     "output_type": "stream",
     "text": [
      "14\n"
     ]
    }
   ],
   "source": [
    "num=9\n",
    "num+=5\n",
    "print(num)"
   ]
  },
  {
   "cell_type": "code",
   "execution_count": 15,
   "id": "22d12b83",
   "metadata": {},
   "outputs": [],
   "source": [
    "animals={}"
   ]
  },
  {
   "cell_type": "code",
   "execution_count": 16,
   "id": "727254f5",
   "metadata": {},
   "outputs": [],
   "source": [
    "animals[1]='dog'"
   ]
  },
  {
   "cell_type": "code",
   "execution_count": 17,
   "id": "2dfffc2c",
   "metadata": {},
   "outputs": [],
   "source": [
    "animals[2]='cat'"
   ]
  },
  {
   "cell_type": "code",
   "execution_count": 18,
   "id": "28962560",
   "metadata": {},
   "outputs": [
    {
     "ename": "KeyError",
     "evalue": "0",
     "output_type": "error",
     "traceback": [
      "\u001b[1;31m---------------------------------------------------------------------------\u001b[0m",
      "\u001b[1;31mKeyError\u001b[0m                                  Traceback (most recent call last)",
      "\u001b[1;32m~\\AppData\\Local\\Temp/ipykernel_13376/2427341978.py\u001b[0m in \u001b[0;36m<module>\u001b[1;34m\u001b[0m\n\u001b[1;32m----> 1\u001b[1;33m \u001b[0mprint\u001b[0m\u001b[1;33m(\u001b[0m\u001b[0manimals\u001b[0m\u001b[1;33m[\u001b[0m\u001b[1;36m0\u001b[0m\u001b[1;33m]\u001b[0m\u001b[1;33m)\u001b[0m\u001b[1;33m\u001b[0m\u001b[1;33m\u001b[0m\u001b[0m\n\u001b[0m",
      "\u001b[1;31mKeyError\u001b[0m: 0"
     ]
    }
   ],
   "source": [
    "print(animals[0])"
   ]
  },
  {
   "cell_type": "code",
   "execution_count": 21,
   "id": "204471bc",
   "metadata": {},
   "outputs": [
    {
     "name": "stdout",
     "output_type": "stream",
     "text": [
      "Addition is 35\n"
     ]
    }
   ],
   "source": [
    "add=0\n",
    "for x in range(1,15,3):\n",
    "        add=add+x\n",
    "print(\"Addition is\",add)"
   ]
  },
  {
   "cell_type": "code",
   "execution_count": 23,
   "id": "74e2eeb9",
   "metadata": {},
   "outputs": [
    {
     "data": {
      "text/plain": [
       "[5]"
      ]
     },
     "execution_count": 23,
     "metadata": {},
     "output_type": "execute_result"
    }
   ],
   "source": [
    "data=[4,11,[5],6,[10,[11]],12]\n",
    "data[2]"
   ]
  },
  {
   "cell_type": "code",
   "execution_count": null,
   "id": "c900f525",
   "metadata": {},
   "outputs": [],
   "source": [
    "x=[5,6,1,8,9,1,3,7,4,0]\n"
   ]
  }
 ],
 "metadata": {
  "kernelspec": {
   "display_name": "Python 3 (ipykernel)",
   "language": "python",
   "name": "python3"
  },
  "language_info": {
   "codemirror_mode": {
    "name": "ipython",
    "version": 3
   },
   "file_extension": ".py",
   "mimetype": "text/x-python",
   "name": "python",
   "nbconvert_exporter": "python",
   "pygments_lexer": "ipython3",
   "version": "3.9.7"
  }
 },
 "nbformat": 4,
 "nbformat_minor": 5
}
