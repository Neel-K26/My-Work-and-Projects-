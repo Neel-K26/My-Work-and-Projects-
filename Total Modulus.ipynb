{
 "cells": [
  {
   "cell_type": "code",
   "execution_count": 1,
   "id": "c1e6478c",
   "metadata": {},
   "outputs": [
    {
     "name": "stdout",
     "output_type": "stream",
     "text": [
      "-0.8555199789753223\n"
     ]
    }
   ],
   "source": [
    "import math\n",
    "print(math.sin(67))\n"
   ]
  },
  {
   "cell_type": "code",
   "execution_count": 2,
   "id": "930805a2",
   "metadata": {},
   "outputs": [
    {
     "name": "stdout",
     "output_type": "stream",
     "text": [
      "3.258096538021482\n"
     ]
    }
   ],
   "source": [
    "print(math.log(26))\n"
   ]
  },
  {
   "cell_type": "code",
   "execution_count": 3,
   "id": "6cc35cb9",
   "metadata": {},
   "outputs": [
    {
     "name": "stdout",
     "output_type": "stream",
     "text": [
      "4.358898943540674\n"
     ]
    }
   ],
   "source": [
    "print(math.sqrt(19))"
   ]
  },
  {
   "cell_type": "code",
   "execution_count": 4,
   "id": "b0de5086",
   "metadata": {},
   "outputs": [
    {
     "name": "stdout",
     "output_type": "stream",
     "text": [
      "3.141592653589793\n"
     ]
    }
   ],
   "source": [
    "print(math.pi)"
   ]
  },
  {
   "cell_type": "code",
   "execution_count": 5,
   "id": "120163ad",
   "metadata": {},
   "outputs": [
    {
     "name": "stdout",
     "output_type": "stream",
     "text": [
      "2.718281828459045\n"
     ]
    }
   ],
   "source": [
    "print(math.e)"
   ]
  },
  {
   "cell_type": "code",
   "execution_count": 9,
   "id": "05e2ac9f",
   "metadata": {},
   "outputs": [
    {
     "name": "stdout",
     "output_type": "stream",
     "text": [
      "0.7625584504796027\n"
     ]
    }
   ],
   "source": [
    "import math as m\n",
    "print(m.sin(26))"
   ]
  },
  {
   "cell_type": "code",
   "execution_count": 10,
   "id": "92b87cb4",
   "metadata": {},
   "outputs": [
    {
     "name": "stdout",
     "output_type": "stream",
     "text": [
      "3.258096538021482\n"
     ]
    }
   ],
   "source": [
    "print(m.log(26))"
   ]
  },
  {
   "cell_type": "code",
   "execution_count": 11,
   "id": "084bac43",
   "metadata": {},
   "outputs": [
    {
     "name": "stdout",
     "output_type": "stream",
     "text": [
      "5.0990195135927845\n"
     ]
    }
   ],
   "source": [
    "print(m.sqrt(26))"
   ]
  },
  {
   "cell_type": "code",
   "execution_count": 12,
   "id": "bb05c4ff",
   "metadata": {},
   "outputs": [
    {
     "name": "stdout",
     "output_type": "stream",
     "text": [
      "3.141592653589793\n"
     ]
    }
   ],
   "source": [
    "print(m.pi)"
   ]
  },
  {
   "cell_type": "code",
   "execution_count": 13,
   "id": "0b439372",
   "metadata": {},
   "outputs": [
    {
     "name": "stdout",
     "output_type": "stream",
     "text": [
      "2.718281828459045\n"
     ]
    }
   ],
   "source": [
    "print(m.e)"
   ]
  },
  {
   "cell_type": "code",
   "execution_count": 15,
   "id": "78e2876a",
   "metadata": {},
   "outputs": [
    {
     "name": "stdout",
     "output_type": "stream",
     "text": [
      "0.7625584504796027\n"
     ]
    }
   ],
   "source": [
    "from math import sin, log, pi\n",
    "print(sin(26))"
   ]
  },
  {
   "cell_type": "code",
   "execution_count": 16,
   "id": "ec22567d",
   "metadata": {},
   "outputs": [
    {
     "name": "stdout",
     "output_type": "stream",
     "text": [
      "3.258096538021482\n"
     ]
    }
   ],
   "source": [
    "print(log(26))"
   ]
  },
  {
   "cell_type": "code",
   "execution_count": 17,
   "id": "fde391cb",
   "metadata": {},
   "outputs": [
    {
     "name": "stdout",
     "output_type": "stream",
     "text": [
      "3.141592653589793\n"
     ]
    }
   ],
   "source": [
    "print(pi)"
   ]
  },
  {
   "cell_type": "code",
   "execution_count": 18,
   "id": "93f1be92",
   "metadata": {},
   "outputs": [
    {
     "name": "stdout",
     "output_type": "stream",
     "text": [
      "0.6469193223286404\n"
     ]
    }
   ],
   "source": [
    "from math import*\n",
    "print(cos(26))"
   ]
  },
  {
   "cell_type": "code",
   "execution_count": 19,
   "id": "721cdc52",
   "metadata": {},
   "outputs": [
    {
     "name": "stdout",
     "output_type": "stream",
     "text": [
      "2.718281828459045\n"
     ]
    }
   ],
   "source": [
    "print(e)"
   ]
  },
  {
   "cell_type": "code",
   "execution_count": 36,
   "id": "b874a6e7",
   "metadata": {},
   "outputs": [],
   "source": [
    "def factorial(n):\n",
    "   if n<=1:\n",
    "    return 1\n",
    "   else:\n",
    "    return n *factorial(n-1)\n",
    "def hello(s):\n",
    "    print('Hello',s)\n",
    "\n",
    "    name: \"NK The King\"\n",
    "    import fact as f\n",
    "    print(f.factorial(19))\n",
    "    f.hello('NK')\n",
    "    print(f.name)"
   ]
  },
  {
   "cell_type": "code",
   "execution_count": null,
   "id": "eb0556de",
   "metadata": {},
   "outputs": [],
   "source": []
  }
 ],
 "metadata": {
  "kernelspec": {
   "display_name": "Python 3 (ipykernel)",
   "language": "python",
   "name": "python3"
  },
  "language_info": {
   "codemirror_mode": {
    "name": "ipython",
    "version": 3
   },
   "file_extension": ".py",
   "mimetype": "text/x-python",
   "name": "python",
   "nbconvert_exporter": "python",
   "pygments_lexer": "ipython3",
   "version": "3.9.12"
  }
 },
 "nbformat": 4,
 "nbformat_minor": 5
}
