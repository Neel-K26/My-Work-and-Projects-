{
 "cells": [
  {
   "cell_type": "code",
   "execution_count": 2,
   "id": "8e55ecfc",
   "metadata": {},
   "outputs": [
    {
     "name": "stdout",
     "output_type": "stream",
     "text": [
      "m11\n"
     ]
    },
    {
     "ename": "IndexError",
     "evalue": "list index out of range",
     "output_type": "error",
     "traceback": [
      "\u001b[1;31m---------------------------------------------------------------------------\u001b[0m",
      "\u001b[1;31mIndexError\u001b[0m                                Traceback (most recent call last)",
      "Input \u001b[1;32mIn [2]\u001b[0m, in \u001b[0;36m<cell line: 40>\u001b[1;34m()\u001b[0m\n\u001b[0;32m     40\u001b[0m \u001b[38;5;28;01mfor\u001b[39;00m _ \u001b[38;5;129;01min\u001b[39;00m \u001b[38;5;28mrange\u001b[39m(\u001b[38;5;241m54\u001b[39m):\n\u001b[0;32m     41\u001b[0m     match_data \u001b[38;5;241m=\u001b[39m \u001b[38;5;28minput\u001b[39m()\u001b[38;5;241m.\u001b[39mstrip()\u001b[38;5;241m.\u001b[39msplit()\n\u001b[1;32m---> 42\u001b[0m     match_result \u001b[38;5;241m=\u001b[39m (\u001b[38;5;28mlist\u001b[39m(\u001b[38;5;28mmap\u001b[39m(\u001b[38;5;28mint\u001b[39m, \u001b[43mmatch_data\u001b[49m\u001b[43m[\u001b[49m\u001b[38;5;241;43m1\u001b[39;49m\u001b[43m]\u001b[49m\u001b[38;5;241m.\u001b[39msplit(\u001b[38;5;124m'\u001b[39m\u001b[38;5;124m/\u001b[39m\u001b[38;5;124m'\u001b[39m))), \u001b[38;5;28mlist\u001b[39m(\u001b[38;5;28mmap\u001b[39m(\u001b[38;5;28mint\u001b[39m, match_data[\u001b[38;5;241m4\u001b[39m]\u001b[38;5;241m.\u001b[39msplit(\u001b[38;5;124m'\u001b[39m\u001b[38;5;124m/\u001b[39m\u001b[38;5;124m'\u001b[39m))))\n\u001b[0;32m     43\u001b[0m     matches\u001b[38;5;241m.\u001b[39mappend(match_result)\n\u001b[0;32m     45\u001b[0m rankings \u001b[38;5;241m=\u001b[39m [\u001b[38;5;28minput\u001b[39m()\u001b[38;5;241m.\u001b[39mstrip() \u001b[38;5;28;01mfor\u001b[39;00m _ \u001b[38;5;129;01min\u001b[39;00m \u001b[38;5;28mrange\u001b[39m(\u001b[38;5;241m8\u001b[39m)]\n",
      "\u001b[1;31mIndexError\u001b[0m: list index out of range"
     ]
    }
   ],
   "source": [
    "from itertools import permutations\n",
    "\n",
    "def calculate_nrr(result, team):\n",
    "    rr = (result[0] - result[1]) * 2\n",
    "    if team == 0:\n",
    "        return rr\n",
    "    else:\n",
    "        return -rr\n",
    "\n",
    "def calculate_rankings(matches, rankings):\n",
    "    possible_outcomes = []\n",
    "    for permutation in permutations([0, 1, 2, 3]):\n",
    "        points = [0, 0, 0, 0]\n",
    "        nrr = [0, 0, 0, 0]\n",
    "\n",
    "        for i in range(6):\n",
    "            match_result = matches[i][permutation[i]]\n",
    "            points[permutation[i]] += 2\n",
    "            nrr[permutation[i]] += calculate_nrr(match_result, permutation[i])\n",
    "            nrr[permutation[i]] = round(nrr[permutation[i]], 1)\n",
    "\n",
    "        current_rankings = [(points[i], nrr[i], i) for i in range(4)]\n",
    "        current_rankings.sort(reverse=True)\n",
    "\n",
    "        final_rankings = []\n",
    "        for ranking in current_rankings:\n",
    "            final_rankings.append(rankings[ranking[2]])\n",
    "\n",
    "        possible_outcomes.append(final_rankings)\n",
    "\n",
    "    return possible_outcomes\n",
    "\n",
    "def print_possible_outcomes(possible_outcomes):\n",
    "    for outcome in possible_outcomes:\n",
    "        result = \"||\".join([\"WIN:\" + outcome[i] + \"|LOSE:\" + outcome[i + 1] for i in range(0, 7, 2)])\n",
    "        print(result)\n",
    "\n",
    "# Input\n",
    "matches = []\n",
    "for _ in range(54):\n",
    "    match_data = input().strip().split()\n",
    "    match_result = (list(map(int, match_data[1].split('/'))), list(map(int, match_data[4].split('/'))))\n",
    "    matches.append(match_result)\n",
    "\n",
    "rankings = [input().strip() for _ in range(8)]\n",
    "\n",
    "# Calculate possible outcomes and print them\n",
    "possible_outcomes = calculate_rankings(matches, rankings)\n",
    "print_possible_outcomes(possible_outcomes)\n"
   ]
  },
  {
   "cell_type": "code",
   "execution_count": null,
   "id": "90520155",
   "metadata": {},
   "outputs": [],
   "source": []
  }
 ],
 "metadata": {
  "kernelspec": {
   "display_name": "Python 3 (ipykernel)",
   "language": "python",
   "name": "python3"
  },
  "language_info": {
   "codemirror_mode": {
    "name": "ipython",
    "version": 3
   },
   "file_extension": ".py",
   "mimetype": "text/x-python",
   "name": "python",
   "nbconvert_exporter": "python",
   "pygments_lexer": "ipython3",
   "version": "3.9.12"
  }
 },
 "nbformat": 4,
 "nbformat_minor": 5
}
