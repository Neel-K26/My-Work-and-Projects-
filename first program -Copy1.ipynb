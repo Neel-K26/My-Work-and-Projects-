{
 "cells": [
  {
   "cell_type": "code",
   "execution_count": 2,
   "id": "2293a4ad",
   "metadata": {},
   "outputs": [
    {
     "name": "stdout",
     "output_type": "stream",
     "text": [
      "26\n"
     ]
    }
   ],
   "source": [
    "print(num2)"
   ]
  },
  {
   "cell_type": "code",
   "execution_count": 1,
   "id": "2231c779",
   "metadata": {},
   "outputs": [
    {
     "name": "stdout",
     "output_type": "stream",
     "text": [
      "19\n"
     ]
    }
   ],
   "source": [
    "num1,num2,num3=19,26,46\n",
    "print(num1)"
   ]
  },
  {
   "cell_type": "code",
   "execution_count": 3,
   "id": "30cbfa17",
   "metadata": {},
   "outputs": [
    {
     "name": "stdout",
     "output_type": "stream",
     "text": [
      "26\n"
     ]
    }
   ],
   "source": [
    "print(num2)"
   ]
  },
  {
   "cell_type": "code",
   "execution_count": 4,
   "id": "29543317",
   "metadata": {},
   "outputs": [
    {
     "name": "stdout",
     "output_type": "stream",
     "text": [
      "26\n"
     ]
    }
   ],
   "source": [
    "#Or\n",
    "num1=num2=num3= 26\n",
    "print(num1)"
   ]
  },
  {
   "cell_type": "code",
   "execution_count": 5,
   "id": "4fbbb7f7",
   "metadata": {},
   "outputs": [
    {
     "name": "stdout",
     "output_type": "stream",
     "text": [
      "26\n"
     ]
    }
   ],
   "source": [
    "print(num2)"
   ]
  },
  {
   "cell_type": "code",
   "execution_count": 6,
   "id": "58015cb2",
   "metadata": {},
   "outputs": [
    {
     "name": "stdout",
     "output_type": "stream",
     "text": [
      "26\n"
     ]
    }
   ],
   "source": [
    "print(num3)"
   ]
  },
  {
   "cell_type": "markdown",
   "id": "5b1e10a8",
   "metadata": {},
   "source": [
    "num1=19;num2=34;num3=90\n",
    "print(num1)"
   ]
  },
  {
   "cell_type": "code",
   "execution_count": 7,
   "id": "6eb81675",
   "metadata": {},
   "outputs": [
    {
     "name": "stdout",
     "output_type": "stream",
     "text": [
      "34\n"
     ]
    }
   ],
   "source": [
    "num1=19;num2=34;num3=90\n",
    "print(num2)"
   ]
  },
  {
   "cell_type": "code",
   "execution_count": 8,
   "id": "c81a82d1",
   "metadata": {},
   "outputs": [
    {
     "name": "stdout",
     "output_type": "stream",
     "text": [
      "45\n"
     ]
    }
   ],
   "source": [
    "num1=19; num2=num1+26; print(num2)"
   ]
  },
  {
   "cell_type": "code",
   "execution_count": 9,
   "id": "f172409f",
   "metadata": {},
   "outputs": [
    {
     "name": "stdout",
     "output_type": "stream",
     "text": [
      "NK\n"
     ]
    }
   ],
   "source": [
    "#Strings\n",
    "name='NK'\n",
    "print(name)"
   ]
  },
  {
   "cell_type": "code",
   "execution_count": 10,
   "id": "3367afaa",
   "metadata": {},
   "outputs": [
    {
     "data": {
      "text/plain": [
       "str"
      ]
     },
     "execution_count": 10,
     "metadata": {},
     "output_type": "execute_result"
    }
   ],
   "source": [
    "type(name)"
   ]
  },
  {
   "cell_type": "code",
   "execution_count": 11,
   "id": "566b167b",
   "metadata": {},
   "outputs": [
    {
     "name": "stdout",
     "output_type": "stream",
     "text": [
      "NormanKetsner\n"
     ]
    }
   ],
   "source": [
    "first=\"Norman\"\n",
    "second='Ketsner'\n",
    "result=first+second\n",
    "print(result)"
   ]
  },
  {
   "cell_type": "code",
   "execution_count": 12,
   "id": "7114c47d",
   "metadata": {},
   "outputs": [
    {
     "name": "stdout",
     "output_type": "stream",
     "text": [
      "hello\n",
      "world\n"
     ]
    }
   ],
   "source": [
    "#Escape Sequences\n",
    "print('hello\\nworld')"
   ]
  },
  {
   "cell_type": "code",
   "execution_count": 13,
   "id": "b0f13efc",
   "metadata": {},
   "outputs": [
    {
     "name": "stdout",
     "output_type": "stream",
     "text": [
      "hello\bworld\n"
     ]
    }
   ],
   "source": [
    "print('hello\\bworld')"
   ]
  },
  {
   "cell_type": "code",
   "execution_count": 14,
   "id": "b7ac8187",
   "metadata": {},
   "outputs": [
    {
     "name": "stdout",
     "output_type": "stream",
     "text": [
      "hello\u000b",
      "world\n"
     ]
    }
   ],
   "source": [
    "print('hello\\vworld')"
   ]
  },
  {
   "cell_type": "code",
   "execution_count": 15,
   "id": "cf4f72bf",
   "metadata": {},
   "outputs": [
    {
     "name": "stdout",
     "output_type": "stream",
     "text": [
      "hello\r",
      "world\n"
     ]
    }
   ],
   "source": [
    "print('hello\\rworld')"
   ]
  },
  {
   "cell_type": "code",
   "execution_count": 16,
   "id": "6307abc3",
   "metadata": {},
   "outputs": [
    {
     "name": "stdout",
     "output_type": "stream",
     "text": [
      "hello\\world\n"
     ]
    }
   ],
   "source": [
    "print('hello\\\\world')"
   ]
  },
  {
   "cell_type": "code",
   "execution_count": 18,
   "id": "a3d14533",
   "metadata": {},
   "outputs": [
    {
     "name": "stdout",
     "output_type": "stream",
     "text": [
      "I am \n",
      "King of the World\n"
     ]
    }
   ],
   "source": [
    "#Multiline Comment\n",
    "last='''I am \n",
    "King of the World'''\n",
    "print(last)"
   ]
  },
  {
   "cell_type": "code",
   "execution_count": 19,
   "id": "7aeec202",
   "metadata": {},
   "outputs": [
    {
     "data": {
      "text/plain": [
       "'KING OF THE WORLD'"
      ]
     },
     "execution_count": 19,
     "metadata": {},
     "output_type": "execute_result"
    }
   ],
   "source": [
    "#String Functions\n",
    "d='King of the world'\n",
    "d.upper()"
   ]
  },
  {
   "cell_type": "code",
   "execution_count": 20,
   "id": "a9aac848",
   "metadata": {},
   "outputs": [
    {
     "data": {
      "text/plain": [
       "'king of the world'"
      ]
     },
     "execution_count": 20,
     "metadata": {},
     "output_type": "execute_result"
    }
   ],
   "source": [
    "d.lower()"
   ]
  },
  {
   "cell_type": "code",
   "execution_count": 21,
   "id": "1e619dcd",
   "metadata": {},
   "outputs": [
    {
     "data": {
      "text/plain": [
       "False"
      ]
     },
     "execution_count": 21,
     "metadata": {},
     "output_type": "execute_result"
    }
   ],
   "source": [
    "d.isdigit()"
   ]
  },
  {
   "cell_type": "code",
   "execution_count": 23,
   "id": "fd6c729b",
   "metadata": {},
   "outputs": [
    {
     "data": {
      "text/plain": [
       "False"
      ]
     },
     "execution_count": 23,
     "metadata": {},
     "output_type": "execute_result"
    }
   ],
   "source": [
    "d.isalpha()"
   ]
  },
  {
   "cell_type": "code",
   "execution_count": 24,
   "id": "83c4cd72",
   "metadata": {},
   "outputs": [
    {
     "data": {
      "text/plain": [
       "'Hello'"
      ]
     },
     "execution_count": 24,
     "metadata": {},
     "output_type": "execute_result"
    }
   ],
   "source": [
    "d=' Hello '\n",
    "d.strip()"
   ]
  },
  {
   "cell_type": "code",
   "execution_count": 25,
   "id": "e705a914",
   "metadata": {},
   "outputs": [
    {
     "data": {
      "text/plain": [
       "' Hello'"
      ]
     },
     "execution_count": 25,
     "metadata": {},
     "output_type": "execute_result"
    }
   ],
   "source": [
    "d.rstrip()"
   ]
  },
  {
   "cell_type": "code",
   "execution_count": 26,
   "id": "dd3f15b6",
   "metadata": {},
   "outputs": [
    {
     "data": {
      "text/plain": [
       "'Hello '"
      ]
     },
     "execution_count": 26,
     "metadata": {},
     "output_type": "execute_result"
    }
   ],
   "source": [
    "d.lstrip()"
   ]
  },
  {
   "cell_type": "code",
   "execution_count": 27,
   "id": "1a36e8b3",
   "metadata": {},
   "outputs": [
    {
     "data": {
      "text/plain": [
       "False"
      ]
     },
     "execution_count": 27,
     "metadata": {},
     "output_type": "execute_result"
    }
   ],
   "source": [
    "d.startswith('H')"
   ]
  },
  {
   "cell_type": "code",
   "execution_count": 28,
   "id": "25b3d757",
   "metadata": {},
   "outputs": [
    {
     "data": {
      "text/plain": [
       "False"
      ]
     },
     "execution_count": 28,
     "metadata": {},
     "output_type": "execute_result"
    }
   ],
   "source": [
    "d.endswith('H')"
   ]
  },
  {
   "cell_type": "code",
   "execution_count": 29,
   "id": "c2dd877b",
   "metadata": {},
   "outputs": [
    {
     "data": {
      "text/plain": [
       "['Hello']"
      ]
     },
     "execution_count": 29,
     "metadata": {},
     "output_type": "execute_result"
    }
   ],
   "source": [
    "d.split()"
   ]
  },
  {
   "cell_type": "code",
   "execution_count": 30,
   "id": "b14e9684",
   "metadata": {},
   "outputs": [
    {
     "name": "stdout",
     "output_type": "stream",
     "text": [
      "ष\n"
     ]
    }
   ],
   "source": [
    "#End of First Presentation\n",
    "#Unicode Strings\n",
    "d=u'\\u0937'\n",
    "print(d)"
   ]
  },
  {
   "cell_type": "code",
   "execution_count": 32,
   "id": "01742dfa",
   "metadata": {},
   "outputs": [
    {
     "name": "stdout",
     "output_type": "stream",
     "text": [
      "ॷ\n"
     ]
    }
   ],
   "source": [
    "s=u'\\u0977'\n",
    "print(s)"
   ]
  },
  {
   "cell_type": "code",
   "execution_count": 36,
   "id": "b3b360ae",
   "metadata": {},
   "outputs": [
    {
     "name": "stdout",
     "output_type": "stream",
     "text": [
      "ܴ\n"
     ]
    }
   ],
   "source": [
    "s=u'\\u0734'\n",
    "print(s)"
   ]
  },
  {
   "cell_type": "code",
   "execution_count": 37,
   "id": "60744dcd",
   "metadata": {},
   "outputs": [
    {
     "name": "stdout",
     "output_type": "stream",
     "text": [
      "ݖ\n"
     ]
    }
   ],
   "source": [
    "s=u'\\u0756'\n",
    "print(s)"
   ]
  },
  {
   "cell_type": "code",
   "execution_count": 38,
   "id": "c718f899",
   "metadata": {},
   "outputs": [
    {
     "data": {
      "text/plain": [
       "['__add__',\n",
       " '__class__',\n",
       " '__contains__',\n",
       " '__delattr__',\n",
       " '__dir__',\n",
       " '__doc__',\n",
       " '__eq__',\n",
       " '__format__',\n",
       " '__ge__',\n",
       " '__getattribute__',\n",
       " '__getitem__',\n",
       " '__getnewargs__',\n",
       " '__gt__',\n",
       " '__hash__',\n",
       " '__init__',\n",
       " '__init_subclass__',\n",
       " '__iter__',\n",
       " '__le__',\n",
       " '__len__',\n",
       " '__lt__',\n",
       " '__mod__',\n",
       " '__mul__',\n",
       " '__ne__',\n",
       " '__new__',\n",
       " '__reduce__',\n",
       " '__reduce_ex__',\n",
       " '__repr__',\n",
       " '__rmod__',\n",
       " '__rmul__',\n",
       " '__setattr__',\n",
       " '__sizeof__',\n",
       " '__str__',\n",
       " '__subclasshook__',\n",
       " 'capitalize',\n",
       " 'casefold',\n",
       " 'center',\n",
       " 'count',\n",
       " 'encode',\n",
       " 'endswith',\n",
       " 'expandtabs',\n",
       " 'find',\n",
       " 'format',\n",
       " 'format_map',\n",
       " 'index',\n",
       " 'isalnum',\n",
       " 'isalpha',\n",
       " 'isascii',\n",
       " 'isdecimal',\n",
       " 'isdigit',\n",
       " 'isidentifier',\n",
       " 'islower',\n",
       " 'isnumeric',\n",
       " 'isprintable',\n",
       " 'isspace',\n",
       " 'istitle',\n",
       " 'isupper',\n",
       " 'join',\n",
       " 'ljust',\n",
       " 'lower',\n",
       " 'lstrip',\n",
       " 'maketrans',\n",
       " 'partition',\n",
       " 'removeprefix',\n",
       " 'removesuffix',\n",
       " 'replace',\n",
       " 'rfind',\n",
       " 'rindex',\n",
       " 'rjust',\n",
       " 'rpartition',\n",
       " 'rsplit',\n",
       " 'rstrip',\n",
       " 'split',\n",
       " 'splitlines',\n",
       " 'startswith',\n",
       " 'strip',\n",
       " 'swapcase',\n",
       " 'title',\n",
       " 'translate',\n",
       " 'upper',\n",
       " 'zfill']"
      ]
     },
     "execution_count": 38,
     "metadata": {},
     "output_type": "execute_result"
    }
   ],
   "source": [
    "#Dir() Function\n",
    "d='Hello'\n",
    "dir(d)"
   ]
  },
  {
   "cell_type": "code",
   "execution_count": 39,
   "id": "60fd1480",
   "metadata": {},
   "outputs": [
    {
     "name": "stdout",
     "output_type": "stream",
     "text": [
      "Help on built-in function lower:\n",
      "\n",
      "lower() method of builtins.str instance\n",
      "    Return a copy of the string converted to lowercase.\n",
      "\n"
     ]
    }
   ],
   "source": [
    "help(d.lower)"
   ]
  },
  {
   "cell_type": "code",
   "execution_count": 40,
   "id": "fe6b9f23",
   "metadata": {},
   "outputs": [
    {
     "data": {
      "text/plain": [
       "5"
      ]
     },
     "execution_count": 40,
     "metadata": {},
     "output_type": "execute_result"
    }
   ],
   "source": [
    "len(d)"
   ]
  },
  {
   "cell_type": "code",
   "execution_count": 41,
   "id": "f8ef517e",
   "metadata": {},
   "outputs": [
    {
     "name": "stdout",
     "output_type": "stream",
     "text": [
      "Help on built-in function len in module builtins:\n",
      "\n",
      "len(obj, /)\n",
      "    Return the number of items in a container.\n",
      "\n"
     ]
    }
   ],
   "source": [
    "help(len)"
   ]
  },
  {
   "cell_type": "code",
   "execution_count": 43,
   "id": "5ec4cd01",
   "metadata": {},
   "outputs": [
    {
     "name": "stdout",
     "output_type": "stream",
     "text": [
      "ketsnarite world\n"
     ]
    }
   ],
   "source": [
    "#Print() Function\n",
    "print('ketsnarite world')"
   ]
  },
  {
   "cell_type": "code",
   "execution_count": 44,
   "id": "4fe07cdf",
   "metadata": {},
   "outputs": [
    {
     "name": "stdout",
     "output_type": "stream",
     "text": [
      "My name is Norman Ketsner My age is 32\n"
     ]
    }
   ],
   "source": [
    "name='Norman Ketsner'\n",
    "age=32\n",
    "print('My name is',name,'My age is',age)"
   ]
  },
  {
   "cell_type": "code",
   "execution_count": 47,
   "id": "3f0cbd5c",
   "metadata": {},
   "outputs": [
    {
     "name": "stdout",
     "output_type": "stream",
     "text": [
      "My name is Norman Ketsner and age is 32\n"
     ]
    }
   ],
   "source": [
    "print('My name is %s and age is %d'%(name,age))  #Formatted Print\n"
   ]
  },
  {
   "cell_type": "code",
   "execution_count": 49,
   "id": "824acd1a",
   "metadata": {},
   "outputs": [
    {
     "name": "stdout",
     "output_type": "stream",
     "text": [
      "My name is Norman Ketsner and age is 32\n"
     ]
    }
   ],
   "source": [
    "print('My name is {} and age is {}'.format(name,age))  #Using.Format"
   ]
  },
  {
   "cell_type": "code",
   "execution_count": 50,
   "id": "17c1958d",
   "metadata": {},
   "outputs": [
    {
     "name": "stdout",
     "output_type": "stream",
     "text": [
      "My name is  Norman Ketsner\n"
     ]
    }
   ],
   "source": [
    "print('My name is ',name)"
   ]
  },
  {
   "cell_type": "code",
   "execution_count": 51,
   "id": "59fdc94f",
   "metadata": {},
   "outputs": [
    {
     "name": "stdout",
     "output_type": "stream",
     "text": [
      "My age is 32\n"
     ]
    }
   ],
   "source": [
    "print('My age is',age)"
   ]
  },
  {
   "cell_type": "code",
   "execution_count": 52,
   "id": "09dfe516",
   "metadata": {},
   "outputs": [
    {
     "name": "stdout",
     "output_type": "stream",
     "text": [
      "Norman Ketsner 32\n"
     ]
    }
   ],
   "source": [
    "print(name,age)"
   ]
  },
  {
   "cell_type": "code",
   "execution_count": 53,
   "id": "f55c09e5",
   "metadata": {},
   "outputs": [
    {
     "name": "stdout",
     "output_type": "stream",
     "text": [
      "Norman Ketsner\t32\n"
     ]
    }
   ],
   "source": [
    "print(name,age,sep='\\t')"
   ]
  },
  {
   "cell_type": "code",
   "execution_count": 54,
   "id": "9fa8fbe0",
   "metadata": {},
   "outputs": [
    {
     "name": "stdout",
     "output_type": "stream",
     "text": [
      "Norman Ketsner\n",
      "32\n"
     ]
    }
   ],
   "source": [
    "print(name,age,sep='\\n')"
   ]
  },
  {
   "cell_type": "code",
   "execution_count": 55,
   "id": "fe723291",
   "metadata": {},
   "outputs": [
    {
     "name": "stdout",
     "output_type": "stream",
     "text": [
      "Norman Ketsner\\32\n"
     ]
    }
   ],
   "source": [
    "print(name,age,sep='\\\\')"
   ]
  },
  {
   "cell_type": "code",
   "execution_count": 58,
   "id": "b6d02bfc",
   "metadata": {},
   "outputs": [
    {
     "name": "stdout",
     "output_type": "stream",
     "text": [
      "Hello NK,your age is 34\n"
     ]
    }
   ],
   "source": [
    "#Arguments\n",
    "name='NK'\n",
    "age=34\n",
    "#default arguments\n",
    "print('Hello {},your age is {}'.format(name,age))"
   ]
  },
  {
   "cell_type": "code",
   "execution_count": 62,
   "id": "5c8f3e24",
   "metadata": {},
   "outputs": [
    {
     "name": "stdout",
     "output_type": "stream",
     "text": [
      "Hello NK,your age is 34\n"
     ]
    }
   ],
   "source": [
    "#positional arguments()\n",
    "print('Hello {0},your age is {1}'.format(name,age))"
   ]
  },
  {
   "cell_type": "code",
   "execution_count": 64,
   "id": "0e319f7a",
   "metadata": {},
   "outputs": [
    {
     "name": "stdout",
     "output_type": "stream",
     "text": [
      "Hello NK,your age is 34\n"
     ]
    }
   ],
   "source": [
    "#Keyword Arguments\n",
    "print('Hello {x},your age is {y}'.format(x=name,y=age))"
   ]
  },
  {
   "cell_type": "code",
   "execution_count": 67,
   "id": "08350439",
   "metadata": {},
   "outputs": [
    {
     "name": "stdout",
     "output_type": "stream",
     "text": [
      "Hello NK your age is 34\n"
     ]
    }
   ],
   "source": [
    "#Mixed Arguments\n",
    "print('Hello {0} your age is {y}'.format(name,y=age))"
   ]
  },
  {
   "cell_type": "code",
   "execution_count": 68,
   "id": "1a0e3fc9",
   "metadata": {},
   "outputs": [
    {
     "name": "stdout",
     "output_type": "stream",
     "text": [
      "45\n"
     ]
    }
   ],
   "source": [
    "#Operators\n",
    "num1=19;num2=26\n",
    "total= num1+num2\n",
    "print(total)"
   ]
  },
  {
   "cell_type": "code",
   "execution_count": 69,
   "id": "6eb45487",
   "metadata": {},
   "outputs": [
    {
     "name": "stdout",
     "output_type": "stream",
     "text": [
      "7\n"
     ]
    }
   ],
   "source": [
    "print(num2-num1)"
   ]
  },
  {
   "cell_type": "code",
   "execution_count": 70,
   "id": "20a9a379",
   "metadata": {},
   "outputs": [
    {
     "name": "stdout",
     "output_type": "stream",
     "text": [
      "1.368421052631579\n"
     ]
    }
   ],
   "source": [
    "print(num2/num1)"
   ]
  },
  {
   "cell_type": "code",
   "execution_count": 72,
   "id": "01c62a60",
   "metadata": {},
   "outputs": [
    {
     "name": "stdout",
     "output_type": "stream",
     "text": [
      "1\n"
     ]
    }
   ],
   "source": [
    "print(num2//num1)"
   ]
  },
  {
   "cell_type": "code",
   "execution_count": 74,
   "id": "11077e7a",
   "metadata": {},
   "outputs": [
    {
     "name": "stdout",
     "output_type": "stream",
     "text": [
      "7\n"
     ]
    }
   ],
   "source": [
    "print(num2%num1)"
   ]
  },
  {
   "cell_type": "code",
   "execution_count": 75,
   "id": "d316e147",
   "metadata": {},
   "outputs": [
    {
     "name": "stdout",
     "output_type": "stream",
     "text": [
      "Ketsner The KingKetsner The KingKetsner The KingKetsner The KingKetsner The KingKetsner The KingKetsner The KingKetsner The KingKetsner The KingKetsner The KingKetsner The KingKetsner The KingKetsner The KingKetsner The KingKetsner The KingKetsner The KingKetsner The KingKetsner The KingKetsner The King\n"
     ]
    }
   ],
   "source": [
    "#Arthimetic Operators on strings\n",
    "name='Ketsner The King'\n",
    "print(name*19)"
   ]
  },
  {
   "cell_type": "code",
   "execution_count": 76,
   "id": "a547a333",
   "metadata": {},
   "outputs": [
    {
     "data": {
      "text/plain": [
       "False"
      ]
     },
     "execution_count": 76,
     "metadata": {},
     "output_type": "execute_result"
    }
   ],
   "source": [
    "#Relational Operators\n",
    "num1=19\n",
    "num2=26\n",
    "num1>num2"
   ]
  },
  {
   "cell_type": "code",
   "execution_count": 77,
   "id": "358dabbe",
   "metadata": {},
   "outputs": [
    {
     "data": {
      "text/plain": [
       "True"
      ]
     },
     "execution_count": 77,
     "metadata": {},
     "output_type": "execute_result"
    }
   ],
   "source": [
    "num1<=num2"
   ]
  },
  {
   "cell_type": "code",
   "execution_count": 78,
   "id": "390c6ea2",
   "metadata": {},
   "outputs": [
    {
     "data": {
      "text/plain": [
       "False"
      ]
     },
     "execution_count": 78,
     "metadata": {},
     "output_type": "execute_result"
    }
   ],
   "source": [
    "num1==num2"
   ]
  },
  {
   "cell_type": "code",
   "execution_count": 79,
   "id": "ad0393aa",
   "metadata": {},
   "outputs": [
    {
     "data": {
      "text/plain": [
       "True"
      ]
     },
     "execution_count": 79,
     "metadata": {},
     "output_type": "execute_result"
    }
   ],
   "source": [
    "num1!=num2"
   ]
  },
  {
   "cell_type": "code",
   "execution_count": 81,
   "id": "6cd0e975",
   "metadata": {},
   "outputs": [
    {
     "name": "stdout",
     "output_type": "stream",
     "text": [
      "19\n"
     ]
    }
   ],
   "source": [
    "#Assignment Operators\n",
    "print(num1)"
   ]
  },
  {
   "cell_type": "code",
   "execution_count": 85,
   "id": "195e9ac0",
   "metadata": {},
   "outputs": [
    {
     "name": "stdout",
     "output_type": "stream",
     "text": [
      "42\n"
     ]
    }
   ],
   "source": [
    "num1 +=2\n",
    "print(num1)"
   ]
  },
  {
   "cell_type": "code",
   "execution_count": 87,
   "id": "a346fbce",
   "metadata": {},
   "outputs": [
    {
     "name": "stdout",
     "output_type": "stream",
     "text": [
      "168\n"
     ]
    }
   ],
   "source": [
    "num1 *=2\n",
    "print(num1)"
   ]
  },
  {
   "cell_type": "code",
   "execution_count": 88,
   "id": "60f35570",
   "metadata": {},
   "outputs": [
    {
     "name": "stdout",
     "output_type": "stream",
     "text": [
      "84.0\n"
     ]
    }
   ],
   "source": [
    "num1/=2\n",
    "\n",
    "print(num1)"
   ]
  },
  {
   "cell_type": "code",
   "execution_count": 89,
   "id": "caea2738",
   "metadata": {},
   "outputs": [
    {
     "data": {
      "text/plain": [
       "True"
      ]
     },
     "execution_count": 89,
     "metadata": {},
     "output_type": "execute_result"
    }
   ],
   "source": [
    "#Logical Operators\n",
    "num1>num2 and num1< 100"
   ]
  },
  {
   "cell_type": "code",
   "execution_count": 90,
   "id": "20ceb406",
   "metadata": {},
   "outputs": [
    {
     "data": {
      "text/plain": [
       "False"
      ]
     },
     "execution_count": 90,
     "metadata": {},
     "output_type": "execute_result"
    }
   ],
   "source": [
    "num1>100 or num1==num2"
   ]
  },
  {
   "cell_type": "code",
   "execution_count": 91,
   "id": "d9a03d44",
   "metadata": {},
   "outputs": [
    {
     "data": {
      "text/plain": [
       "False"
      ]
     },
     "execution_count": 91,
     "metadata": {},
     "output_type": "execute_result"
    }
   ],
   "source": [
    "not num1<100"
   ]
  },
  {
   "cell_type": "code",
   "execution_count": 92,
   "id": "c304166b",
   "metadata": {},
   "outputs": [
    {
     "data": {
      "text/plain": [
       "True"
      ]
     },
     "execution_count": 92,
     "metadata": {},
     "output_type": "execute_result"
    }
   ],
   "source": [
    "#Mebership Operators\n",
    "x=19\n",
    "x in[34,19,26,67]"
   ]
  },
  {
   "cell_type": "code",
   "execution_count": 93,
   "id": "8d6fda09",
   "metadata": {},
   "outputs": [
    {
     "data": {
      "text/plain": [
       "False"
      ]
     },
     "execution_count": 93,
     "metadata": {},
     "output_type": "execute_result"
    }
   ],
   "source": [
    "15 in[34,10,32,17]"
   ]
  },
  {
   "cell_type": "code",
   "execution_count": 95,
   "id": "1988e2b9",
   "metadata": {},
   "outputs": [
    {
     "data": {
      "text/plain": [
       "True"
      ]
     },
     "execution_count": 95,
     "metadata": {},
     "output_type": "execute_result"
    }
   ],
   "source": [
    "15 not in[34,10,32,17]"
   ]
  },
  {
   "cell_type": "code",
   "execution_count": 96,
   "id": "df965340",
   "metadata": {},
   "outputs": [
    {
     "data": {
      "text/plain": [
       "True"
      ]
     },
     "execution_count": 96,
     "metadata": {},
     "output_type": "execute_result"
    }
   ],
   "source": [
    "\"ner\" in \"Ketsner\""
   ]
  },
  {
   "cell_type": "code",
   "execution_count": 97,
   "id": "9152ca75",
   "metadata": {},
   "outputs": [
    {
     "data": {
      "text/plain": [
       "False"
      ]
     },
     "execution_count": 97,
     "metadata": {},
     "output_type": "execute_result"
    }
   ],
   "source": [
    "#Identity Operators\n",
    "n=19;n1=26\n",
    "n is n1"
   ]
  },
  {
   "cell_type": "code",
   "execution_count": 98,
   "id": "8af01d68",
   "metadata": {},
   "outputs": [
    {
     "data": {
      "text/plain": [
       "True"
      ]
     },
     "execution_count": 98,
     "metadata": {},
     "output_type": "execute_result"
    }
   ],
   "source": [
    "n is not n1"
   ]
  },
  {
   "cell_type": "code",
   "execution_count": 100,
   "id": "e62065f8",
   "metadata": {},
   "outputs": [
    {
     "data": {
      "text/plain": [
       "True"
      ]
     },
     "execution_count": 100,
     "metadata": {},
     "output_type": "execute_result"
    }
   ],
   "source": [
    "num1 is not num2"
   ]
  },
  {
   "cell_type": "code",
   "execution_count": 102,
   "id": "c8f1ad16",
   "metadata": {},
   "outputs": [
    {
     "data": {
      "text/plain": [
       "False"
      ]
     },
     "execution_count": 102,
     "metadata": {},
     "output_type": "execute_result"
    }
   ],
   "source": [
    "num1 is num2"
   ]
  },
  {
   "cell_type": "code",
   "execution_count": 103,
   "id": "73df4a2c",
   "metadata": {},
   "outputs": [
    {
     "data": {
      "text/plain": [
       "18"
      ]
     },
     "execution_count": 103,
     "metadata": {},
     "output_type": "execute_result"
    }
   ],
   "source": [
    "#Bitwise Operators\n",
    "x=19\n",
    "y=26\n",
    "x&y"
   ]
  },
  {
   "cell_type": "code",
   "execution_count": 104,
   "id": "c9475f15",
   "metadata": {},
   "outputs": [
    {
     "data": {
      "text/plain": [
       "27"
      ]
     },
     "execution_count": 104,
     "metadata": {},
     "output_type": "execute_result"
    }
   ],
   "source": [
    "x|y"
   ]
  },
  {
   "cell_type": "code",
   "execution_count": 105,
   "id": "0339a507",
   "metadata": {},
   "outputs": [
    {
     "data": {
      "text/plain": [
       "104"
      ]
     },
     "execution_count": 105,
     "metadata": {},
     "output_type": "execute_result"
    }
   ],
   "source": [
    "y<<2"
   ]
  },
  {
   "cell_type": "code",
   "execution_count": 106,
   "id": "6764c343",
   "metadata": {},
   "outputs": [
    {
     "data": {
      "text/plain": [
       "-20"
      ]
     },
     "execution_count": 106,
     "metadata": {},
     "output_type": "execute_result"
    }
   ],
   "source": [
    "~x"
   ]
  },
  {
   "cell_type": "code",
   "execution_count": 108,
   "id": "86eab56b",
   "metadata": {},
   "outputs": [
    {
     "name": "stdout",
     "output_type": "stream",
     "text": [
      "71\n"
     ]
    }
   ],
   "source": [
    "x=19+26*2\n",
    "print(x)"
   ]
  },
  {
   "cell_type": "code",
   "execution_count": 109,
   "id": "6170bb1c",
   "metadata": {},
   "outputs": [
    {
     "name": "stdout",
     "output_type": "stream",
     "text": [
      "(2.314+3.78j)\n"
     ]
    }
   ],
   "source": [
    "#Complex Type\n",
    "num1=2.314+3.78j\n",
    "print(num1)"
   ]
  },
  {
   "cell_type": "code",
   "execution_count": 110,
   "id": "521fc6aa",
   "metadata": {},
   "outputs": [
    {
     "data": {
      "text/plain": [
       "complex"
      ]
     },
     "execution_count": 110,
     "metadata": {},
     "output_type": "execute_result"
    }
   ],
   "source": [
    "type(num1)"
   ]
  },
  {
   "cell_type": "code",
   "execution_count": 111,
   "id": "95cc11ff",
   "metadata": {},
   "outputs": [
    {
     "name": "stdout",
     "output_type": "stream",
     "text": [
      "True\n"
     ]
    }
   ],
   "source": [
    "#Boolean Type\n",
    "num=True\n",
    "print(num)"
   ]
  },
  {
   "cell_type": "code",
   "execution_count": 112,
   "id": "871171de",
   "metadata": {},
   "outputs": [
    {
     "data": {
      "text/plain": [
       "bool"
      ]
     },
     "execution_count": 112,
     "metadata": {},
     "output_type": "execute_result"
    }
   ],
   "source": [
    "type(num)"
   ]
  },
  {
   "cell_type": "code",
   "execution_count": 115,
   "id": "80568f27",
   "metadata": {},
   "outputs": [
    {
     "name": "stdout",
     "output_type": "stream",
     "text": [
      "None\n"
     ]
    }
   ],
   "source": [
    "data=None\n",
    "print(data)"
   ]
  },
  {
   "cell_type": "code",
   "execution_count": 116,
   "id": "d6baa129",
   "metadata": {},
   "outputs": [
    {
     "data": {
      "text/plain": [
       "NoneType"
      ]
     },
     "execution_count": 116,
     "metadata": {},
     "output_type": "execute_result"
    }
   ],
   "source": [
    "type(data)"
   ]
  },
  {
   "cell_type": "code",
   "execution_count": 117,
   "id": "3916818e",
   "metadata": {},
   "outputs": [
    {
     "name": "stdout",
     "output_type": "stream",
     "text": [
      "45.19\n"
     ]
    }
   ],
   "source": [
    "num1=19   #int\n",
    "num2=26.19 # float\n",
    "result=num1+num2\n",
    "print(result)"
   ]
  },
  {
   "cell_type": "code",
   "execution_count": 118,
   "id": "9e27c858",
   "metadata": {},
   "outputs": [
    {
     "name": "stdout",
     "output_type": "stream",
     "text": [
      "45\n"
     ]
    }
   ],
   "source": [
    "result=num1 + int(num2)\n",
    "print(result)"
   ]
  },
  {
   "cell_type": "code",
   "execution_count": 119,
   "id": "26216092",
   "metadata": {},
   "outputs": [
    {
     "name": "stdout",
     "output_type": "stream",
     "text": [
      "192619261926\n"
     ]
    }
   ],
   "source": [
    "#String type casting\n",
    "num='1926'\n",
    "print(num*3)"
   ]
  },
  {
   "cell_type": "code",
   "execution_count": 120,
   "id": "229be4ae",
   "metadata": {},
   "outputs": [
    {
     "data": {
      "text/plain": [
       "5778"
      ]
     },
     "execution_count": 120,
     "metadata": {},
     "output_type": "execute_result"
    }
   ],
   "source": [
    "int(num)*3"
   ]
  },
  {
   "cell_type": "code",
   "execution_count": 121,
   "id": "14bc584c",
   "metadata": {},
   "outputs": [
    {
     "name": "stdout",
     "output_type": "stream",
     "text": [
      "hello26\n"
     ]
    }
   ],
   "source": [
    "num=26\n",
    "g='hello' + str(num)\n",
    "print(g)"
   ]
  },
  {
   "cell_type": "code",
   "execution_count": 122,
   "id": "fce1a12a",
   "metadata": {},
   "outputs": [
    {
     "name": "stdout",
     "output_type": "stream",
     "text": [
      "Enter your name:Norman Ketsner\n",
      "Enter a number1926\n",
      "Enter Marks99\n"
     ]
    }
   ],
   "source": [
    "#Taking User Input\n",
    "s= input('Enter your name:')\n",
    "num=int(input('Enter a number'))\n",
    "marks=float(input('Enter Marks'))"
   ]
  },
  {
   "cell_type": "code",
   "execution_count": 123,
   "id": "aeec5ff2",
   "metadata": {},
   "outputs": [
    {
     "name": "stdout",
     "output_type": "stream",
     "text": [
      "Enter first Number19\n",
      "Enter second Number26\n",
      "Addition is 45\n"
     ]
    }
   ],
   "source": [
    "#Addition\n",
    "num1= int(input('Enter first Number'))\n",
    "num2=int(input('Enter second Number'))\n",
    "result=num1+num2\n",
    "print('Addition is',result)"
   ]
  },
  {
   "cell_type": "code",
   "execution_count": null,
   "id": "1fdb8b01",
   "metadata": {},
   "outputs": [],
   "source": []
  }
 ],
 "metadata": {
  "kernelspec": {
   "display_name": "Python 3 (ipykernel)",
   "language": "python",
   "name": "python3"
  },
  "language_info": {
   "codemirror_mode": {
    "name": "ipython",
    "version": 3
   },
   "file_extension": ".py",
   "mimetype": "text/x-python",
   "name": "python",
   "nbconvert_exporter": "python",
   "pygments_lexer": "ipython3",
   "version": "3.9.7"
  },
  "widgets": {
   "application/vnd.jupyter.widget-state+json": {
    "state": {},
    "version_major": 2,
    "version_minor": 0
   }
  }
 },
 "nbformat": 4,
 "nbformat_minor": 5
}
