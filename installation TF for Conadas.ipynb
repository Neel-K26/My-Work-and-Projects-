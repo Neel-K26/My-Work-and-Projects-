{
 "cells": [
  {
   "cell_type": "code",
   "execution_count": 2,
   "id": "2f71ec55",
   "metadata": {},
   "outputs": [
    {
     "name": "stdout",
     "output_type": "stream",
     "text": [
      "1926\n"
     ]
    }
   ],
   "source": [
    "num=1926\n",
    "print(num)"
   ]
  },
  {
   "cell_type": "code",
   "execution_count": 3,
   "id": "0a28b1cf",
   "metadata": {},
   "outputs": [
    {
     "name": "stdout",
     "output_type": "stream",
     "text": [
      "3852\n"
     ]
    }
   ],
   "source": [
    "sum=num*2\n",
    "print(sum)"
   ]
  },
  {
   "cell_type": "code",
   "execution_count": 4,
   "id": "9a91c01e",
   "metadata": {},
   "outputs": [
    {
     "name": "stdout",
     "output_type": "stream",
     "text": [
      "King of my Own Throne\n"
     ]
    }
   ],
   "source": [
    "print('King of my Own Throne')"
   ]
  },
  {
   "cell_type": "code",
   "execution_count": 7,
   "id": "e812e2ca",
   "metadata": {},
   "outputs": [
    {
     "name": "stdout",
     "output_type": "stream",
     "text": [
      "Collecting package metadata (current_repodata.json): ...working... done\n",
      "Solving environment: ...working... done\n",
      "\n",
      "## Package Plan ##\n",
      "\n",
      "  environment location: C:\\Users\\Admin\\anaconda3\n",
      "\n",
      "  added / updated specs:\n",
      "    - tensorflow\n",
      "\n",
      "\n",
      "The following packages will be downloaded:\n",
      "\n",
      "    package                    |            build\n",
      "    ---------------------------|-----------------\n",
      "    ca-certificates-2022.4.26  |       haa95532_0         124 KB\n",
      "    certifi-2022.6.15          |   py39haa95532_0         153 KB\n",
      "    openssl-1.1.1p             |       h2bbff1b_0         4.8 MB\n",
      "    ------------------------------------------------------------\n",
      "                                           Total:         5.1 MB\n",
      "\n",
      "The following packages will be SUPERSEDED by a higher-priority channel:\n",
      "\n",
      "  ca-certificates    conda-forge::ca-certificates-2022.6.1~ --> pkgs/main::ca-certificates-2022.4.26-haa95532_0\n",
      "  certifi            conda-forge::certifi-2022.6.15-py39hc~ --> pkgs/main::certifi-2022.6.15-py39haa95532_0\n",
      "  conda              conda-forge::conda-4.13.0-py39hcbf530~ --> pkgs/main::conda-4.13.0-py39haa95532_0\n",
      "  openssl            conda-forge::openssl-1.1.1q-h8ffe710_0 --> pkgs/main::openssl-1.1.1p-h2bbff1b_0\n",
      "\n",
      "\n",
      "\n",
      "Downloading and Extracting Packages\n",
      "\n",
      "openssl-1.1.1p       | 4.8 MB    |            |   0% \n",
      "openssl-1.1.1p       | 4.8 MB    | 2          |   3% \n",
      "openssl-1.1.1p       | 4.8 MB    | 6          |   6% \n",
      "openssl-1.1.1p       | 4.8 MB    | #4         |  15% \n",
      "openssl-1.1.1p       | 4.8 MB    | ##         |  20% \n",
      "openssl-1.1.1p       | 4.8 MB    | ##5        |  25% \n",
      "openssl-1.1.1p       | 4.8 MB    | ##9        |  30% \n",
      "openssl-1.1.1p       | 4.8 MB    | ###4       |  34% \n",
      "openssl-1.1.1p       | 4.8 MB    | ###8       |  38% \n",
      "openssl-1.1.1p       | 4.8 MB    | ####2      |  43% \n",
      "openssl-1.1.1p       | 4.8 MB    | ####7      |  47% \n",
      "openssl-1.1.1p       | 4.8 MB    | #####1     |  51% \n",
      "openssl-1.1.1p       | 4.8 MB    | #####5     |  56% \n",
      "openssl-1.1.1p       | 4.8 MB    | ######     |  60% \n",
      "openssl-1.1.1p       | 4.8 MB    | ######4    |  64% \n",
      "openssl-1.1.1p       | 4.8 MB    | ######8    |  69% \n",
      "openssl-1.1.1p       | 4.8 MB    | #######2   |  73% \n",
      "openssl-1.1.1p       | 4.8 MB    | #######7   |  77% \n",
      "openssl-1.1.1p       | 4.8 MB    | ########1  |  81% \n",
      "openssl-1.1.1p       | 4.8 MB    | ########5  |  86% \n",
      "openssl-1.1.1p       | 4.8 MB    | ########9  |  90% \n",
      "openssl-1.1.1p       | 4.8 MB    | #########4 |  95% \n",
      "openssl-1.1.1p       | 4.8 MB    | #########8 |  99% \n",
      "openssl-1.1.1p       | 4.8 MB    | ########## | 100% \n",
      "\n",
      "ca-certificates-2022 | 124 KB    |            |   0% \n",
      "ca-certificates-2022 | 124 KB    | ########## | 100% \n",
      "ca-certificates-2022 | 124 KB    | ########## | 100% \n",
      "\n",
      "certifi-2022.6.15    | 153 KB    |            |   0% \n",
      "certifi-2022.6.15    | 153 KB    | ########## | 100% \n",
      "certifi-2022.6.15    | 153 KB    | ########## | 100% \n",
      "Preparing transaction: ...working... done\n",
      "Verifying transaction: ...working... done\n",
      "Executing transaction: ...working... done\n",
      "\n",
      "Note: you may need to restart the kernel to use updated packages.\n"
     ]
    }
   ],
   "source": [
    "conda install tensorflow"
   ]
  },
  {
   "cell_type": "code",
   "execution_count": null,
   "id": "4e99445e",
   "metadata": {},
   "outputs": [],
   "source": []
  }
 ],
 "metadata": {
  "kernelspec": {
   "display_name": "Python 3 (ipykernel)",
   "language": "python",
   "name": "python3"
  },
  "language_info": {
   "codemirror_mode": {
    "name": "ipython",
    "version": 3
   },
   "file_extension": ".py",
   "mimetype": "text/x-python",
   "name": "python",
   "nbconvert_exporter": "python",
   "pygments_lexer": "ipython3",
   "version": "3.9.7"
  }
 },
 "nbformat": 4,
 "nbformat_minor": 5
}
