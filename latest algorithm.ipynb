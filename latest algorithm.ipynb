{
 "cells": [
  {
   "cell_type": "code",
   "execution_count": 4,
   "id": "afbae031",
   "metadata": {},
   "outputs": [],
   "source": [
    "import nltk"
   ]
  },
  {
   "cell_type": "code",
   "execution_count": 5,
   "id": "ee2a18f4",
   "metadata": {},
   "outputs": [],
   "source": [
    "sent='Hello How Are You Welcome to Pune'"
   ]
  },
  {
   "cell_type": "code",
   "execution_count": 6,
   "id": "d1736f8c",
   "metadata": {},
   "outputs": [
    {
     "data": {
      "text/plain": [
       "['Hello How Are You Welcome to Pune']"
      ]
     },
     "execution_count": 6,
     "metadata": {},
     "output_type": "execute_result"
    }
   ],
   "source": [
    "from nltk.tokenize import TabTokenizer\n",
    "tk=TabTokenizer()\n",
    "tk.tokenize(sent)\n"
   ]
  },
  {
   "cell_type": "code",
   "execution_count": 7,
   "id": "66629756",
   "metadata": {},
   "outputs": [],
   "source": [
    "sent='Hello! How Are You? Welcome to Pune.'"
   ]
  },
  {
   "cell_type": "code",
   "execution_count": 8,
   "id": "68f08dbf",
   "metadata": {},
   "outputs": [
    {
     "data": {
      "text/plain": [
       "['Hello! How Are You? Welcome to Pune.']"
      ]
     },
     "execution_count": 8,
     "metadata": {},
     "output_type": "execute_result"
    }
   ],
   "source": [
    "from nltk.tokenize import LineTokenizer\n",
    "lk=LineTokenizer()\n",
    "lk.tokenize(sent)\n"
   ]
  },
  {
   "cell_type": "code",
   "execution_count": null,
   "id": "f5c1e474",
   "metadata": {},
   "outputs": [],
   "source": []
  }
 ],
 "metadata": {
  "kernelspec": {
   "display_name": "Python 3 (ipykernel)",
   "language": "python",
   "name": "python3"
  },
  "language_info": {
   "codemirror_mode": {
    "name": "ipython",
    "version": 3
   },
   "file_extension": ".py",
   "mimetype": "text/x-python",
   "name": "python",
   "nbconvert_exporter": "python",
   "pygments_lexer": "ipython3",
   "version": "3.9.7"
  }
 },
 "nbformat": 4,
 "nbformat_minor": 5
}
